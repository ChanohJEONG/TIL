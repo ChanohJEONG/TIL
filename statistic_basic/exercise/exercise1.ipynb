{
 "cells": [
  {
   "cell_type": "markdown",
   "metadata": {},
   "source": [
    "# 실습\n",
    "## python 기본"
   ]
  },
  {
   "cell_type": "markdown",
   "metadata": {},
   "source": [
    "### 1. 구구단 출력함수 작성하기\n",
    "아래와 같이 구구단을 출력하는 코드가 있다."
   ]
  },
  {
   "cell_type": "code",
   "execution_count": 1,
   "metadata": {},
   "outputs": [
    {
     "name": "stdout",
     "output_type": "stream",
     "text": [
      "[[1, 2, 3, 4, 5, 6, 7, 8, 9], [2, 4, 6, 8, 10, 12, 14, 16, 18], [3, 6, 9, 12, 15, 18, 21, 24, 27], [4, 8, 12, 16, 20, 24, 28, 32, 36], [5, 10, 15, 20, 25, 30, 35, 40, 45], [6, 12, 18, 24, 30, 36, 42, 48, 54], [7, 14, 21, 28, 35, 42, 49, 56, 63], [8, 16, 24, 32, 40, 48, 56, 64, 72], [9, 18, 27, 36, 45, 54, 63, 72, 81]]\n"
     ]
    }
   ],
   "source": [
    "list99 = []\n",
    "for j in range(1, 10):\n",
    "    l = []\n",
    "    for i in range(1, 10):\n",
    "        l.append(i*j)\n",
    "    list99.append(l)\n",
    "print(list99)"
   ]
  },
  {
   "cell_type": "markdown",
   "metadata": {},
   "source": [
    "이를 참고하여, 다음과 같은 결과를 프린트하는 함수 f99를 작성하라.\n",
    "```\n",
    "f99(3)\n",
    "[3, 6, 9, ..., 27]\n",
    "\n",
    "f99([4, 7])\n",
    "[4, 8, 12, ..., 36]\n",
    "[7, 14, 35, ..., 63]\n",
    "\n",
    "f99(21)\n",
    "0보다 크고 10보다 작은 값을 입력하세요.\n",
    "\n",
    "f99([10, 7])\n",
    "0보다 크고 10보다 작은 값을 입력하세요.\n",
    "[7, 14, 35, ..., 63]\n",
    "```\n",
    "\n",
    "아래 코드를 참고하여 :"
   ]
  },
  {
   "cell_type": "code",
   "execution_count": 70,
   "metadata": {},
   "outputs": [
    {
     "name": "stdout",
     "output_type": "stream",
     "text": [
      "3\n",
      "[3, 6, 9, 12, 15, 18, 21, 24, 27, 3, 6, 9, 12, 15, 18, 21, 24, 27, 3, 6, 9, 12, 15, 18, 21, 24, 27, 3, 6, 9, 12, 15, 18, 21, 24, 27, 3, 6, 9, 12, 15, 18, 21, 24, 27, 5, 10, 15, 20, 25, 30, 35, 40, 45, 3, 6, 9, 12, 15, 18, 21, 24, 27, 3, 6, 9, 12, 15, 18, 21, 24, 27, 3, 6, 9, 12, 15, 18, 21, 24, 27, 3, 6, 9, 12, 15, 18, 21, 24, 27, 3, 6, 9, 12, 15, 18, 21, 24, 27, 3, 6, 9, 12, 15, 18, 21, 24, 27, 5, 10, 15, 20, 25, 30, 35, 40, 45, 3, 6, 9, 12, 15, 18, 21, 24, 27, 3, 6, 9, 12, 15, 18, 21, 24, 27, 3, 6, 9, 12, 15, 18, 21, 24, 27, 3, 6, 9, 12, 15, 18, 21, 24, 27, 5, 10, 15, 20, 25, 30, 35, 40, 45, 3, 6, 9, 12, 15, 18, 21, 24, 27, 3, 6, 9, 12, 15, 18, 21, 24, 27, 3, 6, 9, 12, 15, 18, 21, 24, 27, 3, 6, 9, 12, 15, 18, 21, 24, 27, 3, 6, 9, 12, 15, 18, 21, 24, 27, 3, 6, 9, 12, 15, 18, 21, 24, 27, 9, 18, 27, 36, 45, 54, 63, 72, 81, 3, 6, 9, 12, 15, 18, 21, 24, 27, 3, 6, 9, 12, 15, 18, 21, 24, 27]\n"
     ]
    }
   ],
   "source": [
    "from collections.abc import Iterable\n",
    "def f99(inputX):\n",
    "    list99=[]\n",
    "    for j in range(1, 10):\n",
    "        I = []\n",
    "        if j == inputX:\n",
    "            for i in range(1, 10):\n",
    "                l.append(i*j)\n",
    "            list99.append(l)\n",
    "    return list99\n",
    "inputX = int(input())\n",
    "list99 = f99(inputX)\n",
    "if isinstance(list99, Iterable):\n",
    "    for i in list99:\n",
    "        print(i)\n",
    "else:\n",
    "    print(\"다시 입력해주세요.\")"
   ]
  },
  {
   "cell_type": "markdown",
   "metadata": {},
   "source": [
    "1. 2단, 7단 등을 출력하는 print99 함수를 만들고,\n",
    "2. 예외처리를 하고, print99를 이용하여 최종처리를 하는 f99를 완세요."
   ]
  },
  {
   "cell_type": "code",
   "execution_count": 71,
   "metadata": {},
   "outputs": [],
   "source": [
    "def print99(x):\n",
    "    xlist = []\n",
    "    # 아래 사항을 완성하세요.\n",
    "    for i in range():\n",
    "        pass\n",
    "    print(xlist)\n",
    "\n",
    "def f99(x):\n",
    "    errorstring = \"0보다 크고 10보다 작은 값을 입력하세요.\"\n",
    "    # 아래 사항을 완성하세요.\n",
    "    if condition:\n",
    "        for j in x:\n",
    "            if condition2:\n",
    "                print99(j)\n",
    "            else:\n",
    "                print(errorstring)\n",
    "    else:\n",
    "        if conditon2:\n",
    "            print99(x)\n",
    "        else:\n",
    "            print(errorstring)\n",
    "    "
   ]
  },
  {
   "cell_type": "code",
   "execution_count": null,
   "metadata": {},
   "outputs": [],
   "source": [
    "f99(3)\n",
    "f99([4, 7])\n",
    "f99(21)\n",
    "f99([10, 7])"
   ]
  },
  {
   "cell_type": "markdown",
   "metadata": {},
   "source": [
    "### 2 함수\n",
    "리스트 x와 값 v를 받아서 v의 배수가 되는 모든 리스트 x의 성분을 담은 리스트를 출력하는 factors 함수를 작성하라. 만약 없다면 -1을 리턴하라.\n",
    "\n",
    "즉:\n",
    "```\n",
    "factors([4, 9, 21, 7], 3)\n",
    "[9, 21]\n",
    "\n",
    "factors([4, 9, 21, 7], 11)\n",
    "-1\n",
    "```\n",
    "\n",
    "우리가 작성한 seqsearchall 함수를 참고하라.\n",
    "```python\n",
    "def seqsearchall(l, target):\n",
    "    ret = []\n",
    "    isnot = 0\n",
    "    for i in range(len(l)):\n",
    "        if l[i] == target:\n",
    "            ret.append(i)\n",
    "            isnot = 1\n",
    "        elif l[i] > target:\n",
    "            if isnot == 1: return ret\n",
    "            else: return -1\n",
    "    return -1\n",
    "```"
   ]
  },
  {
   "cell_type": "code",
   "execution_count": null,
   "metadata": {},
   "outputs": [],
   "source": [
    "def factors(x, v):\n",
    "    ret = []\n",
    "    isnot = 0\n",
    "    for i in range(len(x)):\n",
    "        pass"
   ]
  },
  {
   "cell_type": "code",
   "execution_count": null,
   "metadata": {},
   "outputs": [],
   "source": [
    "factors([4, 9, 21, 7], 3)"
   ]
  },
  {
   "cell_type": "code",
   "execution_count": null,
   "metadata": {},
   "outputs": [],
   "source": [
    "factors([4, 9, 21, 7], 11)"
   ]
  },
  {
   "cell_type": "markdown",
   "metadata": {},
   "source": [
    "## numpy, pandas\n",
    "### 3 numpy\n",
    "임의의 0 ~ 99의 정수 값을 갖는 5 x 5 shape의 array를 생성하고 열 평균과 행 평균, 대각성분의 평균을 구하시오."
   ]
  },
  {
   "cell_type": "code",
   "execution_count": null,
   "metadata": {},
   "outputs": [],
   "source": [
    "import numpy as np"
   ]
  },
  {
   "cell_type": "code",
   "execution_count": 72,
   "metadata": {},
   "outputs": [
    {
     "data": {
      "text/plain": [
       "array([[86, 19, 60,  9, 79],\n",
       "       [ 2, 97, 53, 76, 82],\n",
       "       [14, 51, 59, 25, 53],\n",
       "       [14,  8, 39, 36, 66],\n",
       "       [19, 21,  1, 20, 98]])"
      ]
     },
     "execution_count": 72,
     "metadata": {},
     "output_type": "execute_result"
    }
   ],
   "source": [
    "arr = np.random.randint(0,100,(5,5))\n",
    "arr"
   ]
  },
  {
   "cell_type": "code",
   "execution_count": 73,
   "metadata": {},
   "outputs": [
    {
     "name": "stdout",
     "output_type": "stream",
     "text": [
      "[27.  39.2 42.4 33.2 75.6]\n",
      "[50.6 62.  40.4 32.6 31.8]\n"
     ]
    }
   ],
   "source": [
    "print(arr.mean(0))# 행 평균\n",
    "print(arr.mean(1))# 열 평균"
   ]
  },
  {
   "cell_type": "markdown",
   "metadata": {},
   "source": [
    "### 4. pandas\n"
   ]
  },
  {
   "cell_type": "markdown",
   "metadata": {},
   "source": [
    "excel_exam.xlsx 파일을 이용하여 반별 과목별 평균을 구하고, 반별 과목별로 반별 과목 평균보다 낮은 학생 id를 출력하라.\n",
    "\n",
    "\n",
    "| class | math | english | science |\n",
    "|-------|------|---------|---------|\n",
    "| 1     | 2    | 1       | 3       |\n",
    "| 1     | 1    | 4       | NaN     |\n",
    "| 1     | NaN  | 2       | NaN     |\n",
    "| 2     | 8    | 7       | 6       |\n",
    "| 2     | 7    | 6       | 5       |\n",
    "\n",
    "- 평균보다 높은 학생의 수는 절반일 수도, 그 보다 높거나, 낮을 수 있다."
   ]
  },
  {
   "cell_type": "code",
   "execution_count": 74,
   "metadata": {},
   "outputs": [
    {
     "data": {
      "text/html": [
       "<div>\n",
       "<style scoped>\n",
       "    .dataframe tbody tr th:only-of-type {\n",
       "        vertical-align: middle;\n",
       "    }\n",
       "\n",
       "    .dataframe tbody tr th {\n",
       "        vertical-align: top;\n",
       "    }\n",
       "\n",
       "    .dataframe thead th {\n",
       "        text-align: right;\n",
       "    }\n",
       "</style>\n",
       "<table border=\"1\" class=\"dataframe\">\n",
       "  <thead>\n",
       "    <tr style=\"text-align: right;\">\n",
       "      <th></th>\n",
       "      <th>id</th>\n",
       "      <th>class</th>\n",
       "      <th>math</th>\n",
       "      <th>english</th>\n",
       "      <th>science</th>\n",
       "    </tr>\n",
       "  </thead>\n",
       "  <tbody>\n",
       "    <tr>\n",
       "      <td>0</td>\n",
       "      <td>1</td>\n",
       "      <td>1</td>\n",
       "      <td>50</td>\n",
       "      <td>98</td>\n",
       "      <td>50</td>\n",
       "    </tr>\n",
       "    <tr>\n",
       "      <td>1</td>\n",
       "      <td>2</td>\n",
       "      <td>1</td>\n",
       "      <td>60</td>\n",
       "      <td>97</td>\n",
       "      <td>60</td>\n",
       "    </tr>\n",
       "    <tr>\n",
       "      <td>2</td>\n",
       "      <td>3</td>\n",
       "      <td>1</td>\n",
       "      <td>45</td>\n",
       "      <td>86</td>\n",
       "      <td>78</td>\n",
       "    </tr>\n",
       "    <tr>\n",
       "      <td>3</td>\n",
       "      <td>4</td>\n",
       "      <td>1</td>\n",
       "      <td>30</td>\n",
       "      <td>98</td>\n",
       "      <td>58</td>\n",
       "    </tr>\n",
       "    <tr>\n",
       "      <td>4</td>\n",
       "      <td>5</td>\n",
       "      <td>2</td>\n",
       "      <td>25</td>\n",
       "      <td>80</td>\n",
       "      <td>65</td>\n",
       "    </tr>\n",
       "  </tbody>\n",
       "</table>\n",
       "</div>"
      ],
      "text/plain": [
       "   id  class  math  english  science\n",
       "0   1      1    50       98       50\n",
       "1   2      1    60       97       60\n",
       "2   3      1    45       86       78\n",
       "3   4      1    30       98       58\n",
       "4   5      2    25       80       65"
      ]
     },
     "execution_count": 74,
     "metadata": {},
     "output_type": "execute_result"
    }
   ],
   "source": [
    "import pandas as pd\n",
    "df = pd.read_excel(\"excel_exam.xlsx\")\n",
    "df.head()"
   ]
  },
  {
   "cell_type": "markdown",
   "metadata": {},
   "source": [
    "### 5. 시각화\n",
    "tips 데이터에서 sex와 time 별로, 음식지불액 대비 팁의 비율을 구하고, 이를 시각화하라."
   ]
  },
  {
   "cell_type": "code",
   "execution_count": 75,
   "metadata": {},
   "outputs": [
    {
     "data": {
      "text/html": [
       "<div>\n",
       "<style scoped>\n",
       "    .dataframe tbody tr th:only-of-type {\n",
       "        vertical-align: middle;\n",
       "    }\n",
       "\n",
       "    .dataframe tbody tr th {\n",
       "        vertical-align: top;\n",
       "    }\n",
       "\n",
       "    .dataframe thead th {\n",
       "        text-align: right;\n",
       "    }\n",
       "</style>\n",
       "<table border=\"1\" class=\"dataframe\">\n",
       "  <thead>\n",
       "    <tr style=\"text-align: right;\">\n",
       "      <th></th>\n",
       "      <th>total_bill</th>\n",
       "      <th>tip</th>\n",
       "      <th>sex</th>\n",
       "      <th>smoker</th>\n",
       "      <th>day</th>\n",
       "      <th>time</th>\n",
       "      <th>size</th>\n",
       "    </tr>\n",
       "  </thead>\n",
       "  <tbody>\n",
       "    <tr>\n",
       "      <td>0</td>\n",
       "      <td>16.99</td>\n",
       "      <td>1.01</td>\n",
       "      <td>Female</td>\n",
       "      <td>No</td>\n",
       "      <td>Sun</td>\n",
       "      <td>Dinner</td>\n",
       "      <td>2</td>\n",
       "    </tr>\n",
       "    <tr>\n",
       "      <td>1</td>\n",
       "      <td>10.34</td>\n",
       "      <td>1.66</td>\n",
       "      <td>Male</td>\n",
       "      <td>No</td>\n",
       "      <td>Sun</td>\n",
       "      <td>Dinner</td>\n",
       "      <td>3</td>\n",
       "    </tr>\n",
       "    <tr>\n",
       "      <td>2</td>\n",
       "      <td>21.01</td>\n",
       "      <td>3.50</td>\n",
       "      <td>Male</td>\n",
       "      <td>No</td>\n",
       "      <td>Sun</td>\n",
       "      <td>Dinner</td>\n",
       "      <td>3</td>\n",
       "    </tr>\n",
       "    <tr>\n",
       "      <td>3</td>\n",
       "      <td>23.68</td>\n",
       "      <td>3.31</td>\n",
       "      <td>Male</td>\n",
       "      <td>No</td>\n",
       "      <td>Sun</td>\n",
       "      <td>Dinner</td>\n",
       "      <td>2</td>\n",
       "    </tr>\n",
       "    <tr>\n",
       "      <td>4</td>\n",
       "      <td>24.59</td>\n",
       "      <td>3.61</td>\n",
       "      <td>Female</td>\n",
       "      <td>No</td>\n",
       "      <td>Sun</td>\n",
       "      <td>Dinner</td>\n",
       "      <td>4</td>\n",
       "    </tr>\n",
       "  </tbody>\n",
       "</table>\n",
       "</div>"
      ],
      "text/plain": [
       "   total_bill   tip     sex smoker  day    time  size\n",
       "0       16.99  1.01  Female     No  Sun  Dinner     2\n",
       "1       10.34  1.66    Male     No  Sun  Dinner     3\n",
       "2       21.01  3.50    Male     No  Sun  Dinner     3\n",
       "3       23.68  3.31    Male     No  Sun  Dinner     2\n",
       "4       24.59  3.61  Female     No  Sun  Dinner     4"
      ]
     },
     "execution_count": 75,
     "metadata": {},
     "output_type": "execute_result"
    }
   ],
   "source": [
    "tips = pd.read_csv('tips.csv')\n",
    "tips.head()"
   ]
  },
  {
   "cell_type": "code",
   "execution_count": 77,
   "metadata": {},
   "outputs": [],
   "source": [
    "tip_group = tips.groupby(['sex','time'])"
   ]
  },
  {
   "cell_type": "code",
   "execution_count": 79,
   "metadata": {},
   "outputs": [
    {
     "data": {
      "text/html": [
       "<div>\n",
       "<style scoped>\n",
       "    .dataframe tbody tr th:only-of-type {\n",
       "        vertical-align: middle;\n",
       "    }\n",
       "\n",
       "    .dataframe tbody tr th {\n",
       "        vertical-align: top;\n",
       "    }\n",
       "\n",
       "    .dataframe thead th {\n",
       "        text-align: right;\n",
       "    }\n",
       "</style>\n",
       "<table border=\"1\" class=\"dataframe\">\n",
       "  <thead>\n",
       "    <tr style=\"text-align: right;\">\n",
       "      <th></th>\n",
       "      <th></th>\n",
       "      <th>total_bill</th>\n",
       "      <th>tip</th>\n",
       "    </tr>\n",
       "    <tr>\n",
       "      <th>sex</th>\n",
       "      <th>time</th>\n",
       "      <th></th>\n",
       "      <th></th>\n",
       "    </tr>\n",
       "  </thead>\n",
       "  <tbody>\n",
       "    <tr>\n",
       "      <td rowspan=\"2\" valign=\"top\">Female</td>\n",
       "      <td>Dinner</td>\n",
       "      <td>999.08</td>\n",
       "      <td>156.11</td>\n",
       "    </tr>\n",
       "    <tr>\n",
       "      <td>Lunch</td>\n",
       "      <td>571.87</td>\n",
       "      <td>90.40</td>\n",
       "    </tr>\n",
       "    <tr>\n",
       "      <td rowspan=\"2\" valign=\"top\">Male</td>\n",
       "      <td>Dinner</td>\n",
       "      <td>2661.22</td>\n",
       "      <td>389.96</td>\n",
       "    </tr>\n",
       "    <tr>\n",
       "      <td>Lunch</td>\n",
       "      <td>595.60</td>\n",
       "      <td>95.11</td>\n",
       "    </tr>\n",
       "  </tbody>\n",
       "</table>\n",
       "</div>"
      ],
      "text/plain": [
       "               total_bill     tip\n",
       "sex    time                      \n",
       "Female Dinner      999.08  156.11\n",
       "       Lunch       571.87   90.40\n",
       "Male   Dinner     2661.22  389.96\n",
       "       Lunch       595.60   95.11"
      ]
     },
     "execution_count": 79,
     "metadata": {},
     "output_type": "execute_result"
    }
   ],
   "source": [
    "tip_sum = tip_group[['total_bill','tip']].sum()\n",
    "tip_sum"
   ]
  },
  {
   "cell_type": "code",
   "execution_count": 81,
   "metadata": {},
   "outputs": [
    {
     "data": {
      "text/plain": [
       "sex     time  \n",
       "Female  Dinner    0.156254\n",
       "        Lunch     0.158078\n",
       "Male    Dinner    0.146534\n",
       "        Lunch     0.159688\n",
       "dtype: float64"
      ]
     },
     "execution_count": 81,
     "metadata": {},
     "output_type": "execute_result"
    }
   ],
   "source": [
    "tip_rate = tip_sum.tip/tip_sum.total_bill\n",
    "tip_rate"
   ]
  },
  {
   "cell_type": "code",
   "execution_count": 83,
   "metadata": {},
   "outputs": [
    {
     "data": {
      "text/plain": [
       "<matplotlib.axes._subplots.AxesSubplot at 0x18d3b74f808>"
      ]
     },
     "execution_count": 83,
     "metadata": {},
     "output_type": "execute_result"
    },
    {
     "data": {
      "image/png": "[encoded data removed]",
      "text/plain": [
       "<Figure size 432x288 with 1 Axes>"
      ]
     },
     "metadata": {
      "needs_background": "light"
     },
     "output_type": "display_data"
    }
   ],
   "source": [
    "%matplotlib inline\n",
    "tip_rate.plot(kind='barh')"
   ]
  }
 ],
 "metadata": {
  "kernelspec": {
   "display_name": "Python 3",
   "language": "python",
   "name": "python3"
  },
  "language_info": {
   "codemirror_mode": {
    "name": "ipython",
    "version": 3
   },
   "file_extension": ".py",
   "mimetype": "text/x-python",
   "name": "python",
   "nbconvert_exporter": "python",
   "pygments_lexer": "ipython3",
   "version": "3.7.4"
  }
 },
 "nbformat": 4,
 "nbformat_minor": 2
}
