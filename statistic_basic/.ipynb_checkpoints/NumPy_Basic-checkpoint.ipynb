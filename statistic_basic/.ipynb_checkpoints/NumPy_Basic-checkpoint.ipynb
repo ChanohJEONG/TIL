{
 "cells": [
  {
   "cell_type": "markdown",
   "metadata": {},
   "source": [
    "# 4장. NumPy 기초: 배열과 벡터 연산\n",
    "NumPy는 Numerical Python의 줄임말로, 고성능 과학계산과 데이터분석의 기본 패키지이다. Numpy는 나중에 학습할 pandas, scipy, scikit-learn, tensorflow 등 고수준의 데이터분석 패키지의 basis가 된다.\n",
    "\n",
    "NumPy가 제공하는 기능은 다음과 같다:\n",
    "- 빠르고 메모리 효율적인 벡터 연산과 세련된 **브로드캐스팅** 기능을 제공하는 다차원 배열인 ndarray\n",
    "- 반복문을 작성할 필요 없이 전체 데이터 배열에 대해 빠른 연산을 제공하는 표준 수학 함수\n",
    "- 배열 데이터를 디스크에 쓰거나 읽을 수 있는 도구와 메모리에 올려진 파일을 사용하는 도구\n",
    "- 선형대수, 난수 발생기, 푸리에 변환 기능\n",
    "- C, C++, 포트란으로 쓰여진 코드를 통합하는 도구\n",
    "\n",
    "특히 마지막 기능으로 C API를 제공하여 저수준으로 씌여진 외부 라이브러리(c로 만들어진 openCV 등)를 쉽게 사용할 수 있도록 해준다.\n",
    "\n",
    "NumPy는 고수준의 데이터분석 기능을 제공하지 않으나, \n",
    "- 데이터를 array라는 연속된 메모리 공간에 저장하고, \n",
    "- array라는 메모리 블럭 단위의 연산을 사용하도록 하여, \n",
    "- 큰 규모의 데이터 연산을 빠르게 수행할 수 있도록 해줄 뿐 아니라, \n",
    "- deep learning 이후 각광받고 있는 GPGPU를 통한 고속 연산 처리에 바로 적용할 수 있어, \n",
    "- python 계열의 데이터분석, 데이터저장, 머신러닝, AI 도구들이 공통적으로 활용하여\n",
    "- 데이터 객체인 ndarray와 이 객체의 메소드를 확장하여(상속하여) 구현하고 있다.\n",
    "\n",
    "따라서, 고수준의 여러 python 계열의 분석 도구를 활용하려면, 그 기반이 되는 NumPy를 정확하게 이해하고 있어야 제대로된 분석이 가능하다.\n",
    "\n",
    "고수준의 여러 python 계열의 분석 도구들이 주요하게 사용하는 기능은:\n",
    "- 벡터 배열상에서 데이터 개조, 정제, 부분 집합, 필터링, 변형, 다른 종류 연산의 빠른 수행 \n",
    "- 정렬, 유일 원소 찾기, 집합연산 같은 일반적인 배열 처리 알고리즘\n",
    "- 통계의 효과적인 표현과 데이터의 수집/요약\n",
    "- 다른 종류의 데이터 묶음을 병합하고 엮기 위한 데이터 정렬과 데이터 간의 관계 조작\n",
    "- if-elif-else를 포함하는 반복문 대신 사용할 수 있는 조건절을 표현할 수 있는 배열 표현            \n",
    "- 데이터 그룹 전체에 적용할 수 있는 수집, 변형, 함수 적용 같은 데이터 처리.\n"
   ]
  },
  {
   "cell_type": "code",
   "execution_count": 2,
   "metadata": {},
   "outputs": [],
   "source": [
    "%matplotlib inline"
   ]
  },
  {
   "cell_type": "code",
   "execution_count": 32,
   "metadata": {},
   "outputs": [],
   "source": [
    "from __future__ import division\n",
    "from numpy.random import randn\n",
    "import numpy as np\n",
    "np.set_printoptions(precision=4, suppress=True)"
   ]
  },
  {
   "cell_type": "markdown",
   "metadata": {},
   "source": [
    "## 4.1 NumPy ndarray: 다차원 배열\n",
    "ndarray의 의미는 n-dimensional array(다차원 배열)의 약자이다.\n",
    "\n",
    "앞에서 설명했듯이 ndarray는 scala 원소 간의 연산과 유사한 방법으로 전체 data block을 for문과 같은 반복문 없이 한번에 연산할 수 있도록 해준다.\n",
    "\n",
    "ndarray는 동일한 유형(dtype) 데이터를 연속된 메모리 공간에 담고 있으며\n",
    "- 데이터의 차원을 나타내는 **shape**이라는 tuple 속성과\n",
    "- 데이터의 유형을 나타내는 **dtype**이라는 속성을 갖는다."
   ]
  },
  {
   "cell_type": "code",
   "execution_count": 4,
   "metadata": {},
   "outputs": [
    {
     "data": {
      "text/plain": [
       "array([[ 1.0512,  0.2454, -0.3818],\n",
       "       [ 1.2061,  0.112 ,  1.1616]])"
      ]
     },
     "execution_count": 4,
     "metadata": {},
     "output_type": "execute_result"
    }
   ],
   "source": [
    "data = randn(2, 3)\n",
    "data"
   ]
  },
  {
   "cell_type": "markdown",
   "metadata": {},
   "source": [
    "randn(d0, d1, ..., dn):\n",
    "- Return a sample (or samples) from the \"standard normal\" distribution.\n",
    "\n",
    "(2, 3) array와 연산을 하려면, (1,1) (2, 1) (1, 3) (2, 3) (4, 3)"
   ]
  },
  {
   "cell_type": "markdown",
   "metadata": {},
   "source": [
    "#### array의 연산"
   ]
  },
  {
   "cell_type": "code",
   "execution_count": 5,
   "metadata": {},
   "outputs": [
    {
     "data": {
      "text/plain": [
       "array([[2.0512, 2.2454, 2.6182],\n",
       "       [2.2061, 2.112 , 4.1616]])"
      ]
     },
     "execution_count": 5,
     "metadata": {},
     "output_type": "execute_result"
    }
   ],
   "source": [
    "data + [[1,2,3]]"
   ]
  },
  {
   "cell_type": "code",
   "execution_count": 6,
   "metadata": {},
   "outputs": [
    {
     "data": {
      "text/plain": [
       "array([[10.5118,  2.4544, -3.8177],\n",
       "       [12.061 ,  1.12  , 11.616 ]])"
      ]
     },
     "execution_count": 6,
     "metadata": {},
     "output_type": "execute_result"
    }
   ],
   "source": [
    "data * 10"
   ]
  },
  {
   "cell_type": "code",
   "execution_count": 9,
   "metadata": {},
   "outputs": [
    {
     "data": {
      "text/plain": [
       "array([[ 2.1024,  0.4909, -0.7635],\n",
       "       [ 2.4122,  0.224 ,  2.3232]])"
      ]
     },
     "execution_count": 9,
     "metadata": {},
     "output_type": "execute_result"
    }
   ],
   "source": [
    "data + data"
   ]
  },
  {
   "cell_type": "code",
   "execution_count": 11,
   "metadata": {},
   "outputs": [
    {
     "name": "stdout",
     "output_type": "stream",
     "text": [
      "(2, 3) 6\n"
     ]
    },
    {
     "data": {
      "text/plain": [
       "dtype('float64')"
      ]
     },
     "execution_count": 11,
     "metadata": {},
     "output_type": "execute_result"
    }
   ],
   "source": [
    "print(data.shape, data.size)\n",
    "data.dtype"
   ]
  },
  {
   "cell_type": "markdown",
   "metadata": {},
   "source": [
    "#### array의 색인"
   ]
  },
  {
   "cell_type": "code",
   "execution_count": 12,
   "metadata": {},
   "outputs": [
    {
     "data": {
      "text/plain": [
       "array([[1, 2, 3],\n",
       "       [4, 5, 6]])"
      ]
     },
     "execution_count": 12,
     "metadata": {},
     "output_type": "execute_result"
    }
   ],
   "source": [
    "arr = np.array([\n",
    "    [1, 2, 3],\n",
    "    [4, 5, 6]\n",
    "])\n",
    "arr"
   ]
  },
  {
   "cell_type": "code",
   "execution_count": 16,
   "metadata": {},
   "outputs": [
    {
     "data": {
      "text/plain": [
       "array([4, 5])"
      ]
     },
     "execution_count": 16,
     "metadata": {},
     "output_type": "execute_result"
    }
   ],
   "source": [
    "arr[1][:2]"
   ]
  },
  {
   "cell_type": "code",
   "execution_count": null,
   "metadata": {},
   "outputs": [],
   "source": [
    "arr[1, :2]"
   ]
  },
  {
   "cell_type": "code",
   "execution_count": 17,
   "metadata": {},
   "outputs": [
    {
     "data": {
      "text/plain": [
       "array([1, 2])"
      ]
     },
     "execution_count": 17,
     "metadata": {},
     "output_type": "execute_result"
    }
   ],
   "source": [
    "arr[0, [0,1]]"
   ]
  },
  {
   "cell_type": "code",
   "execution_count": 19,
   "metadata": {},
   "outputs": [
    {
     "data": {
      "text/plain": [
       "array([1, 5])"
      ]
     },
     "execution_count": 19,
     "metadata": {},
     "output_type": "execute_result"
    }
   ],
   "source": [
    "arr[[0,1], [0,1]]"
   ]
  },
  {
   "cell_type": "markdown",
   "metadata": {},
   "source": [
    "#### 1) shape의 변경 - View\n",
    "shape을 변경하더라도 ndarray 객체는 변하지 않는다. 단지 array의 구조만 바뀔 뿐이다."
   ]
  },
  {
   "cell_type": "code",
   "execution_count": 20,
   "metadata": {},
   "outputs": [
    {
     "data": {
      "text/plain": [
       "array([[1, 2, 3, 4],\n",
       "       [5, 6, 7, 8]])"
      ]
     },
     "execution_count": 20,
     "metadata": {},
     "output_type": "execute_result"
    }
   ],
   "source": [
    "ar = np.array([[1,2,3,4], [5,6,7,8]])\n",
    "ar"
   ]
  },
  {
   "cell_type": "code",
   "execution_count": 21,
   "metadata": {},
   "outputs": [
    {
     "data": {
      "text/plain": [
       "array([[1, 2],\n",
       "       [3, 4],\n",
       "       [5, 6],\n",
       "       [7, 8]])"
      ]
     },
     "execution_count": 21,
     "metadata": {},
     "output_type": "execute_result"
    }
   ],
   "source": [
    "ar2 = ar.reshape((4,2))\n",
    "ar2"
   ]
  },
  {
   "cell_type": "markdown",
   "metadata": {},
   "source": [
    "ndarray ar의 shape만을 변경한 ar2는 ar의 View일 뿐이므로, ar2 속성의 할당은 야래와 같이 ar을 변경하게 된다."
   ]
  },
  {
   "cell_type": "code",
   "execution_count": 22,
   "metadata": {},
   "outputs": [
    {
     "data": {
      "text/plain": [
       "array([[10,  2,  3,  4],\n",
       "       [ 5,  6,  7,  8]])"
      ]
     },
     "execution_count": 22,
     "metadata": {},
     "output_type": "execute_result"
    }
   ],
   "source": [
    "ar2[0,0] = 10\n",
    "ar"
   ]
  },
  {
   "cell_type": "markdown",
   "metadata": {},
   "source": [
    "#### 2) dtype의 변경 - new object\n",
    "ndarray ar의 dtype을 변경하면 새로운 ndarray 객체 arr3가 생성되며, 이 객체는 arr과 무관하다."
   ]
  },
  {
   "cell_type": "code",
   "execution_count": 45,
   "metadata": {},
   "outputs": [
    {
     "data": {
      "text/plain": [
       "array([[10.,  2.,  3.,  4.],\n",
       "       [ 5.,  6.,  7.,  8.]])"
      ]
     },
     "execution_count": 45,
     "metadata": {},
     "output_type": "execute_result"
    }
   ],
   "source": [
    "ar3 = ar.astype(np.float)\n",
    "ar3"
   ]
  },
  {
   "cell_type": "markdown",
   "metadata": {},
   "source": [
    "dtype이 변경된 ar3는 ar과 다른 nparray를 참조하므로, ar3의 변경은 ar에 영향을 미치지 않는다."
   ]
  },
  {
   "cell_type": "code",
   "execution_count": 46,
   "metadata": {},
   "outputs": [
    {
     "data": {
      "text/plain": [
       "array([[10,  2,  3,  4],\n",
       "       [ 5,  6,  7,  8]])"
      ]
     },
     "execution_count": 46,
     "metadata": {},
     "output_type": "execute_result"
    }
   ],
   "source": [
    "ar3[0,0] = 20.\n",
    "ar"
   ]
  },
  {
   "cell_type": "markdown",
   "metadata": {},
   "source": [
    "### 4.1.1 Creating ndarrays\n",
    "ndarray 객체를 생성하는 가장 쉬운 방법은 numpy.array 함수를 사용하는 것이다.\n",
    "\n",
    "아래와 같은 명령어를 사용하여 np.array 함수를 이해하자.\n",
    "\n",
    ">사실 np.array만 정확히 이해하면 NumPY를 절반은 배운 것이다!!"
   ]
  },
  {
   "cell_type": "code",
   "execution_count": 4,
   "metadata": {},
   "outputs": [],
   "source": [
    "np.array?"
   ]
  },
  {
   "cell_type": "code",
   "execution_count": 23,
   "metadata": {},
   "outputs": [
    {
     "data": {
      "text/plain": [
       "array([6. , 7.5, 8. , 0. , 1. ])"
      ]
     },
     "execution_count": 23,
     "metadata": {},
     "output_type": "execute_result"
    }
   ],
   "source": [
    "data1 = [6, 7.5, 8, 0, 1]\n",
    "arr1 = np.array(data1)\n",
    "arr1"
   ]
  },
  {
   "cell_type": "code",
   "execution_count": 24,
   "metadata": {},
   "outputs": [
    {
     "data": {
      "text/plain": [
       "array([[1, 2, 3, 4],\n",
       "       [5, 6, 7, 8]])"
      ]
     },
     "execution_count": 24,
     "metadata": {},
     "output_type": "execute_result"
    }
   ],
   "source": [
    "data2 = [[1, 2, 3, 4], [5, 6, 7, 8]]\n",
    "arr2 = np.array(data2)\n",
    "arr2"
   ]
  },
  {
   "cell_type": "code",
   "execution_count": 25,
   "metadata": {},
   "outputs": [
    {
     "name": "stdout",
     "output_type": "stream",
     "text": [
      "2\n",
      "(2, 4)\n",
      "2\n",
      "<class 'int'>\n"
     ]
    }
   ],
   "source": [
    "print (arr2.ndim)\n",
    "print (arr2.shape)\n",
    "print (arr2.shape[0])\n",
    "print (type(arr2.shape[0]))"
   ]
  },
  {
   "cell_type": "code",
   "execution_count": 27,
   "metadata": {},
   "outputs": [
    {
     "name": "stdout",
     "output_type": "stream",
     "text": [
      "float64\n"
     ]
    },
    {
     "data": {
      "text/plain": [
       "dtype('int32')"
      ]
     },
     "execution_count": 27,
     "metadata": {},
     "output_type": "execute_result"
    }
   ],
   "source": [
    "print(arr1.dtype)\n",
    "arr2.dtype"
   ]
  },
  {
   "cell_type": "code",
   "execution_count": 13,
   "metadata": {},
   "outputs": [
    {
     "name": "stdout",
     "output_type": "stream",
     "text": [
      "[ 0.  0.  0.  0.  0.  0.  0.  0.  0.  0.]\n",
      "=============\n",
      "[[ 0.  0.  0.  0.  0.  0.]\n",
      " [ 0.  0.  0.  0.  0.  0.]\n",
      " [ 0.  0.  0.  0.  0.  0.]]\n",
      "=============\n",
      "[[[  6.0135e-154   7.3308e-314]\n",
      "  [  1.9435e+227   7.2383e+271]\n",
      "  [  2.0069e-313   1.2728e+232]]\n",
      "\n",
      " [[  2.7586e-313   3.1830e-313]\n",
      "  [  3.6739e-313   4.0318e-313]\n",
      "  [  6.1125e+228   6.0133e-154]]]\n"
     ]
    }
   ],
   "source": [
    "print (np.zeros(10))\n",
    "print (\"=============\")\n",
    "print (np.zeros((3, 6)))\n",
    "print (\"=============\")\n",
    "print (np.empty((2, 3, 2)))"
   ]
  },
  {
   "cell_type": "code",
   "execution_count": 1,
   "metadata": {},
   "outputs": [
    {
     "name": "stdout",
     "output_type": "stream",
     "text": [
      "Object `np.empty` not found.\n"
     ]
    }
   ],
   "source": [
    "np.empty?"
   ]
  },
  {
   "cell_type": "code",
   "execution_count": 29,
   "metadata": {},
   "outputs": [
    {
     "data": {
      "text/plain": [
       "[0, 1, 2, 3, 4, 5, 6, 7, 8, 9, 10, 11, 12, 13, 14]"
      ]
     },
     "execution_count": 29,
     "metadata": {},
     "output_type": "execute_result"
    }
   ],
   "source": [
    "list(range(15))"
   ]
  },
  {
   "cell_type": "code",
   "execution_count": 15,
   "metadata": {},
   "outputs": [
    {
     "data": {
      "text/plain": [
       "array([ 0,  1,  2,  3,  4,  5,  6,  7,  8,  9, 10, 11, 12, 13, 14])"
      ]
     },
     "execution_count": 15,
     "metadata": {},
     "output_type": "execute_result"
    }
   ],
   "source": [
    "np.arange(15)"
   ]
  },
  {
   "cell_type": "code",
   "execution_count": 16,
   "metadata": {
    "collapsed": true
   },
   "outputs": [],
   "source": [
    "np.arange?"
   ]
  },
  {
   "cell_type": "markdown",
   "metadata": {},
   "source": [
    "#### ndarray를 생성하는 numpy 함수들\n",
    "사용할 때는 `np.함수명`으로 사용하다. \n",
    "\n",
    "자료형이 명시 되지 않는 경우, \n",
    "- 많은 numpy tutorial에서는 보통 float64가 될 것이라 하지만, \n",
    "- numpy 구현체의 버전에 따라 일치하지 않는데, \n",
    "- numpy 최신버전에서는 제시된 자료형을 담을 수 있는 최소 size의 자료형으로 정해진다고 document에서는 명시한다.\n",
    "\n",
    "<table align=\"left\">\n",
    "  <tr>\n",
    "    <th>함수</th>\n",
    "    <th>설명</th>\n",
    "  </tr>\n",
    "  <tr>\n",
    "    <td>array</td>\n",
    "    <td>입력 데이터를 ndarray로 변환. dtype 미 지정시, 자료형에서 추론</td>\n",
    "  </tr>\n",
    "  <tr>\n",
    "    <td>asarray</td>\n",
    "    <td>입력 데이터를 ndarray로 변환. 입력 데이터가 ndarray일 경우 그대로 표시</td>\n",
    "  </tr>\n",
    "  <tr>\n",
    "    <td>arange</td>\n",
    "    <td>내장range 함수와 유사하지만 리스트 대신 ndarray를 반환</td>\n",
    "  </tr>\n",
    "  <tr>\n",
    "    <td>ones</td>\n",
    "    <td>주어진 dtype과 shape을 가지는 배열 생성. 성분을 모두 1로 초기화</td>\n",
    "  </tr>\n",
    "  <tr>\n",
    "    <td>ones_like</td>\n",
    "    <td>주어진 배열과 동일한 shape과 dtype을 갖는 배열을 생성. 1로 초기화</td>\n",
    "  </tr>\n",
    "  <tr>\n",
    "    <td>zero</td>\n",
    "    <td> ones와 같지만 0으로 채운다</td>\n",
    "  </tr>\n",
    "  <tr>\n",
    "    <td>zeros_like</td>\n",
    "    <td> ones_like와 같지만 0dmfh codnsek</td>\n",
    "  </tr>\n",
    "  <tr>\n",
    "    <td>empty</td>\n",
    "    <td>  메모리를 할당하지만 초기화가 없음</td>\n",
    "  </tr>\n",
    "  <tr>\n",
    "    <td>empty_like</td>\n",
    "    <td> 메모리를 할당하지만 초기화가 없음</td>\n",
    "  </tr>\n",
    "  <tr>\n",
    "    <td>eye(N,M,k=0)</td>\n",
    "    <td>1, 0의 값을 갖는 대각 NxM 대각 행렬 생성. k에 따라 대각이 이동</td>\n",
    "  </tr>\n",
    "  <tr>\n",
    "    <td>identity</td>\n",
    "    <td> n x n 단위행렬 생성</td>\n",
    "  </tr>\n",
    "  <tr>\n",
    "    <td>linspace</td>\n",
    "    <td> start, stop, size를 설정하면 ndarray로 생성</td>\n",
    "  </tr>\n",
    "</table>"
   ]
  },
  {
   "cell_type": "markdown",
   "metadata": {},
   "source": [
    "### 4.1.2 Data Types for ndarrays\n",
    "자료형, dtype은 ndarray가 특정 데이터를 메모리에서 해석하기 위해 필요한 정보를 담고 있는 특수한 객체다.\n",
    "\n",
    "산술 데이터의 dtype은:\n",
    "- float, int 같은 자료형의 이름과 \n",
    "- 하나의 원소가 차지하는 비트 수로 이루어진다.\n",
    "- 예: float64 => 소수를 64bit 메모리 공간을 담는 data type.\n",
    "\n",
    "<table align=\"left\">\n",
    "  <tr>\n",
    "    <th>종류</th>\n",
    "    <th> Type Code </th>\n",
    "    <th> 설명</th>\n",
    "  </tr>\n",
    "  <tr>\n",
    "    <td> int8, uint8</td>\n",
    "    <td> i1, u1 </td>\n",
    "    <td> 부호가 있는 8비트(1바이트) 정수형과 부호가 없는 8비트 정수형 </td>\n",
    "  </tr>\n",
    "  <tr>\n",
    "    <td> int16, uint16</td>\n",
    "    <td> i2, u2</td>\n",
    "    <td> 부호가 있는 16비트 정수형과 부호가 없는 16비트 정수형</td>\n",
    "  </tr>\n",
    "  <tr>\n",
    "    <td> int32, uint32</td>\n",
    "    <td> i4, u4 </td>\n",
    "    <td> ~ </td>\n",
    "  </tr>\n",
    "  <tr>\n",
    "    <td> int64, uint64</td>\n",
    "    <td> i8, u8 </td>\n",
    "    <td> ~ </td>\n",
    "  </tr>\n",
    "  <tr>\n",
    "    <td> float16</td>\n",
    "    <td> f2  </td>\n",
    "    <td> 반정밀도 부동소수점 </td>\n",
    "  </tr>\n",
    "  <tr>\n",
    "    <td> float32</td>\n",
    "    <td> f4 또는 f </td>\n",
    "    <td> 단정밀도 부동소수점, C언어의 float과 호환 </td>\n",
    "  </tr>\n",
    "  <tr>\n",
    "    <td> float64</td>\n",
    "    <td> f8 또는 d</td>\n",
    "    <td> 배정밀도 부동소수점, C언어의 double형과 파이썬 float객체와 호환 </td>\n",
    "  </tr>\n",
    "  <tr>\n",
    "    <td> float128</td>\n",
    "    <td> f16 또는 g </td>\n",
    "    <td> 확장 정밀도 부동소수점 </td>\n",
    "  </tr>\n",
    "  <tr>\n",
    "    <td> complex64/128/256,</td>\n",
    "    <td> c8, c16, c32 </td>\n",
    "    <td> 각각 2개의 32, 64, 128비트 부동소수점형을 가지는 복소수 </td>\n",
    "  </tr>\n",
    "  <tr>\n",
    "    <td> bool </td>\n",
    "    <td> ? </td>\n",
    "    <td> True, False를 저장하는 불리언형 </td>\n",
    "  </tr>\n",
    "  <tr>\n",
    "    <td> object </td>\n",
    "    <td> 0 </td>\n",
    "    <td> 파이썬 객체형 </td>\n",
    "  </tr>\n",
    "  <tr>\n",
    "    <td> `string_`</td>\n",
    "    <td> S </td>\n",
    "    <td> 고정길이 문자열형(각 글자는 1바이트).<br> 길이가 10인 문자열의 dtype = S10 </td>\n",
    "  </tr>\n",
    "  <tr>\n",
    "    <td> `unicode_`</td>\n",
    "    <td> U </td>\n",
    "    <td> 고정 길이 유니코드형(OS에 따라 글자별 바이트수 다름)<br> `string_`과 같은형식(ex) U10)</td>\n",
    "  </tr>\n",
    "</table>"
   ]
  },
  {
   "cell_type": "code",
   "execution_count": 29,
   "metadata": {
    "collapsed": true
   },
   "outputs": [],
   "source": [
    "np.dtype?"
   ]
  },
  {
   "cell_type": "code",
   "execution_count": 18,
   "metadata": {},
   "outputs": [
    {
     "name": "stdout",
     "output_type": "stream",
     "text": [
      "float64\n",
      "int32\n"
     ]
    }
   ],
   "source": [
    "arr1 = np.array([1, 2, 3], dtype=np.float64)\n",
    "arr2 = np.array([1, 2, 3], dtype=np.int32)\n",
    "print (arr1.dtype)\n",
    "print (arr2.dtype)"
   ]
  },
  {
   "cell_type": "code",
   "execution_count": 19,
   "metadata": {},
   "outputs": [
    {
     "data": {
      "text/plain": [
       "dtype('int32')"
      ]
     },
     "execution_count": 19,
     "metadata": {},
     "output_type": "execute_result"
    }
   ],
   "source": [
    "arr = np.array([1, 2, 3, 4, 5])\n",
    "arr.dtype"
   ]
  },
  {
   "cell_type": "markdown",
   "metadata": {},
   "source": [
    "dtype을 변경하려면 astype 메소드를 사용한다.\n",
    "- astype 메소드를 사용하면 copy 연산이 같이 발생하면서 새로운 ndarray 객체가 생성된다."
   ]
  },
  {
   "cell_type": "code",
   "execution_count": 20,
   "metadata": {},
   "outputs": [
    {
     "data": {
      "text/plain": [
       "dtype('float64')"
      ]
     },
     "execution_count": 20,
     "metadata": {},
     "output_type": "execute_result"
    }
   ],
   "source": [
    "float_arr = arr.astype(np.float64)\n",
    "float_arr.dtype"
   ]
  },
  {
   "cell_type": "markdown",
   "metadata": {},
   "source": [
    "float dtype을 int dtype으로 변경하면, 소숫점 아래 자리는 버려진다.\n",
    "- 좋은 방법이 아니다. 데이터의 정보가 왜곡된다. 이유는?\n",
    "- 이와 유사한 것이 np.trunc(arr)인데, 정수부만 남은 소수를 반환한다.\n",
    "- 이 방법 대신에 np.floor, np.ceil, np.rint를 사용하는 것이 적절하다."
   ]
  },
  {
   "cell_type": "code",
   "execution_count": 21,
   "metadata": {},
   "outputs": [
    {
     "data": {
      "text/plain": [
       "array([ 3, -1, -2,  0, 12, 10])"
      ]
     },
     "execution_count": 21,
     "metadata": {},
     "output_type": "execute_result"
    }
   ],
   "source": [
    "arr = np.array([3.7, -1.2, -2.6, 0.5, 12.9, 10.1])\n",
    "arr\n",
    "arr.astype(np.int32)"
   ]
  },
  {
   "cell_type": "markdown",
   "metadata": {},
   "source": [
    "문자열이지만 숫자로 형변환이 가능한 경우 변환이 잘 이뤄지지만, 그렇지 않은 경우라면 TypeError가 발생한다."
   ]
  },
  {
   "cell_type": "code",
   "execution_count": 24,
   "metadata": {},
   "outputs": [
    {
     "name": "stdout",
     "output_type": "stream",
     "text": [
      "[  1.25  -9.6   42.  ]\n"
     ]
    },
    {
     "data": {
      "text/plain": [
       "dtype('float64')"
      ]
     },
     "execution_count": 24,
     "metadata": {},
     "output_type": "execute_result"
    }
   ],
   "source": [
    "numeric_strings = np.array(['1.25', '-9.6', '42'], dtype=np.string_)\n",
    "print (numeric_strings.astype(float))\n",
    "numeric_strings.astype(float).dtype"
   ]
  },
  {
   "cell_type": "code",
   "execution_count": 25,
   "metadata": {},
   "outputs": [
    {
     "data": {
      "text/plain": [
       "array([ 0.,  1.,  2.,  3.,  4.,  5.,  6.,  7.,  8.,  9.])"
      ]
     },
     "execution_count": 25,
     "metadata": {},
     "output_type": "execute_result"
    }
   ],
   "source": [
    "int_array = np.arange(10)\n",
    "calibers = np.array([.22, .270, .357, .380, .44, .50], dtype=np.float64)\n",
    "int_array.astype(calibers.dtype)"
   ]
  },
  {
   "cell_type": "markdown",
   "metadata": {},
   "source": [
    "아래와 같이 dtype을 축약코드로 입력할 수 있다.\n",
    "<table>\n",
    "  <tr>\n",
    "    <th>dtype 접두사</th>\n",
    "    <th>설명</th>\n",
    "    <th>사용 예</th>\n",
    "  </tr>\n",
    "  <tr>\n",
    "    <td>t</td>\n",
    "    <td>비트 필드</td>\n",
    "    <td>t4 (4비트)</td>\n",
    "  </tr>\n",
    "  <tr>\n",
    "    <td>b</td>\n",
    "    <td>불리언</td>\n",
    "    <td>b (참 혹은 거짓)</td>\n",
    "  </tr>\n",
    "  <tr>\n",
    "    <td>i</td>\n",
    "    <td>정수</td>\n",
    "    <td>i8 (64비트)</td>\n",
    "  </tr>\n",
    "  <tr>\n",
    "    <td>u</td>\n",
    "    <td>부호 없는 정수</td>\n",
    "    <td>u8 (64비트)</td>\n",
    "  </tr>\n",
    "  <tr>\n",
    "    <td>f</td>\n",
    "    <td>부동소수점</td>\n",
    "    <td>f8 (64비트)</td>\n",
    "  </tr>\n",
    "  <tr>\n",
    "    <td>c</td>\n",
    "    <td>복소 부동소수점</td>\n",
    "    <td>c16 (128비트)</td>\n",
    "  </tr>\n",
    "  <tr>\n",
    "    <td>O</td>\n",
    "    <td>객체</td>\n",
    "    <td>0 (객체에 대한 포인터)</td>\n",
    "  </tr>\n",
    "  <tr>\n",
    "    <td>S, a</td>\n",
    "    <td>문자열</td>\n",
    "    <td>S24 (24 글자)</td>\n",
    "  </tr>\n",
    "  <tr>\n",
    "    <td>U</td>\n",
    "    <td>유니코드 문자열</td>\n",
    "    <td>U24 (24 유니코드 글자)</td>\n",
    "  </tr>\n",
    "  <tr>\n",
    "    <td>V</td>\n",
    "    <td>기타</td>\n",
    "    <td>V12 (12바이트의 데이터 블럭)</td>\n",
    "  </tr>\n",
    "</table>\n",
    "\n",
    "- 축약코드로 입력할 경우는 문자열 입력하듯 반듯이 인용기호를 사용한다.\n",
    "- bit 코드 t를 제외한 나머지 코드에서 숫자는 byte 단위를 지정한다."
   ]
  },
  {
   "cell_type": "code",
   "execution_count": 26,
   "metadata": {},
   "outputs": [
    {
     "data": {
      "text/plain": [
       "array([0, 0, 0, 0, 0, 0, 0, 0], dtype=uint32)"
      ]
     },
     "execution_count": 26,
     "metadata": {},
     "output_type": "execute_result"
    }
   ],
   "source": [
    "empty_uint32 = np.empty(8, dtype='u4')\n",
    "empty_uint32"
   ]
  },
  {
   "cell_type": "code",
   "execution_count": 28,
   "metadata": {},
   "outputs": [
    {
     "data": {
      "text/plain": [
       "array([ 0.,  0.,  0.,  0.,  0.,  0.,  0.,  0.], dtype=float32)"
      ]
     },
     "execution_count": 28,
     "metadata": {},
     "output_type": "execute_result"
    }
   ],
   "source": [
    "empty_uint32.astype('f4')"
   ]
  },
  {
   "cell_type": "markdown",
   "metadata": {},
   "source": [
    "### 4.1.3 배열과 스칼라, 배열과 배열간의 연산\n",
    "산술 연산 방식:\n",
    "- shape 같은 ndarray간에는 항목간(element-wise) 연산\n",
    "- ndarray와 scalar간에는 scalar가 ndarray의 shape만큼 복사되어 연산\n",
    "- shape이 다른 ndarray간에는 broadcast가 발생.\n",
    "\n",
    "$$\\begin{bmatrix}0 \\\\ 1 \\\\ 2 \\\\ 3 \\\\ 4 \\end{bmatrix} \\overset{\\text{numpy}}+ 1 = \n",
    "\\begin{bmatrix}0 \\\\ 1 \\\\ 2 \\\\ 3 \\\\ 4 \\end{bmatrix} +  \\begin{bmatrix}1 \\\\ 1 \\\\ 1 \\\\ 1 \\\\ 1 \\end{bmatrix} = \n",
    "\\begin{bmatrix}1 \\\\ 2 \\\\ 3 \\\\ 4 \\\\ 5 \\end{bmatrix}$$\n",
    "\n",
    ">broadcast는 ndarray와 scalar간 연산과 유사한 방식이라고 일단 이해해둘 것.\n",
    ">- deep learning을 이해하기 위해서는 필수적인 내용이다.\n",
    ">- 고차원에 대한 broadcasting은 간단히 아래 그림을 참조한다.\n",
    "![](https://datascienceschool.net/upfiles/dbd3775c3b914d4e8c6bbbb342246b6a.png)\n",
    "\n",
    "#### 1) 배열(ndarray)과 스칼라간의 연산"
   ]
  },
  {
   "cell_type": "code",
   "execution_count": 32,
   "metadata": {},
   "outputs": [
    {
     "data": {
      "text/plain": [
       "array([[2., 3., 4.],\n",
       "       [5., 6., 7.]])"
      ]
     },
     "execution_count": 32,
     "metadata": {},
     "output_type": "execute_result"
    }
   ],
   "source": [
    "arr = np.array([[1., 2., 3.], [4., 5., 6.]])\n",
    "arr + 1"
   ]
  },
  {
   "cell_type": "code",
   "execution_count": 33,
   "metadata": {},
   "outputs": [
    {
     "data": {
      "text/plain": [
       "array([[ 2.,  4.,  6.],\n",
       "       [ 8., 10., 12.]])"
      ]
     },
     "execution_count": 33,
     "metadata": {},
     "output_type": "execute_result"
    }
   ],
   "source": [
    "arr * 2"
   ]
  },
  {
   "cell_type": "code",
   "execution_count": 23,
   "metadata": {},
   "outputs": [
    {
     "data": {
      "text/plain": [
       "array([[1.    , 0.5   , 0.3333],\n",
       "       [0.25  , 0.2   , 0.1667]])"
      ]
     },
     "execution_count": 23,
     "metadata": {},
     "output_type": "execute_result"
    }
   ],
   "source": [
    "1 / arr"
   ]
  },
  {
   "cell_type": "code",
   "execution_count": 24,
   "metadata": {},
   "outputs": [
    {
     "data": {
      "text/plain": [
       "array([[1.    , 1.4142, 1.7321],\n",
       "       [2.    , 2.2361, 2.4495]])"
      ]
     },
     "execution_count": 24,
     "metadata": {},
     "output_type": "execute_result"
    }
   ],
   "source": [
    "arr ** 0.5"
   ]
  },
  {
   "cell_type": "markdown",
   "metadata": {},
   "source": [
    "#### 2) 같은 shape의 배열간 연산(elemnet-wise operation)"
   ]
  },
  {
   "cell_type": "code",
   "execution_count": 34,
   "metadata": {},
   "outputs": [
    {
     "data": {
      "text/plain": [
       "array([[ 1.,  4.,  9.],\n",
       "       [16., 25., 36.]])"
      ]
     },
     "execution_count": 34,
     "metadata": {},
     "output_type": "execute_result"
    }
   ],
   "source": [
    "arr * arr"
   ]
  },
  {
   "cell_type": "code",
   "execution_count": 22,
   "metadata": {},
   "outputs": [
    {
     "data": {
      "text/plain": [
       "array([[0., 0., 0.],\n",
       "       [0., 0., 0.]])"
      ]
     },
     "execution_count": 22,
     "metadata": {},
     "output_type": "execute_result"
    }
   ],
   "source": [
    "arr - arr"
   ]
  },
  {
   "cell_type": "markdown",
   "metadata": {},
   "source": [
    "#### 3) (2, 4)와 (2, 1)의 broadcasting"
   ]
  },
  {
   "cell_type": "code",
   "execution_count": 25,
   "metadata": {},
   "outputs": [
    {
     "data": {
      "text/plain": [
       "array([[ 2.,  3.,  4.,  5.],\n",
       "       [10., 11., 12., 13.]])"
      ]
     },
     "execution_count": 25,
     "metadata": {},
     "output_type": "execute_result"
    }
   ],
   "source": [
    "arr1 = np.array([[1., 2., 3., 4.], [5., 6., 7., 8.]])\n",
    "arr2 = np.array([[1.], [5.]])\n",
    "arr1 + arr2"
   ]
  },
  {
   "cell_type": "markdown",
   "metadata": {},
   "source": [
    "(2, 4)와 (2, )의 broadcasting은 허용되지 않는다."
   ]
  },
  {
   "cell_type": "code",
   "execution_count": 57,
   "metadata": {},
   "outputs": [
    {
     "name": "stdout",
     "output_type": "stream",
     "text": [
      "operands could not be broadcast together with shapes (2,4) (2,) \n"
     ]
    }
   ],
   "source": [
    "arr1 = np.array([[1., 2., 3., 4.], [5., 6., 7., 8.]])\n",
    "arr2 = np.array([1., 2.])\n",
    "try: \n",
    "    arr1 + arr2\n",
    "except ValueError as e:\n",
    "    print(e)"
   ]
  },
  {
   "cell_type": "markdown",
   "metadata": {},
   "source": [
    "- 차원이 다른 경우, 하위 차원이 아래와 같이 일치하거나 scalar이어야 한다."
   ]
  },
  {
   "cell_type": "code",
   "execution_count": 60,
   "metadata": {},
   "outputs": [
    {
     "name": "stdout",
     "output_type": "stream",
     "text": [
      "[[ 2.  4.  6.  8.]\n",
      " [ 6.  8. 10. 12.]]\n"
     ]
    }
   ],
   "source": [
    "arr1 = np.array([[1., 2., 3., 4.], [5., 6., 7., 8.]])\n",
    "arr2 = np.array([1., 2., 3., 4.])\n",
    "try: \n",
    "    print(arr1 + arr2)\n",
    "except ValueError as e:\n",
    "    print(e)"
   ]
  },
  {
   "cell_type": "markdown",
   "metadata": {},
   "source": [
    "#### 4) (2, 4)와 (1, 4)의 broadcasting"
   ]
  },
  {
   "cell_type": "code",
   "execution_count": 26,
   "metadata": {},
   "outputs": [
    {
     "data": {
      "text/plain": [
       "array([[ 2.,  4.,  6.,  8.],\n",
       "       [ 6.,  8., 10., 12.]])"
      ]
     },
     "execution_count": 26,
     "metadata": {},
     "output_type": "execute_result"
    }
   ],
   "source": [
    "arr1 = np.array([[1., 2., 3., 4.], [5., 6., 7., 8.]])\n",
    "arr2 = np.array([[1., 2., 3., 4.]])\n",
    "arr1 + arr2"
   ]
  },
  {
   "cell_type": "markdown",
   "metadata": {},
   "source": [
    "#### 5) (2, 4)와 (1, 2)의 broadcasting <font color='red'>not allowed</font>"
   ]
  },
  {
   "cell_type": "code",
   "execution_count": 54,
   "metadata": {},
   "outputs": [
    {
     "name": "stdout",
     "output_type": "stream",
     "text": [
      "operands could not be broadcast together with shapes (2,4) (1,2) \n"
     ]
    }
   ],
   "source": [
    "arr1 = np.array([[1., 2., 3., 4.], [5., 6., 7., 8.]])\n",
    "arr2 = np.array([[1., 5.]])\n",
    "try: \n",
    "    arr1 + arr2\n",
    "except ValueError as e:\n",
    "    print(e)"
   ]
  },
  {
   "cell_type": "code",
   "execution_count": 53,
   "metadata": {},
   "outputs": [
    {
     "name": "stdout",
     "output_type": "stream",
     "text": [
      "Unable to coerce to DataFrame, shape must be (2, 4): given (1, 2)\n"
     ]
    }
   ],
   "source": [
    "from pandas import Series, DataFrame\n",
    "df = DataFrame(arr1)\n",
    "try: \n",
    "    df + arr2\n",
    "except ValueError as e:\n",
    "    print(e)"
   ]
  },
  {
   "cell_type": "code",
   "execution_count": 52,
   "metadata": {},
   "outputs": [
    {
     "name": "stdout",
     "output_type": "stream",
     "text": [
      "operands could not be broadcast together with shapes (4,) (2,) \n"
     ]
    }
   ],
   "source": [
    "s = Series(arr1[0])\n",
    "try: \n",
    "    s + arr2[0]\n",
    "except ValueError as e:\n",
    "    print(e)"
   ]
  },
  {
   "cell_type": "markdown",
   "metadata": {},
   "source": [
    "#### 6) (2, 4)와 (1, 1)의 broadcasting"
   ]
  },
  {
   "cell_type": "code",
   "execution_count": 31,
   "metadata": {},
   "outputs": [
    {
     "data": {
      "text/plain": [
       "array([[2., 3., 4., 5.],\n",
       "       [6., 7., 8., 9.]])"
      ]
     },
     "execution_count": 31,
     "metadata": {},
     "output_type": "execute_result"
    }
   ],
   "source": [
    "arr1 = np.array([[1., 2., 3., 4.], [5., 6., 7., 8.]])\n",
    "arr2 = np.array([[1.]])\n",
    "arr1 + arr2"
   ]
  },
  {
   "cell_type": "markdown",
   "metadata": {},
   "source": [
    "### 4.1.4 Basic indexing and slicing\n",
    "색인을 통해 ndarray 객체 arr의 subset을 접근할 수 있는 여러가지 방법이 있다.\n",
    "- 1차원 ndarray에 대한 색인 접근법은 list와 동일하다.\n",
    "\n",
    "<u>광의의 색인 방법은 다음과 같이 여러가지가 존재하며, 아래와 같은 연산 특성을 갖는다.</u>\n",
    "\n",
    "|구분|점색인(indexing)|연속색인(slicing)|불연속색인(fancy indexing)|\n",
    "|---|---|---|---|\n",
    "|**의미**|arr의 View|arr의 View|arr의 copy. 새 array 객체|\n",
    "|**형식**|arr[i, j]|arr[i:, :j]|arr[[a,b,c], [d,e,f]]|\n",
    "|**성분에 대한 대입**|arr[i, j]=v|arr[i:, :j][n,m]=v|arr[[a,b,c], [d,e,f]][n,m]=v|\n",
    "||arr는 변경|arr는 변경|arr는 불변|\n",
    "|**색인의 reference A**|A=arr[i, j]|A=arr[i:, :j]|A=arr[[a,b,c], [d,e,f]]|\n",
    "||A just refer View|A just refer View|A is new Array|\n",
    "|**referenc A의 할당**|A=v|A=v|A=v|\n",
    "|A just refer another object|arr는 불변|arr는 불변|arr는 불변|\n",
    "\n",
    "- 불연속(fancy) 색인은 일종의 bool 색인으로 간주할 수 있다.\n",
    "\n",
    "#### 1) 점 색인(indexing)"
   ]
  },
  {
   "cell_type": "code",
   "execution_count": 63,
   "metadata": {},
   "outputs": [
    {
     "name": "stdout",
     "output_type": "stream",
     "text": [
      "[0 1 2 3 4 5 6 7 8 9]\n",
      "점 색인은 arr의 view\n",
      "5\n",
      "[ 0  1  2  3  4 10  6  7  8  9]\n",
      "10\n",
      "A는 단지 새로운 int 객체 20을 가르킬 뿐이다.\n",
      "20\n",
      "reference A에 대한 할당에 대해 arr은 불변\n",
      "[ 0  1  2  3  4 10  6  7  8  9]\n"
     ]
    }
   ],
   "source": [
    "arr = np.arange(10)\n",
    "print (arr)\n",
    "\n",
    "print(\"점 색인은 arr의 view\")\n",
    "print (arr[5])\n",
    "\n",
    "arr[5] = 10\n",
    "print (arr)\n",
    "\n",
    "A = arr[5]\n",
    "print(A)\n",
    "\n",
    "print(\"A는 단지 새로운 int 객체 20을 가르킬 뿐이다.\")\n",
    "A = 20\n",
    "print(A)\n",
    "\n",
    "print(\"reference A에 대한 할당에 대해 arr은 불변\")\n",
    "print(arr)"
   ]
  },
  {
   "cell_type": "markdown",
   "metadata": {},
   "source": [
    "#### 2) 연속색인(slicing)"
   ]
  },
  {
   "cell_type": "markdown",
   "metadata": {},
   "source": [
    "역시 **slicing된 ndarray 객체**는 원본 arr의 **연속색인의 View**이다.\n",
    "- 따라서 sub array가 변경되면 원본도 아래와 같이 변경된다.\n",
    "- 이런 방법이 편리할 수도 있지만, 의도치 못한 문제가 발생할 수 있으니, 조심해야 한다.\n",
    "\n",
    "대량의 데이터를 다루는 경우, slicing이 copy를 리턴한다면 이로 인한 메모리 부족이 발생할 수 있으므로, NumPy의 의도는 매우 긍정적이라 볼 수 있다.\n",
    "- 나중에 확인하겠지만 pandas 객체의 slicing도 기본적으로 View를 제공한다."
   ]
  },
  {
   "cell_type": "code",
   "execution_count": 67,
   "metadata": {},
   "outputs": [
    {
     "name": "stdout",
     "output_type": "stream",
     "text": [
      "[0 1 2 3 4 5 6 7 8 9]\n",
      "연속 색인은 arr의 view\n",
      "[5 6 7 8 9]\n",
      "[ 0  1  2  3  4 10 10 10 10 10]\n",
      "A는 arr의 연속 색인에 대한 레퍼런스.\n",
      "[10 10 10 10 10]\n",
      "view의 레퍼런스인 A를 통해 view의 일부분을 변경하면 arr로 변경된다.\n",
      "[ 0  1  2  3  4 10 20 10 10 10]\n",
      "이 경우 A는 단지 새로운 int 객체 20을 가르킬 뿐이다.\n",
      "20\n",
      "레퍼런스 A에 대한 새로운 객체의 할당에 대해 arr은 불변\n"
     ]
    },
    {
     "data": {
      "text/plain": [
       "array([ 0,  1,  2,  3,  4, 10, 20, 10, 10, 10])"
      ]
     },
     "execution_count": 67,
     "metadata": {},
     "output_type": "execute_result"
    }
   ],
   "source": [
    "arr = np.arange(10)\n",
    "print (arr)\n",
    "\n",
    "print(\"연속 색인은 arr의 view\")\n",
    "print (arr[5:])\n",
    "\n",
    "arr[5:] = 10\n",
    "print (arr)\n",
    "\n",
    "A = arr[5:]\n",
    "print(\"A는 arr의 연속 색인에 대한 레퍼런스.\")\n",
    "print(A)\n",
    "print(\"view의 레퍼런스인 A를 통해 view의 일부분을 변경하면 arr로 변경된다.\")\n",
    "A[1] = 20\n",
    "print(arr)\n",
    "\n",
    "print(\"이 경우 A는 단지 새로운 int 객체 20을 가르킬 뿐이다.\")\n",
    "A = 20\n",
    "print(A)\n",
    "\n",
    "print(\"레퍼런스 A에 대한 새로운 객체의 할당에 대해 arr은 불변\")\n",
    "arr"
   ]
  },
  {
   "cell_type": "markdown",
   "metadata": {},
   "source": [
    "#### 3) 불연속 색인(bool indexing, fancy indexing)\n",
    "아래에서 설명하겠지만, book indexing과 fancy indexing은 결과적으로 같은 것이다."
   ]
  },
  {
   "cell_type": "code",
   "execution_count": 75,
   "metadata": {},
   "outputs": [
    {
     "name": "stdout",
     "output_type": "stream",
     "text": [
      "[0 1 2 3 4 5 6 7 8 9]\n",
      "불연속 색인은 arr의 copy. 즉, 새 배열 객체.\n",
      "[3 5 8]\n",
      "불연속 색인의 임의 성분의 변경에 대한 arr은 불변\n",
      "[0 1 2 3 4 5 6 7 8 9]\n",
      "A는 arr의 불연속 색인에 대한 레퍼런스.\n",
      "[3 5 8]\n",
      "view의 레퍼런스인 A를 통해 view의 일부분을 변경하면 arr로 변경된다.\n",
      "[ 3 20  8]\n",
      "[0 1 2 3 4 5 6 7 8 9]\n"
     ]
    }
   ],
   "source": [
    "arr = np.arange(10)\n",
    "print (arr)\n",
    "\n",
    "print(\"불연속 색인은 arr의 copy. 즉, 새 배열 객체.\")\n",
    "print (arr[[3, 5, 8]])\n",
    "print(\"불연속 색인의 임의 성분의 변경에 대한 arr은 불변\")\n",
    "arr[[3, 5, 8]][0] = 5\n",
    "print(arr)\n",
    "\n",
    "A = arr[[3, 5, 8]]\n",
    "print(\"A는 arr의 불연속 색인에 대한 레퍼런스.\")\n",
    "print(A)\n",
    "print(\"view의 레퍼런스인 A를 통해 view의 일부분을 변경하면 arr로 변경된다.\")\n",
    "A[1] = 20\n",
    "print(A)\n",
    "print(arr)"
   ]
  },
  {
   "cell_type": "markdown",
   "metadata": {},
   "source": [
    "#### 4) astype을 이용한 새로운 array 객체 생성\n",
    "astype으로 새로운 ndarray 객체가 생성한다.\n",
    "\n",
    "아래의 경우, astype에 의해 새로운 ndarray 객체가 생성되어, arr_slice는 물론 arr로 변경되지 않는다."
   ]
  },
  {
   "cell_type": "code",
   "execution_count": 45,
   "metadata": {},
   "outputs": [
    {
     "data": {
      "text/plain": [
       "array([ 0,  1,  2,  3,  4, 64, 64, 64,  8,  9])"
      ]
     },
     "execution_count": 45,
     "metadata": {},
     "output_type": "execute_result"
    }
   ],
   "source": [
    "arr_slice.astype(float)\n",
    "arr"
   ]
  },
  {
   "cell_type": "markdown",
   "metadata": {},
   "source": [
    "#### 5) View에 대한 색인 접근\n",
    "n차원 ndarray 객체의 대한 색인은 ndim과 동일한 길이의 tuple 접근이 가능하다."
   ]
  },
  {
   "cell_type": "code",
   "execution_count": 50,
   "metadata": {},
   "outputs": [
    {
     "data": {
      "text/plain": [
       "array([7, 8, 9])"
      ]
     },
     "execution_count": 50,
     "metadata": {},
     "output_type": "execute_result"
    }
   ],
   "source": [
    "arr2d = np.array([[1, 2, 3], [4, 5, 6], [7, 8, 9]])\n",
    "arr2d[2]"
   ]
  },
  {
   "cell_type": "code",
   "execution_count": 52,
   "metadata": {},
   "outputs": [
    {
     "name": "stdout",
     "output_type": "stream",
     "text": [
      "3\n"
     ]
    },
    {
     "data": {
      "text/plain": [
       "3"
      ]
     },
     "execution_count": 52,
     "metadata": {},
     "output_type": "execute_result"
    }
   ],
   "source": [
    "print arr2d[0][2]\n",
    "arr2d[0, 2]"
   ]
  },
  {
   "cell_type": "markdown",
   "metadata": {},
   "source": [
    "좀 복잡해 보이는 3darray에 대해 각 성분을 indexing할 수 있는가?"
   ]
  },
  {
   "cell_type": "code",
   "execution_count": 54,
   "metadata": {},
   "outputs": [
    {
     "name": "stdout",
     "output_type": "stream",
     "text": [
      "3\n"
     ]
    },
    {
     "data": {
      "text/plain": [
       "array([[[ 1,  2,  3],\n",
       "        [ 4,  5,  6]],\n",
       "\n",
       "       [[ 7,  8,  9],\n",
       "        [10, 11, 12]]])"
      ]
     },
     "execution_count": 54,
     "metadata": {},
     "output_type": "execute_result"
    }
   ],
   "source": [
    "arr3d = np.array([[[1, 2, 3], [4, 5, 6]], [[7, 8, 9], [10, 11, 12]]])\n",
    "print arr3d.ndim\n",
    "arr3d"
   ]
  },
  {
   "cell_type": "code",
   "execution_count": 60,
   "metadata": {},
   "outputs": [
    {
     "data": {
      "text/plain": [
       "array([[1, 2, 3],\n",
       "       [4, 5, 6]])"
      ]
     },
     "execution_count": 60,
     "metadata": {},
     "output_type": "execute_result"
    }
   ],
   "source": [
    "arr3d[0]"
   ]
  },
  {
   "cell_type": "markdown",
   "metadata": {},
   "source": [
    "아래 사항이 이해가 가는가?"
   ]
  },
  {
   "cell_type": "code",
   "execution_count": 56,
   "metadata": {},
   "outputs": [
    {
     "name": "stdout",
     "output_type": "stream",
     "text": [
      "[[[42 42 42]\n",
      "  [42 42 42]]\n",
      "\n",
      " [[ 7  8  9]\n",
      "  [10 11 12]]]\n",
      "[[[ 1  2  3]\n",
      "  [ 4  5  6]]\n",
      "\n",
      " [[ 7  8  9]\n",
      "  [10 11 12]]]\n"
     ]
    },
    {
     "data": {
      "text/plain": [
       "array([[[ 1,  2,  3],\n",
       "        [ 4,  5,  6]],\n",
       "\n",
       "       [[ 7,  8,  9],\n",
       "        [10, 11, 12]]])"
      ]
     },
     "execution_count": 56,
     "metadata": {},
     "output_type": "execute_result"
    }
   ],
   "source": [
    "old_values = arr3d[0].copy()\n",
    "arr3d[0] = 42\n",
    "print arr3d\n",
    "arr3d[0] = old_values\n",
    "print arr3d\n",
    "old_values[0,0] = 9999\n",
    "arr3d"
   ]
  },
  {
   "cell_type": "markdown",
   "metadata": {},
   "source": [
    "1. old_values는 arr3d[0]의 값을 복사하여 새로운 메모리 공간(2)에 저장한다.\n",
    "2. 기존 arr3d[0] 메모리 공간(1)에 42를 복사하여 다시 값을 바꾸었다.\n",
    "3. old_values 객체의 메모리(2)에 있는 값으로 arr3d[0] 메모리(1)의 값을 다시 바꾸었다.\n",
    "4. old_values의 [0,0] 메모리(2) 공간에 9999를 썼다. 이것은 메모리(1)에 영향을 미치지 않는다."
   ]
  },
  {
   "cell_type": "code",
   "execution_count": 58,
   "metadata": {},
   "outputs": [
    {
     "data": {
      "text/plain": [
       "array([[9999,    2,    3],\n",
       "       [   4,    5,    6]])"
      ]
     },
     "execution_count": 58,
     "metadata": {},
     "output_type": "execute_result"
    }
   ],
   "source": [
    "old_values"
   ]
  },
  {
   "cell_type": "code",
   "execution_count": 59,
   "metadata": {},
   "outputs": [
    {
     "data": {
      "text/plain": [
       "array([7, 8, 9])"
      ]
     },
     "execution_count": 59,
     "metadata": {},
     "output_type": "execute_result"
    }
   ],
   "source": [
    "arr3d[1, 0]"
   ]
  },
  {
   "cell_type": "markdown",
   "metadata": {},
   "source": [
    "#### 6) slicing에 대한 기하적 이해\n",
    "list와 유사하게 ndarray에서도 slicing을 사용할 수 있다.\n",
    "\n",
    "n 차원 ndarray에서는 [i, j, k, ..., n]과 같이 n개의 색인을 tuple과 같이 사용한다.\n",
    "\n",
    "slicing은 i:j와 같은 방법으로 연속된 색인을 사용한다.\n",
    "![](http://i.imgur.com/nLqL1yM.png)\n",
    "\n",
    "\n",
    "3d array의 shape이 (l, m, n)일 때 shape을 예측해보자:\n",
    "- arr3d[i]\n",
    "- arr3d[i:j]\n",
    "- arr3d[:j]\n",
    "- arr3d[i:]\n",
    "- arr3d[:-j]\n",
    "- arr3d[:, i]\n",
    "- arr3d[:, i:j]\n",
    "- arr3d[0, i:j]\n",
    "- arr3d[:, :, i]\n",
    "- arr3d[:, :, i:j]\n",
    "- arr3d[1, :, i]\n",
    "- arr3d[1, :, i:j]\n",
    "- arr3d[1, 2:, i]\n",
    "- arr3d[1, 2, i:j]\n",
    "- arr3d[:, 2, i]\n",
    "- arr3d[:, 2, i:j]"
   ]
  },
  {
   "cell_type": "code",
   "execution_count": 61,
   "metadata": {},
   "outputs": [
    {
     "data": {
      "text/plain": [
       "array([ 1,  2,  3,  4, 64])"
      ]
     },
     "execution_count": 61,
     "metadata": {},
     "output_type": "execute_result"
    }
   ],
   "source": [
    "arr[1:6]"
   ]
  },
  {
   "cell_type": "code",
   "execution_count": 62,
   "metadata": {},
   "outputs": [
    {
     "data": {
      "text/plain": [
       "array([[1, 2, 3],\n",
       "       [4, 5, 6]])"
      ]
     },
     "execution_count": 62,
     "metadata": {},
     "output_type": "execute_result"
    }
   ],
   "source": [
    "arr2d\n",
    "arr2d[:2]"
   ]
  },
  {
   "cell_type": "code",
   "execution_count": 63,
   "metadata": {},
   "outputs": [
    {
     "data": {
      "text/plain": [
       "array([[2, 3],\n",
       "       [5, 6]])"
      ]
     },
     "execution_count": 63,
     "metadata": {},
     "output_type": "execute_result"
    }
   ],
   "source": [
    "arr2d[:2, 1:]"
   ]
  },
  {
   "cell_type": "code",
   "execution_count": 64,
   "metadata": {},
   "outputs": [
    {
     "data": {
      "text/plain": [
       "array([7])"
      ]
     },
     "execution_count": 64,
     "metadata": {},
     "output_type": "execute_result"
    }
   ],
   "source": [
    "arr2d[1, :2]\n",
    "arr2d[2, :1]"
   ]
  },
  {
   "cell_type": "code",
   "execution_count": 65,
   "metadata": {},
   "outputs": [
    {
     "data": {
      "text/plain": [
       "array([[1],\n",
       "       [4],\n",
       "       [7]])"
      ]
     },
     "execution_count": 65,
     "metadata": {},
     "output_type": "execute_result"
    }
   ],
   "source": [
    "arr2d[:, :1]"
   ]
  },
  {
   "cell_type": "code",
   "execution_count": 66,
   "metadata": {},
   "outputs": [],
   "source": [
    "arr2d[:2, 1:] = 0"
   ]
  },
  {
   "cell_type": "markdown",
   "metadata": {},
   "source": [
    "### 4.1.5 Boolean indexing\n",
    "Boolean Vector는 ndarray의 각 row를 indexing한다.\n",
    "- Boolean Vector 여러 개로 indexing을 하고자 할 때는 `&`, `|` 연산자를 이용한다.\n",
    "- Boolean Vector의 길이는 ndarray.shape[0]와 같아야 한다."
   ]
  },
  {
   "cell_type": "code",
   "execution_count": 103,
   "metadata": {},
   "outputs": [
    {
     "name": "stdout",
     "output_type": "stream",
     "text": [
      "['Bob' 'Joe' 'Will' 'Bob' 'Will' 'Joe' 'Joe']\n",
      "[[-0.2047  0.4789 -0.5194 -0.5557]\n",
      " [ 1.9658  1.3934  0.0929  0.2817]\n",
      " [ 0.769   1.2464  1.0072 -1.2962]\n",
      " [ 0.275   0.2289  1.3529  0.8864]\n",
      " [-2.0016 -0.3718  1.669  -0.4386]\n",
      " [-0.5397  0.477   3.2489 -1.0212]\n",
      " [-0.5771  0.1241  0.3026  0.5238]]\n"
     ]
    }
   ],
   "source": [
    "np.random.seed(12345)\n",
    "names = np.array(['Bob', 'Joe', 'Will', 'Bob', 'Will', 'Joe', 'Joe'])\n",
    "data = randn(7, 4)\n",
    "print names\n",
    "print data"
   ]
  },
  {
   "cell_type": "code",
   "execution_count": 104,
   "metadata": {},
   "outputs": [
    {
     "data": {
      "text/plain": [
       "True"
      ]
     },
     "execution_count": 104,
     "metadata": {},
     "output_type": "execute_result"
    }
   ],
   "source": [
    "names.size == data.shape[0]"
   ]
  },
  {
   "cell_type": "code",
   "execution_count": 105,
   "metadata": {},
   "outputs": [
    {
     "data": {
      "text/plain": [
       "array([ True, False, False,  True, False, False, False], dtype=bool)"
      ]
     },
     "execution_count": 105,
     "metadata": {},
     "output_type": "execute_result"
    }
   ],
   "source": [
    "names == 'Bob'"
   ]
  },
  {
   "cell_type": "code",
   "execution_count": 106,
   "metadata": {},
   "outputs": [
    {
     "data": {
      "text/plain": [
       "array([[-0.2047,  0.4789, -0.5194, -0.5557],\n",
       "       [ 0.275 ,  0.2289,  1.3529,  0.8864]])"
      ]
     },
     "execution_count": 106,
     "metadata": {},
     "output_type": "execute_result"
    }
   ],
   "source": [
    "data[names == 'Bob']"
   ]
  },
  {
   "cell_type": "code",
   "execution_count": 107,
   "metadata": {},
   "outputs": [
    {
     "data": {
      "text/plain": [
       "array([[-0.2047,  0.4789, -0.5194, -0.5557],\n",
       "       [ 0.275 ,  0.2289,  1.3529,  0.8864]])"
      ]
     },
     "execution_count": 107,
     "metadata": {},
     "output_type": "execute_result"
    }
   ],
   "source": [
    "data[[0, 3]]"
   ]
  },
  {
   "cell_type": "markdown",
   "metadata": {},
   "source": [
    "Boolean 색인 slicing과 함께 사용할 수 있다."
   ]
  },
  {
   "cell_type": "code",
   "execution_count": 108,
   "metadata": {},
   "outputs": [
    {
     "data": {
      "text/plain": [
       "array([[-0.5194, -0.5557],\n",
       "       [ 1.3529,  0.8864]])"
      ]
     },
     "execution_count": 108,
     "metadata": {},
     "output_type": "execute_result"
    }
   ],
   "source": [
    "data[names == 'Bob', 2:]"
   ]
  },
  {
   "cell_type": "code",
   "execution_count": 109,
   "metadata": {},
   "outputs": [
    {
     "data": {
      "text/plain": [
       "array([[-2.0016, -0.4386],\n",
       "       [-0.5397, -1.0212],\n",
       "       [-0.5771,  0.5238]])"
      ]
     },
     "execution_count": 109,
     "metadata": {},
     "output_type": "execute_result"
    }
   ],
   "source": [
    "data[4:, (names == 'Bob')[:4]]"
   ]
  },
  {
   "cell_type": "markdown",
   "metadata": {},
   "source": [
    "아래의 결과는 (2, 1) shape으로 slicing이 되지만, 이런 경우 (2) shape으로 1차원 array로 리턴된다."
   ]
  },
  {
   "cell_type": "code",
   "execution_count": 110,
   "metadata": {},
   "outputs": [
    {
     "data": {
      "text/plain": [
       "array([-0.5557,  0.8864])"
      ]
     },
     "execution_count": 110,
     "metadata": {},
     "output_type": "execute_result"
    }
   ],
   "source": [
    "data[names == 'Bob', 3]"
   ]
  },
  {
   "cell_type": "code",
   "execution_count": 111,
   "metadata": {},
   "outputs": [
    {
     "data": {
      "text/plain": [
       "(2L,)"
      ]
     },
     "execution_count": 111,
     "metadata": {},
     "output_type": "execute_result"
    }
   ],
   "source": [
    "data[names == 'Bob', 3].shape"
   ]
  },
  {
   "cell_type": "code",
   "execution_count": 112,
   "metadata": {},
   "outputs": [
    {
     "data": {
      "text/plain": [
       "(2L, 1L)"
      ]
     },
     "execution_count": 112,
     "metadata": {},
     "output_type": "execute_result"
    }
   ],
   "source": [
    "data[names == 'Bob', 3].reshape((2,1)).shape"
   ]
  },
  {
   "cell_type": "markdown",
   "metadata": {},
   "source": [
    "Boolean 연산자와 slicing 연산자를 이용하여 다음과 같은 여러 표현이 가능하다.\n",
    "- `!`는 NOT 비교 연산자\n",
    "- `-`는 Boolean type에 대한 NEGATIVE 연산자"
   ]
  },
  {
   "cell_type": "code",
   "execution_count": 113,
   "metadata": {},
   "outputs": [
    {
     "data": {
      "text/plain": [
       "array([[ 1.9658,  1.3934,  0.0929,  0.2817],\n",
       "       [ 0.769 ,  1.2464,  1.0072, -1.2962],\n",
       "       [-2.0016, -0.3718,  1.669 , -0.4386],\n",
       "       [-0.5397,  0.477 ,  3.2489, -1.0212],\n",
       "       [-0.5771,  0.1241,  0.3026,  0.5238]])"
      ]
     },
     "execution_count": 113,
     "metadata": {},
     "output_type": "execute_result"
    }
   ],
   "source": [
    "data[names != 'Bob']"
   ]
  },
  {
   "cell_type": "code",
   "execution_count": 114,
   "metadata": {},
   "outputs": [
    {
     "name": "stderr",
     "output_type": "stream",
     "text": [
      "C:\\Users\\great\\Anaconda2\\lib\\site-packages\\ipykernel\\__main__.py:1: DeprecationWarning: numpy boolean negative, the `-` operator, is deprecated, use the `~` operator or the logical_not function instead.\n",
      "  if __name__ == '__main__':\n"
     ]
    },
    {
     "data": {
      "text/plain": [
       "array([[ 1.9658,  1.3934,  0.0929,  0.2817],\n",
       "       [ 0.769 ,  1.2464,  1.0072, -1.2962],\n",
       "       [-2.0016, -0.3718,  1.669 , -0.4386],\n",
       "       [-0.5397,  0.477 ,  3.2489, -1.0212],\n",
       "       [-0.5771,  0.1241,  0.3026,  0.5238]])"
      ]
     },
     "execution_count": 114,
     "metadata": {},
     "output_type": "execute_result"
    }
   ],
   "source": [
    "data[-(names == 'Bob')]"
   ]
  },
  {
   "cell_type": "code",
   "execution_count": 115,
   "metadata": {},
   "outputs": [
    {
     "data": {
      "text/plain": [
       "array([ True, False,  True,  True,  True, False, False], dtype=bool)"
      ]
     },
     "execution_count": 115,
     "metadata": {},
     "output_type": "execute_result"
    }
   ],
   "source": [
    "mask = (names == 'Bob') | (names == 'Will')\n",
    "mask"
   ]
  },
  {
   "cell_type": "code",
   "execution_count": 116,
   "metadata": {},
   "outputs": [
    {
     "data": {
      "text/plain": [
       "array([[-0.2047,  0.4789, -0.5194, -0.5557],\n",
       "       [ 0.769 ,  1.2464,  1.0072, -1.2962],\n",
       "       [ 0.275 ,  0.2289,  1.3529,  0.8864],\n",
       "       [-2.0016, -0.3718,  1.669 , -0.4386]])"
      ]
     },
     "execution_count": 116,
     "metadata": {},
     "output_type": "execute_result"
    }
   ],
   "source": [
    "data[mask]"
   ]
  },
  {
   "cell_type": "code",
   "execution_count": 117,
   "metadata": {},
   "outputs": [
    {
     "data": {
      "text/plain": [
       "array([[ 0.    ,  0.4789,  0.    ,  0.    ],\n",
       "       [ 1.9658,  1.3934,  0.0929,  0.2817],\n",
       "       [ 0.769 ,  1.2464,  1.0072,  0.    ],\n",
       "       [ 0.275 ,  0.2289,  1.3529,  0.8864],\n",
       "       [ 0.    ,  0.    ,  1.669 ,  0.    ],\n",
       "       [ 0.    ,  0.477 ,  3.2489,  0.    ],\n",
       "       [ 0.    ,  0.1241,  0.3026,  0.5238]])"
      ]
     },
     "execution_count": 117,
     "metadata": {},
     "output_type": "execute_result"
    }
   ],
   "source": [
    "data[data < 0] = 0\n",
    "data"
   ]
  },
  {
   "cell_type": "code",
   "execution_count": 118,
   "metadata": {},
   "outputs": [
    {
     "data": {
      "text/plain": [
       "array([[ 7.    ,  7.    ,  7.    ,  7.    ],\n",
       "       [ 1.9658,  1.3934,  0.0929,  0.2817],\n",
       "       [ 7.    ,  7.    ,  7.    ,  7.    ],\n",
       "       [ 7.    ,  7.    ,  7.    ,  7.    ],\n",
       "       [ 7.    ,  7.    ,  7.    ,  7.    ],\n",
       "       [ 0.    ,  0.477 ,  3.2489,  0.    ],\n",
       "       [ 0.    ,  0.1241,  0.3026,  0.5238]])"
      ]
     },
     "execution_count": 118,
     "metadata": {},
     "output_type": "execute_result"
    }
   ],
   "source": [
    "data[names != 'Joe'] = 7\n",
    "data"
   ]
  },
  {
   "cell_type": "markdown",
   "metadata": {},
   "source": [
    "### 4.1.5 row vector 색인\n",
    "열을 제외하고, row vector 만으로 행 만을 추출하는 색인은 동일하게, View를 생성한다."
   ]
  },
  {
   "cell_type": "code",
   "execution_count": 3,
   "metadata": {},
   "outputs": [
    {
     "data": {
      "text/plain": [
       "array([[0., 0., 0., 0.],\n",
       "       [1., 1., 1., 1.],\n",
       "       [2., 2., 2., 2.],\n",
       "       [3., 3., 3., 3.],\n",
       "       [4., 4., 4., 4.],\n",
       "       [5., 5., 5., 5.],\n",
       "       [6., 6., 6., 6.],\n",
       "       [7., 7., 7., 7.]])"
      ]
     },
     "execution_count": 3,
     "metadata": {},
     "output_type": "execute_result"
    }
   ],
   "source": [
    "arr = np.empty((8, 4))\n",
    "for i in range(8):\n",
    "    arr[i] = i\n",
    "arr"
   ]
  },
  {
   "cell_type": "markdown",
   "metadata": {},
   "source": [
    "아래의 같이, 행 벡터만을 선택적으로 fancy indexing을 할 수 있다."
   ]
  },
  {
   "cell_type": "code",
   "execution_count": 4,
   "metadata": {},
   "outputs": [
    {
     "data": {
      "text/plain": [
       "array([[4., 4., 4., 4.],\n",
       "       [3., 3., 3., 3.]])"
      ]
     },
     "execution_count": 4,
     "metadata": {},
     "output_type": "execute_result"
    }
   ],
   "source": [
    "arr[[4, 3]]"
   ]
  },
  {
   "cell_type": "code",
   "execution_count": 8,
   "metadata": {},
   "outputs": [
    {
     "data": {
      "text/plain": [
       "array([[0., 0., 0., 0.],\n",
       "       [1., 1., 1., 1.],\n",
       "       [2., 2., 2., 2.],\n",
       "       [7., 8., 8., 7.],\n",
       "       [7., 8., 8., 7.],\n",
       "       [5., 5., 5., 5.],\n",
       "       [6., 6., 6., 6.],\n",
       "       [7., 7., 7., 7.]])"
      ]
     },
     "execution_count": 8,
     "metadata": {},
     "output_type": "execute_result"
    }
   ],
   "source": [
    "arr = np.empty((8, 4))\n",
    "for i in range(8):\n",
    "    arr[i] = i\n",
    "\n",
    "arr[[4, 3]] = np.array([[7, 8, 8, 7]])\n",
    "arr"
   ]
  },
  {
   "cell_type": "markdown",
   "metadata": {},
   "source": [
    "- 선택한 행벡터에 대한 대입은 원본 배열을 변화시킨다."
   ]
  },
  {
   "cell_type": "markdown",
   "metadata": {},
   "source": [
    "아래와 같은 경우 arr이 변경될까?"
   ]
  },
  {
   "cell_type": "code",
   "execution_count": null,
   "metadata": {},
   "outputs": [],
   "source": [
    "row_arr = arr[[4, 3]] \n",
    "row_arr[1, 3] = 5\n",
    "arr"
   ]
  },
  {
   "cell_type": "markdown",
   "metadata": {},
   "source": [
    "### 4.1.6 Fancy indexing\n",
    "정수 배열을 사용한 색인을 일컫는다.\n",
    "\n",
    "<font color=\"red\">fancy 색인은 slicing과 달리 View가 아닌 copy가 발생한다.</font>"
   ]
  },
  {
   "cell_type": "code",
   "execution_count": 3,
   "metadata": {},
   "outputs": [
    {
     "data": {
      "text/plain": [
       "array([[0., 0., 0., 0.],\n",
       "       [1., 1., 1., 1.],\n",
       "       [2., 2., 2., 2.],\n",
       "       [3., 3., 3., 3.],\n",
       "       [4., 4., 4., 4.],\n",
       "       [5., 5., 5., 5.],\n",
       "       [6., 6., 6., 6.],\n",
       "       [7., 7., 7., 7.]])"
      ]
     },
     "execution_count": 3,
     "metadata": {},
     "output_type": "execute_result"
    }
   ],
   "source": [
    "arr = np.empty((8, 4))\n",
    "for i in range(8):\n",
    "    arr[i] = i\n",
    "arr"
   ]
  },
  {
   "cell_type": "markdown",
   "metadata": {},
   "source": [
    "fancy 색인에 값을 대입할 때, 원본 배열의 변화는?"
   ]
  },
  {
   "cell_type": "markdown",
   "metadata": {},
   "source": [
    "- fancy 색인 자체에 대한 대입은 원본 배열 arr의 값을 변화시킨다.\n",
    "- 그러나, fancy 색인에 대한 레퍼런스는 arr에 대한 copy이다."
   ]
  },
  {
   "cell_type": "markdown",
   "metadata": {},
   "source": [
    "Fancy 색인의 연산 결과 보기\n",
    "- arr에 대한 Fancy indexing으로 생성된 fanc_arr에서의 대입은 arr에 영향이 없다.\n",
    "- arr에 대한 slice indexing으로 생성된 slic_arr에서의 대입은 arr에 변경을 준다.\n",
    "- 즉, Fancy indexing은 값에 대한 copy를 발생시키고, slice indexing은 View이다."
   ]
  },
  {
   "cell_type": "code",
   "execution_count": 12,
   "metadata": {},
   "outputs": [
    {
     "data": {
      "text/plain": [
       "array([[ 0,  1,  2,  3],\n",
       "       [ 4,  5,  6,  7],\n",
       "       [ 8,  9, 10, 11],\n",
       "       [12, 13, 14, 15],\n",
       "       [16, 17, 18, 19],\n",
       "       [20, 21, 22, 23],\n",
       "       [24, 25, 26, 27],\n",
       "       [28, 29, 30, 31]])"
      ]
     },
     "execution_count": 12,
     "metadata": {},
     "output_type": "execute_result"
    }
   ],
   "source": [
    "arr = np.arange(32).reshape((8, 4))\n",
    "arr"
   ]
  },
  {
   "cell_type": "code",
   "execution_count": 13,
   "metadata": {},
   "outputs": [
    {
     "data": {
      "text/plain": [
       "array([ 4, 23, 29, 10])"
      ]
     },
     "execution_count": 13,
     "metadata": {},
     "output_type": "execute_result"
    }
   ],
   "source": [
    "fanc_arr = arr[[1, 5, 7, 2], [0, 3, 1, 2]]\n",
    "fanc_arr"
   ]
  },
  {
   "cell_type": "code",
   "execution_count": 14,
   "metadata": {},
   "outputs": [
    {
     "data": {
      "text/plain": [
       "array([  4, 999,  29,  10])"
      ]
     },
     "execution_count": 14,
     "metadata": {},
     "output_type": "execute_result"
    }
   ],
   "source": [
    "fanc_arr[1] = 999\n",
    "fanc_arr"
   ]
  },
  {
   "cell_type": "code",
   "execution_count": 15,
   "metadata": {},
   "outputs": [
    {
     "data": {
      "text/plain": [
       "array([[ 0,  1,  2,  3],\n",
       "       [ 4,  5,  6,  7],\n",
       "       [ 8,  9, 10, 11],\n",
       "       [12, 13, 14, 15],\n",
       "       [16, 17, 18, 19],\n",
       "       [20, 21, 22, 23],\n",
       "       [24, 25, 26, 27],\n",
       "       [28, 29, 30, 31]])"
      ]
     },
     "execution_count": 15,
     "metadata": {},
     "output_type": "execute_result"
    }
   ],
   "source": [
    "arr"
   ]
  },
  {
   "cell_type": "code",
   "execution_count": 136,
   "metadata": {},
   "outputs": [
    {
     "data": {
      "text/plain": [
       "array([[ 0,  1,  2,  3],\n",
       "       [ 4,  0,  6,  7],\n",
       "       [ 8,  9, 10, 11],\n",
       "       [12, 13, 14, 15],\n",
       "       [16, 17, 18, 19],\n",
       "       [20, 21, 22, 23],\n",
       "       [24, 25, 26, 27],\n",
       "       [28, 29, 30, 31]])"
      ]
     },
     "execution_count": 136,
     "metadata": {},
     "output_type": "execute_result"
    }
   ],
   "source": [
    "slic_arr = arr[:2, :2]\n",
    "slic_arr[1,1] = 0\n",
    "arr"
   ]
  },
  {
   "cell_type": "markdown",
   "metadata": {},
   "source": [
    "왜 이런 일이 발생할까?\n",
    "- ndarray는 연속된 메모리블럭을 가진다.\n",
    "- slicing을 원 arr에 대해 이것이 유지되지만, Fancy indexing은 이것이 유지되지 않는다.\n",
    "- 이 때문에 Fancy indexing에 의한 ndarray를 View로 할 경우 vector 연산에 대해 메모리 블럭 연산이 이뤄지지 않는 문제가 발생하고 이는 ndarray가 될 수 없는 모순이 발생한다."
   ]
  },
  {
   "cell_type": "markdown",
   "metadata": {},
   "source": [
    "#### 일반적인 `-n` 색인의 의미: \n",
    "뒤로부터 n번째 (list에서의 개념과 동일하다.)\n",
    "- arr[-1]: row 색인으로 뒤로부터 첫번째 => arr[7]\n",
    "- arr[-3]: 뒤로부터 세번째(7 -> 6 -> 5)  => arr[5]\n",
    "- arr[-5]: (7, 6, 5, 4, 3) => arr[3]\n",
    "- 따라서 arr[[-3, -5, -7]] = arr[[5, 3, 1]]\n",
    "\n",
    "일반적으로 arr[-n] = arr[arr.shape[0] - n]"
   ]
  },
  {
   "cell_type": "code",
   "execution_count": 121,
   "metadata": {},
   "outputs": [
    {
     "data": {
      "text/plain": [
       "array([[ 5.,  5.,  5.,  5.],\n",
       "       [ 3.,  3.,  3.,  3.],\n",
       "       [ 1.,  1.,  1.,  1.]])"
      ]
     },
     "execution_count": 121,
     "metadata": {},
     "output_type": "execute_result"
    }
   ],
   "source": [
    "arr[[-3, -5, -7]]"
   ]
  },
  {
   "cell_type": "markdown",
   "metadata": {},
   "source": [
    "#### 점 색인의 확장으로서 fancy 색인\n",
    "2차원 배열에 대한 point 색인: [row_index, col_index]\n",
    "\n",
    "2차원 배열에 대한 poins 색인: [[row_indices], [col_indices]]\n",
    "- [row_indices]와 [col_indices]의 길이는 같아야 한다."
   ]
  },
  {
   "cell_type": "code",
   "execution_count": 131,
   "metadata": {},
   "outputs": [
    {
     "data": {
      "text/plain": [
       "array([[ 0,  1,  2,  3],\n",
       "       [ 4,  5,  6,  7],\n",
       "       [ 8,  9, 10, 11],\n",
       "       [12, 13, 14, 15],\n",
       "       [16, 17, 18, 19],\n",
       "       [20, 21, 22, 23],\n",
       "       [24, 25, 26, 27],\n",
       "       [28, 29, 30, 31]])"
      ]
     },
     "execution_count": 131,
     "metadata": {},
     "output_type": "execute_result"
    }
   ],
   "source": [
    "# more on reshape in Chapter 12\n",
    "arr = np.arange(32).reshape((8, 4))\n",
    "arr"
   ]
  },
  {
   "cell_type": "code",
   "execution_count": 123,
   "metadata": {},
   "outputs": [
    {
     "data": {
      "text/plain": [
       "array([ 4, 23, 29, 10])"
      ]
     },
     "execution_count": 123,
     "metadata": {},
     "output_type": "execute_result"
    }
   ],
   "source": [
    "arr[[1, 5, 7, 2], [0, 3, 1, 2]]"
   ]
  },
  {
   "cell_type": "code",
   "execution_count": 124,
   "metadata": {},
   "outputs": [
    {
     "data": {
      "text/plain": [
       "array([[ 4,  7,  5,  6],\n",
       "       [20, 23, 21, 22],\n",
       "       [28, 31, 29, 30],\n",
       "       [ 8, 11,  9, 10]])"
      ]
     },
     "execution_count": 124,
     "metadata": {},
     "output_type": "execute_result"
    }
   ],
   "source": [
    "arr[[1, 5, 7, 2]][:, [0, 3, 1, 2]]"
   ]
  },
  {
   "cell_type": "markdown",
   "metadata": {},
   "source": [
    "### 4.1.8 np.ix_ 속성\n",
    "<font color='red'>np.ix\\_ 속성</font>을 사용하면, index 요소가 1대 1 관계가 아닌, 1 대 N의 cartesian 연결이 발생한다.\n",
    "- 이 속성(멤버변수)은 pandas DataFrame의 ix 속성으로 연결된다."
   ]
  },
  {
   "cell_type": "code",
   "execution_count": 125,
   "metadata": {},
   "outputs": [
    {
     "data": {
      "text/plain": [
       "array([[ 4,  7,  5,  6],\n",
       "       [20, 23, 21, 22],\n",
       "       [28, 31, 29, 30],\n",
       "       [ 8, 11,  9, 10]])"
      ]
     },
     "execution_count": 125,
     "metadata": {},
     "output_type": "execute_result"
    }
   ],
   "source": [
    "arr[np.ix_([1, 5, 7, 2], [0, 3, 1, 2])]"
   ]
  },
  {
   "cell_type": "code",
   "execution_count": 128,
   "metadata": {},
   "outputs": [
    {
     "data": {
      "text/html": [
       "<div>\n",
       "<table border=\"1\" class=\"dataframe\">\n",
       "  <thead>\n",
       "    <tr style=\"text-align: right;\">\n",
       "      <th></th>\n",
       "      <th>0</th>\n",
       "      <th>3</th>\n",
       "      <th>1</th>\n",
       "      <th>2</th>\n",
       "    </tr>\n",
       "  </thead>\n",
       "  <tbody>\n",
       "    <tr>\n",
       "      <th>1</th>\n",
       "      <td>4</td>\n",
       "      <td>7</td>\n",
       "      <td>5</td>\n",
       "      <td>6</td>\n",
       "    </tr>\n",
       "    <tr>\n",
       "      <th>5</th>\n",
       "      <td>20</td>\n",
       "      <td>23</td>\n",
       "      <td>21</td>\n",
       "      <td>22</td>\n",
       "    </tr>\n",
       "    <tr>\n",
       "      <th>7</th>\n",
       "      <td>28</td>\n",
       "      <td>31</td>\n",
       "      <td>29</td>\n",
       "      <td>30</td>\n",
       "    </tr>\n",
       "    <tr>\n",
       "      <th>2</th>\n",
       "      <td>8</td>\n",
       "      <td>11</td>\n",
       "      <td>9</td>\n",
       "      <td>10</td>\n",
       "    </tr>\n",
       "  </tbody>\n",
       "</table>\n",
       "</div>"
      ],
      "text/plain": [
       "    0   3   1   2\n",
       "1   4   7   5   6\n",
       "5  20  23  21  22\n",
       "7  28  31  29  30\n",
       "2   8  11   9  10"
      ]
     },
     "execution_count": 128,
     "metadata": {},
     "output_type": "execute_result"
    }
   ],
   "source": [
    "from pandas import DataFrame\n",
    "DataFrame(arr).ix[[1, 5, 7, 2], [0, 3, 1, 2]]"
   ]
  },
  {
   "cell_type": "markdown",
   "metadata": {},
   "source": [
    "### 4.1.9 Transposing arrays and swapping axes\n",
    "배열 전치는 arr.T 속성으로 arr의 View를 생성하며, arr[i,j] = arr.T[j,i] 관계가 성립한다."
   ]
  },
  {
   "cell_type": "code",
   "execution_count": 137,
   "metadata": {},
   "outputs": [
    {
     "data": {
      "text/plain": [
       "array([[ 0,  1,  2,  3,  4],\n",
       "       [ 5,  6,  7,  8,  9],\n",
       "       [10, 11, 12, 13, 14]])"
      ]
     },
     "execution_count": 137,
     "metadata": {},
     "output_type": "execute_result"
    }
   ],
   "source": [
    "arr = np.arange(15).reshape((3, 5))\n",
    "arr"
   ]
  },
  {
   "cell_type": "code",
   "execution_count": 138,
   "metadata": {},
   "outputs": [
    {
     "data": {
      "text/plain": [
       "array([[ 0,  5, 10],\n",
       "       [ 1,  6, 11],\n",
       "       [ 2,  7, 12],\n",
       "       [ 3,  8, 13],\n",
       "       [ 4,  9, 14]])"
      ]
     },
     "execution_count": 138,
     "metadata": {},
     "output_type": "execute_result"
    }
   ],
   "source": [
    "arr.T"
   ]
  },
  {
   "cell_type": "code",
   "execution_count": 139,
   "metadata": {},
   "outputs": [
    {
     "data": {
      "text/plain": [
       "True"
      ]
     },
     "execution_count": 139,
     "metadata": {},
     "output_type": "execute_result"
    }
   ],
   "source": [
    "arr[2,4] == arr.T[4,2]"
   ]
  },
  {
   "cell_type": "markdown",
   "metadata": {},
   "source": [
    "행렬의 내적($X^T \\dot X$)을 연산할 때 주로 많이 사용한다."
   ]
  },
  {
   "cell_type": "code",
   "execution_count": 140,
   "metadata": {},
   "outputs": [
    {
     "data": {
      "text/plain": [
       "array([[  7.9553,   3.1013,   6.0357],\n",
       "       [  3.1013,  10.6168,   2.3219],\n",
       "       [  6.0357,   2.3219,   8.1447]])"
      ]
     },
     "execution_count": 140,
     "metadata": {},
     "output_type": "execute_result"
    }
   ],
   "source": [
    "arr = np.random.randn(6, 3)\n",
    "np.dot(arr.T, arr)"
   ]
  },
  {
   "cell_type": "markdown",
   "metadata": {},
   "source": [
    "다차원 배열인 경우 T속성 대신에 transpose라는 일반화된 메소드를 사용한다."
   ]
  },
  {
   "cell_type": "markdown",
   "metadata": {},
   "source": [
    "swapaxes 메소드는 2개의 axis 번호를 받아 transpose를 실시한다.\n",
    "- transpose는 axis 번호의 순서로 shape을 변경하지만,\n",
    "- swapaxes는 순서와 상관없는 두개의 axis 쌍으로 transpose를 실시한다.\n",
    "\n",
    "3d array의 transpose를 수식으로 설명하면:\n",
    "- arr[$i_0$, $i_1$, $i_2$] = arr.transpose(a, b, c)[$i_a$, $i_b$, $i_c$]\n",
    "- arr[$i_0$, $i_1$, $i_2$] = arr.transpose(0, 2, 1)[$i_0$, $i_2$, $i_1$]\n",
    "\n",
    "3d array의 swapaxes를 수식으로 설명하면:\n",
    "- arr[$i_0$, $i_1$, $i_2$] = arr.swapaxes(2, 1)[$i_0$, $i_2$, $i_1$]"
   ]
  },
  {
   "cell_type": "code",
   "execution_count": 141,
   "metadata": {},
   "outputs": [
    {
     "data": {
      "text/plain": [
       "array([[[ 0,  1,  2,  3],\n",
       "        [ 4,  5,  6,  7]],\n",
       "\n",
       "       [[ 8,  9, 10, 11],\n",
       "        [12, 13, 14, 15]]])"
      ]
     },
     "execution_count": 141,
     "metadata": {},
     "output_type": "execute_result"
    }
   ],
   "source": [
    "arr = np.arange(16).reshape((2, 2, 4))\n",
    "arr"
   ]
  },
  {
   "cell_type": "code",
   "execution_count": 142,
   "metadata": {},
   "outputs": [
    {
     "data": {
      "text/plain": [
       "array([[[ 0,  1,  2,  3],\n",
       "        [ 8,  9, 10, 11]],\n",
       "\n",
       "       [[ 4,  5,  6,  7],\n",
       "        [12, 13, 14, 15]]])"
      ]
     },
     "execution_count": 142,
     "metadata": {},
     "output_type": "execute_result"
    }
   ],
   "source": [
    "arr.transpose((1, 0, 2))"
   ]
  },
  {
   "cell_type": "markdown",
   "metadata": {},
   "source": [
    "transpose((1, 0, 2)) : axis = 1의 index 순서로 재배열한다.\n",
    "- (0, 0, :)   |  (0, 0, :)  \n",
    "- (0, 1, :)   |  (1, 0, :)\n",
    "- (1, 0, :)   |  (0, 1, :)\n",
    "- (1, 1, :)   |  (1, 1, :)"
   ]
  },
  {
   "cell_type": "code",
   "execution_count": 143,
   "metadata": {},
   "outputs": [
    {
     "data": {
      "text/plain": [
       "array([[[ 0,  4],\n",
       "        [ 1,  5],\n",
       "        [ 2,  6],\n",
       "        [ 3,  7]],\n",
       "\n",
       "       [[ 8, 12],\n",
       "        [ 9, 13],\n",
       "        [10, 14],\n",
       "        [11, 15]]])"
      ]
     },
     "execution_count": 143,
     "metadata": {},
     "output_type": "execute_result"
    }
   ],
   "source": [
    "arr.swapaxes(1, 2)"
   ]
  },
  {
   "cell_type": "code",
   "execution_count": 145,
   "metadata": {},
   "outputs": [
    {
     "data": {
      "text/plain": [
       "array([[[ 0,  4],\n",
       "        [ 1,  5],\n",
       "        [ 2,  6],\n",
       "        [ 3,  7]],\n",
       "\n",
       "       [[ 8, 12],\n",
       "        [ 9, 13],\n",
       "        [10, 14],\n",
       "        [11, 15]]])"
      ]
     },
     "execution_count": 145,
     "metadata": {},
     "output_type": "execute_result"
    }
   ],
   "source": [
    "arr.transpose(0, 2, 1)"
   ]
  },
  {
   "cell_type": "markdown",
   "metadata": {},
   "source": [
    "## 4.2 Universal Functions: Fast element-wise array functions\n",
    "ufunc라고 불리는 유니버설 함수는 ndarray 안에 있는 데이터 원소별로 연산을 수행하는 함수다.\n",
    "\n",
    "단항 유니버셜 함수:\n",
    "<table>\n",
    "  <tr>\n",
    "    <th>함수</th>\n",
    "    <th> 설명 </th>\n",
    "  </tr>\n",
    "  <tr>\n",
    "    <td> abs, fabs</td>\n",
    "    <td> 각 원소의 절대값을 구한다. 복소수가 아닌 경우에는 빠른 연산을 위해 fabs를 사용한다 </td>\n",
    "  </tr>\n",
    "  <tr>\n",
    "    <td> sqrt</td>\n",
    "    <td> 각 원소의 제곱근을 계산한다. arr \\*\\* 0.5 와 동일 </td>\n",
    "  </tr>\n",
    "  <tr>\n",
    "    <td> square</td>\n",
    "    <td> 각 원소의 제곱을 계한한다. arr \\*\\* 2 와 동일 </td>\n",
    "  </tr>\n",
    "  <tr>\n",
    "    <td> Exp</td>\n",
    "    <td> 각 원소에서 지수 e^x를 계산한다 </td>\n",
    "  </tr>\n",
    "  <tr>\n",
    "    <td> Log, log10, log2,  log1p</td>\n",
    "    <td> 각각 자연 로그, 로그 10, 로그2, 로그(1+x) </td>\n",
    "  </tr>\n",
    "  <tr>\n",
    "    <td> sign</td>\n",
    "    <td> 각 원소의 부호를 계한한다. 1(양수), 0, -1(음수) </td>\n",
    "  </tr>\n",
    "  <tr>\n",
    "    <td> ceil</td>\n",
    "    <td> 각 원소의 소수자리를 올린다. 각 원소의 값보다 같거나 큰 정수 중 가장 작은 정수를 반환한다. </td>\n",
    "  </tr>\n",
    "  <tr>\n",
    "    <td> floor</td>\n",
    "    <td> 각 원소의 소수자리를 내린다. 각 원소의 값보다 작거나 같은 정수 중 가장 작은 수를 반환한다. </td>\n",
    "  </tr>\n",
    "  <tr>\n",
    "    <td> rint </td>\n",
    "    <td> 각 원소의 소수자리를 반올림한다. dtype은 유지 </td>\n",
    "  </tr>\n",
    "  <tr>\n",
    "    <td> modf</td>\n",
    "    <td> 각 원소의 몫과 나머지를 각각의 배열로 반환한다. </td>\n",
    "  </tr>\n",
    "  <tr>\n",
    "    <td> isnan</td>\n",
    "    <td> 각각의 원소가 숫자인지 아닌지를(NaN, Not a Number) 나타내는 불리언 배열을 반환한다 </td>\n",
    "  </tr>\n",
    "  <tr>\n",
    "    <td> isfinite, isinf</td>\n",
    "    <td> 배열의 각 원소가 유한한지, 무한한지 나타내는 불리언 배열은 나타낸다. </td>\n",
    "  </tr>\n",
    "  <tr>\n",
    "    <td> cos, cosh, sin, sinh, tan, tanh</td>\n",
    "    <td> 일반 삼각 함수와 쌍곡삼각 함수 </td>\n",
    "  </tr>\n",
    "  <tr>\n",
    "    <td> arccos, arcosh, arcsin, arcsinh arctan, arctanh</td>\n",
    "    <td> 역삼각 함수 </td>\n",
    "  </tr>\n",
    "  <tr>\n",
    "    <td> logical_not</td>\n",
    "    <td> 각 원소의 논리 부정(not) 값을 계산한다. -arr과 동일</td>\n",
    "  </tr>\n",
    "</table>\n",
    "\n",
    "이항 유니버셜 함수:\n",
    "<table>\n",
    "  <tr>\n",
    "    <th>함수</th>\n",
    "    <th> 설명 </th>\n",
    "  </tr>\n",
    "  <tr>\n",
    "    <td> add</td>\n",
    "    <td> 두 배열에서 같은 위치의 원소끼리 더한다 </td>\n",
    "  </tr>\n",
    "  <tr>\n",
    "    <td> subtract</td>\n",
    "    <td> 첫 배열 - 두 배열 원소 빼기 </td>\n",
    "  </tr>\n",
    "  <tr>\n",
    "    <td> multiply</td>\n",
    "    <td> 곱 </td>\n",
    "  </tr>\n",
    "  <tr>\n",
    "    <td> divide, floor_divide</td>\n",
    "    <td> 첫 배열에서 두 번째 배열 원소를 나눔, floor_divide는 몫만 취함 </td>\n",
    "  </tr>\n",
    "  <tr>\n",
    "    <td> power</td>\n",
    "    <td> 첫 번째 배열의 원소에 두 번째 배열의 원소만큼 제곱한다 </td>\n",
    "  </tr>\n",
    "  <tr>\n",
    "    <td> maximum, fmax</td>\n",
    "    <td> 두 원소 중 큰 값을 반환한다. fmax는 NaN을 무시한다. </td>\n",
    "  </tr>\n",
    "  <tr>\n",
    "    <td> minimum, fmin</td>\n",
    "    <td> 각 배열의 두 원소 중 작은 값 반환 </td>\n",
    "  </tr>\n",
    "  <tr>\n",
    "    <td> mod</td>\n",
    "    <td> 첫 번째 배열의 원소에 두 번째 배열 원소를 나눈 나머지 구하기 </td>\n",
    "  </tr>\n",
    "  <tr>\n",
    "    <td> copysign</td>\n",
    "    <td> 첫 번째 배열의 원소의 기호를 두 번째 배열의 원소 기호로 바꿈 </td>\n",
    "  </tr>\n",
    "  <tr>\n",
    "    <td> greater, greater_equal less, less_equal,  equal, not_equal</td>\n",
    "    <td> 각각 두 원소 간의, &gt;, &gt;=, &lt;, &lt;=, ==, != 비교연산 결과를 불리언 배열로 반환한다 </td>\n",
    "  </tr>\n",
    "  <tr>\n",
    "    <td> logical_and, logical_or logical_xor</td>\n",
    "    <td> 각각 두 원소 간의 논리연산 &amp;, |, ^  결과를 반환</td>\n",
    "  </tr>\n",
    "</table>"
   ]
  },
  {
   "cell_type": "markdown",
   "metadata": {},
   "source": [
    "#### 단항 유니버설 함수의 예"
   ]
  },
  {
   "cell_type": "code",
   "execution_count": 146,
   "metadata": {},
   "outputs": [
    {
     "data": {
      "text/plain": [
       "array([ 0.    ,  1.    ,  1.4142,  1.7321,  2.    ,  2.2361,  2.4495,\n",
       "        2.6458,  2.8284,  3.    ])"
      ]
     },
     "execution_count": 146,
     "metadata": {},
     "output_type": "execute_result"
    }
   ],
   "source": [
    "arr = np.arange(10)\n",
    "np.sqrt(arr)"
   ]
  },
  {
   "cell_type": "code",
   "execution_count": 147,
   "metadata": {},
   "outputs": [
    {
     "data": {
      "text/plain": [
       "array([    1.    ,     2.7183,     7.3891,    20.0855,    54.5982,\n",
       "         148.4132,   403.4288,  1096.6332,  2980.958 ,  8103.0839])"
      ]
     },
     "execution_count": 147,
     "metadata": {},
     "output_type": "execute_result"
    }
   ],
   "source": [
    "np.exp(arr)"
   ]
  },
  {
   "cell_type": "markdown",
   "metadata": {},
   "source": [
    "#### 이항 유니버설 함수의 예"
   ]
  },
  {
   "cell_type": "code",
   "execution_count": 148,
   "metadata": {},
   "outputs": [
    {
     "name": "stdout",
     "output_type": "stream",
     "text": [
      "[ 0.378  -0.7539  0.3313  1.3497  0.0699  0.2467 -0.0119  1.0048]\n",
      "[ 1.3272 -0.9193 -1.5491  0.0222  0.7584 -0.6605  0.8626 -0.01  ]\n"
     ]
    },
    {
     "data": {
      "text/plain": [
       "array([ 1.3272, -0.7539,  0.3313,  1.3497,  0.7584,  0.2467,  0.8626,\n",
       "        1.0048])"
      ]
     },
     "execution_count": 148,
     "metadata": {},
     "output_type": "execute_result"
    }
   ],
   "source": [
    "x = randn(8)\n",
    "y = randn(8)\n",
    "print x\n",
    "print y\n",
    "np.maximum(x, y) # element-wise maximum"
   ]
  },
  {
   "cell_type": "markdown",
   "metadata": {},
   "source": [
    "#### 다중 배열을 반환하는 유니버설 함수\n",
    "np.modf(arr)는 파이썬 내장함수인 divmod의 벡터화된 버전으로:\n",
    "- arr의 각 원소를 받아, 각 원소의 정수부 배열(np.trunc(arr)과 동일)과\n",
    "- 각 원소의 소수부 배열(arr - np.trunc(arr) 와 동일)을 리턴한다."
   ]
  },
  {
   "cell_type": "code",
   "execution_count": 150,
   "metadata": {},
   "outputs": [
    {
     "data": {
      "text/plain": [
       "array([-6.0915, -6.663 ,  5.3731,  3.6182,  3.45  ,  5.0077, -2.5154])"
      ]
     },
     "execution_count": 150,
     "metadata": {},
     "output_type": "execute_result"
    }
   ],
   "source": [
    "arr = randn(7) * 5\n",
    "arr"
   ]
  },
  {
   "cell_type": "code",
   "execution_count": 151,
   "metadata": {},
   "outputs": [
    {
     "data": {
      "text/plain": [
       "(array([-0.0915, -0.663 ,  0.3731,  0.6182,  0.45  ,  0.0077, -0.5154]),\n",
       " array([-6., -6.,  5.,  3.,  3.,  5., -2.]))"
      ]
     },
     "execution_count": 151,
     "metadata": {},
     "output_type": "execute_result"
    }
   ],
   "source": [
    "np.modf(arr)"
   ]
  },
  {
   "cell_type": "code",
   "execution_count": 154,
   "metadata": {},
   "outputs": [
    {
     "name": "stdout",
     "output_type": "stream",
     "text": [
      "[-0.0915 -0.663   0.3731  0.6182  0.45    0.0077 -0.5154]\n",
      "[-6. -6.  5.  3.  3.  5. -2.]\n",
      "[-6 -6  5  3  3  5 -2]\n"
     ]
    }
   ],
   "source": [
    "intf = np.trunc(arr)\n",
    "print arr - intf\n",
    "print intf\n",
    "print arr.astype(int)"
   ]
  },
  {
   "cell_type": "markdown",
   "metadata": {},
   "source": [
    "## 4.3 Data processing using arrays\n",
    "numpy를 사용하면 반복문없이 벡터화된 배열연산으로 순수 python 연산에 비해 수십배 이상 빠르게 데이터를 처리할 수 있다.\n",
    "\n",
    "간단한 예로 $\\sqrt{x^2 + y^2}$를 계산하고자 할 때 np.meshgrid를 사용하면:\n",
    "- 동일한 size n의 1d array 두개를 입력받아\n",
    "- 가능한 모든 짝의 (n x n) 2d array를  2개 반환한다."
   ]
  },
  {
   "cell_type": "code",
   "execution_count": 157,
   "metadata": {},
   "outputs": [
    {
     "name": "stdout",
     "output_type": "stream",
     "text": [
      "[-5.   -4.99 -4.98 -4.97 -4.96]\n",
      "[ 4.95  4.96  4.97  4.98  4.99]\n"
     ]
    }
   ],
   "source": [
    "points = np.arange(-5, 5, 0.01) # 1000 equally spaced points\n",
    "print points[:5] # fist 5\n",
    "print points[-5:] # last 5"
   ]
  },
  {
   "cell_type": "code",
   "execution_count": 159,
   "metadata": {},
   "outputs": [
    {
     "data": {
      "text/plain": [
       "array([[-5.  , -4.99, -4.98, ...,  4.97,  4.98,  4.99],\n",
       "       [-5.  , -4.99, -4.98, ...,  4.97,  4.98,  4.99],\n",
       "       [-5.  , -4.99, -4.98, ...,  4.97,  4.98,  4.99],\n",
       "       ..., \n",
       "       [-5.  , -4.99, -4.98, ...,  4.97,  4.98,  4.99],\n",
       "       [-5.  , -4.99, -4.98, ...,  4.97,  4.98,  4.99],\n",
       "       [-5.  , -4.99, -4.98, ...,  4.97,  4.98,  4.99]])"
      ]
     },
     "execution_count": 159,
     "metadata": {},
     "output_type": "execute_result"
    }
   ],
   "source": [
    "xs, ys = np.meshgrid(points, points)\n",
    "xs"
   ]
  },
  {
   "cell_type": "code",
   "execution_count": 158,
   "metadata": {},
   "outputs": [
    {
     "data": {
      "text/plain": [
       "array([[-5.  , -5.  , -5.  , ..., -5.  , -5.  , -5.  ],\n",
       "       [-4.99, -4.99, -4.99, ..., -4.99, -4.99, -4.99],\n",
       "       [-4.98, -4.98, -4.98, ..., -4.98, -4.98, -4.98],\n",
       "       ..., \n",
       "       [ 4.97,  4.97,  4.97, ...,  4.97,  4.97,  4.97],\n",
       "       [ 4.98,  4.98,  4.98, ...,  4.98,  4.98,  4.98],\n",
       "       [ 4.99,  4.99,  4.99, ...,  4.99,  4.99,  4.99]])"
      ]
     },
     "execution_count": 158,
     "metadata": {},
     "output_type": "execute_result"
    }
   ],
   "source": [
    "ys"
   ]
  },
  {
   "cell_type": "code",
   "execution_count": 163,
   "metadata": {},
   "outputs": [
    {
     "data": {
      "text/plain": [
       "array([[ 7.0711,  7.064 ,  7.0569, ...,  7.0499,  7.0569,  7.064 ],\n",
       "       [ 7.064 ,  7.0569,  7.0499, ...,  7.0428,  7.0499,  7.0569],\n",
       "       [ 7.0569,  7.0499,  7.0428, ...,  7.0357,  7.0428,  7.0499],\n",
       "       ..., \n",
       "       [ 7.0499,  7.0428,  7.0357, ...,  7.0286,  7.0357,  7.0428],\n",
       "       [ 7.0569,  7.0499,  7.0428, ...,  7.0357,  7.0428,  7.0499],\n",
       "       [ 7.064 ,  7.0569,  7.0499, ...,  7.0428,  7.0499,  7.0569]])"
      ]
     },
     "execution_count": 163,
     "metadata": {},
     "output_type": "execute_result"
    }
   ],
   "source": [
    "import matplotlib.pyplot as plt\n",
    "z = np.sqrt(xs ** 2 + ys ** 2)\n",
    "z"
   ]
  },
  {
   "cell_type": "code",
   "execution_count": 164,
   "metadata": {},
   "outputs": [
    {
     "data": {
      "image/png": "[encoded data removed]",
      "text/plain": [
       "<matplotlib.figure.Figure at 0x9e3d710>"
      ]
     },
     "metadata": {},
     "output_type": "display_data"
    }
   ],
   "source": [
    "plt.imshow(z, cmap=plt.cm.gray); plt.colorbar()\n",
    "plt.title(\"Image plot of $\\sqrt{x^2 + y^2}$ for a grid of values\")\n",
    "plt.draw()"
   ]
  },
  {
   "cell_type": "markdown",
   "metadata": {},
   "source": [
    "### 4.3.1 Expressing conditional logic as array operations\n",
    "np.where(condition, x, y) 함수는 `x if condition else y`와 같은 3항식의 벡터화된 함수이다."
   ]
  },
  {
   "cell_type": "code",
   "execution_count": 165,
   "metadata": {},
   "outputs": [],
   "source": [
    "xarr = np.array([1.1, 1.2, 1.3, 1.4, 1.5])\n",
    "yarr = np.array([2.1, 2.2, 2.3, 2.4, 2.5])\n",
    "cond = np.array([True, False, True, True, False])"
   ]
  },
  {
   "cell_type": "code",
   "execution_count": 166,
   "metadata": {},
   "outputs": [
    {
     "data": {
      "text/plain": [
       "[1.1000000000000001, 2.2000000000000002, 1.3, 1.3999999999999999, 2.5]"
      ]
     },
     "execution_count": 166,
     "metadata": {},
     "output_type": "execute_result"
    }
   ],
   "source": [
    "result = [(x if c else y)\n",
    "          for x, y, c in zip(xarr, yarr, cond)]\n",
    "result"
   ]
  },
  {
   "cell_type": "markdown",
   "metadata": {},
   "source": [
    "위의 방법은 순수 python의 list comprehension을 이용한 반복문으로 배열의 size가 큰 경우에 매우 느리게 동작할 뿐 더러, 배열의 shape이 달라지면(1d array 이상인 경우) 프로그램을 다시 짜야한다.\n",
    "\n",
    "이에 반해 아래와 같이 추상화된 벡터함수 np.where를 사용하면 array에 대한 메모리 블락에 대해 한번에 연산을 처리하여 수백배 이상 더 빠른 속도를 낼 수 있다."
   ]
  },
  {
   "cell_type": "code",
   "execution_count": 167,
   "metadata": {},
   "outputs": [
    {
     "data": {
      "text/plain": [
       "array([ 1.1,  2.2,  1.3,  1.4,  2.5])"
      ]
     },
     "execution_count": 167,
     "metadata": {},
     "output_type": "execute_result"
    }
   ],
   "source": [
    "result = np.where(cond, xarr, yarr)\n",
    "result"
   ]
  },
  {
   "cell_type": "markdown",
   "metadata": {},
   "source": [
    "위에서 cond, xarr, yarr의 size는 모두 같았다.\n",
    "\n",
    "그러나, 아래와 같이 xarr나 yarr 둘 중 하나, 또는 모두가 scalar 이어도 broadcasting에 의해 모두 연산 처리된다."
   ]
  },
  {
   "cell_type": "code",
   "execution_count": 168,
   "metadata": {},
   "outputs": [
    {
     "data": {
      "text/plain": [
       "array([[-0.6223, -0.9212, -0.7262,  0.2229],\n",
       "       [ 0.0513, -1.1577,  0.8167,  0.4336],\n",
       "       [ 1.0107,  1.8249, -0.9975,  0.8506],\n",
       "       [-0.1316,  0.9124,  0.1882,  2.1695]])"
      ]
     },
     "execution_count": 168,
     "metadata": {},
     "output_type": "execute_result"
    }
   ],
   "source": [
    "arr = randn(4, 4)\n",
    "arr"
   ]
  },
  {
   "cell_type": "code",
   "execution_count": 169,
   "metadata": {},
   "outputs": [
    {
     "data": {
      "text/plain": [
       "array([[-2, -2, -2,  2],\n",
       "       [ 2, -2,  2,  2],\n",
       "       [ 2,  2, -2,  2],\n",
       "       [-2,  2,  2,  2]])"
      ]
     },
     "execution_count": 169,
     "metadata": {},
     "output_type": "execute_result"
    }
   ],
   "source": [
    "np.where(arr > 0, 2, -2)"
   ]
  },
  {
   "cell_type": "code",
   "execution_count": 170,
   "metadata": {},
   "outputs": [
    {
     "data": {
      "text/plain": [
       "array([[-0.6223, -0.9212, -0.7262,  2.    ],\n",
       "       [ 2.    , -1.1577,  2.    ,  2.    ],\n",
       "       [ 2.    ,  2.    , -0.9975,  2.    ],\n",
       "       [-0.1316,  2.    ,  2.    ,  2.    ]])"
      ]
     },
     "execution_count": 170,
     "metadata": {},
     "output_type": "execute_result"
    }
   ],
   "source": [
    "np.where(arr > 0, 2, arr) # set only positive values to 2"
   ]
  },
  {
   "cell_type": "markdown",
   "metadata": {},
   "source": [
    "np.where를 응용하면, 다음과 같이 두가지의 조건의 조합으로 4가지의 다른 배열 연산을 처리할 수도 있다.\n",
    "- 아래 예는 일종의 함수처럼 활용할 수 있다.\n",
    "- n은 cond1과 cond2의 boolean을 원소로 하는 size n의 1d list/ array이다.\n",
    "\n",
    "순수 python으로 구현한 예:"
   ]
  },
  {
   "cell_type": "code",
   "execution_count": 177,
   "metadata": {},
   "outputs": [
    {
     "data": {
      "text/plain": [
       "[0, 1, 2, 3]"
      ]
     },
     "execution_count": 177,
     "metadata": {},
     "output_type": "execute_result"
    }
   ],
   "source": [
    "# original python list implementation example\n",
    "cond1 = [True, True, False, False]; cond2 = [True, False, True, False]\n",
    "\n",
    "result = []\n",
    "for i in range(len(cond1)):\n",
    "    if cond1[i] and cond2[i]:\n",
    "        result.append(0)\n",
    "    elif cond1[i]:\n",
    "        result.append(1)\n",
    "    elif cond2[i]:\n",
    "        result.append(2)\n",
    "    else:\n",
    "        result.append(3)\n",
    "result"
   ]
  },
  {
   "cell_type": "markdown",
   "metadata": {},
   "source": [
    "np.where를 중첩으로 사용하면 위 연산을 :\n",
    "- 훨씬 더 빠른 속도로 동작하면서도 \n",
    "- 더 간결한 코딩으로 구현할 수 있다.\n",
    "\n",
    "numpy array로 구현한 예:"
   ]
  },
  {
   "cell_type": "code",
   "execution_count": 178,
   "metadata": {},
   "outputs": [
    {
     "data": {
      "text/plain": [
       "array([0, 1, 2, 3])"
      ]
     },
     "execution_count": 178,
     "metadata": {},
     "output_type": "execute_result"
    }
   ],
   "source": [
    "cond1 = np.array(cond1); cond2 = np.array(cond2)\n",
    "\n",
    "np.where(cond1 & cond2, 0,\n",
    "         np.where(cond1, 1,\n",
    "                  np.where(cond2, 2, 3)))"
   ]
  },
  {
   "cell_type": "markdown",
   "metadata": {},
   "source": [
    "Boolean type이 산술연산과 만날 때:\n",
    "- True = 1, False= 0으로 형변환 되므로\n",
    "- 아래와 같이 가독성이 떨어지지만, 더 간단한 코딩도 가능하다."
   ]
  },
  {
   "cell_type": "code",
   "execution_count": 183,
   "metadata": {},
   "outputs": [
    {
     "data": {
      "text/plain": [
       "array([0, 1, 2, 0])"
      ]
     },
     "execution_count": 183,
     "metadata": {},
     "output_type": "execute_result"
    }
   ],
   "source": [
    "result = 1 * cond1 + 2 * cond2 - 3 * (cond1 | cond2)\n",
    "result"
   ]
  },
  {
   "cell_type": "code",
   "execution_count": 185,
   "metadata": {},
   "outputs": [
    {
     "data": {
      "text/plain": [
       "array([0, 1, 2, 3])"
      ]
     },
     "execution_count": 185,
     "metadata": {},
     "output_type": "execute_result"
    }
   ],
   "source": [
    "result = 3 - (2*cond1 + cond2)\n",
    "result"
   ]
  },
  {
   "cell_type": "markdown",
   "metadata": {},
   "source": [
    "### 4.3.2 Mathematical and statistical methods\n",
    "ndarray는 전체 또는 특정 축에 대한 기본 통계량을 계산하기 위한 메소드를 제공하고 있다.\n",
    "\n",
    "<table align=\"left\">\n",
    "  <tr>\n",
    "    <th>메소드</th>\n",
    "    <th>설명</th>\n",
    "  </tr>\n",
    "  <tr>\n",
    "    <td>sum(axis, dtype, out, keepdims)</td>\n",
    "    <td>주어진 축에 대한 원소의 합을 계산한다.</td>\n",
    "  </tr>\n",
    "  <tr>\n",
    "    <td>mean(axis, dtype, out, keepdims)</td>\n",
    "    <td>주어진 축에 대한 원소의 평균을 계산한다.</td>\n",
    "  </tr>\n",
    "  <tr>\n",
    "    <td>std/<br>  var(axis, dtype, out, ddof, keepdims)</td>\n",
    "    <td>주어진 축에 대한 원소의 표준편차/분산을 계산한다.</td>\n",
    "  </tr>\n",
    "  <tr>\n",
    "    <td>min/ max(axis, out)</td>\n",
    "    <td>주어진 축에 대한 최소/최대 값을 반환한다.</td>\n",
    "  </tr>\n",
    "  <tr>\n",
    "    <td>argmin/ argmax(axis, out)</td>\n",
    "    <td>주어진 축의 최소/최대 값에 대한 색인을 반환한다.</td>\n",
    "  </tr>\n",
    "  <tr>\n",
    "    <td>cumsum(axis, dtype, out)</td>\n",
    "    <td>주어진 축에 대한 누적합을 반환한다.</td>\n",
    "  </tr>\n",
    "  <tr>\n",
    "    <td>cumprod(axis, dtype, out)</td>\n",
    "    <td>주어진 축에 대한 누적곱을 반환한다.</td>\n",
    "  </tr>\n",
    "</table>"
   ]
  },
  {
   "cell_type": "code",
   "execution_count": 189,
   "metadata": {},
   "outputs": [
    {
     "name": "stdout",
     "output_type": "stream",
     "text": [
      "[[ 0  1  2  3]\n",
      " [ 4  5  6  7]\n",
      " [ 8  9 10 11]\n",
      " [12 13 14 15]\n",
      " [16 17 18 19]]\n",
      "9.5\n",
      "9.5\n",
      "190\n"
     ]
    }
   ],
   "source": [
    "# arr = np.random.randn(5,4) # normally-distribued data\n",
    "arr = np.arange(20).reshape((5,4))\n",
    "print arr\n",
    "print arr.mean()\n",
    "print np.mean(arr)\n",
    "print arr.sum()"
   ]
  },
  {
   "cell_type": "markdown",
   "metadata": {},
   "source": [
    "mean(axis=n), sum(axis=n) 메소드는 한 차원 낮은 ndarray를 반환한다"
   ]
  },
  {
   "cell_type": "code",
   "execution_count": 190,
   "metadata": {},
   "outputs": [
    {
     "name": "stdout",
     "output_type": "stream",
     "text": [
      "[  1.5   5.5   9.5  13.5  17.5]\n",
      "[40 45 50 55]\n"
     ]
    }
   ],
   "source": [
    "print arr.mean(axis=1)\n",
    "print arr.sum(0)"
   ]
  },
  {
   "cell_type": "markdown",
   "metadata": {},
   "source": [
    "cumsum(axis=n), cumprod(axis=n) 메소드는 동일한 차원의 연산 중간과정 값을 반환한다."
   ]
  },
  {
   "cell_type": "code",
   "execution_count": 191,
   "metadata": {},
   "outputs": [
    {
     "name": "stdout",
     "output_type": "stream",
     "text": [
      "[[ 0  1  2]\n",
      " [ 3  5  7]\n",
      " [ 9 12 15]]\n",
      "[[  0   0   0]\n",
      " [  3  12  60]\n",
      " [  6  42 336]]\n"
     ]
    }
   ],
   "source": [
    "arr = np.array([[0, 1, 2], [3, 4, 5], [6, 7, 8]])\n",
    "print arr.cumsum(0)\n",
    "print arr.cumprod(1)"
   ]
  },
  {
   "cell_type": "markdown",
   "metadata": {},
   "source": [
    "### 4.3.3 Methods for boolean arrays\n",
    "boolean의 각 원소의 True는 1로 False는 0으로 산술 연산 처리됨을 확인했다."
   ]
  },
  {
   "cell_type": "code",
   "execution_count": 192,
   "metadata": {},
   "outputs": [
    {
     "data": {
      "text/plain": [
       "42"
      ]
     },
     "execution_count": 192,
     "metadata": {},
     "output_type": "execute_result"
    }
   ],
   "source": [
    "arr = randn(100)\n",
    "(arr > 0).sum() # Number of positive values"
   ]
  },
  {
   "cell_type": "markdown",
   "metadata": {},
   "source": [
    "boolean ndarray를 위한 all, any 메소드가 있는 데 이는 특정 축의 각 원소에 대한 `&`, `|` 연산의 집계함수로 이해할 수 있다.\n",
    "- all(axis, out, keepdims): Returns True if all elements evaluate to True.\n",
    "- any(axis, out, keepdims): Returns True if any of the elements of a evaluate to True."
   ]
  },
  {
   "cell_type": "code",
   "execution_count": 193,
   "metadata": {},
   "outputs": [
    {
     "data": {
      "text/plain": [
       "False"
      ]
     },
     "execution_count": 193,
     "metadata": {},
     "output_type": "execute_result"
    }
   ],
   "source": [
    "bools = np.array([False, False, True, False])\n",
    "bools.any()\n",
    "bools.all()"
   ]
  },
  {
   "cell_type": "markdown",
   "metadata": {},
   "source": [
    "### 4.3.4 Sorting\n",
    "python의 내장 list처럼 ndarray도 sort 메소드로 객체 자체를 정렬할 수 있다.\n",
    "- sort(axis=-1, kind='quicksort', order=None): Sort an array, in-place.\n",
    "- argsort(axis=-1, kind='quicksort', order=None): Returns the indices that would sort this array."
   ]
  },
  {
   "cell_type": "code",
   "execution_count": 216,
   "metadata": {},
   "outputs": [
    {
     "data": {
      "text/plain": [
       "array([ 1.3941, -1.0767, -0.1925, -0.8712,  0.4209, -1.2114, -0.2589,\n",
       "       -0.5816])"
      ]
     },
     "execution_count": 216,
     "metadata": {},
     "output_type": "execute_result"
    }
   ],
   "source": [
    "arr = randn(8); slic_arr = arr[:2]\n",
    "arr"
   ]
  },
  {
   "cell_type": "code",
   "execution_count": 217,
   "metadata": {},
   "outputs": [
    {
     "data": {
      "text/plain": [
       "array([-1.2114, -1.0767, -0.8712, -0.5816, -0.2589, -0.1925,  0.4209,\n",
       "        1.3941])"
      ]
     },
     "execution_count": 217,
     "metadata": {},
     "output_type": "execute_result"
    }
   ],
   "source": [
    "arr.sort()\n",
    "arr"
   ]
  },
  {
   "cell_type": "code",
   "execution_count": 218,
   "metadata": {},
   "outputs": [
    {
     "data": {
      "text/plain": [
       "array([-1.2114, -1.0767])"
      ]
     },
     "execution_count": 218,
     "metadata": {},
     "output_type": "execute_result"
    }
   ],
   "source": [
    "slic_arr"
   ]
  },
  {
   "cell_type": "markdown",
   "metadata": {},
   "source": [
    "위에서 본 바와 같이 <u>sort 메소드는 ndarray 객체 자체를 변환시킨다.</u>\n",
    "- 이때 새로운 객체를 생성하며, referencing을 달리 하는 것이 아니라\n",
    "- arr 객체 메모리 블럭에 있는 값을 직접적으로 바꾼다.\n",
    "- 아래서 slice View인 slic_arr의 값도 같이 바뀌는 결과가 나타난다.\n",
    "\n",
    "---\n",
    "2차원 이상의 array에서 축을 지정한 sort\n",
    "- axis 속성의 default 값이 -1은 마지막 축을 지정한다.\n",
    "- axis는 크기 비교가 되는 인접 axis의 방향. 또는 순서에 의해 변화될 색인의 축이다."
   ]
  },
  {
   "cell_type": "code",
   "execution_count": 7,
   "metadata": {},
   "outputs": [
    {
     "data": {
      "text/plain": [
       "array([[ 2.10248436, -0.973797  ,  1.4915567 ],\n",
       "       [ 0.5273268 , -0.16243229,  0.233995  ],\n",
       "       [-1.28526226,  1.44887853,  0.08800686],\n",
       "       [-0.80271681,  1.38080741, -1.83519175],\n",
       "       [ 0.12304301, -1.07278747, -0.26115905]])"
      ]
     },
     "execution_count": 7,
     "metadata": {},
     "output_type": "execute_result"
    }
   ],
   "source": [
    "arr = randn(5, 3)\n",
    "arr"
   ]
  },
  {
   "cell_type": "code",
   "execution_count": 8,
   "metadata": {},
   "outputs": [
    {
     "data": {
      "text/plain": [
       "array([[-0.973797  ,  1.4915567 ,  2.10248436],\n",
       "       [-0.16243229,  0.233995  ,  0.5273268 ],\n",
       "       [-1.28526226,  0.08800686,  1.44887853],\n",
       "       [-1.83519175, -0.80271681,  1.38080741],\n",
       "       [-1.07278747, -0.26115905,  0.12304301]])"
      ]
     },
     "execution_count": 8,
     "metadata": {},
     "output_type": "execute_result"
    }
   ],
   "source": [
    "arr.sort()#각 행내에서 각 열값을 비교하여 순서 바꿔줌\n",
    "arr"
   ]
  },
  {
   "cell_type": "code",
   "execution_count": 13,
   "metadata": {},
   "outputs": [
    {
     "data": {
      "text/plain": [
       "array([[-0.16243229,  1.4915567 ,  2.10248436],\n",
       "       [-0.973797  ,  0.233995  ,  1.44887853],\n",
       "       [-1.07278747,  0.08800686,  1.38080741],\n",
       "       [-1.28526226, -0.26115905,  0.5273268 ],\n",
       "       [-1.83519175, -0.80271681,  0.12304301]])"
      ]
     },
     "execution_count": 13,
     "metadata": {},
     "output_type": "execute_result"
    }
   ],
   "source": [
    "arr.sort(1)#열기준으로 정렬/오름차순\n",
    "arr\n",
    "arr[::-1]# 내림차순!"
   ]
  },
  {
   "cell_type": "code",
   "execution_count": 10,
   "metadata": {},
   "outputs": [
    {
     "data": {
      "text/plain": [
       "array([[-1.83519175, -0.80271681,  0.12304301],\n",
       "       [-1.28526226, -0.26115905,  0.5273268 ],\n",
       "       [-1.07278747,  0.08800686,  1.38080741],\n",
       "       [-0.973797  ,  0.233995  ,  1.44887853],\n",
       "       [-0.16243229,  1.4915567 ,  2.10248436]])"
      ]
     },
     "execution_count": 10,
     "metadata": {},
     "output_type": "execute_result"
    }
   ],
   "source": [
    "arr.sort(0)#행기준으로 정렬/오름차순\n",
    "arr"
   ]
  },
  {
   "cell_type": "markdown",
   "metadata": {},
   "source": [
    "아래는 sort 메소드를 활용하여 분위수를 구하는 예인데:\n",
    "1. arr를 먼저 정렬한다.\n",
    "2. 분위수에 해당하는 특정 위치에 직접 접근한다."
   ]
  },
  {
   "cell_type": "code",
   "execution_count": 28,
   "metadata": {},
   "outputs": [
    {
     "data": {
      "text/plain": [
       "-1.6108875260546733"
      ]
     },
     "execution_count": 28,
     "metadata": {},
     "output_type": "execute_result"
    }
   ],
   "source": [
    "large_arr = randn(1000)\n",
    "large_arr.sort()\n",
    "large_arr[int(0.05 * len(large_arr))] # 5% quantile"
   ]
  },
  {
   "cell_type": "markdown",
   "metadata": {},
   "source": [
    "#### argsort\n",
    "이번에는 정렬된 index를 반환하는 argsort 메소드를 보자."
   ]
  },
  {
   "cell_type": "code",
   "execution_count": 29,
   "metadata": {},
   "outputs": [
    {
     "data": {
      "text/plain": [
       "array([[1, 6, 2],\n",
       "       [5, 0, 1],\n",
       "       [4, 3, 7]])"
      ]
     },
     "execution_count": 29,
     "metadata": {},
     "output_type": "execute_result"
    }
   ],
   "source": [
    "arr = np.array([[1,6,2],\n",
    "              [5,0,1],\n",
    "              [4,3,7]])\n",
    "arr"
   ]
  },
  {
   "cell_type": "code",
   "execution_count": 34,
   "metadata": {},
   "outputs": [
    {
     "data": {
      "text/plain": [
       "array([[1, 2, 6],\n",
       "       [0, 1, 5],\n",
       "       [3, 4, 7]])"
      ]
     },
     "execution_count": 34,
     "metadata": {},
     "output_type": "execute_result"
    }
   ],
   "source": [
    "np.sort(arr)"
   ]
  },
  {
   "cell_type": "markdown",
   "metadata": {},
   "source": [
    "아래와 같이, axis index에 따라 정렬한 후 순서에 대한 색인을 값으로 같는다."
   ]
  },
  {
   "cell_type": "code",
   "execution_count": 207,
   "metadata": {},
   "outputs": [
    {
     "data": {
      "text/plain": [
       "array([[0, 2, 1],\n",
       "       [1, 2, 0],\n",
       "       [1, 0, 2]], dtype=int64)"
      ]
     },
     "execution_count": 207,
     "metadata": {},
     "output_type": "execute_result"
    }
   ],
   "source": [
    "sort1i = arr.argsort(axis=1)#열마다 번호를 지정하여 정렬.\n",
    "sort1i"
   ]
  },
  {
   "cell_type": "code",
   "execution_count": 209,
   "metadata": {},
   "outputs": [
    {
     "data": {
      "text/plain": [
       "array([1, 2, 6])"
      ]
     },
     "execution_count": 209,
     "metadata": {},
     "output_type": "execute_result"
    }
   ],
   "source": [
    "arr[0][sort1i[0]]# 정렬한 열번호대로 실제 값의 위치를 지정시키는것"
   ]
  },
  {
   "cell_type": "code",
   "execution_count": 206,
   "metadata": {},
   "outputs": [
    {
     "data": {
      "text/plain": [
       "array([[0, 1, 1],\n",
       "       [2, 2, 0],\n",
       "       [1, 0, 2]], dtype=int64)"
      ]
     },
     "execution_count": 206,
     "metadata": {},
     "output_type": "execute_result"
    }
   ],
   "source": [
    "arr.argsort(axis=0)"
   ]
  },
  {
   "cell_type": "markdown",
   "metadata": {},
   "source": [
    "참고로 numpy.sort(arr, axis=-1, kind='quicksort', order=None) 함수는 \n",
    "- arr 자체를 변환시키지 않고, \n",
    "- 정렬된 arr의 copy를 반환한다.\n",
    "\n",
    "반면 arr 자체를 반환시키지 않는 argsort메소드와 np.argsort 함수는 동일하다.\n",
    "\n",
    "---\n",
    "order 옵션은 field name 또는 colname이 주어진 경우 활용하는 데:\n",
    "- numpy에서 다루기 보다는 pandas나 scikit-learn에서 다루는 것이 적절하다.\n",
    "- 보통 dtype과 함께 사용하며, 여기서 간단히 소개하면,\n",
    "- 지정된 field를 기준으로 정렬을 실시한다."
   ]
  },
  {
   "cell_type": "code",
   "execution_count": 35,
   "metadata": {},
   "outputs": [
    {
     "data": {
      "text/plain": [
       "array([(b'Arthur', 1.8, 41), (b'Lancelot', 1.9, 38),\n",
       "       (b'Galahad', 1.7, 38)],\n",
       "      dtype=[('name', 'S10'), ('height', '<f8'), ('age', '<i4')])"
      ]
     },
     "execution_count": 35,
     "metadata": {},
     "output_type": "execute_result"
    }
   ],
   "source": [
    "dtype = [('name', 'S10'), ('height', float), ('age', int)]\n",
    "values = [('Arthur', 1.8, 41), ('Lancelot', 1.9, 38),\n",
    "          ('Galahad', 1.7, 38)]\n",
    "a = np.array(values, dtype=dtype)\n",
    "a"
   ]
  },
  {
   "cell_type": "code",
   "execution_count": 36,
   "metadata": {},
   "outputs": [
    {
     "data": {
      "text/plain": [
       "array([(b'Galahad', 1.7, 38), (b'Arthur', 1.8, 41),\n",
       "       (b'Lancelot', 1.9, 38)],\n",
       "      dtype=[('name', 'S10'), ('height', '<f8'), ('age', '<i4')])"
      ]
     },
     "execution_count": 36,
     "metadata": {},
     "output_type": "execute_result"
    }
   ],
   "source": [
    "np.sort(a, order='height')"
   ]
  },
  {
   "cell_type": "code",
   "execution_count": 11,
   "metadata": {},
   "outputs": [
    {
     "data": {
      "text/plain": [
       "(3,)"
      ]
     },
     "execution_count": 11,
     "metadata": {},
     "output_type": "execute_result"
    }
   ],
   "source": [
    "a.shape"
   ]
  },
  {
   "cell_type": "code",
   "execution_count": 12,
   "metadata": {},
   "outputs": [
    {
     "data": {
      "text/plain": [
       "dtype([('name', 'S10'), ('height', '<f8'), ('age', '<i4')])"
      ]
     },
     "execution_count": 12,
     "metadata": {},
     "output_type": "execute_result"
    }
   ],
   "source": [
    "a.dtype"
   ]
  },
  {
   "cell_type": "code",
   "execution_count": 14,
   "metadata": {},
   "outputs": [
    {
     "data": {
      "text/plain": [
       "<memory at 0x000001F4B74C3108>"
      ]
     },
     "execution_count": 14,
     "metadata": {},
     "output_type": "execute_result"
    }
   ],
   "source": [
    "a.data"
   ]
  },
  {
   "cell_type": "markdown",
   "metadata": {},
   "source": [
    "### 4.3.5 Unique and other set logic\n",
    "numpy는 1d array를 위한 몇가지 집합연산을 위한 함수를 제공한다.\n",
    "\n",
    "numpy.unique(arr, return_index=False, return_inverse=False, return_counts=False, axis=None):\n",
    "- 입력 배열에서 유일한 원소를 정렬하여 반환하며, 옵션에 따라 3가지의 배열을 더 반환할 수 있다.\n",
    "- arr: 유일한 원소를 뽑아낼 입력 배열\n",
    "- return_index: 출력 배열을 생산할 수 있는 입력 arr의 index 배열\n",
    "    - 축이 지정되지 않는 경우(None), flattend 1d array를 출력한다.\n",
    "- return_inverse: 입력 arr를 재생산할 수 있는 출력 arr의 index 배열\n",
    "- return_counts: 각 유일 원소의 arr에서의 출현 빈도를 나타내는 배열\n",
    "\n",
    "numpy.intersect1d(ar1, ar2, assume_unique=False):\n",
    "- 두 1d array의 교집합을 리턴\n",
    "- assume_unique: 두 입력 arr가 모두 set이라는 가정. 속도를 증가시킨다.\n",
    "\n",
    "numpy.union1d(ar1, ar2):\n",
    "- 두 입력 1d array의 합집합을 정렬하여 반환\n",
    "\n",
    "numpy.in1d(ar1, ar2, assume_unique=False, invert=False):\n",
    "- ar1원소가 ar2원소를 포함되는 지 여부를 boolean array로 반환. size는 ar1과 동일.\n",
    "- invert: ar2원소가 ar1원소에 포함되는 지 여부를 boolean array로 반환. size는 ar2와 동일.\n",
    "    - numpy.in1d(ar1, ar2, invert=True)는 numpy.in1d(ar2, ar1)과 동일.\n",
    "    \n",
    "numpy.isin(element, test_elements, assume_unique=False, invert=False):\n",
    "- element의 각 원소가 flatten된 test_elements에 포함되는 지 여부를 반환. shape은 elemnet와 동일\n",
    "- in1d의 n 차원으로 확장한 함수\n",
    "\n",
    "numpy.setdiff1d(ar1, ar2, assume_unique=False);\n",
    "- ar1 - ar2의 차집합을 정렬하여 반환한다.\n",
    "\n",
    "numpy.setxor1d(ar1, ar2, assume_unique=False):\n",
    "- 두 배열의 합집합에서 교집합을 뺀 배열을 정렬하여 반환"
   ]
  },
  {
   "cell_type": "code",
   "execution_count": 48,
   "metadata": {},
   "outputs": [
    {
     "name": "stdout",
     "output_type": "stream",
     "text": [
      "['Bob' 'Joe' 'Will']\n",
      "[0 1 2]\n"
     ]
    }
   ],
   "source": [
    "names = np.array(['Bob', 'Joe', 'Will', 'Bob', 'Will', 'Joe', 'Joe'])\n",
    "uniq,uniq_idx = np.unique(names, return_index=True)#index 값 추출\n",
    "print(uniq)\n",
    "print(uniq_idx)"
   ]
  },
  {
   "cell_type": "code",
   "execution_count": 47,
   "metadata": {},
   "outputs": [
    {
     "name": "stdout",
     "output_type": "stream",
     "text": [
      "['Bob' 'Joe' 'Will']\n",
      "[2 3 2]\n"
     ]
    }
   ],
   "source": [
    "uniq,freq = np.unique(names, return_counts=True)#각 항목별 count 값\n",
    "print(uniq)\n",
    "print(freq)"
   ]
  },
  {
   "cell_type": "code",
   "execution_count": 49,
   "metadata": {},
   "outputs": [
    {
     "data": {
      "text/plain": [
       "array([1, 2, 3, 4])"
      ]
     },
     "execution_count": 49,
     "metadata": {},
     "output_type": "execute_result"
    }
   ],
   "source": [
    "ints = np.array([3, 3, 3, 2, 2, 1, 1, 4, 4])\n",
    "np.unique(ints)"
   ]
  },
  {
   "cell_type": "code",
   "execution_count": 43,
   "metadata": {},
   "outputs": [
    {
     "data": {
      "text/plain": [
       "['Bob', 'Joe', 'Will']"
      ]
     },
     "execution_count": 43,
     "metadata": {},
     "output_type": "execute_result"
    }
   ],
   "source": [
    "sorted(set(names))# 결과값이 list 형식으로! numpyarry가 아님!"
   ]
  },
  {
   "cell_type": "code",
   "execution_count": 50,
   "metadata": {},
   "outputs": [
    {
     "data": {
      "text/plain": [
       "array([ True, False, False,  True,  True, False,  True])"
      ]
     },
     "execution_count": 50,
     "metadata": {},
     "output_type": "execute_result"
    }
   ],
   "source": [
    "values = np.array([6, 0, 0, 3, 2, 5, 6])\n",
    "np.in1d(values, [2, 3, 6])"
   ]
  },
  {
   "cell_type": "code",
   "execution_count": 51,
   "metadata": {},
   "outputs": [
    {
     "data": {
      "text/plain": [
       "array([2, 3])"
      ]
     },
     "execution_count": 51,
     "metadata": {},
     "output_type": "execute_result"
    }
   ],
   "source": [
    "np.intersect1d(ints, values, assume_unique=False)# ints , values 교집합"
   ]
  },
  {
   "cell_type": "code",
   "execution_count": 53,
   "metadata": {},
   "outputs": [
    {
     "data": {
      "text/plain": [
       "array([0, 1, 2, 3, 4, 5, 6])"
      ]
     },
     "execution_count": 53,
     "metadata": {},
     "output_type": "execute_result"
    }
   ],
   "source": [
    "np.union1d(ints, values)# ints + values 겹치는 값 제외 후 정렬"
   ]
  },
  {
   "cell_type": "code",
   "execution_count": 54,
   "metadata": {},
   "outputs": [
    {
     "data": {
      "text/plain": [
       "array([ True,  True,  True,  True,  True, False, False, False, False])"
      ]
     },
     "execution_count": 54,
     "metadata": {},
     "output_type": "execute_result"
    }
   ],
   "source": [
    "np.in1d(ints, values, assume_unique=False, invert=False)"
   ]
  },
  {
   "cell_type": "code",
   "execution_count": 55,
   "metadata": {},
   "outputs": [
    {
     "data": {
      "text/plain": [
       "array([False, False, False,  True,  True, False, False])"
      ]
     },
     "execution_count": 55,
     "metadata": {},
     "output_type": "execute_result"
    }
   ],
   "source": [
    "np.in1d(values, ints, assume_unique=False, invert=False)"
   ]
  },
  {
   "cell_type": "code",
   "execution_count": 56,
   "metadata": {},
   "outputs": [
    {
     "data": {
      "text/plain": [
       "array([ True,  True,  True,  True,  True, False, False, False, False])"
      ]
     },
     "execution_count": 56,
     "metadata": {},
     "output_type": "execute_result"
    }
   ],
   "source": [
    "np.isin(ints, values, assume_unique=False, invert=False)# ints 값 중 values값과 같은지 여부반환"
   ]
  },
  {
   "cell_type": "code",
   "execution_count": 57,
   "metadata": {},
   "outputs": [
    {
     "data": {
      "text/plain": [
       "array([False, False, False,  True,  True, False, False])"
      ]
     },
     "execution_count": 57,
     "metadata": {},
     "output_type": "execute_result"
    }
   ],
   "source": [
    "np.isin(values, ints, assume_unique=False, invert=False)# values 값 중 ints값과 같은지 여부반환"
   ]
  },
  {
   "cell_type": "code",
   "execution_count": 58,
   "metadata": {},
   "outputs": [
    {
     "data": {
      "text/plain": [
       "array([1, 4])"
      ]
     },
     "execution_count": 58,
     "metadata": {},
     "output_type": "execute_result"
    }
   ],
   "source": [
    "numpy.setdiff1d(ints, values, assume_unique=False)# ints - values"
   ]
  },
  {
   "cell_type": "code",
   "execution_count": 59,
   "metadata": {},
   "outputs": [
    {
     "data": {
      "text/plain": [
       "array([0, 5, 6])"
      ]
     },
     "execution_count": 59,
     "metadata": {},
     "output_type": "execute_result"
    }
   ],
   "source": [
    "numpy.setdiff1d(values, ints, assume_unique=False)# values - ints "
   ]
  },
  {
   "cell_type": "code",
   "execution_count": 60,
   "metadata": {},
   "outputs": [
    {
     "data": {
      "text/plain": [
       "array([0, 1, 4, 5, 6])"
      ]
     },
     "execution_count": 60,
     "metadata": {},
     "output_type": "execute_result"
    }
   ],
   "source": [
    "numpy.setxor1d(ints, values, assume_unique=False)# 합집합 - 교집합"
   ]
  },
  {
   "cell_type": "code",
   "execution_count": 61,
   "metadata": {},
   "outputs": [
    {
     "data": {
      "text/plain": [
       "array([0, 1, 4, 5, 6])"
      ]
     },
     "execution_count": 61,
     "metadata": {},
     "output_type": "execute_result"
    }
   ],
   "source": [
    "numpy.setxor1d(values, ints, assume_unique=False)"
   ]
  },
  {
   "cell_type": "markdown",
   "metadata": {},
   "source": [
    "## 4.4. File input and output with arrays\n",
    "텍스트나 바이너리 데이터를 파일에서 읽거나 쓸 수 있다."
   ]
  },
  {
   "cell_type": "markdown",
   "metadata": {},
   "source": [
    "### 4.4.1 Storing arrays on disk in binary format\n",
    "np.save와 np.load는 압축되지 않는 raw 바이너리 형식으로 .npy 파일에서 ndarray 객체를 저장하거나 읽는다.\n",
    "- 기본적으로 pickle을 사용하며, python 2와 3에서 모두 호환되도록 저장한다.\n",
    "- pickle의 dump와 load를 사용하는 것이 일반적이므로, 굳이 알 필요 없다."
   ]
  },
  {
   "cell_type": "code",
   "execution_count": 62,
   "metadata": {},
   "outputs": [
    {
     "name": "stdout",
     "output_type": "stream",
     "text": [
      "[0 1 2 3 4 5 6 7 8 9]\n"
     ]
    }
   ],
   "source": [
    "arr = np.arange(10)\n",
    "print(arr)\n",
    "np.save('some_array', arr)"
   ]
  },
  {
   "cell_type": "code",
   "execution_count": 63,
   "metadata": {},
   "outputs": [
    {
     "name": "stdout",
     "output_type": "stream",
     "text": [
      " C 드라이브의 볼륨에는 이름이 없습니다.\n",
      " 볼륨 일련 번호: 0A28-4DD8\n",
      "\n",
      " C:\\Users\\정찬오\\TIL\\statistic_basic 디렉터리\n",
      "\n",
      "2020-02-17  오전 11:03    <DIR>          .\n",
      "2020-02-17  오전 11:03    <DIR>          ..\n",
      "2020-02-17  오전 10:42    <DIR>          .ipynb_checkpoints\n",
      "2020-02-15  오후 12:35               300 00_statistic_basic.md\n",
      "2020-02-13  오후 01:52           430,701 4.기술통계상세.pdf\n",
      "2020-02-12  오후 01:40            22,845 goog.npz\n",
      "2020-02-17  오전 10:42           197,107 NumPy_Basic.ipynb\n",
      "2020-02-17  오전 11:03               168 some_array.npy\n",
      "2020-02-13  오후 04:06           147,599 StatisticalPlots.ipynb\n",
      "2020-02-13  오후 01:53         1,342,976 경영통계제3장.ppt\n",
      "2020-02-13  오후 01:53           662,275 경영통계학_4장_.pdf\n",
      "               8개 파일           2,803,971 바이트\n",
      "               3개 디렉터리  48,786,350,080 바이트 남음\n"
     ]
    }
   ],
   "source": [
    "%ls"
   ]
  },
  {
   "cell_type": "code",
   "execution_count": 64,
   "metadata": {},
   "outputs": [
    {
     "data": {
      "text/plain": [
       "array([0, 1, 2, 3, 4, 5, 6, 7, 8, 9])"
      ]
     },
     "execution_count": 64,
     "metadata": {},
     "output_type": "execute_result"
    }
   ],
   "source": [
    "np.load('some_array.npy')"
   ]
  },
  {
   "cell_type": "markdown",
   "metadata": {},
   "source": [
    "np.savez 함수를 사용하면, 여러 ndarray를 압축된 형식으로 저장한다.\n",
    "- 저장하려는 배열은 키워드 인자와 함께 저장하여,\n",
    "- np.load로 불러올 때 사전 형식으로 객체를 호출하 수 잇다."
   ]
  },
  {
   "cell_type": "code",
   "execution_count": 65,
   "metadata": {},
   "outputs": [],
   "source": [
    "np.savez('array_archive.npz', a=arr, b=arr)"
   ]
  },
  {
   "cell_type": "code",
   "execution_count": 66,
   "metadata": {},
   "outputs": [
    {
     "data": {
      "text/plain": [
       "array([0, 1, 2, 3, 4, 5, 6, 7, 8, 9])"
      ]
     },
     "execution_count": 66,
     "metadata": {},
     "output_type": "execute_result"
    }
   ],
   "source": [
    "arch = np.load('array_archive.npz')\n",
    "arch['b']"
   ]
  },
  {
   "cell_type": "code",
   "execution_count": 67,
   "metadata": {
    "scrolled": true
   },
   "outputs": [],
   "source": [
    "# !rm some_array.npy\n",
    "# !rm array_archive.npz\n",
    "del arch\n",
    "!del some_array.npy\n",
    "!del array_archive.npz"
   ]
  },
  {
   "cell_type": "markdown",
   "metadata": {},
   "source": [
    "### 4.4.2 Saving and loading text files\n",
    "보통은 pandas의 read_csv 또는 read_table로 텍스트 파일을 읽어 오겠지만, np.loadtxt나 np.getfromtxt를 이용할 경우도 있다.\n",
    "\n",
    "np.loadtxt는 구분자 지정, 특정 컬럼 변환함수 지정, row skip 등의 기능을 제공한다."
   ]
  },
  {
   "cell_type": "code",
   "execution_count": 236,
   "metadata": {},
   "outputs": [
    {
     "name": "stdout",
     "output_type": "stream",
     "text": [
      "0.580052,0.186730,1.040717,1.134411\n",
      "0.194163,-0.636917,-0.938659,0.124094\n",
      "-0.126410,0.268607,-0.695724,0.047428\n",
      "-1.484413,0.004176,-0.744203,0.005487\n",
      "2.302869,0.200131,1.670238,-1.881090\n",
      "-0.193230,1.047233,0.482803,0.960334\n"
     ]
    }
   ],
   "source": [
    "!type ..\\examples\\array_ex.txt"
   ]
  },
  {
   "cell_type": "code",
   "execution_count": 237,
   "metadata": {},
   "outputs": [
    {
     "data": {
      "text/plain": [
       "array([[ 0.5801,  0.1867,  1.0407,  1.1344],\n",
       "       [ 0.1942, -0.6369, -0.9387,  0.1241],\n",
       "       [-0.1264,  0.2686, -0.6957,  0.0474],\n",
       "       [-1.4844,  0.0042, -0.7442,  0.0055],\n",
       "       [ 2.3029,  0.2001,  1.6702, -1.8811],\n",
       "       [-0.1932,  1.0472,  0.4828,  0.9603]])"
      ]
     },
     "execution_count": 237,
     "metadata": {},
     "output_type": "execute_result"
    }
   ],
   "source": [
    "arr = np.loadtxt('../examples/array_ex.txt', delimiter=',')\n",
    "arr"
   ]
  },
  {
   "cell_type": "markdown",
   "metadata": {},
   "source": [
    "np.savetxt는 배열을 텍스트 파일로 저장한다.\n",
    "\n",
    "getfromtxt는 loadtxt와 유사하지만, 구조화된 배열과 누락된 데이터 처리를 위해 설계되었다."
   ]
  },
  {
   "cell_type": "markdown",
   "metadata": {},
   "source": [
    "## 4.5 Linear algebra\n",
    "numpy는 다양한 행렬 연산을 지원하고 있어, 대학 선형대수를 위한 python 교재도 있다.\n",
    "- 기계학습/ deep learning을 위한 새로운 알로리즘 개발을 위해서는 중요한 내용이다.\n",
    "\n",
    "<table align=\"left\">\n",
    "  <tr>\n",
    "    <th>numpy 함수</th>\n",
    "    <th>설명</th>\n",
    "  </tr>\n",
    "  <tr>\n",
    "    <td>diag(a)</td>\n",
    "    <td>정방행렬의 대각요소를 반환하거나, 1d 행렬을 대각화 변환</td>\n",
    "  </tr>\n",
    "  <tr>\n",
    "    <td>dot(a)</td>\n",
    "    <td>행렬 곱 계산</td>\n",
    "  </tr>\n",
    "  <tr>\n",
    "    <td>trace(a)</td>\n",
    "    <td>행렬 trace(대각요소의 합)을 계산</td>\n",
    "  </tr>\n",
    "  <tr>\n",
    "    <td>linalg.det(a)</td>\n",
    "    <td>a의 determinet 계산</td>\n",
    "  </tr>\n",
    "  <tr>\n",
    "    <td>linalg.eig(a)</td>\n",
    "    <td>정방행렬 a에 대한 고유치와 고유벡터를 계산</td>\n",
    "  </tr>\n",
    "  <tr>\n",
    "    <td>linalg.inv(a)</td>\n",
    "    <td>a의 역행렬 계산</td>\n",
    "  </tr>\n",
    "  <tr>\n",
    "    <td>linalg.qr(a)</td>\n",
    "    <td>qr 분해를 계산</td>\n",
    "  </tr>\n",
    "  <tr>\n",
    "    <td>linalg.svd(a)</td>\n",
    "    <td>Singular Value Decomposition</td>\n",
    "  </tr>\n",
    "  <tr>\n",
    "    <td>linalg.solve(a, b)</td>\n",
    "    <td>ax = b의 행렬방적의 해</td>\n",
    "  </tr>\n",
    "  <tr>\n",
    "    <td>linalg.lstsq(X, y)</td>\n",
    "    <td>y = wx를 만족하는 최소제곱 해(w)를 구한다.</td>\n",
    "  </tr>\n",
    "</table>"
   ]
  },
  {
   "cell_type": "code",
   "execution_count": 69,
   "metadata": {},
   "outputs": [
    {
     "name": "stdout",
     "output_type": "stream",
     "text": [
      "[[1. 2. 3.]\n",
      " [4. 5. 6.]]\n",
      "[[ 6. 23.]\n",
      " [-1.  7.]\n",
      " [ 8.  9.]]\n"
     ]
    },
    {
     "data": {
      "text/plain": [
       "array([[ 28.,  64.],\n",
       "       [ 67., 181.]])"
      ]
     },
     "execution_count": 69,
     "metadata": {},
     "output_type": "execute_result"
    }
   ],
   "source": [
    "x = np.array([[1., 2., 3.], [4., 5., 6.]])\n",
    "y = np.array([[6., 23.], [-1, 7], [8, 9]])\n",
    "print(x)\n",
    "print(y)\n",
    "x.dot(y)  # equivalently np.dot(x, y)"
   ]
  },
  {
   "cell_type": "code",
   "execution_count": 71,
   "metadata": {},
   "outputs": [
    {
     "data": {
      "text/plain": [
       "array([1., 1., 1.])"
      ]
     },
     "execution_count": 71,
     "metadata": {},
     "output_type": "execute_result"
    }
   ],
   "source": [
    "np.ones(3)"
   ]
  },
  {
   "cell_type": "code",
   "execution_count": 70,
   "metadata": {},
   "outputs": [
    {
     "data": {
      "text/plain": [
       "array([ 6., 15.])"
      ]
     },
     "execution_count": 70,
     "metadata": {},
     "output_type": "execute_result"
    }
   ],
   "source": [
    "np.dot(x, np.ones(3))"
   ]
  },
  {
   "cell_type": "code",
   "execution_count": 73,
   "metadata": {},
   "outputs": [
    {
     "name": "stdout",
     "output_type": "stream",
     "text": [
      "you should match the shapes of two matrix\n"
     ]
    }
   ],
   "source": [
    "try: np.dot(x, y.T)\n",
    "except ValueError: print (\"you should match the shapes of two matrix\")"
   ]
  },
  {
   "cell_type": "markdown",
   "metadata": {},
   "source": [
    "numpy.linalg에는 행력의 분할과 역행렬, 행렬식 같은 것을 포함한다."
   ]
  },
  {
   "cell_type": "code",
   "execution_count": 242,
   "metadata": {},
   "outputs": [],
   "source": [
    "np.random.seed(12345)"
   ]
  },
  {
   "cell_type": "code",
   "execution_count": 243,
   "metadata": {},
   "outputs": [
    {
     "data": {
      "text/plain": [
       "array([[  4.075 ,  -3.3059,  -1.3073,   3.4466,   2.6197],\n",
       "       [ -3.3059,   6.1523,   1.7149,  -4.3193,  -0.0938],\n",
       "       [ -1.3073,   1.7149,  11.1187,  -3.3702,  -2.0097],\n",
       "       [  3.4466,  -4.3193,  -3.3702,   4.7812,   0.0331],\n",
       "       [  2.6197,  -0.0938,  -2.0097,   0.0331,   7.7736]])"
      ]
     },
     "execution_count": 243,
     "metadata": {},
     "output_type": "execute_result"
    }
   ],
   "source": [
    "from numpy.linalg import inv, qr\n",
    "X = randn(5, 5)\n",
    "mat = X.T.dot(X)\n",
    "mat"
   ]
  },
  {
   "cell_type": "code",
   "execution_count": 244,
   "metadata": {},
   "outputs": [
    {
     "data": {
      "text/plain": [
       "array([[ 3.0361, -0.1808, -0.6878, -2.8285, -1.1911],\n",
       "       [-0.1808,  0.5035,  0.1215,  0.6702,  0.0956],\n",
       "       [-0.6878,  0.1215,  0.2904,  0.8081,  0.3049],\n",
       "       [-2.8285,  0.6702,  0.8081,  3.4152,  1.1557],\n",
       "       [-1.1911,  0.0956,  0.3049,  1.1557,  0.6051]])"
      ]
     },
     "execution_count": 244,
     "metadata": {},
     "output_type": "execute_result"
    }
   ],
   "source": [
    "inv(mat)"
   ]
  },
  {
   "cell_type": "code",
   "execution_count": 245,
   "metadata": {},
   "outputs": [
    {
     "data": {
      "text/plain": [
       "array([[ 1.,  0., -0.,  0.,  0.],\n",
       "       [-0.,  1.,  0.,  0., -0.],\n",
       "       [-0.,  0.,  1.,  0.,  0.],\n",
       "       [-0., -0., -0.,  1.,  0.],\n",
       "       [-0.,  0., -0., -0.,  1.]])"
      ]
     },
     "execution_count": 245,
     "metadata": {},
     "output_type": "execute_result"
    }
   ],
   "source": [
    "mat.dot(inv(mat))"
   ]
  },
  {
   "cell_type": "markdown",
   "metadata": {},
   "source": [
    "아래 예제는 선형회귀 등에서 최소제곱법 등에 활용한 QR 분해를 구하는 방법을 나타냈다.\n",
    "- QR 분해의 자세한 내용은 [위키백과](https://ko.wikipedia.org/wiki/QR_%EB%B6%84%ED%95%B4)를 참고"
   ]
  },
  {
   "cell_type": "code",
   "execution_count": 246,
   "metadata": {},
   "outputs": [
    {
     "data": {
      "text/plain": [
       "array([[ -6.9271,   7.389 ,   6.1227,  -7.1163,  -4.9215],\n",
       "       [  0.    ,  -3.9735,  -0.8671,   2.9747,  -5.7402],\n",
       "       [  0.    ,   0.    , -10.2681,   1.8909,   1.6079],\n",
       "       [  0.    ,   0.    ,   0.    ,  -1.2996,   3.3577],\n",
       "       [  0.    ,   0.    ,   0.    ,   0.    ,   0.5571]])"
      ]
     },
     "execution_count": 246,
     "metadata": {},
     "output_type": "execute_result"
    }
   ],
   "source": [
    "q, r = qr(mat)\n",
    "r"
   ]
  },
  {
   "cell_type": "markdown",
   "metadata": {},
   "source": [
    "## 4.6 Random number generation\n",
    "다양한 분포의 random 함수를 제공한다.\n",
    "\n",
    "아래에서 보면 random.normal과 random.randn은 같은 결과를 제공한다."
   ]
  },
  {
   "cell_type": "code",
   "execution_count": 250,
   "metadata": {},
   "outputs": [
    {
     "name": "stdout",
     "output_type": "stream",
     "text": [
      "[[-0.2047  0.4789 -0.5194 -0.5557]\n",
      " [ 1.9658  1.3934  0.0929  0.2817]\n",
      " [ 0.769   1.2464  1.0072 -1.2962]\n",
      " [ 0.275   0.2289  1.3529  0.8864]]\n",
      "[[-0.2047  0.4789 -0.5194 -0.5557]\n",
      " [ 1.9658  1.3934  0.0929  0.2817]\n",
      " [ 0.769   1.2464  1.0072 -1.2962]\n",
      " [ 0.275   0.2289  1.3529  0.8864]]\n"
     ]
    }
   ],
   "source": [
    "np.random.seed(12345)\n",
    "samples = np.random.normal(size=(4, 4))\n",
    "np.random.seed(12345)\n",
    "samples2 = randn(4,4)\n",
    "print (samples)\n",
    "print (samples2)"
   ]
  },
  {
   "cell_type": "markdown",
   "metadata": {},
   "source": [
    "아래 예에서 보듯이 numpy.random 모듈은 python 내장 random 모듈에 비해 훨씬 더 빠른 sample 추출이 가능하다.\n",
    "\n",
    "- normalvariate(mu, gamma): 정규분포로 부터 하나의 sample을 추출한다."
   ]
  },
  {
   "cell_type": "code",
   "execution_count": 79,
   "metadata": {},
   "outputs": [
    {
     "name": "stdout",
     "output_type": "stream",
     "text": [
      "2.06 s ± 634 ms per loop (mean ± std. dev. of 7 runs, 1 loop each)\n",
      "48.6 ms ± 10.2 ms per loop (mean ± std. dev. of 7 runs, 10 loops each)\n"
     ]
    }
   ],
   "source": [
    "from random import normalvariate\n",
    "N = 1000000\n",
    "%timeit samples = [normalvariate(0, 1) for _ in range(N)]\n",
    "%timeit np.random.normal(size=N)"
   ]
  },
  {
   "cell_type": "markdown",
   "metadata": {},
   "source": [
    "numpy.random 모듈에 대한 자세한 설명은 pandas에서 정리할 계획이다.\n",
    "\n",
    "일부 numpy.random 함수:\n",
    "<table align=\"left\">\n",
    "  <tr>\n",
    "    <th>함수</th>\n",
    "    <th>설명</th>\n",
    "  </tr>\n",
    "  <tr>\n",
    "    <td>seed</td>\n",
    "    <td>난수 발생 seed를 지정</td>\n",
    "  </tr>\n",
    "  <tr>\n",
    "    <td>permutation </td>\n",
    "    <td>순서를 임의로 바꾸거나 임의의 순열을 반환</td>\n",
    "  </tr>\n",
    "  <tr>\n",
    "    <td>shuffle </td>\n",
    "    <td>리스트나 배열의 순서를 뒤섞는다.</td>\n",
    "  </tr>\n",
    "  <tr>\n",
    "    <td>rand </td>\n",
    "    <td>균등 분포에서 표본을 추출</td>\n",
    "  </tr>\n",
    "  <tr>\n",
    "    <td>randint </td>\n",
    "    <td>주어진 최소/최대 범위에서 임의 난수 추출</td>\n",
    "  </tr>\n",
    "  <tr>\n",
    "    <td>randn </td>\n",
    "    <td>표준정규분포에서 표본 추출</td>\n",
    "  </tr>\n",
    "  <tr>\n",
    "    <td>binomial </td>\n",
    "    <td>이항분포에서 표본 추출</td>\n",
    "  </tr>\n",
    "  <tr>\n",
    "    <td>normal </td>\n",
    "    <td>정규분포에서 표본 추출</td>\n",
    "  </tr>\n",
    "  <tr>\n",
    "    <td>beta </td>\n",
    "    <td>베타분포에서 표본 추출</td>\n",
    "  </tr>\n",
    "  <tr>\n",
    "    <td>chisquare </td>\n",
    "    <td>카이스퀘어 분포에서 표본 추출</td>\n",
    "  </tr>\n",
    "  <tr>\n",
    "    <td>gamma </td>\n",
    "    <td>감마분포에서 표본 추출</td>\n",
    "  </tr>\n",
    "</table>"
   ]
  },
  {
   "cell_type": "markdown",
   "metadata": {},
   "source": [
    "## 4.7 Example: Random Walks\n",
    "무작위 계단오르내리기 예제로서, 순서 python으로 작업하면 아래와 같다."
   ]
  },
  {
   "cell_type": "code",
   "execution_count": 86,
   "metadata": {},
   "outputs": [
    {
     "name": "stdout",
     "output_type": "stream",
     "text": [
      "-22\n"
     ]
    }
   ],
   "source": [
    "import random\n",
    "position = 0\n",
    "walk = [position]\n",
    "steps = 1000\n",
    "for i in range(steps):\n",
    "    step = 1 if random.randint(0, 1) else -1\n",
    "    position += step\n",
    "    walk.append(position)\n",
    "print (position)"
   ]
  },
  {
   "cell_type": "code",
   "execution_count": 99,
   "metadata": {},
   "outputs": [],
   "source": [
    "np.random.seed(12345)"
   ]
  },
  {
   "cell_type": "code",
   "execution_count": 100,
   "metadata": {},
   "outputs": [
    {
     "data": {
      "text/plain": [
       "14"
      ]
     },
     "execution_count": 100,
     "metadata": {},
     "output_type": "execute_result"
    }
   ],
   "source": [
    "nsteps = 1000\n",
    "draws = np.random.randint(0, 2, size=nsteps)\n",
    "steps = np.where(draws > 0, 1, -1)\n",
    "walk = steps.cumsum()\n",
    "walk[-1]"
   ]
  },
  {
   "cell_type": "code",
   "execution_count": 101,
   "metadata": {},
   "outputs": [
    {
     "data": {
      "text/plain": [
       "-3"
      ]
     },
     "execution_count": 101,
     "metadata": {},
     "output_type": "execute_result"
    }
   ],
   "source": [
    "walk.min()"
   ]
  },
  {
   "cell_type": "code",
   "execution_count": 102,
   "metadata": {},
   "outputs": [
    {
     "data": {
      "text/plain": [
       "31"
      ]
     },
     "execution_count": 102,
     "metadata": {},
     "output_type": "execute_result"
    }
   ],
   "source": [
    "walk.max()"
   ]
  },
  {
   "cell_type": "markdown",
   "metadata": {},
   "source": [
    "최초로 10 계단 이상 오르내린 시행은 어디일까?"
   ]
  },
  {
   "cell_type": "code",
   "execution_count": 103,
   "metadata": {},
   "outputs": [
    {
     "data": {
      "text/plain": [
       "37"
      ]
     },
     "execution_count": 103,
     "metadata": {},
     "output_type": "execute_result"
    }
   ],
   "source": [
    "(np.abs(walk) >= 10).argmax()"
   ]
  },
  {
   "cell_type": "code",
   "execution_count": 260,
   "metadata": {},
   "outputs": [
    {
     "data": {
      "text/plain": [
       "10"
      ]
     },
     "execution_count": 260,
     "metadata": {},
     "output_type": "execute_result"
    }
   ],
   "source": [
    "walk[37]"
   ]
  },
  {
   "cell_type": "markdown",
   "metadata": {},
   "source": [
    "### 4.7.1 Simulating many random walks at once\n",
    "대량의 random walk 실험을 한번에 빠르게 수행하는 손쉬운 방법이 있다.\n",
    "- random walk를 수행하는 2d ndarray를 생성하고, 누적합을 구하면 된다."
   ]
  },
  {
   "cell_type": "code",
   "execution_count": 104,
   "metadata": {},
   "outputs": [
    {
     "data": {
      "text/plain": [
       "array([[  1,   0,   1, ...,   8,   7,   8],\n",
       "       [  1,   0,  -1, ...,  34,  33,  32],\n",
       "       [  1,   0,  -1, ...,   4,   5,   4],\n",
       "       ...,\n",
       "       [  1,   2,   1, ...,  24,  25,  26],\n",
       "       [  1,   2,   3, ...,  14,  13,  14],\n",
       "       [ -1,  -2,  -3, ..., -24, -23, -22]], dtype=int32)"
      ]
     },
     "execution_count": 104,
     "metadata": {},
     "output_type": "execute_result"
    }
   ],
   "source": [
    "nwalks = 5000\n",
    "nsteps = 1000\n",
    "draws = np.random.randint(0, 2, size=(nwalks, nsteps)) # 0 or 1\n",
    "steps = np.where(draws > 0, 1, -1)\n",
    "walks = steps.cumsum(1)\n",
    "walks"
   ]
  },
  {
   "cell_type": "code",
   "execution_count": 106,
   "metadata": {},
   "outputs": [
    {
     "name": "stdout",
     "output_type": "stream",
     "text": [
      "138\n",
      "-133\n"
     ]
    }
   ],
   "source": [
    "print (walks.max())\n",
    "print (walks.min())"
   ]
  },
  {
   "cell_type": "code",
   "execution_count": 107,
   "metadata": {},
   "outputs": [
    {
     "data": {
      "text/plain": [
       "array([False,  True, False, ..., False,  True, False])"
      ]
     },
     "execution_count": 107,
     "metadata": {},
     "output_type": "execute_result"
    }
   ],
   "source": [
    "hits30 = (np.abs(walks) >= 30).any(1)\n",
    "hits30"
   ]
  },
  {
   "cell_type": "code",
   "execution_count": 108,
   "metadata": {},
   "outputs": [
    {
     "data": {
      "text/plain": [
       "3410"
      ]
     },
     "execution_count": 108,
     "metadata": {},
     "output_type": "execute_result"
    }
   ],
   "source": [
    "hits30.sum() # Number that hit 30 or -30"
   ]
  },
  {
   "cell_type": "markdown",
   "metadata": {},
   "source": [
    "최초 30 계단을 오르내린 시점은 언제인가?"
   ]
  },
  {
   "cell_type": "code",
   "execution_count": 266,
   "metadata": {},
   "outputs": [
    {
     "data": {
      "text/plain": [
       "498.88973607038122"
      ]
     },
     "execution_count": 266,
     "metadata": {},
     "output_type": "execute_result"
    }
   ],
   "source": [
    "crossing_times = (np.abs(walks[hits30]) >= 30).argmax(1)\n",
    "crossing_times.mean()"
   ]
  },
  {
   "cell_type": "markdown",
   "metadata": {},
   "source": [
    "다음과 같이 다양한 분포로부터 random walk를 생성할 수 있다."
   ]
  },
  {
   "cell_type": "code",
   "execution_count": 267,
   "metadata": {},
   "outputs": [],
   "source": [
    "steps = np.random.normal(loc=0, scale=0.25,\n",
    "                         size=(nwalks, nsteps))"
   ]
  },
  {
   "cell_type": "code",
   "execution_count": 2,
   "metadata": {},
   "outputs": [
    {
     "data": {
      "text/plain": [
       "array([[[ 0,  1,  2,  3,  4],\n",
       "        [ 5,  6,  7,  8,  9],\n",
       "        [10, 11, 12, 13, 14],\n",
       "        [15, 16, 17, 18, 19]],\n",
       "\n",
       "       [[20, 21, 22, 23, 24],\n",
       "        [25, 26, 27, 28, 29],\n",
       "        [30, 31, 32, 33, 34],\n",
       "        [35, 36, 37, 38, 39]],\n",
       "\n",
       "       [[40, 41, 42, 43, 44],\n",
       "        [45, 46, 47, 48, 49],\n",
       "        [50, 51, 52, 53, 54],\n",
       "        [55, 56, 57, 58, 59]]])"
      ]
     },
     "execution_count": 2,
     "metadata": {},
     "output_type": "execute_result"
    }
   ],
   "source": [
    "aa = np.arange(60).reshape((3,4,5))\n",
    "aa"
   ]
  },
  {
   "cell_type": "code",
   "execution_count": 4,
   "metadata": {},
   "outputs": [
    {
     "data": {
      "text/plain": [
       "array([[[ 0,  5, 10, 15],\n",
       "        [ 1,  6, 11, 16],\n",
       "        [ 2,  7, 12, 17],\n",
       "        [ 3,  8, 13, 18],\n",
       "        [ 4,  9, 14, 19]],\n",
       "\n",
       "       [[20, 25, 30, 35],\n",
       "        [21, 26, 31, 36],\n",
       "        [22, 27, 32, 37],\n",
       "        [23, 28, 33, 38],\n",
       "        [24, 29, 34, 39]],\n",
       "\n",
       "       [[40, 45, 50, 55],\n",
       "        [41, 46, 51, 56],\n",
       "        [42, 47, 52, 57],\n",
       "        [43, 48, 53, 58],\n",
       "        [44, 49, 54, 59]]])"
      ]
     },
     "execution_count": 4,
     "metadata": {},
     "output_type": "execute_result"
    }
   ],
   "source": [
    "aa.transpose((0,2,1)) # 행과 열을 바꿔줌! transpose"
   ]
  },
  {
   "cell_type": "code",
   "execution_count": null,
   "metadata": {},
   "outputs": [],
   "source": []
  }
 ],
 "metadata": {
  "kernelspec": {
   "display_name": "Python 3",
   "language": "python",
   "name": "python3"
  },
  "language_info": {
   "codemirror_mode": {
    "name": "ipython",
    "version": 3
   },
   "file_extension": ".py",
   "mimetype": "text/x-python",
   "name": "python",
   "nbconvert_exporter": "python",
   "pygments_lexer": "ipython3",
   "version": "3.7.4"
  }
 },
 "nbformat": 4,
 "nbformat_minor": 1
}
