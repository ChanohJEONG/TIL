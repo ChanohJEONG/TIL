{
 "cells": [
  {
   "cell_type": "markdown",
   "metadata": {},
   "source": [
    "# 직접 해보세요!\n",
    "## melt 메서드 사용하기(151쪽)"
   ]
  },
  {
   "cell_type": "markdown",
   "metadata": {},
   "source": [
    "### 1. 1개의 열만 고정하고 나머지 열을 행으로 바꾸기"
   ]
  },
  {
   "cell_type": "code",
<<<<<<< HEAD
   "execution_count": 28,
=======
   "execution_count": 10,
>>>>>>> d5f83195045bb91a139fcfa4583daec5be102ec7
   "metadata": {},
   "outputs": [
    {
     "data": {
      "text/html": [
       "<div>\n",
       "<style scoped>\n",
       "    .dataframe tbody tr th:only-of-type {\n",
       "        vertical-align: middle;\n",
       "    }\n",
       "\n",
       "    .dataframe tbody tr th {\n",
       "        vertical-align: top;\n",
       "    }\n",
       "\n",
       "    .dataframe thead th {\n",
       "        text-align: right;\n",
       "    }\n",
       "</style>\n",
       "<table border=\"1\" class=\"dataframe\">\n",
       "  <thead>\n",
       "    <tr style=\"text-align: right;\">\n",
       "      <th></th>\n",
       "      <th>religion</th>\n",
       "      <th>&lt;$10k</th>\n",
       "      <th>$10-20k</th>\n",
       "      <th>$20-30k</th>\n",
       "      <th>$30-40k</th>\n",
       "      <th>$40-50k</th>\n",
       "      <th>$50-75k</th>\n",
       "      <th>$75-100k</th>\n",
       "      <th>$100-150k</th>\n",
       "      <th>&gt;150k</th>\n",
       "      <th>Don't know/refused</th>\n",
       "    </tr>\n",
       "  </thead>\n",
       "  <tbody>\n",
       "    <tr>\n",
       "      <td>0</td>\n",
       "      <td>Agnostic</td>\n",
       "      <td>27</td>\n",
       "      <td>34</td>\n",
       "      <td>60</td>\n",
       "      <td>81</td>\n",
       "      <td>76</td>\n",
       "      <td>137</td>\n",
       "      <td>122</td>\n",
       "      <td>109</td>\n",
       "      <td>84</td>\n",
       "      <td>96</td>\n",
       "    </tr>\n",
       "    <tr>\n",
       "      <td>1</td>\n",
       "      <td>Atheist</td>\n",
       "      <td>12</td>\n",
       "      <td>27</td>\n",
       "      <td>37</td>\n",
       "      <td>52</td>\n",
       "      <td>35</td>\n",
       "      <td>70</td>\n",
       "      <td>73</td>\n",
       "      <td>59</td>\n",
       "      <td>74</td>\n",
       "      <td>76</td>\n",
       "    </tr>\n",
       "    <tr>\n",
       "      <td>2</td>\n",
       "      <td>Buddhist</td>\n",
       "      <td>27</td>\n",
       "      <td>21</td>\n",
       "      <td>30</td>\n",
       "      <td>34</td>\n",
       "      <td>33</td>\n",
       "      <td>58</td>\n",
       "      <td>62</td>\n",
       "      <td>39</td>\n",
       "      <td>53</td>\n",
       "      <td>54</td>\n",
       "    </tr>\n",
       "    <tr>\n",
       "      <td>3</td>\n",
       "      <td>Catholic</td>\n",
       "      <td>418</td>\n",
       "      <td>617</td>\n",
       "      <td>732</td>\n",
       "      <td>670</td>\n",
       "      <td>638</td>\n",
       "      <td>1116</td>\n",
       "      <td>949</td>\n",
       "      <td>792</td>\n",
       "      <td>633</td>\n",
       "      <td>1489</td>\n",
       "    </tr>\n",
       "    <tr>\n",
       "      <td>4</td>\n",
       "      <td>Don’t know/refused</td>\n",
       "      <td>15</td>\n",
       "      <td>14</td>\n",
       "      <td>15</td>\n",
       "      <td>11</td>\n",
       "      <td>10</td>\n",
       "      <td>35</td>\n",
       "      <td>21</td>\n",
       "      <td>17</td>\n",
       "      <td>18</td>\n",
       "      <td>116</td>\n",
       "    </tr>\n",
       "  </tbody>\n",
       "</table>\n",
       "</div>"
      ],
      "text/plain": [
       "             religion  <$10k  $10-20k  $20-30k  $30-40k  $40-50k  $50-75k  \\\n",
       "0            Agnostic     27       34       60       81       76      137   \n",
       "1             Atheist     12       27       37       52       35       70   \n",
       "2            Buddhist     27       21       30       34       33       58   \n",
       "3            Catholic    418      617      732      670      638     1116   \n",
       "4  Don’t know/refused     15       14       15       11       10       35   \n",
       "\n",
       "   $75-100k  $100-150k  >150k  Don't know/refused  \n",
       "0       122        109     84                  96  \n",
       "1        73         59     74                  76  \n",
       "2        62         39     53                  54  \n",
       "3       949        792    633                1489  \n",
       "4        21         17     18                 116  "
      ]
     },
<<<<<<< HEAD
     "execution_count": 28,
=======
     "execution_count": 10,
>>>>>>> d5f83195045bb91a139fcfa4583daec5be102ec7
     "metadata": {},
     "output_type": "execute_result"
    }
   ],
   "source": [
    "import pandas as pd\n",
    "pew = pd.read_csv('../data/pew.csv')\n",
<<<<<<< HEAD
    "billboard = pd.read_csv('../data/billboard.csv')\n",
=======
>>>>>>> d5f83195045bb91a139fcfa4583daec5be102ec7
    "pew.head()"
   ]
  },
  {
   "cell_type": "code",
<<<<<<< HEAD
   "execution_count": 29,
=======
   "execution_count": 3,
>>>>>>> d5f83195045bb91a139fcfa4583daec5be102ec7
   "metadata": {},
   "outputs": [
    {
     "data": {
      "text/html": [
       "<div>\n",
       "<style scoped>\n",
       "    .dataframe tbody tr th:only-of-type {\n",
       "        vertical-align: middle;\n",
       "    }\n",
       "\n",
       "    .dataframe tbody tr th {\n",
       "        vertical-align: top;\n",
       "    }\n",
       "\n",
       "    .dataframe thead th {\n",
       "        text-align: right;\n",
       "    }\n",
       "</style>\n",
       "<table border=\"1\" class=\"dataframe\">\n",
       "  <thead>\n",
       "    <tr style=\"text-align: right;\">\n",
       "      <th></th>\n",
       "      <th>religion</th>\n",
       "      <th>&lt;$10k</th>\n",
       "      <th>$10-20k</th>\n",
       "      <th>$20-30k</th>\n",
       "      <th>$30-40k</th>\n",
       "      <th>$40-50k</th>\n",
       "    </tr>\n",
       "  </thead>\n",
       "  <tbody>\n",
       "    <tr>\n",
       "      <td>0</td>\n",
       "      <td>Agnostic</td>\n",
       "      <td>27</td>\n",
       "      <td>34</td>\n",
       "      <td>60</td>\n",
       "      <td>81</td>\n",
       "      <td>76</td>\n",
       "    </tr>\n",
       "    <tr>\n",
       "      <td>1</td>\n",
       "      <td>Atheist</td>\n",
       "      <td>12</td>\n",
       "      <td>27</td>\n",
       "      <td>37</td>\n",
       "      <td>52</td>\n",
       "      <td>35</td>\n",
       "    </tr>\n",
       "    <tr>\n",
       "      <td>2</td>\n",
       "      <td>Buddhist</td>\n",
       "      <td>27</td>\n",
       "      <td>21</td>\n",
       "      <td>30</td>\n",
       "      <td>34</td>\n",
       "      <td>33</td>\n",
       "    </tr>\n",
       "    <tr>\n",
       "      <td>3</td>\n",
       "      <td>Catholic</td>\n",
       "      <td>418</td>\n",
       "      <td>617</td>\n",
       "      <td>732</td>\n",
       "      <td>670</td>\n",
       "      <td>638</td>\n",
       "    </tr>\n",
       "    <tr>\n",
       "      <td>4</td>\n",
       "      <td>Don’t know/refused</td>\n",
       "      <td>15</td>\n",
       "      <td>14</td>\n",
       "      <td>15</td>\n",
       "      <td>11</td>\n",
       "      <td>10</td>\n",
       "    </tr>\n",
       "    <tr>\n",
       "      <td>5</td>\n",
       "      <td>Evangelical Prot</td>\n",
       "      <td>575</td>\n",
       "      <td>869</td>\n",
       "      <td>1064</td>\n",
       "      <td>982</td>\n",
       "      <td>881</td>\n",
       "    </tr>\n",
       "    <tr>\n",
       "      <td>6</td>\n",
       "      <td>Hindu</td>\n",
       "      <td>1</td>\n",
       "      <td>9</td>\n",
       "      <td>7</td>\n",
       "      <td>9</td>\n",
       "      <td>11</td>\n",
       "    </tr>\n",
       "    <tr>\n",
       "      <td>7</td>\n",
       "      <td>Historically Black Prot</td>\n",
       "      <td>228</td>\n",
       "      <td>244</td>\n",
       "      <td>236</td>\n",
       "      <td>238</td>\n",
       "      <td>197</td>\n",
       "    </tr>\n",
       "    <tr>\n",
       "      <td>8</td>\n",
       "      <td>Jehovah's Witness</td>\n",
       "      <td>20</td>\n",
       "      <td>27</td>\n",
       "      <td>24</td>\n",
       "      <td>24</td>\n",
       "      <td>21</td>\n",
       "    </tr>\n",
       "    <tr>\n",
       "      <td>9</td>\n",
       "      <td>Jewish</td>\n",
       "      <td>19</td>\n",
       "      <td>19</td>\n",
       "      <td>25</td>\n",
       "      <td>25</td>\n",
       "      <td>30</td>\n",
       "    </tr>\n",
       "    <tr>\n",
       "      <td>10</td>\n",
       "      <td>Mainline Prot</td>\n",
       "      <td>289</td>\n",
       "      <td>495</td>\n",
       "      <td>619</td>\n",
       "      <td>655</td>\n",
       "      <td>651</td>\n",
       "    </tr>\n",
       "    <tr>\n",
       "      <td>11</td>\n",
       "      <td>Mormon</td>\n",
       "      <td>29</td>\n",
       "      <td>40</td>\n",
       "      <td>48</td>\n",
       "      <td>51</td>\n",
       "      <td>56</td>\n",
       "    </tr>\n",
       "    <tr>\n",
       "      <td>12</td>\n",
       "      <td>Muslim</td>\n",
       "      <td>6</td>\n",
       "      <td>7</td>\n",
       "      <td>9</td>\n",
       "      <td>10</td>\n",
       "      <td>9</td>\n",
       "    </tr>\n",
       "    <tr>\n",
       "      <td>13</td>\n",
       "      <td>Orthodox</td>\n",
       "      <td>13</td>\n",
       "      <td>17</td>\n",
       "      <td>23</td>\n",
       "      <td>32</td>\n",
       "      <td>32</td>\n",
       "    </tr>\n",
       "    <tr>\n",
       "      <td>14</td>\n",
       "      <td>Other Christian</td>\n",
       "      <td>9</td>\n",
       "      <td>7</td>\n",
       "      <td>11</td>\n",
       "      <td>13</td>\n",
       "      <td>13</td>\n",
       "    </tr>\n",
       "    <tr>\n",
       "      <td>15</td>\n",
       "      <td>Other Faiths</td>\n",
       "      <td>20</td>\n",
       "      <td>33</td>\n",
       "      <td>40</td>\n",
       "      <td>46</td>\n",
       "      <td>49</td>\n",
       "    </tr>\n",
       "    <tr>\n",
       "      <td>16</td>\n",
       "      <td>Other World Religions</td>\n",
       "      <td>5</td>\n",
       "      <td>2</td>\n",
       "      <td>3</td>\n",
       "      <td>4</td>\n",
       "      <td>2</td>\n",
       "    </tr>\n",
       "    <tr>\n",
       "      <td>17</td>\n",
       "      <td>Unaffiliated</td>\n",
       "      <td>217</td>\n",
       "      <td>299</td>\n",
       "      <td>374</td>\n",
       "      <td>365</td>\n",
       "      <td>341</td>\n",
       "    </tr>\n",
       "  </tbody>\n",
       "</table>\n",
       "</div>"
      ],
      "text/plain": [
       "                   religion  <$10k  $10-20k  $20-30k  $30-40k  $40-50k\n",
       "0                  Agnostic     27       34       60       81       76\n",
       "1                   Atheist     12       27       37       52       35\n",
       "2                  Buddhist     27       21       30       34       33\n",
       "3                  Catholic    418      617      732      670      638\n",
       "4        Don’t know/refused     15       14       15       11       10\n",
       "5          Evangelical Prot    575      869     1064      982      881\n",
       "6                     Hindu      1        9        7        9       11\n",
       "7   Historically Black Prot    228      244      236      238      197\n",
       "8         Jehovah's Witness     20       27       24       24       21\n",
       "9                    Jewish     19       19       25       25       30\n",
       "10            Mainline Prot    289      495      619      655      651\n",
       "11                   Mormon     29       40       48       51       56\n",
       "12                   Muslim      6        7        9       10        9\n",
       "13                 Orthodox     13       17       23       32       32\n",
       "14          Other Christian      9        7       11       13       13\n",
       "15             Other Faiths     20       33       40       46       49\n",
       "16    Other World Religions      5        2        3        4        2\n",
       "17             Unaffiliated    217      299      374      365      341"
      ]
     },
<<<<<<< HEAD
     "execution_count": 29,
=======
     "execution_count": 3,
>>>>>>> d5f83195045bb91a139fcfa4583daec5be102ec7
     "metadata": {},
     "output_type": "execute_result"
    }
   ],
   "source": [
    "pew.iloc[:, 0:6]"
   ]
  },
  {
   "cell_type": "code",
<<<<<<< HEAD
   "execution_count": 30,
=======
   "execution_count": 12,
>>>>>>> d5f83195045bb91a139fcfa4583daec5be102ec7
   "metadata": {},
   "outputs": [
    {
     "data": {
      "text/html": [
       "<div>\n",
       "<style scoped>\n",
       "    .dataframe tbody tr th:only-of-type {\n",
       "        vertical-align: middle;\n",
       "    }\n",
       "\n",
       "    .dataframe tbody tr th {\n",
       "        vertical-align: top;\n",
       "    }\n",
       "\n",
       "    .dataframe thead th {\n",
       "        text-align: right;\n",
       "    }\n",
       "</style>\n",
       "<table border=\"1\" class=\"dataframe\">\n",
       "  <thead>\n",
       "    <tr style=\"text-align: right;\">\n",
       "      <th></th>\n",
       "      <th>religion</th>\n",
       "      <th>variable</th>\n",
       "      <th>value</th>\n",
       "    </tr>\n",
       "  </thead>\n",
       "  <tbody>\n",
       "    <tr>\n",
       "      <td>0</td>\n",
       "      <td>Agnostic</td>\n",
       "      <td>&lt;$10k</td>\n",
       "      <td>27</td>\n",
       "    </tr>\n",
       "    <tr>\n",
       "      <td>1</td>\n",
       "      <td>Atheist</td>\n",
       "      <td>&lt;$10k</td>\n",
       "      <td>12</td>\n",
       "    </tr>\n",
       "    <tr>\n",
       "      <td>2</td>\n",
       "      <td>Buddhist</td>\n",
       "      <td>&lt;$10k</td>\n",
       "      <td>27</td>\n",
       "    </tr>\n",
       "    <tr>\n",
       "      <td>3</td>\n",
       "      <td>Catholic</td>\n",
       "      <td>&lt;$10k</td>\n",
       "      <td>418</td>\n",
       "    </tr>\n",
       "    <tr>\n",
       "      <td>4</td>\n",
       "      <td>Don’t know/refused</td>\n",
       "      <td>&lt;$10k</td>\n",
       "      <td>15</td>\n",
       "    </tr>\n",
       "  </tbody>\n",
       "</table>\n",
       "</div>"
      ],
      "text/plain": [
       "             religion variable  value\n",
       "0            Agnostic    <$10k     27\n",
       "1             Atheist    <$10k     12\n",
       "2            Buddhist    <$10k     27\n",
       "3            Catholic    <$10k    418\n",
       "4  Don’t know/refused    <$10k     15"
      ]
     },
<<<<<<< HEAD
     "execution_count": 30,
=======
     "execution_count": 12,
>>>>>>> d5f83195045bb91a139fcfa4583daec5be102ec7
     "metadata": {},
     "output_type": "execute_result"
    }
   ],
   "source": [
    "pew_long = pd.melt(pew, id_vars='religion')# Column 을 row 로 변경한 것!\n",
    "pew_long.head() # 'religion열을 고정하여 피벗했다'"
   ]
  },
  {
   "cell_type": "code",
<<<<<<< HEAD
   "execution_count": 42,
   "metadata": {},
   "outputs": [],
   "source": [
    "pew_long = pd.melt(pew, id_vars='religion', var_name='income', value_name='count')# 'religion'열을 고정으로 피벗 후 column 명 변경\n",
    "pew_long\n",
    "%matplotlib inline\n",
    "import matplotlib.pyplot as plt\n",
    "# plt.plot(pew_long)"
   ]
  },
  {
   "cell_type": "markdown",
   "metadata": {},
   "source": [
    "### Quiz. long 데이터를 이용하여 종교별 평균 수익을 구하라."
   ]
  },
  {
   "cell_type": "code",
   "execution_count": 50,
=======
   "execution_count": 27,
>>>>>>> d5f83195045bb91a139fcfa4583daec5be102ec7
   "metadata": {},
   "outputs": [
    {
     "data": {
      "text/html": [
       "<div>\n",
       "<style scoped>\n",
       "    .dataframe tbody tr th:only-of-type {\n",
       "        vertical-align: middle;\n",
       "    }\n",
       "\n",
       "    .dataframe tbody tr th {\n",
       "        vertical-align: top;\n",
       "    }\n",
       "\n",
       "    .dataframe thead th {\n",
       "        text-align: right;\n",
       "    }\n",
       "</style>\n",
       "<table border=\"1\" class=\"dataframe\">\n",
       "  <thead>\n",
       "    <tr style=\"text-align: right;\">\n",
       "      <th></th>\n",
       "      <th>religion</th>\n",
       "      <th>income</th>\n",
       "      <th>count</th>\n",
       "    </tr>\n",
       "  </thead>\n",
       "  <tbody>\n",
       "    <tr>\n",
       "      <td>0</td>\n",
       "      <td>Agnostic</td>\n",
       "      <td>&lt;$10k</td>\n",
       "      <td>27</td>\n",
       "    </tr>\n",
       "    <tr>\n",
       "      <td>1</td>\n",
       "      <td>Atheist</td>\n",
       "      <td>&lt;$10k</td>\n",
       "      <td>12</td>\n",
       "    </tr>\n",
       "    <tr>\n",
       "      <td>2</td>\n",
       "      <td>Buddhist</td>\n",
       "      <td>&lt;$10k</td>\n",
       "      <td>27</td>\n",
       "    </tr>\n",
       "    <tr>\n",
       "      <td>3</td>\n",
       "      <td>Catholic</td>\n",
       "      <td>&lt;$10k</td>\n",
       "      <td>418</td>\n",
       "    </tr>\n",
       "    <tr>\n",
       "      <td>4</td>\n",
       "      <td>Don’t know/refused</td>\n",
       "      <td>&lt;$10k</td>\n",
       "      <td>15</td>\n",
       "    </tr>\n",
       "    <tr>\n",
       "      <td>...</td>\n",
       "      <td>...</td>\n",
       "      <td>...</td>\n",
       "      <td>...</td>\n",
       "    </tr>\n",
       "    <tr>\n",
       "      <td>175</td>\n",
       "      <td>Orthodox</td>\n",
       "      <td>Don't know/refused</td>\n",
       "      <td>73</td>\n",
       "    </tr>\n",
       "    <tr>\n",
       "      <td>176</td>\n",
       "      <td>Other Christian</td>\n",
       "      <td>Don't know/refused</td>\n",
       "      <td>18</td>\n",
       "    </tr>\n",
       "    <tr>\n",
       "      <td>177</td>\n",
       "      <td>Other Faiths</td>\n",
       "      <td>Don't know/refused</td>\n",
       "      <td>71</td>\n",
       "    </tr>\n",
       "    <tr>\n",
       "      <td>178</td>\n",
       "      <td>Other World Religions</td>\n",
       "      <td>Don't know/refused</td>\n",
       "      <td>8</td>\n",
       "    </tr>\n",
       "    <tr>\n",
       "      <td>179</td>\n",
       "      <td>Unaffiliated</td>\n",
       "      <td>Don't know/refused</td>\n",
       "      <td>597</td>\n",
       "    </tr>\n",
       "  </tbody>\n",
       "</table>\n",
       "<p>180 rows × 3 columns</p>\n",
       "</div>"
      ],
      "text/plain": [
       "                  religion              income  count\n",
       "0                 Agnostic               <$10k     27\n",
       "1                  Atheist               <$10k     12\n",
       "2                 Buddhist               <$10k     27\n",
       "3                 Catholic               <$10k    418\n",
       "4       Don’t know/refused               <$10k     15\n",
       "..                     ...                 ...    ...\n",
       "175               Orthodox  Don't know/refused     73\n",
       "176        Other Christian  Don't know/refused     18\n",
       "177           Other Faiths  Don't know/refused     71\n",
       "178  Other World Religions  Don't know/refused      8\n",
       "179           Unaffiliated  Don't know/refused    597\n",
       "\n",
       "[180 rows x 3 columns]"
      ]
     },
<<<<<<< HEAD
     "execution_count": 50,
     "metadata": {},
     "output_type": "execute_result"
    },
    {
     "data": {
      "image/png": "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\n",
      "text/plain": [
       "<Figure size 432x288 with 1 Axes>"
      ]
     },
     "metadata": {
      "needs_background": "light"
     },
     "output_type": "display_data"
    }
   ],
   "source": [
    "pew\n",
    "fig = plt.figure() #비어있는 canvas 생성\n",
    "axes1 = fig.add_subplot(1, 1, 1) # canvas1개의 1개의 도화지를 생성\n",
    "axes1.hist(pew_long['income'], bins=100) # tips의 total_bill 값을 histogram으로 그리기\n",
=======
     "execution_count": 27,
     "metadata": {},
     "output_type": "execute_result"
    }
   ],
   "source": [
    "pew_long = pd.melt(pew, id_vars='religion', var_name='income', value_name='count')# 'religion'열을 고정으로 피벗 후 column 명 변경\n",
>>>>>>> d5f83195045bb91a139fcfa4583daec5be102ec7
    "pew_long"
   ]
  },
  {
   "cell_type": "markdown",
   "metadata": {},
   "source": [
    "### 5. 2개 이상의 열을 고정하고 나머지 열을 행으로 바꾸기"
   ]
  },
  {
   "cell_type": "code",
<<<<<<< HEAD
   "execution_count": 56,
=======
   "execution_count": 14,
>>>>>>> d5f83195045bb91a139fcfa4583daec5be102ec7
   "metadata": {},
   "outputs": [
    {
     "data": {
      "text/html": [
       "<div>\n",
       "<style scoped>\n",
       "    .dataframe tbody tr th:only-of-type {\n",
       "        vertical-align: middle;\n",
       "    }\n",
       "\n",
       "    .dataframe tbody tr th {\n",
       "        vertical-align: top;\n",
       "    }\n",
       "\n",
       "    .dataframe thead th {\n",
       "        text-align: right;\n",
       "    }\n",
       "</style>\n",
       "<table border=\"1\" class=\"dataframe\">\n",
       "  <thead>\n",
       "    <tr style=\"text-align: right;\">\n",
       "      <th></th>\n",
       "      <th>year</th>\n",
       "      <th>artist</th>\n",
       "      <th>track</th>\n",
       "      <th>time</th>\n",
       "      <th>date.entered</th>\n",
       "      <th>wk1</th>\n",
       "      <th>wk2</th>\n",
       "      <th>wk3</th>\n",
       "      <th>wk4</th>\n",
       "      <th>wk5</th>\n",
       "      <th>wk6</th>\n",
       "      <th>wk7</th>\n",
       "      <th>wk8</th>\n",
       "      <th>wk9</th>\n",
       "      <th>wk10</th>\n",
       "      <th>wk11</th>\n",
       "    </tr>\n",
       "  </thead>\n",
       "  <tbody>\n",
       "    <tr>\n",
       "      <td>0</td>\n",
       "      <td>2000</td>\n",
       "      <td>2 Pac</td>\n",
       "      <td>Baby Don't Cry (Keep...</td>\n",
       "      <td>4:22</td>\n",
       "      <td>2000-02-26</td>\n",
       "      <td>87</td>\n",
       "      <td>82.0</td>\n",
       "      <td>72.0</td>\n",
       "      <td>77.0</td>\n",
       "      <td>87.0</td>\n",
       "      <td>94.0</td>\n",
       "      <td>99.0</td>\n",
       "      <td>NaN</td>\n",
       "      <td>NaN</td>\n",
       "      <td>NaN</td>\n",
       "      <td>NaN</td>\n",
       "    </tr>\n",
       "    <tr>\n",
       "      <td>1</td>\n",
       "      <td>2000</td>\n",
       "      <td>2Ge+her</td>\n",
       "      <td>The Hardest Part Of ...</td>\n",
       "      <td>3:15</td>\n",
       "      <td>2000-09-02</td>\n",
       "      <td>91</td>\n",
       "      <td>87.0</td>\n",
       "      <td>92.0</td>\n",
       "      <td>NaN</td>\n",
       "      <td>NaN</td>\n",
       "      <td>NaN</td>\n",
       "      <td>NaN</td>\n",
       "      <td>NaN</td>\n",
       "      <td>NaN</td>\n",
       "      <td>NaN</td>\n",
       "      <td>NaN</td>\n",
       "    </tr>\n",
       "    <tr>\n",
       "      <td>2</td>\n",
       "      <td>2000</td>\n",
       "      <td>3 Doors Down</td>\n",
       "      <td>Kryptonite</td>\n",
       "      <td>3:53</td>\n",
       "      <td>2000-04-08</td>\n",
       "      <td>81</td>\n",
       "      <td>70.0</td>\n",
       "      <td>68.0</td>\n",
       "      <td>67.0</td>\n",
       "      <td>66.0</td>\n",
       "      <td>57.0</td>\n",
       "      <td>54.0</td>\n",
       "      <td>53.0</td>\n",
       "      <td>51.0</td>\n",
       "      <td>51.0</td>\n",
       "      <td>51.0</td>\n",
       "    </tr>\n",
       "    <tr>\n",
       "      <td>3</td>\n",
       "      <td>2000</td>\n",
       "      <td>3 Doors Down</td>\n",
       "      <td>Loser</td>\n",
       "      <td>4:24</td>\n",
       "      <td>2000-10-21</td>\n",
       "      <td>76</td>\n",
       "      <td>76.0</td>\n",
       "      <td>72.0</td>\n",
       "      <td>69.0</td>\n",
       "      <td>67.0</td>\n",
       "      <td>65.0</td>\n",
       "      <td>55.0</td>\n",
       "      <td>59.0</td>\n",
       "      <td>62.0</td>\n",
       "      <td>61.0</td>\n",
       "      <td>61.0</td>\n",
       "    </tr>\n",
       "    <tr>\n",
       "      <td>4</td>\n",
       "      <td>2000</td>\n",
       "      <td>504 Boyz</td>\n",
       "      <td>Wobble Wobble</td>\n",
       "      <td>3:35</td>\n",
       "      <td>2000-04-15</td>\n",
       "      <td>57</td>\n",
       "      <td>34.0</td>\n",
       "      <td>25.0</td>\n",
       "      <td>17.0</td>\n",
       "      <td>17.0</td>\n",
       "      <td>31.0</td>\n",
       "      <td>36.0</td>\n",
       "      <td>49.0</td>\n",
       "      <td>53.0</td>\n",
       "      <td>57.0</td>\n",
       "      <td>64.0</td>\n",
       "    </tr>\n",
       "  </tbody>\n",
       "</table>\n",
       "</div>"
      ],
      "text/plain": [
       "   year        artist                    track  time date.entered  wk1   wk2  \\\n",
       "0  2000         2 Pac  Baby Don't Cry (Keep...  4:22   2000-02-26   87  82.0   \n",
       "1  2000       2Ge+her  The Hardest Part Of ...  3:15   2000-09-02   91  87.0   \n",
       "2  2000  3 Doors Down               Kryptonite  3:53   2000-04-08   81  70.0   \n",
       "3  2000  3 Doors Down                    Loser  4:24   2000-10-21   76  76.0   \n",
       "4  2000      504 Boyz            Wobble Wobble  3:35   2000-04-15   57  34.0   \n",
       "\n",
       "    wk3   wk4   wk5   wk6   wk7   wk8   wk9  wk10  wk11  \n",
       "0  72.0  77.0  87.0  94.0  99.0   NaN   NaN   NaN   NaN  \n",
       "1  92.0   NaN   NaN   NaN   NaN   NaN   NaN   NaN   NaN  \n",
       "2  68.0  67.0  66.0  57.0  54.0  53.0  51.0  51.0  51.0  \n",
       "3  72.0  69.0  67.0  65.0  55.0  59.0  62.0  61.0  61.0  \n",
       "4  25.0  17.0  17.0  31.0  36.0  49.0  53.0  57.0  64.0  "
      ]
     },
<<<<<<< HEAD
     "execution_count": 56,
=======
     "execution_count": 14,
>>>>>>> d5f83195045bb91a139fcfa4583daec5be102ec7
     "metadata": {},
     "output_type": "execute_result"
    }
   ],
   "source": [
    "billboard = pd.read_csv('../data/billboard.csv')\n",
    "\n",
    "billboard.iloc[0:5, 0:16]"
   ]
  },
  {
   "cell_type": "code",
<<<<<<< HEAD
   "execution_count": 57,
=======
   "execution_count": 16,
>>>>>>> d5f83195045bb91a139fcfa4583daec5be102ec7
   "metadata": {
    "scrolled": false
   },
   "outputs": [
    {
     "data": {
      "text/html": [
       "<div>\n",
       "<style scoped>\n",
       "    .dataframe tbody tr th:only-of-type {\n",
       "        vertical-align: middle;\n",
       "    }\n",
       "\n",
       "    .dataframe tbody tr th {\n",
       "        vertical-align: top;\n",
       "    }\n",
       "\n",
       "    .dataframe thead th {\n",
       "        text-align: right;\n",
       "    }\n",
       "</style>\n",
       "<table border=\"1\" class=\"dataframe\">\n",
       "  <thead>\n",
       "    <tr style=\"text-align: right;\">\n",
       "      <th></th>\n",
       "      <th>year</th>\n",
       "      <th>artist</th>\n",
       "      <th>track</th>\n",
       "      <th>time</th>\n",
       "      <th>date.entered</th>\n",
       "      <th>week</th>\n",
       "      <th>rating</th>\n",
       "    </tr>\n",
       "  </thead>\n",
       "  <tbody>\n",
       "    <tr>\n",
       "      <td>0</td>\n",
       "      <td>2000</td>\n",
       "      <td>2 Pac</td>\n",
       "      <td>Baby Don't Cry (Keep...</td>\n",
       "      <td>4:22</td>\n",
       "      <td>2000-02-26</td>\n",
       "      <td>wk1</td>\n",
       "      <td>87.0</td>\n",
       "    </tr>\n",
       "    <tr>\n",
       "      <td>1</td>\n",
       "      <td>2000</td>\n",
       "      <td>2Ge+her</td>\n",
       "      <td>The Hardest Part Of ...</td>\n",
       "      <td>3:15</td>\n",
       "      <td>2000-09-02</td>\n",
       "      <td>wk1</td>\n",
       "      <td>91.0</td>\n",
       "    </tr>\n",
       "    <tr>\n",
       "      <td>2</td>\n",
       "      <td>2000</td>\n",
       "      <td>3 Doors Down</td>\n",
       "      <td>Kryptonite</td>\n",
       "      <td>3:53</td>\n",
       "      <td>2000-04-08</td>\n",
       "      <td>wk1</td>\n",
       "      <td>81.0</td>\n",
       "    </tr>\n",
       "    <tr>\n",
       "      <td>3</td>\n",
       "      <td>2000</td>\n",
       "      <td>3 Doors Down</td>\n",
       "      <td>Loser</td>\n",
       "      <td>4:24</td>\n",
       "      <td>2000-10-21</td>\n",
       "      <td>wk1</td>\n",
       "      <td>76.0</td>\n",
       "    </tr>\n",
       "    <tr>\n",
       "      <td>4</td>\n",
       "      <td>2000</td>\n",
       "      <td>504 Boyz</td>\n",
       "      <td>Wobble Wobble</td>\n",
       "      <td>3:35</td>\n",
       "      <td>2000-04-15</td>\n",
       "      <td>wk1</td>\n",
       "      <td>57.0</td>\n",
       "    </tr>\n",
       "    <tr>\n",
       "      <td>...</td>\n",
       "      <td>...</td>\n",
       "      <td>...</td>\n",
       "      <td>...</td>\n",
       "      <td>...</td>\n",
       "      <td>...</td>\n",
       "      <td>...</td>\n",
       "      <td>...</td>\n",
       "    </tr>\n",
       "    <tr>\n",
       "      <td>24087</td>\n",
       "      <td>2000</td>\n",
       "      <td>Yankee Grey</td>\n",
       "      <td>Another Nine Minutes</td>\n",
       "      <td>3:10</td>\n",
       "      <td>2000-04-29</td>\n",
       "      <td>wk76</td>\n",
       "      <td>NaN</td>\n",
       "    </tr>\n",
       "    <tr>\n",
       "      <td>24088</td>\n",
       "      <td>2000</td>\n",
       "      <td>Yearwood, Trisha</td>\n",
       "      <td>Real Live Woman</td>\n",
       "      <td>3:55</td>\n",
       "      <td>2000-04-01</td>\n",
       "      <td>wk76</td>\n",
       "      <td>NaN</td>\n",
       "    </tr>\n",
       "    <tr>\n",
       "      <td>24089</td>\n",
       "      <td>2000</td>\n",
       "      <td>Ying Yang Twins</td>\n",
       "      <td>Whistle While You Tw...</td>\n",
       "      <td>4:19</td>\n",
       "      <td>2000-03-18</td>\n",
       "      <td>wk76</td>\n",
       "      <td>NaN</td>\n",
       "    </tr>\n",
       "    <tr>\n",
       "      <td>24090</td>\n",
       "      <td>2000</td>\n",
       "      <td>Zombie Nation</td>\n",
       "      <td>Kernkraft 400</td>\n",
       "      <td>3:30</td>\n",
       "      <td>2000-09-02</td>\n",
       "      <td>wk76</td>\n",
       "      <td>NaN</td>\n",
       "    </tr>\n",
       "    <tr>\n",
       "      <td>24091</td>\n",
       "      <td>2000</td>\n",
       "      <td>matchbox twenty</td>\n",
       "      <td>Bent</td>\n",
       "      <td>4:12</td>\n",
       "      <td>2000-04-29</td>\n",
       "      <td>wk76</td>\n",
       "      <td>NaN</td>\n",
       "    </tr>\n",
       "  </tbody>\n",
       "</table>\n",
       "<p>24092 rows × 7 columns</p>\n",
       "</div>"
      ],
      "text/plain": [
       "       year            artist                    track  time date.entered  \\\n",
       "0      2000             2 Pac  Baby Don't Cry (Keep...  4:22   2000-02-26   \n",
       "1      2000           2Ge+her  The Hardest Part Of ...  3:15   2000-09-02   \n",
       "2      2000      3 Doors Down               Kryptonite  3:53   2000-04-08   \n",
       "3      2000      3 Doors Down                    Loser  4:24   2000-10-21   \n",
       "4      2000          504 Boyz            Wobble Wobble  3:35   2000-04-15   \n",
       "...     ...               ...                      ...   ...          ...   \n",
       "24087  2000       Yankee Grey     Another Nine Minutes  3:10   2000-04-29   \n",
       "24088  2000  Yearwood, Trisha          Real Live Woman  3:55   2000-04-01   \n",
       "24089  2000   Ying Yang Twins  Whistle While You Tw...  4:19   2000-03-18   \n",
       "24090  2000     Zombie Nation            Kernkraft 400  3:30   2000-09-02   \n",
       "24091  2000   matchbox twenty                     Bent  4:12   2000-04-29   \n",
       "\n",
       "       week  rating  \n",
       "0       wk1    87.0  \n",
       "1       wk1    91.0  \n",
       "2       wk1    81.0  \n",
       "3       wk1    76.0  \n",
       "4       wk1    57.0  \n",
       "...     ...     ...  \n",
       "24087  wk76     NaN  \n",
       "24088  wk76     NaN  \n",
       "24089  wk76     NaN  \n",
       "24090  wk76     NaN  \n",
       "24091  wk76     NaN  \n",
       "\n",
       "[24092 rows x 7 columns]"
      ]
     },
<<<<<<< HEAD
     "execution_count": 57,
=======
     "execution_count": 16,
>>>>>>> d5f83195045bb91a139fcfa4583daec5be102ec7
     "metadata": {},
     "output_type": "execute_result"
    }
   ],
   "source": [
    "billboard_long = pd.melt(billboard, id_vars=['year', 'artist', 'track', 'time', 'date.entered'], var_name='week', value_name='rating')\n",
    "# billboard dataframe을 'year'--'data.entered'열을 기준으로 나머지 열 피벗 후 변수 명은 week로, value 명은 rating 으로 변경\n",
    "billboard_long"
   ]
  },
  {
<<<<<<< HEAD
   "cell_type": "code",
   "execution_count": 75,
=======
   "cell_type": "markdown",
   "metadata": {
    "scrolled": true
   },
   "source": [
    "# 직접 해보세요!\n",
    "## ebola 데이터 집합 살펴보기(155쪽)"
   ]
  },
  {
   "cell_type": "code",
   "execution_count": 17,
   "metadata": {
    "scrolled": true
   },
   "outputs": [
    {
     "name": "stdout",
     "output_type": "stream",
     "text": [
      "Index(['Date', 'Day', 'Cases_Guinea', 'Cases_Liberia', 'Cases_SierraLeone',\n",
      "       'Cases_Nigeria', 'Cases_Senegal', 'Cases_UnitedStates', 'Cases_Spain',\n",
      "       'Cases_Mali', 'Deaths_Guinea', 'Deaths_Liberia', 'Deaths_SierraLeone',\n",
      "       'Deaths_Nigeria', 'Deaths_Senegal', 'Deaths_UnitedStates',\n",
      "       'Deaths_Spain', 'Deaths_Mali'],\n",
      "      dtype='object')\n"
     ]
    }
   ],
   "source": [
    "ebola = pd.read_csv('../data/country_timeseries.csv')\n",
    "print(ebola.columns)"
   ]
  },
  {
   "cell_type": "code",
   "execution_count": 18,
   "metadata": {},
   "outputs": [
    {
     "name": "stdout",
     "output_type": "stream",
     "text": [
      "         Date  Day  Cases_Guinea  Cases_Liberia  Deaths_Guinea  Deaths_Liberia\n",
      "0    1/5/2015  289        2776.0            NaN         1786.0             NaN\n",
      "1    1/4/2015  288        2775.0            NaN         1781.0             NaN\n",
      "2    1/3/2015  287        2769.0         8166.0         1767.0          3496.0\n",
      "3    1/2/2015  286           NaN         8157.0            NaN          3496.0\n",
      "4  12/31/2014  284        2730.0         8115.0         1739.0          3471.0\n"
     ]
    }
   ],
   "source": [
    "print(ebola.iloc[:5, [0, 1, 2, 3, 10, 11]])"
   ]
  },
  {
   "cell_type": "code",
   "execution_count": 20,
   "metadata": {},
   "outputs": [
    {
     "name": "stdout",
     "output_type": "stream",
     "text": [
      "            Date  Day      variable   value\n",
      "0       1/5/2015  289  Cases_Guinea  2776.0\n",
      "1       1/4/2015  288  Cases_Guinea  2775.0\n",
      "2       1/3/2015  287  Cases_Guinea  2769.0\n",
      "3       1/2/2015  286  Cases_Guinea     NaN\n",
      "4     12/31/2014  284  Cases_Guinea  2730.0\n",
      "...          ...  ...           ...     ...\n",
      "1947   3/27/2014    5   Deaths_Mali     NaN\n",
      "1948   3/26/2014    4   Deaths_Mali     NaN\n",
      "1949   3/25/2014    3   Deaths_Mali     NaN\n",
      "1950   3/24/2014    2   Deaths_Mali     NaN\n",
      "1951   3/22/2014    0   Deaths_Mali     NaN\n",
      "\n",
      "[1952 rows x 4 columns]\n"
     ]
    }
   ],
   "source": [
    "ebola_long = pd.melt(ebola, id_vars=['Date', 'Day'])# 'Date',Day 열을 제외한 모든 columns 피벗!\n",
    "print(ebola_long)"
   ]
  },
  {
   "cell_type": "markdown",
   "metadata": {},
   "source": [
    "# 직접 해보세요!\n",
    "## 열 이름 분리하고 데이터프레임에 추가하기(156쪽)"
   ]
  },
  {
   "cell_type": "code",
   "execution_count": 22,
>>>>>>> d5f83195045bb91a139fcfa4583daec5be102ec7
   "metadata": {},
   "outputs": [
    {
     "data": {
<<<<<<< HEAD
      "text/html": [
       "<div>\n",
       "<style scoped>\n",
       "    .dataframe tbody tr th:only-of-type {\n",
       "        vertical-align: middle;\n",
       "    }\n",
       "\n",
       "    .dataframe tbody tr th {\n",
       "        vertical-align: top;\n",
       "    }\n",
       "\n",
       "    .dataframe thead th {\n",
       "        text-align: right;\n",
       "    }\n",
       "</style>\n",
       "<table border=\"1\" class=\"dataframe\">\n",
       "  <thead>\n",
       "    <tr style=\"text-align: right;\">\n",
       "      <th></th>\n",
       "      <th></th>\n",
       "      <th></th>\n",
       "      <th>rating</th>\n",
       "    </tr>\n",
       "    <tr>\n",
       "      <th>year</th>\n",
       "      <th>artist</th>\n",
       "      <th>track</th>\n",
       "      <th></th>\n",
       "    </tr>\n",
       "  </thead>\n",
       "  <tbody>\n",
       "    <tr>\n",
       "      <td rowspan=\"11\" valign=\"top\">2000</td>\n",
       "      <td>2 Pac</td>\n",
       "      <td>Baby Don't Cry (Keep...</td>\n",
       "      <td>85.428571</td>\n",
       "    </tr>\n",
       "    <tr>\n",
       "      <td>2Ge+her</td>\n",
       "      <td>The Hardest Part Of ...</td>\n",
       "      <td>90.000000</td>\n",
       "    </tr>\n",
       "    <tr>\n",
       "      <td rowspan=\"2\" valign=\"top\">3 Doors Down</td>\n",
       "      <td>Kryptonite</td>\n",
       "      <td>26.471698</td>\n",
       "    </tr>\n",
       "    <tr>\n",
       "      <td>Loser</td>\n",
       "      <td>67.100000</td>\n",
       "    </tr>\n",
       "    <tr>\n",
       "      <td>504 Boyz</td>\n",
       "      <td>Wobble Wobble</td>\n",
       "      <td>56.222222</td>\n",
       "    </tr>\n",
       "    <tr>\n",
       "      <td>...</td>\n",
       "      <td>...</td>\n",
       "      <td>...</td>\n",
       "    </tr>\n",
       "    <tr>\n",
       "      <td>Yankee Grey</td>\n",
       "      <td>Another Nine Minutes</td>\n",
       "      <td>83.125000</td>\n",
       "    </tr>\n",
       "    <tr>\n",
       "      <td>Yearwood, Trisha</td>\n",
       "      <td>Real Live Woman</td>\n",
       "      <td>84.166667</td>\n",
       "    </tr>\n",
       "    <tr>\n",
       "      <td>Ying Yang Twins</td>\n",
       "      <td>Whistle While You Tw...</td>\n",
       "      <td>88.857143</td>\n",
       "    </tr>\n",
       "    <tr>\n",
       "      <td>Zombie Nation</td>\n",
       "      <td>Kernkraft 400</td>\n",
       "      <td>99.000000</td>\n",
       "    </tr>\n",
       "    <tr>\n",
       "      <td>matchbox twenty</td>\n",
       "      <td>Bent</td>\n",
       "      <td>18.641026</td>\n",
       "    </tr>\n",
       "  </tbody>\n",
       "</table>\n",
       "<p>317 rows × 1 columns</p>\n",
       "</div>"
      ],
      "text/plain": [
       "                                                  rating\n",
       "year artist           track                             \n",
       "2000 2 Pac            Baby Don't Cry (Keep...  85.428571\n",
       "     2Ge+her          The Hardest Part Of ...  90.000000\n",
       "     3 Doors Down     Kryptonite               26.471698\n",
       "                      Loser                    67.100000\n",
       "     504 Boyz         Wobble Wobble            56.222222\n",
       "...                                                  ...\n",
       "     Yankee Grey      Another Nine Minutes     83.125000\n",
       "     Yearwood, Trisha Real Live Woman          84.166667\n",
       "     Ying Yang Twins  Whistle While You Tw...  88.857143\n",
       "     Zombie Nation    Kernkraft 400            99.000000\n",
       "     matchbox twenty  Bent                     18.641026\n",
       "\n",
       "[317 rows x 1 columns]"
      ]
     },
     "execution_count": 75,
=======
      "text/plain": [
       "0    [Cases, Guinea]\n",
       "1    [Cases, Guinea]\n",
       "2    [Cases, Guinea]\n",
       "3    [Cases, Guinea]\n",
       "4    [Cases, Guinea]\n",
       "Name: variable, dtype: object"
      ]
     },
     "execution_count": 22,
>>>>>>> d5f83195045bb91a139fcfa4583daec5be102ec7
     "metadata": {},
     "output_type": "execute_result"
    }
   ],
   "source": [
<<<<<<< HEAD
    "billboard_long.groupby(['year','artist','track']).mean()"
=======
    "variable_split = ebola_long.variable.str.split('_')\n",
    "\n",
    "variable_split[:5]# _ 기준으로 분할 "
>>>>>>> d5f83195045bb91a139fcfa4583daec5be102ec7
   ]
  },
  {
   "cell_type": "code",
<<<<<<< HEAD
   "execution_count": 77,
   "metadata": {},
   "outputs": [
    {
     "data": {
      "text/html": [
       "<div>\n",
       "<style scoped>\n",
       "    .dataframe tbody tr th:only-of-type {\n",
       "        vertical-align: middle;\n",
       "    }\n",
       "\n",
       "    .dataframe tbody tr th {\n",
       "        vertical-align: top;\n",
       "    }\n",
       "\n",
       "    .dataframe thead th {\n",
       "        text-align: right;\n",
       "    }\n",
       "</style>\n",
       "<table border=\"1\" class=\"dataframe\">\n",
       "  <thead>\n",
       "    <tr style=\"text-align: right;\">\n",
       "      <th></th>\n",
       "      <th>year</th>\n",
       "      <th>artist</th>\n",
       "      <th>track</th>\n",
       "      <th>time</th>\n",
       "      <th>date.entered</th>\n",
       "      <th>wk1</th>\n",
       "      <th>wk2</th>\n",
       "      <th>wk3</th>\n",
       "      <th>wk4</th>\n",
       "      <th>wk5</th>\n",
       "      <th>...</th>\n",
       "      <th>wk68</th>\n",
       "      <th>wk69</th>\n",
       "      <th>wk70</th>\n",
       "      <th>wk71</th>\n",
       "      <th>wk72</th>\n",
       "      <th>wk73</th>\n",
       "      <th>wk74</th>\n",
       "      <th>wk75</th>\n",
       "      <th>wk76</th>\n",
       "      <th>avg_rating</th>\n",
       "    </tr>\n",
       "  </thead>\n",
       "  <tbody>\n",
       "    <tr>\n",
       "      <td>0</td>\n",
       "      <td>2000</td>\n",
       "      <td>2 Pac</td>\n",
       "      <td>Baby Don't Cry (Keep...</td>\n",
       "      <td>4:22</td>\n",
       "      <td>2000-02-26</td>\n",
       "      <td>87</td>\n",
       "      <td>82.0</td>\n",
       "      <td>72.0</td>\n",
       "      <td>77.0</td>\n",
       "      <td>87.0</td>\n",
       "      <td>...</td>\n",
       "      <td>NaN</td>\n",
       "      <td>NaN</td>\n",
       "      <td>NaN</td>\n",
       "      <td>NaN</td>\n",
       "      <td>NaN</td>\n",
       "      <td>NaN</td>\n",
       "      <td>NaN</td>\n",
       "      <td>NaN</td>\n",
       "      <td>NaN</td>\n",
       "      <td>85.428571</td>\n",
       "    </tr>\n",
       "    <tr>\n",
       "      <td>1</td>\n",
       "      <td>2000</td>\n",
       "      <td>2Ge+her</td>\n",
       "      <td>The Hardest Part Of ...</td>\n",
       "      <td>3:15</td>\n",
       "      <td>2000-09-02</td>\n",
       "      <td>91</td>\n",
       "      <td>87.0</td>\n",
       "      <td>92.0</td>\n",
       "      <td>NaN</td>\n",
       "      <td>NaN</td>\n",
       "      <td>...</td>\n",
       "      <td>NaN</td>\n",
       "      <td>NaN</td>\n",
       "      <td>NaN</td>\n",
       "      <td>NaN</td>\n",
       "      <td>NaN</td>\n",
       "      <td>NaN</td>\n",
       "      <td>NaN</td>\n",
       "      <td>NaN</td>\n",
       "      <td>NaN</td>\n",
       "      <td>90.000000</td>\n",
       "    </tr>\n",
       "    <tr>\n",
       "      <td>2</td>\n",
       "      <td>2000</td>\n",
       "      <td>3 Doors Down</td>\n",
       "      <td>Kryptonite</td>\n",
       "      <td>3:53</td>\n",
       "      <td>2000-04-08</td>\n",
       "      <td>81</td>\n",
       "      <td>70.0</td>\n",
       "      <td>68.0</td>\n",
       "      <td>67.0</td>\n",
       "      <td>66.0</td>\n",
       "      <td>...</td>\n",
       "      <td>NaN</td>\n",
       "      <td>NaN</td>\n",
       "      <td>NaN</td>\n",
       "      <td>NaN</td>\n",
       "      <td>NaN</td>\n",
       "      <td>NaN</td>\n",
       "      <td>NaN</td>\n",
       "      <td>NaN</td>\n",
       "      <td>NaN</td>\n",
       "      <td>26.471698</td>\n",
       "    </tr>\n",
       "    <tr>\n",
       "      <td>3</td>\n",
       "      <td>2000</td>\n",
       "      <td>3 Doors Down</td>\n",
       "      <td>Loser</td>\n",
       "      <td>4:24</td>\n",
       "      <td>2000-10-21</td>\n",
       "      <td>76</td>\n",
       "      <td>76.0</td>\n",
       "      <td>72.0</td>\n",
       "      <td>69.0</td>\n",
       "      <td>67.0</td>\n",
       "      <td>...</td>\n",
       "      <td>NaN</td>\n",
       "      <td>NaN</td>\n",
       "      <td>NaN</td>\n",
       "      <td>NaN</td>\n",
       "      <td>NaN</td>\n",
       "      <td>NaN</td>\n",
       "      <td>NaN</td>\n",
       "      <td>NaN</td>\n",
       "      <td>NaN</td>\n",
       "      <td>67.100000</td>\n",
       "    </tr>\n",
       "    <tr>\n",
       "      <td>4</td>\n",
       "      <td>2000</td>\n",
       "      <td>504 Boyz</td>\n",
       "      <td>Wobble Wobble</td>\n",
       "      <td>3:35</td>\n",
       "      <td>2000-04-15</td>\n",
       "      <td>57</td>\n",
       "      <td>34.0</td>\n",
       "      <td>25.0</td>\n",
       "      <td>17.0</td>\n",
       "      <td>17.0</td>\n",
       "      <td>...</td>\n",
       "      <td>NaN</td>\n",
       "      <td>NaN</td>\n",
       "      <td>NaN</td>\n",
       "      <td>NaN</td>\n",
       "      <td>NaN</td>\n",
       "      <td>NaN</td>\n",
       "      <td>NaN</td>\n",
       "      <td>NaN</td>\n",
       "      <td>NaN</td>\n",
       "      <td>56.222222</td>\n",
       "    </tr>\n",
       "    <tr>\n",
       "      <td>...</td>\n",
       "      <td>...</td>\n",
       "      <td>...</td>\n",
       "      <td>...</td>\n",
       "      <td>...</td>\n",
       "      <td>...</td>\n",
       "      <td>...</td>\n",
       "      <td>...</td>\n",
       "      <td>...</td>\n",
       "      <td>...</td>\n",
       "      <td>...</td>\n",
       "      <td>...</td>\n",
       "      <td>...</td>\n",
       "      <td>...</td>\n",
       "      <td>...</td>\n",
       "      <td>...</td>\n",
       "      <td>...</td>\n",
       "      <td>...</td>\n",
       "      <td>...</td>\n",
       "      <td>...</td>\n",
       "      <td>...</td>\n",
       "      <td>...</td>\n",
       "    </tr>\n",
       "    <tr>\n",
       "      <td>312</td>\n",
       "      <td>2000</td>\n",
       "      <td>Yankee Grey</td>\n",
       "      <td>Another Nine Minutes</td>\n",
       "      <td>3:10</td>\n",
       "      <td>2000-04-29</td>\n",
       "      <td>86</td>\n",
       "      <td>83.0</td>\n",
       "      <td>77.0</td>\n",
       "      <td>74.0</td>\n",
       "      <td>83.0</td>\n",
       "      <td>...</td>\n",
       "      <td>NaN</td>\n",
       "      <td>NaN</td>\n",
       "      <td>NaN</td>\n",
       "      <td>NaN</td>\n",
       "      <td>NaN</td>\n",
       "      <td>NaN</td>\n",
       "      <td>NaN</td>\n",
       "      <td>NaN</td>\n",
       "      <td>NaN</td>\n",
       "      <td>83.125000</td>\n",
       "    </tr>\n",
       "    <tr>\n",
       "      <td>313</td>\n",
       "      <td>2000</td>\n",
       "      <td>Yearwood, Trisha</td>\n",
       "      <td>Real Live Woman</td>\n",
       "      <td>3:55</td>\n",
       "      <td>2000-04-01</td>\n",
       "      <td>85</td>\n",
       "      <td>83.0</td>\n",
       "      <td>83.0</td>\n",
       "      <td>82.0</td>\n",
       "      <td>81.0</td>\n",
       "      <td>...</td>\n",
       "      <td>NaN</td>\n",
       "      <td>NaN</td>\n",
       "      <td>NaN</td>\n",
       "      <td>NaN</td>\n",
       "      <td>NaN</td>\n",
       "      <td>NaN</td>\n",
       "      <td>NaN</td>\n",
       "      <td>NaN</td>\n",
       "      <td>NaN</td>\n",
       "      <td>84.166667</td>\n",
       "    </tr>\n",
       "    <tr>\n",
       "      <td>314</td>\n",
       "      <td>2000</td>\n",
       "      <td>Ying Yang Twins</td>\n",
       "      <td>Whistle While You Tw...</td>\n",
       "      <td>4:19</td>\n",
       "      <td>2000-03-18</td>\n",
       "      <td>95</td>\n",
       "      <td>94.0</td>\n",
       "      <td>91.0</td>\n",
       "      <td>85.0</td>\n",
       "      <td>84.0</td>\n",
       "      <td>...</td>\n",
       "      <td>NaN</td>\n",
       "      <td>NaN</td>\n",
       "      <td>NaN</td>\n",
       "      <td>NaN</td>\n",
       "      <td>NaN</td>\n",
       "      <td>NaN</td>\n",
       "      <td>NaN</td>\n",
       "      <td>NaN</td>\n",
       "      <td>NaN</td>\n",
       "      <td>88.857143</td>\n",
       "    </tr>\n",
       "    <tr>\n",
       "      <td>315</td>\n",
       "      <td>2000</td>\n",
       "      <td>Zombie Nation</td>\n",
       "      <td>Kernkraft 400</td>\n",
       "      <td>3:30</td>\n",
       "      <td>2000-09-02</td>\n",
       "      <td>99</td>\n",
       "      <td>99.0</td>\n",
       "      <td>NaN</td>\n",
       "      <td>NaN</td>\n",
       "      <td>NaN</td>\n",
       "      <td>...</td>\n",
       "      <td>NaN</td>\n",
       "      <td>NaN</td>\n",
       "      <td>NaN</td>\n",
       "      <td>NaN</td>\n",
       "      <td>NaN</td>\n",
       "      <td>NaN</td>\n",
       "      <td>NaN</td>\n",
       "      <td>NaN</td>\n",
       "      <td>NaN</td>\n",
       "      <td>99.000000</td>\n",
       "    </tr>\n",
       "    <tr>\n",
       "      <td>316</td>\n",
       "      <td>2000</td>\n",
       "      <td>matchbox twenty</td>\n",
       "      <td>Bent</td>\n",
       "      <td>4:12</td>\n",
       "      <td>2000-04-29</td>\n",
       "      <td>60</td>\n",
       "      <td>37.0</td>\n",
       "      <td>29.0</td>\n",
       "      <td>24.0</td>\n",
       "      <td>22.0</td>\n",
       "      <td>...</td>\n",
       "      <td>NaN</td>\n",
       "      <td>NaN</td>\n",
       "      <td>NaN</td>\n",
       "      <td>NaN</td>\n",
       "      <td>NaN</td>\n",
       "      <td>NaN</td>\n",
       "      <td>NaN</td>\n",
       "      <td>NaN</td>\n",
       "      <td>NaN</td>\n",
       "      <td>18.641026</td>\n",
       "    </tr>\n",
       "  </tbody>\n",
       "</table>\n",
       "<p>317 rows × 82 columns</p>\n",
       "</div>"
      ],
      "text/plain": [
       "     year            artist                    track  time date.entered  wk1  \\\n",
       "0    2000             2 Pac  Baby Don't Cry (Keep...  4:22   2000-02-26   87   \n",
       "1    2000           2Ge+her  The Hardest Part Of ...  3:15   2000-09-02   91   \n",
       "2    2000      3 Doors Down               Kryptonite  3:53   2000-04-08   81   \n",
       "3    2000      3 Doors Down                    Loser  4:24   2000-10-21   76   \n",
       "4    2000          504 Boyz            Wobble Wobble  3:35   2000-04-15   57   \n",
       "..    ...               ...                      ...   ...          ...  ...   \n",
       "312  2000       Yankee Grey     Another Nine Minutes  3:10   2000-04-29   86   \n",
       "313  2000  Yearwood, Trisha          Real Live Woman  3:55   2000-04-01   85   \n",
       "314  2000   Ying Yang Twins  Whistle While You Tw...  4:19   2000-03-18   95   \n",
       "315  2000     Zombie Nation            Kernkraft 400  3:30   2000-09-02   99   \n",
       "316  2000   matchbox twenty                     Bent  4:12   2000-04-29   60   \n",
       "\n",
       "      wk2   wk3   wk4   wk5  ...  wk68  wk69  wk70  wk71  wk72  wk73  wk74  \\\n",
       "0    82.0  72.0  77.0  87.0  ...   NaN   NaN   NaN   NaN   NaN   NaN   NaN   \n",
       "1    87.0  92.0   NaN   NaN  ...   NaN   NaN   NaN   NaN   NaN   NaN   NaN   \n",
       "2    70.0  68.0  67.0  66.0  ...   NaN   NaN   NaN   NaN   NaN   NaN   NaN   \n",
       "3    76.0  72.0  69.0  67.0  ...   NaN   NaN   NaN   NaN   NaN   NaN   NaN   \n",
       "4    34.0  25.0  17.0  17.0  ...   NaN   NaN   NaN   NaN   NaN   NaN   NaN   \n",
       "..    ...   ...   ...   ...  ...   ...   ...   ...   ...   ...   ...   ...   \n",
       "312  83.0  77.0  74.0  83.0  ...   NaN   NaN   NaN   NaN   NaN   NaN   NaN   \n",
       "313  83.0  83.0  82.0  81.0  ...   NaN   NaN   NaN   NaN   NaN   NaN   NaN   \n",
       "314  94.0  91.0  85.0  84.0  ...   NaN   NaN   NaN   NaN   NaN   NaN   NaN   \n",
       "315  99.0   NaN   NaN   NaN  ...   NaN   NaN   NaN   NaN   NaN   NaN   NaN   \n",
       "316  37.0  29.0  24.0  22.0  ...   NaN   NaN   NaN   NaN   NaN   NaN   NaN   \n",
       "\n",
       "     wk75  wk76  avg_rating  \n",
       "0     NaN   NaN   85.428571  \n",
       "1     NaN   NaN   90.000000  \n",
       "2     NaN   NaN   26.471698  \n",
       "3     NaN   NaN   67.100000  \n",
       "4     NaN   NaN   56.222222  \n",
       "..    ...   ...         ...  \n",
       "312   NaN   NaN   83.125000  \n",
       "313   NaN   NaN   84.166667  \n",
       "314   NaN   NaN   88.857143  \n",
       "315   NaN   NaN   99.000000  \n",
       "316   NaN   NaN   18.641026  \n",
       "\n",
       "[317 rows x 82 columns]"
      ]
     },
     "execution_count": 77,
     "metadata": {},
     "output_type": "execute_result"
    }
   ],
   "source": [
    "weeks_data = billboard.iloc[:,5:]\n",
    "billboard['avg_rating'] = weeks_data.sum(1) / weeks_data.count(1)\n",
    "billboard"
   ]
  },
  {
   "cell_type": "markdown",
   "metadata": {
    "scrolled": true
   },
   "source": [
    "# 직접 해보세요!\n",
    "## ebola 데이터 집합 살펴보기(155쪽)"
   ]
  },
  {
   "cell_type": "code",
   "execution_count": 17,
   "metadata": {
    "scrolled": true
   },
   "outputs": [
    {
     "name": "stdout",
     "output_type": "stream",
     "text": [
      "Index(['Date', 'Day', 'Cases_Guinea', 'Cases_Liberia', 'Cases_SierraLeone',\n",
      "       'Cases_Nigeria', 'Cases_Senegal', 'Cases_UnitedStates', 'Cases_Spain',\n",
      "       'Cases_Mali', 'Deaths_Guinea', 'Deaths_Liberia', 'Deaths_SierraLeone',\n",
      "       'Deaths_Nigeria', 'Deaths_Senegal', 'Deaths_UnitedStates',\n",
      "       'Deaths_Spain', 'Deaths_Mali'],\n",
      "      dtype='object')\n"
     ]
    }
   ],
   "source": [
    "ebola = pd.read_csv('../data/country_timeseries.csv')\n",
    "print(ebola.columns)"
   ]
  },
  {
   "cell_type": "code",
   "execution_count": 18,
   "metadata": {},
   "outputs": [
    {
     "name": "stdout",
     "output_type": "stream",
     "text": [
      "         Date  Day  Cases_Guinea  Cases_Liberia  Deaths_Guinea  Deaths_Liberia\n",
      "0    1/5/2015  289        2776.0            NaN         1786.0             NaN\n",
      "1    1/4/2015  288        2775.0            NaN         1781.0             NaN\n",
      "2    1/3/2015  287        2769.0         8166.0         1767.0          3496.0\n",
      "3    1/2/2015  286           NaN         8157.0            NaN          3496.0\n",
      "4  12/31/2014  284        2730.0         8115.0         1739.0          3471.0\n"
     ]
    }
   ],
   "source": [
    "print(ebola.iloc[:5, [0, 1, 2, 3, 10, 11]])"
   ]
  },
  {
   "cell_type": "code",
   "execution_count": 20,
   "metadata": {},
   "outputs": [
    {
     "name": "stdout",
     "output_type": "stream",
     "text": [
      "            Date  Day      variable   value\n",
      "0       1/5/2015  289  Cases_Guinea  2776.0\n",
      "1       1/4/2015  288  Cases_Guinea  2775.0\n",
      "2       1/3/2015  287  Cases_Guinea  2769.0\n",
      "3       1/2/2015  286  Cases_Guinea     NaN\n",
      "4     12/31/2014  284  Cases_Guinea  2730.0\n",
      "...          ...  ...           ...     ...\n",
      "1947   3/27/2014    5   Deaths_Mali     NaN\n",
      "1948   3/26/2014    4   Deaths_Mali     NaN\n",
      "1949   3/25/2014    3   Deaths_Mali     NaN\n",
      "1950   3/24/2014    2   Deaths_Mali     NaN\n",
      "1951   3/22/2014    0   Deaths_Mali     NaN\n",
      "\n",
      "[1952 rows x 4 columns]\n"
     ]
    }
   ],
   "source": [
    "ebola_long = pd.melt(ebola, id_vars=['Date', 'Day'])# 'Date',Day 열을 제외한 모든 columns 피벗!\n",
    "print(ebola_long)"
   ]
  },
  {
   "cell_type": "markdown",
   "metadata": {},
   "source": [
    "# 직접 해보세요!\n",
    "## 열 이름 분리하고 데이터프레임에 추가하기(156쪽)"
   ]
  },
  {
   "cell_type": "code",
   "execution_count": 53,
   "metadata": {},
   "outputs": [
    {
     "data": {
      "text/plain": [
       "0    [Cases, Guinea]\n",
       "1    [Cases, Guinea]\n",
       "2    [Cases, Guinea]\n",
       "3    [Cases, Guinea]\n",
       "4    [Cases, Guinea]\n",
       "Name: variable, dtype: object"
      ]
     },
     "execution_count": 53,
     "metadata": {},
     "output_type": "execute_result"
    }
   ],
   "source": [
    "variable_split = ebola_long.variable.str.split('_')\n",
    "\n",
    "variable_split[:5]# _ 기준으로 분할 "
   ]
  },
  {
   "cell_type": "code",
   "execution_count": 54,
=======
   "execution_count": 23,
>>>>>>> d5f83195045bb91a139fcfa4583daec5be102ec7
   "metadata": {},
   "outputs": [
    {
     "name": "stdout",
     "output_type": "stream",
     "text": [
      "<class 'pandas.core.series.Series'>\n"
     ]
    }
   ],
   "source": [
    "print(type(variable_split))"
   ]
  },
  {
   "cell_type": "code",
<<<<<<< HEAD
   "execution_count": 55,
=======
   "execution_count": 24,
>>>>>>> d5f83195045bb91a139fcfa4583daec5be102ec7
   "metadata": {},
   "outputs": [
    {
     "name": "stdout",
     "output_type": "stream",
     "text": [
      "<class 'list'>\n"
     ]
    }
   ],
   "source": [
    "print(type(variable_split[0]))"
   ]
  },
  {
   "cell_type": "code",
<<<<<<< HEAD
   "execution_count": 80,
   "metadata": {},
   "outputs": [
    {
     "data": {
      "text/plain": [
       "0        Cases\n",
       "1        Cases\n",
       "2        Cases\n",
       "3        Cases\n",
       "4        Cases\n",
       "         ...  \n",
       "1947    Deaths\n",
       "1948    Deaths\n",
       "1949    Deaths\n",
       "1950    Deaths\n",
       "1951    Deaths\n",
       "Name: variable, Length: 1952, dtype: object"
      ]
     },
     "execution_count": 80,
     "metadata": {},
     "output_type": "execute_result"
=======
   "execution_count": 13,
   "metadata": {},
   "outputs": [
    {
     "name": "stdout",
     "output_type": "stream",
     "text": [
      "0    Cases\n",
      "1    Cases\n",
      "2    Cases\n",
      "3    Cases\n",
      "4    Cases\n",
      "Name: variable, dtype: object\n"
     ]
>>>>>>> d5f83195045bb91a139fcfa4583daec5be102ec7
    }
   ],
   "source": [
    "status_values = variable_split.str.get(0) \n",
    "country_values = variable_split.str.get(1)\n",
    "\n",
<<<<<<< HEAD
    "status_values"
=======
    "print(status_values[:5])"
>>>>>>> d5f83195045bb91a139fcfa4583daec5be102ec7
   ]
  },
  {
   "cell_type": "code",
<<<<<<< HEAD
   "execution_count": 81,
=======
   "execution_count": 14,
>>>>>>> d5f83195045bb91a139fcfa4583daec5be102ec7
   "metadata": {},
   "outputs": [
    {
     "name": "stdout",
     "output_type": "stream",
     "text": [
      "1947    Deaths\n",
      "1948    Deaths\n",
      "1949    Deaths\n",
      "1950    Deaths\n",
      "1951    Deaths\n",
      "Name: variable, dtype: object\n"
     ]
    }
   ],
   "source": [
    "print(status_values[-5:])"
   ]
  },
  {
   "cell_type": "code",
<<<<<<< HEAD
   "execution_count": 82,
=======
   "execution_count": 15,
>>>>>>> d5f83195045bb91a139fcfa4583daec5be102ec7
   "metadata": {},
   "outputs": [
    {
     "name": "stdout",
     "output_type": "stream",
     "text": [
      "0    Guinea\n",
      "1    Guinea\n",
      "2    Guinea\n",
      "3    Guinea\n",
      "4    Guinea\n",
      "Name: variable, dtype: object\n"
     ]
    }
   ],
   "source": [
    "print(country_values[:5])"
   ]
  },
  {
   "cell_type": "code",
<<<<<<< HEAD
   "execution_count": 83,
=======
   "execution_count": 16,
>>>>>>> d5f83195045bb91a139fcfa4583daec5be102ec7
   "metadata": {},
   "outputs": [
    {
     "name": "stdout",
     "output_type": "stream",
     "text": [
      "1947    Mali\n",
      "1948    Mali\n",
      "1949    Mali\n",
      "1950    Mali\n",
      "1951    Mali\n",
      "Name: variable, dtype: object\n"
     ]
    }
   ],
   "source": [
    "print(country_values[-5:])"
   ]
  },
  {
   "cell_type": "code",
<<<<<<< HEAD
   "execution_count": 84,
=======
   "execution_count": 17,
>>>>>>> d5f83195045bb91a139fcfa4583daec5be102ec7
   "metadata": {},
   "outputs": [
    {
     "name": "stdout",
     "output_type": "stream",
     "text": [
      "         Date  Day      variable   value status country\n",
      "0    1/5/2015  289  Cases_Guinea  2776.0  Cases  Guinea\n",
      "1    1/4/2015  288  Cases_Guinea  2775.0  Cases  Guinea\n",
      "2    1/3/2015  287  Cases_Guinea  2769.0  Cases  Guinea\n",
      "3    1/2/2015  286  Cases_Guinea     NaN  Cases  Guinea\n",
      "4  12/31/2014  284  Cases_Guinea  2730.0  Cases  Guinea\n"
     ]
    }
   ],
   "source": [
    "ebola_long['status'] = status_values \n",
    "ebola_long['country'] = country_values\n",
    "print(ebola_long.head())"
   ]
  },
  {
   "cell_type": "markdown",
   "metadata": {},
   "source": [
    "# 알아두면 좋아요!\n",
    "## concat 메서드를 응용하여 데이터프레임에 열 추가하기(159쪽)"
   ]
  },
  {
   "cell_type": "code",
<<<<<<< HEAD
   "execution_count": 85,
=======
   "execution_count": 18,
>>>>>>> d5f83195045bb91a139fcfa4583daec5be102ec7
   "metadata": {},
   "outputs": [
    {
     "name": "stdout",
     "output_type": "stream",
     "text": [
      "         Date  Day      variable   value status country status country\n",
      "0    1/5/2015  289  Cases_Guinea  2776.0  Cases  Guinea  Cases  Guinea\n",
      "1    1/4/2015  288  Cases_Guinea  2775.0  Cases  Guinea  Cases  Guinea\n",
      "2    1/3/2015  287  Cases_Guinea  2769.0  Cases  Guinea  Cases  Guinea\n",
      "3    1/2/2015  286  Cases_Guinea     NaN  Cases  Guinea  Cases  Guinea\n",
      "4  12/31/2014  284  Cases_Guinea  2730.0  Cases  Guinea  Cases  Guinea\n"
     ]
    }
   ],
   "source": [
    "variable_split = ebola_long.variable.str.split('_', expand=True) \n",
    "variable_split.columns = ['status', 'country'] \n",
    "ebola_parsed = pd.concat([ebola_long, variable_split], axis=1)\n",
    "\n",
    "print(ebola_parsed.head())"
   ]
  },
  {
   "cell_type": "markdown",
   "metadata": {},
   "source": [
    "# 직접 해보세요!\n",
    "## 기상 데이터의 여러 열을 하나로 정리하기 ─ melt, pivot_table 메서드(160쪽)"
   ]
  },
  {
   "cell_type": "code",
<<<<<<< HEAD
   "execution_count": 86,
=======
   "execution_count": 26,
>>>>>>> d5f83195045bb91a139fcfa4583daec5be102ec7
   "metadata": {},
   "outputs": [
    {
     "name": "stdout",
     "output_type": "stream",
     "text": [
      "        id  year  month element  d1    d2    d3  d4    d5  d6  d7\n",
      "0  MX17004  2010      1    tmax NaN   NaN   NaN NaN   NaN NaN NaN\n",
      "1  MX17004  2010      1    tmin NaN   NaN   NaN NaN   NaN NaN NaN\n",
      "2  MX17004  2010      2    tmax NaN  27.3  24.1 NaN   NaN NaN NaN\n",
      "3  MX17004  2010      2    tmin NaN  14.4  14.4 NaN   NaN NaN NaN\n",
      "4  MX17004  2010      3    tmax NaN   NaN   NaN NaN  32.1 NaN NaN\n"
     ]
    }
   ],
   "source": [
    "weather = pd.read_csv('../data/weather.csv') \n",
    "print(weather.iloc[:5, :11])"
   ]
  },
  {
   "cell_type": "code",
<<<<<<< HEAD
   "execution_count": 87,
=======
   "execution_count": 27,
>>>>>>> d5f83195045bb91a139fcfa4583daec5be102ec7
   "metadata": {},
   "outputs": [
    {
     "name": "stdout",
<<<<<<< HEAD
     "output_type": "stream",
     "text": [
      "        id  year  month element day  temp\n",
      "0  MX17004  2010      1    tmax  d1   NaN\n",
      "1  MX17004  2010      1    tmin  d1   NaN\n",
      "2  MX17004  2010      2    tmax  d1   NaN\n",
      "3  MX17004  2010      2    tmin  d1   NaN\n",
      "4  MX17004  2010      3    tmax  d1   NaN\n"
     ]
    }
   ],
   "source": [
    "weather_melt = pd.melt(weather, id_vars=['id', 'year', 'month', 'element'], var_name='day', value_name='temp') \n",
    "print(weather_melt.head())"
   ]
  },
  {
   "cell_type": "code",
   "execution_count": 89,
   "metadata": {},
   "outputs": [
    {
     "data": {
      "text/html": [
       "<div>\n",
       "<style scoped>\n",
       "    .dataframe tbody tr th:only-of-type {\n",
       "        vertical-align: middle;\n",
       "    }\n",
       "\n",
       "    .dataframe tbody tr th {\n",
       "        vertical-align: top;\n",
       "    }\n",
       "\n",
       "    .dataframe thead th {\n",
       "        text-align: right;\n",
       "    }\n",
       "</style>\n",
       "<table border=\"1\" class=\"dataframe\">\n",
       "  <thead>\n",
       "    <tr style=\"text-align: right;\">\n",
       "      <th></th>\n",
       "      <th></th>\n",
       "      <th></th>\n",
       "      <th>element</th>\n",
       "      <th>tmax</th>\n",
       "      <th>tmin</th>\n",
       "    </tr>\n",
       "    <tr>\n",
       "      <th>id</th>\n",
       "      <th>year</th>\n",
       "      <th>month</th>\n",
       "      <th>day</th>\n",
       "      <th></th>\n",
       "      <th></th>\n",
       "    </tr>\n",
       "  </thead>\n",
       "  <tbody>\n",
       "    <tr>\n",
       "      <td rowspan=\"33\" valign=\"top\">MX17004</td>\n",
       "      <td rowspan=\"33\" valign=\"top\">2010</td>\n",
       "      <td>1</td>\n",
       "      <td>d30</td>\n",
       "      <td>27.8</td>\n",
       "      <td>14.5</td>\n",
       "    </tr>\n",
       "    <tr>\n",
       "      <td rowspan=\"4\" valign=\"top\">2</td>\n",
       "      <td>d11</td>\n",
       "      <td>29.7</td>\n",
       "      <td>13.4</td>\n",
       "    </tr>\n",
       "    <tr>\n",
       "      <td>d2</td>\n",
       "      <td>27.3</td>\n",
       "      <td>14.4</td>\n",
       "    </tr>\n",
       "    <tr>\n",
       "      <td>d23</td>\n",
       "      <td>29.9</td>\n",
       "      <td>10.7</td>\n",
       "    </tr>\n",
       "    <tr>\n",
       "      <td>d3</td>\n",
       "      <td>24.1</td>\n",
       "      <td>14.4</td>\n",
       "    </tr>\n",
       "    <tr>\n",
       "      <td rowspan=\"3\" valign=\"top\">3</td>\n",
       "      <td>d10</td>\n",
       "      <td>34.5</td>\n",
       "      <td>16.8</td>\n",
       "    </tr>\n",
       "    <tr>\n",
       "      <td>d16</td>\n",
       "      <td>31.1</td>\n",
       "      <td>17.6</td>\n",
       "    </tr>\n",
       "    <tr>\n",
       "      <td>d5</td>\n",
       "      <td>32.1</td>\n",
       "      <td>14.2</td>\n",
       "    </tr>\n",
       "    <tr>\n",
       "      <td>4</td>\n",
       "      <td>d27</td>\n",
       "      <td>36.3</td>\n",
       "      <td>16.7</td>\n",
       "    </tr>\n",
       "    <tr>\n",
       "      <td>5</td>\n",
       "      <td>d27</td>\n",
       "      <td>33.2</td>\n",
       "      <td>18.2</td>\n",
       "    </tr>\n",
       "    <tr>\n",
       "      <td rowspan=\"2\" valign=\"top\">6</td>\n",
       "      <td>d17</td>\n",
       "      <td>28.0</td>\n",
       "      <td>17.5</td>\n",
       "    </tr>\n",
       "    <tr>\n",
       "      <td>d29</td>\n",
       "      <td>30.1</td>\n",
       "      <td>18.0</td>\n",
       "    </tr>\n",
       "    <tr>\n",
       "      <td rowspan=\"2\" valign=\"top\">7</td>\n",
       "      <td>d3</td>\n",
       "      <td>28.6</td>\n",
       "      <td>17.5</td>\n",
       "    </tr>\n",
       "    <tr>\n",
       "      <td>d14</td>\n",
       "      <td>29.9</td>\n",
       "      <td>16.5</td>\n",
       "    </tr>\n",
       "    <tr>\n",
       "      <td rowspan=\"7\" valign=\"top\">8</td>\n",
       "      <td>d23</td>\n",
       "      <td>26.4</td>\n",
       "      <td>15.0</td>\n",
       "    </tr>\n",
       "    <tr>\n",
       "      <td>d5</td>\n",
       "      <td>29.6</td>\n",
       "      <td>15.8</td>\n",
       "    </tr>\n",
       "    <tr>\n",
       "      <td>d29</td>\n",
       "      <td>28.0</td>\n",
       "      <td>15.3</td>\n",
       "    </tr>\n",
       "    <tr>\n",
       "      <td>d13</td>\n",
       "      <td>29.8</td>\n",
       "      <td>16.5</td>\n",
       "    </tr>\n",
       "    <tr>\n",
       "      <td>d25</td>\n",
       "      <td>29.7</td>\n",
       "      <td>15.6</td>\n",
       "    </tr>\n",
       "    <tr>\n",
       "      <td>d31</td>\n",
       "      <td>25.4</td>\n",
       "      <td>15.4</td>\n",
       "    </tr>\n",
       "    <tr>\n",
       "      <td>d8</td>\n",
       "      <td>29.0</td>\n",
       "      <td>17.3</td>\n",
       "    </tr>\n",
       "    <tr>\n",
       "      <td rowspan=\"5\" valign=\"top\">10</td>\n",
       "      <td>d5</td>\n",
       "      <td>27.0</td>\n",
       "      <td>14.0</td>\n",
       "    </tr>\n",
       "    <tr>\n",
       "      <td>d14</td>\n",
       "      <td>29.5</td>\n",
       "      <td>13.0</td>\n",
       "    </tr>\n",
       "    <tr>\n",
       "      <td>d15</td>\n",
       "      <td>28.7</td>\n",
       "      <td>10.5</td>\n",
       "    </tr>\n",
       "    <tr>\n",
       "      <td>d28</td>\n",
       "      <td>31.2</td>\n",
       "      <td>15.0</td>\n",
       "    </tr>\n",
       "    <tr>\n",
       "      <td>d7</td>\n",
       "      <td>28.1</td>\n",
       "      <td>12.9</td>\n",
       "    </tr>\n",
       "    <tr>\n",
       "      <td rowspan=\"5\" valign=\"top\">11</td>\n",
       "      <td>d2</td>\n",
       "      <td>31.3</td>\n",
       "      <td>16.3</td>\n",
       "    </tr>\n",
       "    <tr>\n",
       "      <td>d5</td>\n",
       "      <td>26.3</td>\n",
       "      <td>7.9</td>\n",
       "    </tr>\n",
       "    <tr>\n",
       "      <td>d27</td>\n",
       "      <td>27.7</td>\n",
       "      <td>14.2</td>\n",
       "    </tr>\n",
       "    <tr>\n",
       "      <td>d26</td>\n",
       "      <td>28.1</td>\n",
       "      <td>12.1</td>\n",
       "    </tr>\n",
       "    <tr>\n",
       "      <td>d4</td>\n",
       "      <td>27.2</td>\n",
       "      <td>12.0</td>\n",
       "    </tr>\n",
       "    <tr>\n",
       "      <td rowspan=\"2\" valign=\"top\">12</td>\n",
       "      <td>d1</td>\n",
       "      <td>29.9</td>\n",
       "      <td>13.8</td>\n",
       "    </tr>\n",
       "    <tr>\n",
       "      <td>d6</td>\n",
       "      <td>27.8</td>\n",
       "      <td>10.5</td>\n",
       "    </tr>\n",
       "  </tbody>\n",
       "</table>\n",
       "</div>"
      ],
      "text/plain": [
       "element                 tmax  tmin\n",
       "id      year month day            \n",
       "MX17004 2010 1     d30  27.8  14.5\n",
       "             2     d11  29.7  13.4\n",
       "                   d2   27.3  14.4\n",
       "                   d23  29.9  10.7\n",
       "                   d3   24.1  14.4\n",
       "             3     d10  34.5  16.8\n",
       "                   d16  31.1  17.6\n",
       "                   d5   32.1  14.2\n",
       "             4     d27  36.3  16.7\n",
       "             5     d27  33.2  18.2\n",
       "             6     d17  28.0  17.5\n",
       "                   d29  30.1  18.0\n",
       "             7     d3   28.6  17.5\n",
       "                   d14  29.9  16.5\n",
       "             8     d23  26.4  15.0\n",
       "                   d5   29.6  15.8\n",
       "                   d29  28.0  15.3\n",
       "                   d13  29.8  16.5\n",
       "                   d25  29.7  15.6\n",
       "                   d31  25.4  15.4\n",
       "                   d8   29.0  17.3\n",
       "             10    d5   27.0  14.0\n",
       "                   d14  29.5  13.0\n",
       "                   d15  28.7  10.5\n",
       "                   d28  31.2  15.0\n",
       "                   d7   28.1  12.9\n",
       "             11    d2   31.3  16.3\n",
       "                   d5   26.3   7.9\n",
       "                   d27  27.7  14.2\n",
       "                   d26  28.1  12.1\n",
       "                   d4   27.2  12.0\n",
       "             12    d1   29.9  13.8\n",
       "                   d6   27.8  10.5"
      ]
     },
     "execution_count": 89,
     "metadata": {},
     "output_type": "execute_result"
    }
   ],
   "source": [
    "weather_tidy = weather_melt.pivot_table(#피벗 되어 있는 tmax, tmin 값을 새로운 column으로 수정하여 테이블 재생성하는것!\n",
    "    index=['id', 'year', 'month', 'day'], # 남길 columns\n",
    "    columns='element', # data들을 여러 column으로 구분하려는 column명\n",
    "    values='temp'\n",
    ")\n",
    "\n",
    "weather_tidy"
   ]
  },
  {
   "cell_type": "code",
   "execution_count": 90,
   "metadata": {},
   "outputs": [
    {
     "data": {
      "text/html": [
       "<div>\n",
       "<style scoped>\n",
       "    .dataframe tbody tr th:only-of-type {\n",
       "        vertical-align: middle;\n",
       "    }\n",
       "\n",
       "    .dataframe tbody tr th {\n",
       "        vertical-align: top;\n",
       "    }\n",
       "\n",
       "    .dataframe thead th {\n",
       "        text-align: right;\n",
       "    }\n",
       "</style>\n",
       "<table border=\"1\" class=\"dataframe\">\n",
       "  <thead>\n",
       "    <tr style=\"text-align: right;\">\n",
       "      <th>element</th>\n",
       "      <th>id</th>\n",
       "      <th>year</th>\n",
       "      <th>month</th>\n",
       "      <th>day</th>\n",
       "      <th>tmax</th>\n",
       "      <th>tmin</th>\n",
       "    </tr>\n",
       "  </thead>\n",
       "  <tbody>\n",
       "    <tr>\n",
       "      <td>0</td>\n",
       "      <td>MX17004</td>\n",
       "      <td>2010</td>\n",
       "      <td>1</td>\n",
       "      <td>d30</td>\n",
       "      <td>27.8</td>\n",
       "      <td>14.5</td>\n",
       "    </tr>\n",
       "    <tr>\n",
       "      <td>1</td>\n",
       "      <td>MX17004</td>\n",
       "      <td>2010</td>\n",
       "      <td>2</td>\n",
       "      <td>d11</td>\n",
       "      <td>29.7</td>\n",
       "      <td>13.4</td>\n",
       "    </tr>\n",
       "    <tr>\n",
       "      <td>2</td>\n",
       "      <td>MX17004</td>\n",
       "      <td>2010</td>\n",
       "      <td>2</td>\n",
       "      <td>d2</td>\n",
       "      <td>27.3</td>\n",
       "      <td>14.4</td>\n",
       "    </tr>\n",
       "    <tr>\n",
       "      <td>3</td>\n",
       "      <td>MX17004</td>\n",
       "      <td>2010</td>\n",
       "      <td>2</td>\n",
       "      <td>d23</td>\n",
       "      <td>29.9</td>\n",
       "      <td>10.7</td>\n",
       "    </tr>\n",
       "    <tr>\n",
       "      <td>4</td>\n",
       "      <td>MX17004</td>\n",
       "      <td>2010</td>\n",
       "      <td>2</td>\n",
       "      <td>d3</td>\n",
       "      <td>24.1</td>\n",
       "      <td>14.4</td>\n",
       "    </tr>\n",
       "  </tbody>\n",
       "</table>\n",
       "</div>"
      ],
      "text/plain": [
       "element       id  year  month  day  tmax  tmin\n",
       "0        MX17004  2010      1  d30  27.8  14.5\n",
       "1        MX17004  2010      2  d11  29.7  13.4\n",
       "2        MX17004  2010      2   d2  27.3  14.4\n",
       "3        MX17004  2010      2  d23  29.9  10.7\n",
       "4        MX17004  2010      2   d3  24.1  14.4"
      ]
     },
     "execution_count": 90,
     "metadata": {},
     "output_type": "execute_result"
    }
   ],
   "source": [
    "weather_tidy_flat = weather_tidy.reset_index() #index 정리!\n",
    "weather_tidy_flat.head()"
   ]
  },
  {
   "cell_type": "markdown",
   "metadata": {},
   "source": [
    "# 직접 해보세요!\n",
    "## 빌보드 차트의 중복 데이터 처리하기(163쪽)"
=======
     "output_type": "stream",
     "text": [
      "        id  year  month element day  temp\n",
      "0  MX17004  2010      1    tmax  d1   NaN\n",
      "1  MX17004  2010      1    tmin  d1   NaN\n",
      "2  MX17004  2010      2    tmax  d1   NaN\n",
      "3  MX17004  2010      2    tmin  d1   NaN\n",
      "4  MX17004  2010      3    tmax  d1   NaN\n"
     ]
    }
   ],
   "source": [
    "weather_melt = pd.melt(weather, id_vars=['id', 'year', 'month', 'element'], var_name='day', value_name='temp') \n",
    "print(weather_melt.head())"
   ]
  },
  {
   "cell_type": "code",
   "execution_count": 28,
   "metadata": {},
   "outputs": [
    {
     "name": "stdout",
     "output_type": "stream",
     "text": [
      "element                 tmax  tmin\n",
      "id      year month day            \n",
      "MX17004 2010 1     d1    NaN   NaN\n",
      "                   d10   NaN   NaN\n",
      "                   d11   NaN   NaN\n",
      "                   d12   NaN   NaN\n",
      "                   d13   NaN   NaN\n",
      "                   d14   NaN   NaN\n",
      "                   d15   NaN   NaN\n",
      "                   d16   NaN   NaN\n",
      "                   d17   NaN   NaN\n",
      "                   d18   NaN   NaN\n",
      "                   d19   NaN   NaN\n",
      "                   d2    NaN   NaN\n",
      "                   d20   NaN   NaN\n",
      "                   d21   NaN   NaN\n",
      "                   d22   NaN   NaN\n",
      "                   d23   NaN   NaN\n",
      "                   d24   NaN   NaN\n",
      "                   d25   NaN   NaN\n",
      "                   d26   NaN   NaN\n",
      "                   d27   NaN   NaN\n",
      "                   d28   NaN   NaN\n",
      "                   d29   NaN   NaN\n",
      "                   d3    NaN   NaN\n",
      "                   d30  27.8  14.5\n",
      "                   d31   NaN   NaN\n",
      "                   d4    NaN   NaN\n",
      "                   d5    NaN   NaN\n",
      "                   d6    NaN   NaN\n",
      "                   d7    NaN   NaN\n",
      "                   d8    NaN   NaN\n",
      "...                      ...   ...\n",
      "             12    d10   NaN   NaN\n",
      "                   d11   NaN   NaN\n",
      "                   d12   NaN   NaN\n",
      "                   d13   NaN   NaN\n",
      "                   d14   NaN   NaN\n",
      "                   d15   NaN   NaN\n",
      "                   d16   NaN   NaN\n",
      "                   d17   NaN   NaN\n",
      "                   d18   NaN   NaN\n",
      "                   d19   NaN   NaN\n",
      "                   d2    NaN   NaN\n",
      "                   d20   NaN   NaN\n",
      "                   d21   NaN   NaN\n",
      "                   d22   NaN   NaN\n",
      "                   d23   NaN   NaN\n",
      "                   d24   NaN   NaN\n",
      "                   d25   NaN   NaN\n",
      "                   d26   NaN   NaN\n",
      "                   d27   NaN   NaN\n",
      "                   d28   NaN   NaN\n",
      "                   d29   NaN   NaN\n",
      "                   d3    NaN   NaN\n",
      "                   d30   NaN   NaN\n",
      "                   d31   NaN   NaN\n",
      "                   d4    NaN   NaN\n",
      "                   d5    NaN   NaN\n",
      "                   d6   27.8  10.5\n",
      "                   d7    NaN   NaN\n",
      "                   d8    NaN   NaN\n",
      "                   d9    NaN   NaN\n",
      "\n",
      "[341 rows x 2 columns]\n"
     ]
    }
   ],
   "source": [
    "weather_tidy = weather_melt.pivot_table(\n",
    "    index=['id', 'year', 'month', 'day'], \n",
    "    columns='element', \n",
    "    values='temp'\n",
    ")\n",
    "\n",
    "print(weather_tidy)"
>>>>>>> d5f83195045bb91a139fcfa4583daec5be102ec7
   ]
  },
  {
   "cell_type": "code",
<<<<<<< HEAD
   "execution_count": 91,
=======
   "execution_count": 22,
>>>>>>> d5f83195045bb91a139fcfa4583daec5be102ec7
   "metadata": {},
   "outputs": [
    {
     "name": "stdout",
     "output_type": "stream",
     "text": [
<<<<<<< HEAD
      "(24092, 7)\n",
      "       year            artist                    track  time date.entered  \\\n",
      "0      2000             2 Pac  Baby Don't Cry (Keep...  4:22   2000-02-26   \n",
      "1      2000           2Ge+her  The Hardest Part Of ...  3:15   2000-09-02   \n",
      "2      2000      3 Doors Down               Kryptonite  3:53   2000-04-08   \n",
      "3      2000      3 Doors Down                    Loser  4:24   2000-10-21   \n",
      "4      2000          504 Boyz            Wobble Wobble  3:35   2000-04-15   \n",
      "...     ...               ...                      ...   ...          ...   \n",
      "24087  2000       Yankee Grey     Another Nine Minutes  3:10   2000-04-29   \n",
      "24088  2000  Yearwood, Trisha          Real Live Woman  3:55   2000-04-01   \n",
      "24089  2000   Ying Yang Twins  Whistle While You Tw...  4:19   2000-03-18   \n",
      "24090  2000     Zombie Nation            Kernkraft 400  3:30   2000-09-02   \n",
      "24091  2000   matchbox twenty                     Bent  4:12   2000-04-29   \n",
      "\n",
      "       week  rating  \n",
      "0       wk1    87.0  \n",
      "1       wk1    91.0  \n",
      "2       wk1    81.0  \n",
      "3       wk1    76.0  \n",
      "4       wk1    57.0  \n",
      "...     ...     ...  \n",
      "24087  wk76     NaN  \n",
      "24088  wk76     NaN  \n",
      "24089  wk76     NaN  \n",
      "24090  wk76     NaN  \n",
      "24091  wk76     NaN  \n",
      "\n",
      "[24092 rows x 7 columns]\n"
=======
      "element       id  year  month  day  tmax  tmin\n",
      "0        MX17004  2010      1   d1   NaN   NaN\n",
      "1        MX17004  2010      1  d10   NaN   NaN\n",
      "2        MX17004  2010      1  d11   NaN   NaN\n",
      "3        MX17004  2010      1  d12   NaN   NaN\n",
      "4        MX17004  2010      1  d13   NaN   NaN\n"
>>>>>>> d5f83195045bb91a139fcfa4583daec5be102ec7
     ]
    }
   ],
   "source": [
<<<<<<< HEAD
    "billboard = pd.read_csv('../data/billboard.csv')\n",
    "billboard_long = pd.melt(billboard, id_vars=['year', 'artist', 'track', 'time', 'date.entered'], var_name='week', value_name='rating')\n",
    "\n",
    "print(billboard_long.shape)\n",
    "\n",
    "print(billboard_long)"
=======
    "weather_tidy_flat = weather_tidy.reset_index() \n",
    "print(weather_tidy_flat.head())"
   ]
  },
  {
   "cell_type": "markdown",
   "metadata": {},
   "source": [
    "# 직접 해보세요!\n",
    "## 빌보드 차트의 중복 데이터 처리하기(163쪽)"
>>>>>>> d5f83195045bb91a139fcfa4583daec5be102ec7
   ]
  },
  {
   "cell_type": "code",
<<<<<<< HEAD
   "execution_count": 92,
   "metadata": {},
   "outputs": [
    {
     "data": {
      "text/html": [
       "<div>\n",
       "<style scoped>\n",
       "    .dataframe tbody tr th:only-of-type {\n",
       "        vertical-align: middle;\n",
       "    }\n",
       "\n",
       "    .dataframe tbody tr th {\n",
       "        vertical-align: top;\n",
       "    }\n",
       "\n",
       "    .dataframe thead th {\n",
       "        text-align: right;\n",
       "    }\n",
       "</style>\n",
       "<table border=\"1\" class=\"dataframe\">\n",
       "  <thead>\n",
       "    <tr style=\"text-align: right;\">\n",
       "      <th></th>\n",
       "      <th>year</th>\n",
       "      <th>artist</th>\n",
       "      <th>track</th>\n",
       "      <th>time</th>\n",
       "      <th>date.entered</th>\n",
       "      <th>week</th>\n",
       "      <th>rating</th>\n",
       "    </tr>\n",
       "  </thead>\n",
       "  <tbody>\n",
       "    <tr>\n",
       "      <td>3</td>\n",
       "      <td>2000</td>\n",
       "      <td>3 Doors Down</td>\n",
       "      <td>Loser</td>\n",
       "      <td>4:24</td>\n",
       "      <td>2000-10-21</td>\n",
       "      <td>wk1</td>\n",
       "      <td>76.0</td>\n",
       "    </tr>\n",
       "    <tr>\n",
       "      <td>320</td>\n",
       "      <td>2000</td>\n",
       "      <td>3 Doors Down</td>\n",
       "      <td>Loser</td>\n",
       "      <td>4:24</td>\n",
       "      <td>2000-10-21</td>\n",
       "      <td>wk2</td>\n",
       "      <td>76.0</td>\n",
       "    </tr>\n",
       "    <tr>\n",
       "      <td>637</td>\n",
       "      <td>2000</td>\n",
       "      <td>3 Doors Down</td>\n",
       "      <td>Loser</td>\n",
       "      <td>4:24</td>\n",
       "      <td>2000-10-21</td>\n",
       "      <td>wk3</td>\n",
       "      <td>72.0</td>\n",
       "    </tr>\n",
       "    <tr>\n",
       "      <td>954</td>\n",
       "      <td>2000</td>\n",
       "      <td>3 Doors Down</td>\n",
       "      <td>Loser</td>\n",
       "      <td>4:24</td>\n",
       "      <td>2000-10-21</td>\n",
       "      <td>wk4</td>\n",
       "      <td>69.0</td>\n",
       "    </tr>\n",
       "    <tr>\n",
       "      <td>1271</td>\n",
       "      <td>2000</td>\n",
       "      <td>3 Doors Down</td>\n",
       "      <td>Loser</td>\n",
       "      <td>4:24</td>\n",
       "      <td>2000-10-21</td>\n",
       "      <td>wk5</td>\n",
       "      <td>67.0</td>\n",
       "    </tr>\n",
       "  </tbody>\n",
       "</table>\n",
       "</div>"
      ],
      "text/plain": [
       "      year        artist  track  time date.entered week  rating\n",
       "3     2000  3 Doors Down  Loser  4:24   2000-10-21  wk1    76.0\n",
       "320   2000  3 Doors Down  Loser  4:24   2000-10-21  wk2    76.0\n",
       "637   2000  3 Doors Down  Loser  4:24   2000-10-21  wk3    72.0\n",
       "954   2000  3 Doors Down  Loser  4:24   2000-10-21  wk4    69.0\n",
       "1271  2000  3 Doors Down  Loser  4:24   2000-10-21  wk5    67.0"
      ]
     },
     "execution_count": 92,
     "metadata": {},
     "output_type": "execute_result"
    }
   ],
   "source": [
    "billboard_long[billboard_long.track == 'Loser'].head# track이 Loser인 row 출력"
=======
   "execution_count": 23,
   "metadata": {},
   "outputs": [
    {
     "name": "stdout",
     "output_type": "stream",
     "text": [
      "(24092, 7)\n",
      "   year        artist                    track  time date.entered week  rating\n",
      "0  2000         2 Pac  Baby Don't Cry (Keep...  4:22   2000-02-26  wk1    87.0\n",
      "1  2000       2Ge+her  The Hardest Part Of ...  3:15   2000-09-02  wk1    91.0\n",
      "2  2000  3 Doors Down               Kryptonite  3:53   2000-04-08  wk1    81.0\n",
      "3  2000  3 Doors Down                    Loser  4:24   2000-10-21  wk1    76.0\n",
      "4  2000      504 Boyz            Wobble Wobble  3:35   2000-04-15  wk1    57.0\n"
     ]
    }
   ],
   "source": [
    "billboard = pd.read_csv('../data/billboard.csv')\n",
    "billboard_long = pd.melt(billboard, id_vars=['year', 'artist', 'track', 'time', 'date.entered'], var_name='week', value_name='rating')\n",
    "\n",
    "print(billboard_long.shape)\n",
    "\n",
    "print(billboard_long.head())"
>>>>>>> d5f83195045bb91a139fcfa4583daec5be102ec7
   ]
  },
  {
   "cell_type": "code",
<<<<<<< HEAD
   "execution_count": 93,
=======
   "execution_count": 24,
>>>>>>> d5f83195045bb91a139fcfa4583daec5be102ec7
   "metadata": {},
   "outputs": [
    {
     "name": "stdout",
     "output_type": "stream",
     "text": [
<<<<<<< HEAD
      "(24092, 4)\n"
=======
      "      year        artist  track  time date.entered week  rating\n",
      "3     2000  3 Doors Down  Loser  4:24   2000-10-21  wk1    76.0\n",
      "320   2000  3 Doors Down  Loser  4:24   2000-10-21  wk2    76.0\n",
      "637   2000  3 Doors Down  Loser  4:24   2000-10-21  wk3    72.0\n",
      "954   2000  3 Doors Down  Loser  4:24   2000-10-21  wk4    69.0\n",
      "1271  2000  3 Doors Down  Loser  4:24   2000-10-21  wk5    67.0\n"
>>>>>>> d5f83195045bb91a139fcfa4583daec5be102ec7
     ]
    }
   ],
   "source": [
<<<<<<< HEAD
    "billboard_songs = billboard_long[['year', 'artist', 'track', 'time']] # 중복된 data의 columns\n",
    "print(billboard_songs.shape)"
=======
    "print(billboard_long[billboard_long.track == 'Loser'].head())"
>>>>>>> d5f83195045bb91a139fcfa4583daec5be102ec7
   ]
  },
  {
   "cell_type": "code",
<<<<<<< HEAD
   "execution_count": 94,
=======
   "execution_count": 25,
>>>>>>> d5f83195045bb91a139fcfa4583daec5be102ec7
   "metadata": {},
   "outputs": [
    {
     "name": "stdout",
     "output_type": "stream",
     "text": [
<<<<<<< HEAD
      "(317, 4)\n"
=======
      "(24092, 4)\n"
>>>>>>> d5f83195045bb91a139fcfa4583daec5be102ec7
     ]
    }
   ],
   "source": [
<<<<<<< HEAD
    "billboard_songs = billboard_songs.drop_duplicates() #drop_duplicates() 메서드를 이용하여 중복 데이터(row) 제거\n",
=======
    "billboard_songs = billboard_long[['year', 'artist', 'track', 'time']] \n",
>>>>>>> d5f83195045bb91a139fcfa4583daec5be102ec7
    "print(billboard_songs.shape)"
   ]
  },
  {
   "cell_type": "code",
<<<<<<< HEAD
   "execution_count": 96,
   "metadata": {},
   "outputs": [
    {
     "data": {
      "text/html": [
       "<div>\n",
       "<style scoped>\n",
       "    .dataframe tbody tr th:only-of-type {\n",
       "        vertical-align: middle;\n",
       "    }\n",
       "\n",
       "    .dataframe tbody tr th {\n",
       "        vertical-align: top;\n",
       "    }\n",
       "\n",
       "    .dataframe thead th {\n",
       "        text-align: right;\n",
       "    }\n",
       "</style>\n",
       "<table border=\"1\" class=\"dataframe\">\n",
       "  <thead>\n",
       "    <tr style=\"text-align: right;\">\n",
       "      <th></th>\n",
       "      <th>year</th>\n",
       "      <th>artist</th>\n",
       "      <th>track</th>\n",
       "      <th>time</th>\n",
       "      <th>id</th>\n",
       "    </tr>\n",
       "  </thead>\n",
       "  <tbody>\n",
       "    <tr>\n",
       "      <td>0</td>\n",
       "      <td>2000</td>\n",
       "      <td>2 Pac</td>\n",
       "      <td>Baby Don't Cry (Keep...</td>\n",
       "      <td>4:22</td>\n",
       "      <td>0</td>\n",
       "    </tr>\n",
       "    <tr>\n",
       "      <td>1</td>\n",
       "      <td>2000</td>\n",
       "      <td>2Ge+her</td>\n",
       "      <td>The Hardest Part Of ...</td>\n",
       "      <td>3:15</td>\n",
       "      <td>1</td>\n",
       "    </tr>\n",
       "    <tr>\n",
       "      <td>2</td>\n",
       "      <td>2000</td>\n",
       "      <td>3 Doors Down</td>\n",
       "      <td>Kryptonite</td>\n",
       "      <td>3:53</td>\n",
       "      <td>2</td>\n",
       "    </tr>\n",
       "    <tr>\n",
       "      <td>3</td>\n",
       "      <td>2000</td>\n",
       "      <td>3 Doors Down</td>\n",
       "      <td>Loser</td>\n",
       "      <td>4:24</td>\n",
       "      <td>3</td>\n",
       "    </tr>\n",
       "    <tr>\n",
       "      <td>4</td>\n",
       "      <td>2000</td>\n",
       "      <td>504 Boyz</td>\n",
       "      <td>Wobble Wobble</td>\n",
       "      <td>3:35</td>\n",
       "      <td>4</td>\n",
       "    </tr>\n",
       "    <tr>\n",
       "      <td>...</td>\n",
       "      <td>...</td>\n",
       "      <td>...</td>\n",
       "      <td>...</td>\n",
       "      <td>...</td>\n",
       "      <td>...</td>\n",
       "    </tr>\n",
       "    <tr>\n",
       "      <td>312</td>\n",
       "      <td>2000</td>\n",
       "      <td>Yankee Grey</td>\n",
       "      <td>Another Nine Minutes</td>\n",
       "      <td>3:10</td>\n",
       "      <td>312</td>\n",
       "    </tr>\n",
       "    <tr>\n",
       "      <td>313</td>\n",
       "      <td>2000</td>\n",
       "      <td>Yearwood, Trisha</td>\n",
       "      <td>Real Live Woman</td>\n",
       "      <td>3:55</td>\n",
       "      <td>313</td>\n",
       "    </tr>\n",
       "    <tr>\n",
       "      <td>314</td>\n",
       "      <td>2000</td>\n",
       "      <td>Ying Yang Twins</td>\n",
       "      <td>Whistle While You Tw...</td>\n",
       "      <td>4:19</td>\n",
       "      <td>314</td>\n",
       "    </tr>\n",
       "    <tr>\n",
       "      <td>315</td>\n",
       "      <td>2000</td>\n",
       "      <td>Zombie Nation</td>\n",
       "      <td>Kernkraft 400</td>\n",
       "      <td>3:30</td>\n",
       "      <td>315</td>\n",
       "    </tr>\n",
       "    <tr>\n",
       "      <td>316</td>\n",
       "      <td>2000</td>\n",
       "      <td>matchbox twenty</td>\n",
       "      <td>Bent</td>\n",
       "      <td>4:12</td>\n",
       "      <td>316</td>\n",
       "    </tr>\n",
       "  </tbody>\n",
       "</table>\n",
       "<p>317 rows × 5 columns</p>\n",
       "</div>"
      ],
      "text/plain": [
       "     year            artist                    track  time   id\n",
       "0    2000             2 Pac  Baby Don't Cry (Keep...  4:22    0\n",
       "1    2000           2Ge+her  The Hardest Part Of ...  3:15    1\n",
       "2    2000      3 Doors Down               Kryptonite  3:53    2\n",
       "3    2000      3 Doors Down                    Loser  4:24    3\n",
       "4    2000          504 Boyz            Wobble Wobble  3:35    4\n",
       "..    ...               ...                      ...   ...  ...\n",
       "312  2000       Yankee Grey     Another Nine Minutes  3:10  312\n",
       "313  2000  Yearwood, Trisha          Real Live Woman  3:55  313\n",
       "314  2000   Ying Yang Twins  Whistle While You Tw...  4:19  314\n",
       "315  2000     Zombie Nation            Kernkraft 400  3:30  315\n",
       "316  2000   matchbox twenty                     Bent  4:12  316\n",
       "\n",
       "[317 rows x 5 columns]"
      ]
     },
     "execution_count": 96,
     "metadata": {},
     "output_type": "execute_result"
    }
   ],
   "source": [
    "billboard_songs['id'] = range(len(billboard_songs)) # 중복제거된 billboard_song에 대하여 데이터의 총 길이만큼 0부터 id 부여\n",
    "billboard_songs"
=======
   "execution_count": 26,
   "metadata": {},
   "outputs": [
    {
     "name": "stdout",
     "output_type": "stream",
     "text": [
      "(317, 4)\n"
     ]
    }
   ],
   "source": [
    "billboard_songs = billboard_songs.drop_duplicates() \n",
    "print(billboard_songs.shape)"
>>>>>>> d5f83195045bb91a139fcfa4583daec5be102ec7
   ]
  },
  {
   "cell_type": "code",
<<<<<<< HEAD
   "execution_count": 98,
=======
   "execution_count": 27,
>>>>>>> d5f83195045bb91a139fcfa4583daec5be102ec7
   "metadata": {},
   "outputs": [
    {
     "name": "stdout",
     "output_type": "stream",
     "text": [
<<<<<<< HEAD
      "(24092, 8)\n"
     ]
    },
    {
     "data": {
      "text/html": [
       "<div>\n",
       "<style scoped>\n",
       "    .dataframe tbody tr th:only-of-type {\n",
       "        vertical-align: middle;\n",
       "    }\n",
       "\n",
       "    .dataframe tbody tr th {\n",
       "        vertical-align: top;\n",
       "    }\n",
       "\n",
       "    .dataframe thead th {\n",
       "        text-align: right;\n",
       "    }\n",
       "</style>\n",
       "<table border=\"1\" class=\"dataframe\">\n",
       "  <thead>\n",
       "    <tr style=\"text-align: right;\">\n",
       "      <th></th>\n",
       "      <th>year</th>\n",
       "      <th>artist</th>\n",
       "      <th>track</th>\n",
       "      <th>time</th>\n",
       "      <th>date.entered</th>\n",
       "      <th>week</th>\n",
       "      <th>rating</th>\n",
       "      <th>id</th>\n",
       "    </tr>\n",
       "  </thead>\n",
       "  <tbody>\n",
       "    <tr>\n",
       "      <td>0</td>\n",
       "      <td>2000</td>\n",
       "      <td>2 Pac</td>\n",
       "      <td>Baby Don't Cry (Keep...</td>\n",
       "      <td>4:22</td>\n",
       "      <td>2000-02-26</td>\n",
       "      <td>wk1</td>\n",
       "      <td>87.0</td>\n",
       "      <td>0</td>\n",
       "    </tr>\n",
       "    <tr>\n",
       "      <td>1</td>\n",
       "      <td>2000</td>\n",
       "      <td>2 Pac</td>\n",
       "      <td>Baby Don't Cry (Keep...</td>\n",
       "      <td>4:22</td>\n",
       "      <td>2000-02-26</td>\n",
       "      <td>wk2</td>\n",
       "      <td>82.0</td>\n",
       "      <td>0</td>\n",
       "    </tr>\n",
       "    <tr>\n",
       "      <td>2</td>\n",
       "      <td>2000</td>\n",
       "      <td>2 Pac</td>\n",
       "      <td>Baby Don't Cry (Keep...</td>\n",
       "      <td>4:22</td>\n",
       "      <td>2000-02-26</td>\n",
       "      <td>wk3</td>\n",
       "      <td>72.0</td>\n",
       "      <td>0</td>\n",
       "    </tr>\n",
       "    <tr>\n",
       "      <td>3</td>\n",
       "      <td>2000</td>\n",
       "      <td>2 Pac</td>\n",
       "      <td>Baby Don't Cry (Keep...</td>\n",
       "      <td>4:22</td>\n",
       "      <td>2000-02-26</td>\n",
       "      <td>wk4</td>\n",
       "      <td>77.0</td>\n",
       "      <td>0</td>\n",
       "    </tr>\n",
       "    <tr>\n",
       "      <td>4</td>\n",
       "      <td>2000</td>\n",
       "      <td>2 Pac</td>\n",
       "      <td>Baby Don't Cry (Keep...</td>\n",
       "      <td>4:22</td>\n",
       "      <td>2000-02-26</td>\n",
       "      <td>wk5</td>\n",
       "      <td>87.0</td>\n",
       "      <td>0</td>\n",
       "    </tr>\n",
       "    <tr>\n",
       "      <td>...</td>\n",
       "      <td>...</td>\n",
       "      <td>...</td>\n",
       "      <td>...</td>\n",
       "      <td>...</td>\n",
       "      <td>...</td>\n",
       "      <td>...</td>\n",
       "      <td>...</td>\n",
       "      <td>...</td>\n",
       "    </tr>\n",
       "    <tr>\n",
       "      <td>24087</td>\n",
       "      <td>2000</td>\n",
       "      <td>matchbox twenty</td>\n",
       "      <td>Bent</td>\n",
       "      <td>4:12</td>\n",
       "      <td>2000-04-29</td>\n",
       "      <td>wk72</td>\n",
       "      <td>NaN</td>\n",
       "      <td>316</td>\n",
       "    </tr>\n",
       "    <tr>\n",
       "      <td>24088</td>\n",
       "      <td>2000</td>\n",
       "      <td>matchbox twenty</td>\n",
       "      <td>Bent</td>\n",
       "      <td>4:12</td>\n",
       "      <td>2000-04-29</td>\n",
       "      <td>wk73</td>\n",
       "      <td>NaN</td>\n",
       "      <td>316</td>\n",
       "    </tr>\n",
       "    <tr>\n",
       "      <td>24089</td>\n",
       "      <td>2000</td>\n",
       "      <td>matchbox twenty</td>\n",
       "      <td>Bent</td>\n",
       "      <td>4:12</td>\n",
       "      <td>2000-04-29</td>\n",
       "      <td>wk74</td>\n",
       "      <td>NaN</td>\n",
       "      <td>316</td>\n",
       "    </tr>\n",
       "    <tr>\n",
       "      <td>24090</td>\n",
       "      <td>2000</td>\n",
       "      <td>matchbox twenty</td>\n",
       "      <td>Bent</td>\n",
       "      <td>4:12</td>\n",
       "      <td>2000-04-29</td>\n",
       "      <td>wk75</td>\n",
       "      <td>NaN</td>\n",
       "      <td>316</td>\n",
       "    </tr>\n",
       "    <tr>\n",
       "      <td>24091</td>\n",
       "      <td>2000</td>\n",
       "      <td>matchbox twenty</td>\n",
       "      <td>Bent</td>\n",
       "      <td>4:12</td>\n",
       "      <td>2000-04-29</td>\n",
       "      <td>wk76</td>\n",
       "      <td>NaN</td>\n",
       "      <td>316</td>\n",
       "    </tr>\n",
       "  </tbody>\n",
       "</table>\n",
       "<p>24092 rows × 8 columns</p>\n",
       "</div>"
      ],
      "text/plain": [
       "       year           artist                    track  time date.entered  \\\n",
       "0      2000            2 Pac  Baby Don't Cry (Keep...  4:22   2000-02-26   \n",
       "1      2000            2 Pac  Baby Don't Cry (Keep...  4:22   2000-02-26   \n",
       "2      2000            2 Pac  Baby Don't Cry (Keep...  4:22   2000-02-26   \n",
       "3      2000            2 Pac  Baby Don't Cry (Keep...  4:22   2000-02-26   \n",
       "4      2000            2 Pac  Baby Don't Cry (Keep...  4:22   2000-02-26   \n",
       "...     ...              ...                      ...   ...          ...   \n",
       "24087  2000  matchbox twenty                     Bent  4:12   2000-04-29   \n",
       "24088  2000  matchbox twenty                     Bent  4:12   2000-04-29   \n",
       "24089  2000  matchbox twenty                     Bent  4:12   2000-04-29   \n",
       "24090  2000  matchbox twenty                     Bent  4:12   2000-04-29   \n",
       "24091  2000  matchbox twenty                     Bent  4:12   2000-04-29   \n",
       "\n",
       "       week  rating   id  \n",
       "0       wk1    87.0    0  \n",
       "1       wk2    82.0    0  \n",
       "2       wk3    72.0    0  \n",
       "3       wk4    77.0    0  \n",
       "4       wk5    87.0    0  \n",
       "...     ...     ...  ...  \n",
       "24087  wk72     NaN  316  \n",
       "24088  wk73     NaN  316  \n",
       "24089  wk74     NaN  316  \n",
       "24090  wk75     NaN  316  \n",
       "24091  wk76     NaN  316  \n",
       "\n",
       "[24092 rows x 8 columns]"
      ]
     },
     "execution_count": 98,
     "metadata": {},
     "output_type": "execute_result"
=======
      "   year          artist                    track  time  id\n",
      "0  2000           2 Pac  Baby Don't Cry (Keep...  4:22   0\n",
      "1  2000         2Ge+her  The Hardest Part Of ...  3:15   1\n",
      "2  2000    3 Doors Down               Kryptonite  3:53   2\n",
      "3  2000    3 Doors Down                    Loser  4:24   3\n",
      "4  2000        504 Boyz            Wobble Wobble  3:35   4\n",
      "5  2000            98^0  Give Me Just One Nig...  3:24   5\n",
      "6  2000         A*Teens            Dancing Queen  3:44   6\n",
      "7  2000         Aaliyah            I Don't Wanna  4:15   7\n",
      "8  2000         Aaliyah                Try Again  4:03   8\n",
      "9  2000  Adams, Yolanda            Open My Heart  5:30   9\n"
     ]
    }
   ],
   "source": [
    "billboard_songs['id'] = range(len(billboard_songs)) \n",
    "print(billboard_songs.head(n=10))"
   ]
  },
  {
   "cell_type": "code",
   "execution_count": 28,
   "metadata": {},
   "outputs": [
    {
     "name": "stdout",
     "output_type": "stream",
     "text": [
      "(24092, 8)\n"
     ]
>>>>>>> d5f83195045bb91a139fcfa4583daec5be102ec7
    }
   ],
   "source": [
    "billboard_ratings = billboard_long.merge( billboard_songs, on=['year', 'artist', 'track', 'time']) \n",
<<<<<<< HEAD
    "print(billboard_ratings.shape)\n",
    "billboard_ratings"
=======
    "print(billboard_ratings.shape)"
>>>>>>> d5f83195045bb91a139fcfa4583daec5be102ec7
   ]
  },
  {
   "cell_type": "code",
<<<<<<< HEAD
   "execution_count": 99,
=======
   "execution_count": 29,
>>>>>>> d5f83195045bb91a139fcfa4583daec5be102ec7
   "metadata": {},
   "outputs": [
    {
     "name": "stdout",
     "output_type": "stream",
     "text": [
      "   year artist                    track  time date.entered week  rating  id\n",
      "0  2000  2 Pac  Baby Don't Cry (Keep...  4:22   2000-02-26  wk1    87.0   0\n",
      "1  2000  2 Pac  Baby Don't Cry (Keep...  4:22   2000-02-26  wk2    82.0   0\n",
      "2  2000  2 Pac  Baby Don't Cry (Keep...  4:22   2000-02-26  wk3    72.0   0\n",
      "3  2000  2 Pac  Baby Don't Cry (Keep...  4:22   2000-02-26  wk4    77.0   0\n",
      "4  2000  2 Pac  Baby Don't Cry (Keep...  4:22   2000-02-26  wk5    87.0   0\n"
     ]
    }
   ],
   "source": [
    "print(billboard_ratings.head())"
   ]
  },
  {
   "cell_type": "markdown",
   "metadata": {},
   "source": [
    "# 직접 해보세요!\n",
    "## 뉴욕 택시 데이터 준비(166쪽)"
   ]
  },
  {
   "cell_type": "code",
<<<<<<< HEAD
   "execution_count": 100,
=======
   "execution_count": 2,
>>>>>>> d5f83195045bb91a139fcfa4583daec5be102ec7
   "metadata": {},
   "outputs": [
    {
     "name": "stdout",
     "output_type": "stream",
     "text": [
      "https://s3.amazonaws.com/nyc-tlc/trip+data/fhv_tripdata_2015-01.csv\n",
      "\n",
      "../data\\fhv_tripdata_2015-01.csv\n",
      "https://s3.amazonaws.com/nyc-tlc/trip+data/fhv_tripdata_2015-02.csv\n",
      "\n",
      "../data\\fhv_tripdata_2015-02.csv\n",
      "https://s3.amazonaws.com/nyc-tlc/trip+data/fhv_tripdata_2015-03.csv\n",
      "\n",
      "../data\\fhv_tripdata_2015-03.csv\n",
      "https://s3.amazonaws.com/nyc-tlc/trip+data/fhv_tripdata_2015-04.csv\n",
      "\n",
      "../data\\fhv_tripdata_2015-04.csv\n",
      "https://s3.amazonaws.com/nyc-tlc/trip+data/fhv_tripdata_2015-05.csv\n",
      "\n",
      "../data\\fhv_tripdata_2015-05.csv\n"
     ]
    }
   ],
   "source": [
    "import os \n",
    "import urllib.request\n",
    "\n",
    "# 네트워크 상태에 따라 5 ~ 15분이 소요됩니다.\n",
    "with open('../data/raw_data_urls.txt', 'r') as data_urls:\n",
    "    for line, url in enumerate(data_urls):\n",
    "        if line == 5:\n",
    "            break \n",
    "        fn = url.split('/')[-1].strip()\n",
    "        fp = os.path.join('', '../data', fn)\n",
    "        print(url)\n",
    "        print(fp)\n",
    "        urllib.request.urlretrieve(url, fp)"
   ]
  },
  {
   "cell_type": "code",
<<<<<<< HEAD
   "execution_count": 101,
=======
   "execution_count": 30,
>>>>>>> d5f83195045bb91a139fcfa4583daec5be102ec7
   "metadata": {},
   "outputs": [
    {
     "name": "stdout",
     "output_type": "stream",
     "text": [
      "['../data\\\\fhv_tripdata_2015-01.csv', '../data\\\\fhv_tripdata_2015-02.csv', '../data\\\\fhv_tripdata_2015-03.csv', '../data\\\\fhv_tripdata_2015-04.csv', '../data\\\\fhv_tripdata_2015-05.csv']\n"
     ]
    }
   ],
   "source": [
    "import glob \n",
<<<<<<< HEAD
    "nyc_taxi_data = glob.glob('../data/fhv_*') #glob 메서드로 한번에 여러 파일 불러들이기\n",
=======
    "nyc_taxi_data = glob.glob('../data/fhv_*') \n",
>>>>>>> d5f83195045bb91a139fcfa4583daec5be102ec7
    "print(nyc_taxi_data)"
   ]
  },
  {
   "cell_type": "code",
<<<<<<< HEAD
   "execution_count": 102,
=======
   "execution_count": 31,
>>>>>>> d5f83195045bb91a139fcfa4583daec5be102ec7
   "metadata": {},
   "outputs": [],
   "source": [
    "taxi1 = pd.read_csv(nyc_taxi_data[0]) \n",
    "taxi2 = pd.read_csv(nyc_taxi_data[1]) \n",
    "taxi3 = pd.read_csv(nyc_taxi_data[2]) \n",
    "taxi4 = pd.read_csv(nyc_taxi_data[3]) \n",
    "taxi5 = pd.read_csv(nyc_taxi_data[4])"
   ]
  },
  {
   "cell_type": "code",
<<<<<<< HEAD
   "execution_count": 103,
=======
   "execution_count": 32,
>>>>>>> d5f83195045bb91a139fcfa4583daec5be102ec7
   "metadata": {},
   "outputs": [
    {
     "name": "stdout",
     "output_type": "stream",
     "text": [
      "  Dispatching_base_num          Pickup_date  locationID\n",
      "0               B00013  2015-01-01 00:30:00         NaN\n",
      "1               B00013  2015-01-01 01:22:00         NaN\n",
      "  Dispatching_base_num          Pickup_date  locationID\n",
      "0               B00013  2015-02-01 00:00:00         NaN\n",
      "1               B00013  2015-02-01 00:01:00         NaN\n",
      "  Dispatching_base_num          Pickup_date  locationID\n",
      "0               B00029  2015-03-01 00:02:00       213.0\n",
      "1               B00029  2015-03-01 00:03:00        51.0\n",
      "  Dispatching_base_num          Pickup_date  locationID\n",
      "0               B00001  2015-04-01 04:30:00         NaN\n",
      "1               B00001  2015-04-01 06:00:00         NaN\n",
      "  Dispatching_base_num          Pickup_date  locationID\n",
      "0               B00001  2015-05-01 04:30:00         NaN\n",
      "1               B00001  2015-05-01 05:00:00         NaN\n"
     ]
    }
   ],
   "source": [
    "print(taxi1.head(n=2)) \n",
    "print(taxi2.head(n=2)) \n",
    "print(taxi3.head(n=2)) \n",
    "print(taxi4.head(n=2)) \n",
    "print(taxi5.head(n=2))"
   ]
  },
  {
   "cell_type": "code",
<<<<<<< HEAD
   "execution_count": 104,
=======
   "execution_count": 34,
>>>>>>> d5f83195045bb91a139fcfa4583daec5be102ec7
   "metadata": {},
   "outputs": [
    {
     "name": "stdout",
     "output_type": "stream",
     "text": [
      "(2746033, 3)\n",
      "(3126401, 3)\n",
      "(3281427, 3)\n",
      "(3917789, 3)\n",
      "(4296067, 3)\n"
     ]
    }
   ],
   "source": [
    "print(taxi1.shape) \n",
    "print(taxi2.shape) \n",
    "print(taxi3.shape) \n",
    "print(taxi4.shape) \n",
    "print(taxi5.shape)"
   ]
  },
  {
   "cell_type": "code",
<<<<<<< HEAD
   "execution_count": 105,
=======
   "execution_count": 38,
>>>>>>> d5f83195045bb91a139fcfa4583daec5be102ec7
   "metadata": {},
   "outputs": [
    {
     "name": "stdout",
     "output_type": "stream",
     "text": [
      "(17367717, 3)\n"
     ]
    }
   ],
   "source": [
    "taxi = pd.concat([taxi1, taxi2, taxi3, taxi4, taxi5])\n",
    "\n",
    "print(taxi.shape)"
   ]
  },
  {
   "cell_type": "markdown",
   "metadata": {},
   "source": [
    "# 알아두면 좋아요!\n",
    "## 반복문으로 데이터 준비하기(169쪽)"
   ]
  },
  {
   "cell_type": "code",
<<<<<<< HEAD
   "execution_count": 106,
=======
   "execution_count": 39,
>>>>>>> d5f83195045bb91a139fcfa4583daec5be102ec7
   "metadata": {},
   "outputs": [
    {
     "name": "stdout",
     "output_type": "stream",
     "text": [
      "5\n"
     ]
    }
   ],
   "source": [
    "list_taxi_df = [] \n",
    "\n",
    "for csv_filename in nyc_taxi_data:\n",
    "    # print(csv_filename)\n",
<<<<<<< HEAD
    "    df = pd.read_csv(csv_filename)#csv 파일 불러와서 저장\n",
    "    list_taxi_df.append(df) #불러온 data append!\n",
    "\n",
    "print(len(list_taxi_df))# 총 5개 csv 파일 불러와 저장했기때문에 5개! 1개당 몇십만개의 row존재"
=======
    "    df = pd.read_csv(csv_filename)\n",
    "    list_taxi_df.append(df) \n",
    "\n",
    "print(len(list_taxi_df))"
>>>>>>> d5f83195045bb91a139fcfa4583daec5be102ec7
   ]
  },
  {
   "cell_type": "code",
<<<<<<< HEAD
   "execution_count": 107,
=======
   "execution_count": 40,
>>>>>>> d5f83195045bb91a139fcfa4583daec5be102ec7
   "metadata": {},
   "outputs": [
    {
     "name": "stdout",
     "output_type": "stream",
     "text": [
      "<class 'pandas.core.frame.DataFrame'>\n"
     ]
    }
   ],
   "source": [
    "print(type(list_taxi_df[0]))"
   ]
  },
  {
   "cell_type": "code",
<<<<<<< HEAD
   "execution_count": 108,
=======
   "execution_count": 41,
>>>>>>> d5f83195045bb91a139fcfa4583daec5be102ec7
   "metadata": {},
   "outputs": [
    {
     "name": "stdout",
     "output_type": "stream",
     "text": [
      "  Dispatching_base_num          Pickup_date  locationID\n",
      "0               B00013  2015-01-01 00:30:00         NaN\n",
      "1               B00013  2015-01-01 01:22:00         NaN\n",
      "2               B00013  2015-01-01 01:23:00         NaN\n",
      "3               B00013  2015-01-01 01:44:00         NaN\n",
      "4               B00013  2015-01-01 02:00:00         NaN\n"
     ]
    }
   ],
   "source": [
    "print(list_taxi_df[0].head())"
   ]
  },
  {
   "cell_type": "code",
<<<<<<< HEAD
   "execution_count": 109,
=======
   "execution_count": 42,
>>>>>>> d5f83195045bb91a139fcfa4583daec5be102ec7
   "metadata": {},
   "outputs": [
    {
     "name": "stdout",
     "output_type": "stream",
     "text": [
      "(17367717, 3)\n"
     ]
    }
   ],
   "source": [
    "taxi_loop_concat = pd.concat(list_taxi_df) \n",
    "print(taxi_loop_concat.shape)"
   ]
  },
  {
   "cell_type": "code",
<<<<<<< HEAD
   "execution_count": 110,
=======
   "execution_count": 43,
>>>>>>> d5f83195045bb91a139fcfa4583daec5be102ec7
   "metadata": {},
   "outputs": [
    {
     "name": "stdout",
     "output_type": "stream",
     "text": [
      "True\n"
     ]
    }
   ],
   "source": [
    "print(taxi.equals(taxi_loop_concat))"
   ]
<<<<<<< HEAD
  },
  {
   "cell_type": "code",
   "execution_count": 111,
   "metadata": {},
   "outputs": [
    {
     "data": {
      "text/html": [
       "<div>\n",
       "<style scoped>\n",
       "    .dataframe tbody tr th:only-of-type {\n",
       "        vertical-align: middle;\n",
       "    }\n",
       "\n",
       "    .dataframe tbody tr th {\n",
       "        vertical-align: top;\n",
       "    }\n",
       "\n",
       "    .dataframe thead th {\n",
       "        text-align: right;\n",
       "    }\n",
       "</style>\n",
       "<table border=\"1\" class=\"dataframe\">\n",
       "  <thead>\n",
       "    <tr style=\"text-align: right;\">\n",
       "      <th></th>\n",
       "      <th>Dispatching_base_num</th>\n",
       "      <th>Pickup_date</th>\n",
       "      <th>locationID</th>\n",
       "    </tr>\n",
       "  </thead>\n",
       "  <tbody>\n",
       "    <tr>\n",
       "      <td>0</td>\n",
       "      <td>B00013</td>\n",
       "      <td>2015-01-01 00:30:00</td>\n",
       "      <td>NaN</td>\n",
       "    </tr>\n",
       "    <tr>\n",
       "      <td>1</td>\n",
       "      <td>B00013</td>\n",
       "      <td>2015-01-01 01:22:00</td>\n",
       "      <td>NaN</td>\n",
       "    </tr>\n",
       "    <tr>\n",
       "      <td>2</td>\n",
       "      <td>B00013</td>\n",
       "      <td>2015-01-01 01:23:00</td>\n",
       "      <td>NaN</td>\n",
       "    </tr>\n",
       "    <tr>\n",
       "      <td>3</td>\n",
       "      <td>B00013</td>\n",
       "      <td>2015-01-01 01:44:00</td>\n",
       "      <td>NaN</td>\n",
       "    </tr>\n",
       "    <tr>\n",
       "      <td>4</td>\n",
       "      <td>B00013</td>\n",
       "      <td>2015-01-01 02:00:00</td>\n",
       "      <td>NaN</td>\n",
       "    </tr>\n",
       "    <tr>\n",
       "      <td>...</td>\n",
       "      <td>...</td>\n",
       "      <td>...</td>\n",
       "      <td>...</td>\n",
       "    </tr>\n",
       "    <tr>\n",
       "      <td>4296062</td>\n",
       "      <td>B02821</td>\n",
       "      <td>2015-05-31 14:00:00</td>\n",
       "      <td>NaN</td>\n",
       "    </tr>\n",
       "    <tr>\n",
       "      <td>4296063</td>\n",
       "      <td>B02821</td>\n",
       "      <td>2015-05-31 14:32:00</td>\n",
       "      <td>NaN</td>\n",
       "    </tr>\n",
       "    <tr>\n",
       "      <td>4296064</td>\n",
       "      <td>B02821</td>\n",
       "      <td>2015-05-31 14:45:00</td>\n",
       "      <td>NaN</td>\n",
       "    </tr>\n",
       "    <tr>\n",
       "      <td>4296065</td>\n",
       "      <td>B02821</td>\n",
       "      <td>2015-05-31 17:44:00</td>\n",
       "      <td>NaN</td>\n",
       "    </tr>\n",
       "    <tr>\n",
       "      <td>4296066</td>\n",
       "      <td>B02821</td>\n",
       "      <td>2015-05-31 18:13:00</td>\n",
       "      <td>NaN</td>\n",
       "    </tr>\n",
       "  </tbody>\n",
       "</table>\n",
       "<p>17367717 rows × 3 columns</p>\n",
       "</div>"
      ],
      "text/plain": [
       "        Dispatching_base_num          Pickup_date  locationID\n",
       "0                     B00013  2015-01-01 00:30:00         NaN\n",
       "1                     B00013  2015-01-01 01:22:00         NaN\n",
       "2                     B00013  2015-01-01 01:23:00         NaN\n",
       "3                     B00013  2015-01-01 01:44:00         NaN\n",
       "4                     B00013  2015-01-01 02:00:00         NaN\n",
       "...                      ...                  ...         ...\n",
       "4296062               B02821  2015-05-31 14:00:00         NaN\n",
       "4296063               B02821  2015-05-31 14:32:00         NaN\n",
       "4296064               B02821  2015-05-31 14:45:00         NaN\n",
       "4296065               B02821  2015-05-31 17:44:00         NaN\n",
       "4296066               B02821  2015-05-31 18:13:00         NaN\n",
       "\n",
       "[17367717 rows x 3 columns]"
      ]
     },
     "execution_count": 111,
     "metadata": {},
     "output_type": "execute_result"
    }
   ],
   "source": [
    "taxi"
   ]
=======
>>>>>>> d5f83195045bb91a139fcfa4583daec5be102ec7
  }
 ],
 "metadata": {
  "kernelspec": {
   "display_name": "Python 3",
   "language": "python",
   "name": "python3"
  },
  "language_info": {
   "codemirror_mode": {
    "name": "ipython",
    "version": 3
   },
   "file_extension": ".py",
   "mimetype": "text/x-python",
   "name": "python",
   "nbconvert_exporter": "python",
   "pygments_lexer": "ipython3",
   "version": "3.7.4"
  }
 },
 "nbformat": 4,
 "nbformat_minor": 2
}
