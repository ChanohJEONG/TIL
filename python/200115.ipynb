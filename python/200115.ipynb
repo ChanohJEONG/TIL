{
 "cells": [
  {
   "cell_type": "code",
   "execution_count": 1,
   "metadata": {},
   "outputs": [
    {
     "data": {
      "text/plain": [
       "{'Python': 57,\n",
       " 'is': 8,\n",
       " 'an': 4,\n",
       " 'easy': 1,\n",
       " 'to': 38,\n",
       " 'learn,': 1,\n",
       " 'powerful': 1,\n",
       " 'programming': 1,\n",
       " 'language.': 2,\n",
       " 'It': 3,\n",
       " 'has': 1,\n",
       " 'efficient': 2,\n",
       " 'high-level': 1,\n",
       " 'data': 4,\n",
       " 'structures': 1,\n",
       " 'and': 83,\n",
       " 'a': 13,\n",
       " 'simple': 1,\n",
       " 'but': 2,\n",
       " 'effective': 1,\n",
       " 'approach': 1,\n",
       " 'object-oriented': 1,\n",
       " 'programming.': 2,\n",
       " 'Python’s': 3,\n",
       " 'elegant': 1,\n",
       " 'syntax': 2,\n",
       " 'dynamic': 1,\n",
       " 'typing,': 1,\n",
       " 'together': 1,\n",
       " 'with': 22,\n",
       " 'its': 1,\n",
       " 'interpreted': 1,\n",
       " 'nature,': 1,\n",
       " 'make': 1,\n",
       " 'it': 3,\n",
       " 'ideal': 1,\n",
       " 'language': 3,\n",
       " 'for': 63,\n",
       " 'scripting': 1,\n",
       " 'rapid': 1,\n",
       " 'application': 3,\n",
       " 'development': 2,\n",
       " 'in': 14,\n",
       " 'many': 5,\n",
       " 'areas': 1,\n",
       " 'on': 9,\n",
       " 'most': 3,\n",
       " 'platforms.The': 1,\n",
       " 'interpreter': 4,\n",
       " 'the': 42,\n",
       " 'extensive': 1,\n",
       " 'standard': 6,\n",
       " 'library': 11,\n",
       " 'are': 5,\n",
       " 'freely': 2,\n",
       " 'available': 2,\n",
       " 'source': 2,\n",
       " 'or': 7,\n",
       " 'binary': 3,\n",
       " 'form': 1,\n",
       " 'all': 3,\n",
       " 'major': 1,\n",
       " 'platforms': 1,\n",
       " 'from': 6,\n",
       " 'Web': 1,\n",
       " 'site,': 1,\n",
       " 'http://www.python.org/,': 1,\n",
       " 'may': 2,\n",
       " 'be': 7,\n",
       " 'distributed.': 1,\n",
       " 'The': 24,\n",
       " 'same': 1,\n",
       " 'site': 3,\n",
       " 'also': 6,\n",
       " 'contains': 2,\n",
       " 'distributions': 1,\n",
       " 'of': 30,\n",
       " 'pointers': 1,\n",
       " 'free': 1,\n",
       " 'third': 1,\n",
       " 'party': 1,\n",
       " 'modules,': 2,\n",
       " 'programs': 3,\n",
       " 'tools,': 1,\n",
       " 'additional': 2,\n",
       " 'documentation.The': 1,\n",
       " 'easily': 1,\n",
       " 'extended': 1,\n",
       " 'new': 2,\n",
       " 'functions': 6,\n",
       " 'types': 2,\n",
       " 'implemented': 1,\n",
       " 'C': 3,\n",
       " 'C++': 1,\n",
       " '(or': 1,\n",
       " 'other': 1,\n",
       " 'languages': 1,\n",
       " 'callable': 2,\n",
       " 'C).': 1,\n",
       " 'suitable': 1,\n",
       " 'as': 14,\n",
       " 'extension': 3,\n",
       " 'customizable': 1,\n",
       " 'applications.This': 1,\n",
       " 'tutorial': 3,\n",
       " 'introduces': 2,\n",
       " 'reader': 1,\n",
       " 'informally': 1,\n",
       " 'basic': 2,\n",
       " 'concepts': 1,\n",
       " 'features': 1,\n",
       " 'system.': 1,\n",
       " 'helps': 1,\n",
       " 'have': 1,\n",
       " 'handy': 1,\n",
       " 'hands-on': 1,\n",
       " 'experience,': 1,\n",
       " 'examples': 1,\n",
       " 'self-contained,': 1,\n",
       " 'so': 2,\n",
       " 'can': 1,\n",
       " 'read': 3,\n",
       " 'off-line': 1,\n",
       " 'well.For': 1,\n",
       " 'description': 1,\n",
       " 'objects': 3,\n",
       " 'see': 1,\n",
       " 'Standard': 7,\n",
       " 'Library.': 1,\n",
       " 'Language': 3,\n",
       " 'Reference': 4,\n",
       " 'gives': 1,\n",
       " 'more': 2,\n",
       " 'formal': 1,\n",
       " 'definition': 1,\n",
       " 'To': 1,\n",
       " 'write': 9,\n",
       " 'extensions': 1,\n",
       " 'C++,': 1,\n",
       " 'Extending': 1,\n",
       " 'Embedding': 1,\n",
       " 'Interpreter': 4,\n",
       " 'Python/C': 1,\n",
       " 'API': 1,\n",
       " 'Manual.': 1,\n",
       " 'There': 1,\n",
       " 'several': 2,\n",
       " 'books': 1,\n",
       " 'covering': 1,\n",
       " 'depth.This': 1,\n",
       " 'does': 1,\n",
       " 'not': 1,\n",
       " 'attempt': 1,\n",
       " 'comprehensive': 1,\n",
       " 'cover': 1,\n",
       " 'every': 2,\n",
       " 'single': 1,\n",
       " 'feature,': 1,\n",
       " 'even': 1,\n",
       " 'commonly': 2,\n",
       " 'used': 10,\n",
       " 'feature.': 1,\n",
       " 'Instead,': 1,\n",
       " 'noteworthy': 1,\n",
       " 'features,': 1,\n",
       " 'will': 3,\n",
       " 'give': 1,\n",
       " 'you': 3,\n",
       " 'good': 1,\n",
       " 'idea': 1,\n",
       " 'language’s': 1,\n",
       " 'flavor': 1,\n",
       " 'style.': 1,\n",
       " 'After': 1,\n",
       " 'reading': 1,\n",
       " 'it,': 1,\n",
       " 'able': 1,\n",
       " 'modules': 10,\n",
       " 'programs,': 1,\n",
       " 'ready': 1,\n",
       " 'learn': 1,\n",
       " 'about': 1,\n",
       " 'various': 2,\n",
       " 'described': 1,\n",
       " 'Library.The': 1,\n",
       " 'Glossary': 1,\n",
       " 'worth': 1,\n",
       " 'going': 1,\n",
       " 'through.1.': 1,\n",
       " 'Whetting': 1,\n",
       " 'Your': 1,\n",
       " 'Appetite2.': 1,\n",
       " 'Using': 5,\n",
       " 'Interpreter2.1.': 1,\n",
       " 'Invoking': 1,\n",
       " 'Interpreter2.1.1.': 1,\n",
       " 'Argument': 4,\n",
       " 'Passing2.1.2.': 1,\n",
       " 'Interactive': 5,\n",
       " 'Mode2.2.': 1,\n",
       " 'Its': 1,\n",
       " 'Environment2.2.1.': 1,\n",
       " 'Error': 2,\n",
       " 'Handling2.2.2.': 1,\n",
       " 'Executable': 1,\n",
       " 'Scripts2.2.3.': 1,\n",
       " 'Source': 1,\n",
       " 'Code': 1,\n",
       " 'Encoding2.2.4.': 1,\n",
       " 'Startup': 1,\n",
       " 'File2.2.5.': 1,\n",
       " 'Customization': 1,\n",
       " 'Modules3.': 1,\n",
       " 'An': 2,\n",
       " 'Informal': 1,\n",
       " 'Introduction': 1,\n",
       " 'Python3.1.': 1,\n",
       " 'Calculator3.1.1.': 1,\n",
       " 'Numbers3.1.2.': 1,\n",
       " 'Strings3.1.3.': 1,\n",
       " 'Unicode': 2,\n",
       " 'Strings3.1.4.': 1,\n",
       " 'Lists3.2.': 1,\n",
       " 'First': 2,\n",
       " 'Steps': 1,\n",
       " 'Towards': 1,\n",
       " 'Programming4.': 1,\n",
       " 'More': 5,\n",
       " 'Control': 1,\n",
       " 'Flow': 1,\n",
       " 'Tools4.1.': 1,\n",
       " 'if': 1,\n",
       " 'Statements4.2.': 1,\n",
       " 'Statements4.3.': 1,\n",
       " 'range()': 1,\n",
       " 'Function4.4.': 1,\n",
       " 'break': 1,\n",
       " 'continue': 1,\n",
       " 'Statements,': 1,\n",
       " 'else': 1,\n",
       " 'Clauses': 1,\n",
       " 'Loops4.5.': 1,\n",
       " 'pass': 1,\n",
       " 'Statements4.6.': 1,\n",
       " 'Defining': 3,\n",
       " 'Functions4.7.': 1,\n",
       " 'Functions4.7.1.': 1,\n",
       " 'Default': 1,\n",
       " 'Values4.7.2.': 1,\n",
       " 'Keyword': 1,\n",
       " 'Arguments4.7.3.': 1,\n",
       " 'Arbitrary': 1,\n",
       " 'Lists4.7.4.': 1,\n",
       " 'Unpacking': 1,\n",
       " 'Lists4.7.5.': 1,\n",
       " 'Lambda': 1,\n",
       " 'Expressions4.7.6.': 1,\n",
       " 'Documentation': 2,\n",
       " 'Strings4.8.': 1,\n",
       " 'Intermezzo:': 1,\n",
       " 'Coding': 1,\n",
       " 'Style5.': 1,\n",
       " 'Data': 9,\n",
       " 'Structures5.1.': 1,\n",
       " 'Lists5.1.1.': 1,\n",
       " 'Lists': 2,\n",
       " 'Stacks5.1.2.': 1,\n",
       " 'Queues5.1.3.': 1,\n",
       " 'Functional': 1,\n",
       " 'Programming': 1,\n",
       " 'Tools5.1.4.': 1,\n",
       " 'List': 2,\n",
       " 'Comprehensions5.1.4.1.': 1,\n",
       " 'Nested': 1,\n",
       " 'Comprehensions5.2.': 1,\n",
       " 'del': 1,\n",
       " 'statement5.3.': 1,\n",
       " 'Tuples': 1,\n",
       " 'Sequences5.4.': 1,\n",
       " 'Sets5.5.': 1,\n",
       " 'Dictionaries5.6.': 1,\n",
       " 'Looping': 1,\n",
       " 'Techniques5.7.': 1,\n",
       " 'Conditions5.8.': 1,\n",
       " 'Comparing': 1,\n",
       " 'Sequences': 1,\n",
       " 'Other': 3,\n",
       " 'Types6.': 1,\n",
       " 'Modules6.1.': 1,\n",
       " 'Modules6.1.1.': 1,\n",
       " 'Executing': 1,\n",
       " 'scripts6.1.2.': 1,\n",
       " 'Module': 1,\n",
       " 'Search': 1,\n",
       " 'Path6.1.3.': 1,\n",
       " '“Compiled”': 1,\n",
       " 'files6.2.': 1,\n",
       " 'Modules6.3.': 1,\n",
       " 'dir()': 1,\n",
       " 'Function6.4.': 1,\n",
       " 'Packages6.4.1.': 1,\n",
       " 'Importing': 2,\n",
       " '*': 1,\n",
       " 'From': 1,\n",
       " 'Package6.4.2.': 1,\n",
       " 'Intra-package': 1,\n",
       " 'References6.4.3.': 1,\n",
       " 'Packages': 1,\n",
       " 'Multiple': 3,\n",
       " 'Directories7.': 1,\n",
       " 'Input': 2,\n",
       " 'Output7.1.': 1,\n",
       " 'Fancier': 1,\n",
       " 'Output': 3,\n",
       " 'Formatting7.1.1.': 1,\n",
       " 'Old': 1,\n",
       " 'string': 4,\n",
       " 'formatting7.2.': 1,\n",
       " 'Reading': 2,\n",
       " 'Writing': 1,\n",
       " 'Files7.2.1.': 1,\n",
       " 'Methods': 1,\n",
       " 'File': 7,\n",
       " 'Objects7.2.2.': 1,\n",
       " 'Saving': 1,\n",
       " 'structured': 1,\n",
       " 'json8.': 1,\n",
       " 'Errors': 1,\n",
       " 'Exceptions8.1.': 1,\n",
       " 'Syntax': 2,\n",
       " 'Errors8.2.': 1,\n",
       " 'Exceptions8.3.': 1,\n",
       " 'Handling': 1,\n",
       " 'Exceptions8.4.': 1,\n",
       " 'Raising': 1,\n",
       " 'Exceptions8.5.': 1,\n",
       " 'User-defined': 1,\n",
       " 'Exceptions8.6.': 1,\n",
       " 'Clean-up': 2,\n",
       " 'Actions8.7.': 1,\n",
       " 'Predefined': 1,\n",
       " 'Actions9.': 1,\n",
       " 'Classes9.1.': 1,\n",
       " 'A': 8,\n",
       " 'Word': 1,\n",
       " 'About': 1,\n",
       " 'Names': 2,\n",
       " 'Objects9.2.': 1,\n",
       " 'Scopes': 1,\n",
       " 'Namespaces9.3.': 1,\n",
       " 'Look': 1,\n",
       " 'at': 1,\n",
       " 'Classes9.3.1.': 1,\n",
       " 'Class': 5,\n",
       " 'Definition': 1,\n",
       " 'Syntax9.3.2.': 1,\n",
       " 'Objects9.3.3.': 1,\n",
       " 'Instance': 1,\n",
       " 'Objects9.3.4.': 1,\n",
       " 'Method': 1,\n",
       " 'Objects9.4.': 1,\n",
       " 'Random': 2,\n",
       " 'Remarks9.5.': 1,\n",
       " 'Inheritance9.5.1.': 1,\n",
       " 'Inheritance9.6.': 1,\n",
       " 'Private': 1,\n",
       " 'Variables': 1,\n",
       " 'Class-local': 1,\n",
       " 'References9.7.': 1,\n",
       " 'Odds': 1,\n",
       " 'Ends9.8.': 1,\n",
       " 'Exceptions': 1,\n",
       " 'Are': 1,\n",
       " 'Classes': 1,\n",
       " 'Too9.9.': 1,\n",
       " 'Iterators9.10.': 1,\n",
       " 'Generators9.11.': 1,\n",
       " 'Generator': 1,\n",
       " 'Expressions10.': 1,\n",
       " 'Brief': 2,\n",
       " 'Tour': 2,\n",
       " 'Library10.1.': 1,\n",
       " 'Operating': 3,\n",
       " 'System': 3,\n",
       " 'Interface10.2.': 1,\n",
       " 'Wildcards10.3.': 1,\n",
       " 'Command': 1,\n",
       " 'Line': 2,\n",
       " 'Arguments10.4.': 1,\n",
       " 'Redirection': 1,\n",
       " 'Program': 2,\n",
       " 'Termination10.5.': 1,\n",
       " 'String': 3,\n",
       " 'Pattern': 1,\n",
       " 'Matching10.6.': 1,\n",
       " 'Mathematics10.7.': 1,\n",
       " 'Internet': 5,\n",
       " 'Access10.8.': 1,\n",
       " 'Dates': 1,\n",
       " 'Times10.9.': 1,\n",
       " 'Compression10.10.': 1,\n",
       " 'Performance': 1,\n",
       " 'Measurement10.11.': 1,\n",
       " 'Quality': 1,\n",
       " 'Control10.12.': 1,\n",
       " 'Batteries': 1,\n",
       " 'Included11.': 1,\n",
       " 'Library': 2,\n",
       " '-': 291,\n",
       " 'Part': 1,\n",
       " 'II11.1.': 1,\n",
       " 'Formatting11.2.': 1,\n",
       " 'Templating11.3.': 1,\n",
       " 'Working': 2,\n",
       " 'Binary': 1,\n",
       " 'Record': 1,\n",
       " 'Layouts11.4.': 1,\n",
       " 'Multi-threading11.5.': 1,\n",
       " 'Logging11.6.': 1,\n",
       " 'Weak': 2,\n",
       " 'References11.7.': 1,\n",
       " 'Tools': 3,\n",
       " 'Lists11.8.': 1,\n",
       " 'Decimal': 2,\n",
       " 'Floating': 4,\n",
       " 'Point': 2,\n",
       " 'Arithmetic12.': 1,\n",
       " 'What': 1,\n",
       " 'Now-13.': 1,\n",
       " 'Editing': 1,\n",
       " 'History': 2,\n",
       " 'Substitution13.1.': 1,\n",
       " 'Editing13.2.': 1,\n",
       " 'Substitution13.3.': 1,\n",
       " 'Key': 1,\n",
       " 'Bindings13.4.': 1,\n",
       " 'Alternatives': 1,\n",
       " 'Interpreter14.': 1,\n",
       " 'Arithmetic:': 1,\n",
       " 'Issues': 1,\n",
       " 'Limitations14.1.': 1,\n",
       " 'Representation': 1,\n",
       " 'ErrorWhile': 1,\n",
       " 'describes': 3,\n",
       " 'exact': 1,\n",
       " 'semantics': 1,\n",
       " 'language,': 1,\n",
       " 'this': 1,\n",
       " 'reference': 1,\n",
       " 'manual': 1,\n",
       " 'that': 6,\n",
       " 'distributed': 1,\n",
       " 'Python.': 1,\n",
       " 'some': 2,\n",
       " 'optional': 2,\n",
       " 'components': 2,\n",
       " 'included': 1,\n",
       " 'distributions.Python’s': 1,\n",
       " 'very': 1,\n",
       " 'extensive,': 1,\n",
       " 'offering': 1,\n",
       " 'wide': 1,\n",
       " 'range': 1,\n",
       " 'facilities': 1,\n",
       " 'indicated': 1,\n",
       " 'by': 5,\n",
       " 'long': 1,\n",
       " 'table': 1,\n",
       " 'contents': 1,\n",
       " 'listed': 1,\n",
       " 'below.': 1,\n",
       " 'built-in': 2,\n",
       " '(written': 1,\n",
       " 'C)': 1,\n",
       " 'provide': 2,\n",
       " 'access': 7,\n",
       " 'system': 6,\n",
       " 'functionality': 1,\n",
       " 'such': 1,\n",
       " 'file': 8,\n",
       " 'I/O': 3,\n",
       " 'would': 1,\n",
       " 'otherwise': 1,\n",
       " 'inaccessible': 1,\n",
       " 'programmers,': 1,\n",
       " 'well': 1,\n",
       " 'written': 1,\n",
       " 'standardized': 1,\n",
       " 'solutions': 1,\n",
       " 'problems': 1,\n",
       " 'occur': 1,\n",
       " 'everyday': 1,\n",
       " 'Some': 1,\n",
       " 'these': 1,\n",
       " 'explicitly': 1,\n",
       " 'designed': 1,\n",
       " 'encourage': 1,\n",
       " 'enhance': 1,\n",
       " 'portability': 1,\n",
       " 'abstracting': 1,\n",
       " 'away': 1,\n",
       " 'platform-specifics': 1,\n",
       " 'into': 2,\n",
       " 'platform-neutral': 1,\n",
       " 'APIs.The': 1,\n",
       " 'installers': 1,\n",
       " 'Windows': 3,\n",
       " 'platform': 2,\n",
       " 'usually': 1,\n",
       " 'includes': 1,\n",
       " 'entire': 2,\n",
       " 'often': 1,\n",
       " 'include': 1,\n",
       " 'components.': 1,\n",
       " 'For': 1,\n",
       " 'Unix-like': 1,\n",
       " 'operating': 3,\n",
       " 'systems': 1,\n",
       " 'normally': 1,\n",
       " 'provided': 2,\n",
       " 'collection': 2,\n",
       " 'packages,': 1,\n",
       " 'necessary': 1,\n",
       " 'use': 1,\n",
       " 'packaging': 1,\n",
       " 'tools': 2,\n",
       " 'obtain': 1,\n",
       " 'components.In': 1,\n",
       " 'addition': 1,\n",
       " 'library,': 1,\n",
       " 'there': 1,\n",
       " 'growing': 1,\n",
       " 'thousand': 1,\n",
       " '(from': 1,\n",
       " 'individual': 1,\n",
       " 'packages': 1,\n",
       " 'frameworks),': 1,\n",
       " 'Package': 2,\n",
       " 'Index.1.': 1,\n",
       " 'Introduction2.': 1,\n",
       " 'Built-in': 7,\n",
       " 'Functions3.': 1,\n",
       " 'Non-essential': 1,\n",
       " 'Functions4.': 1,\n",
       " 'Constants4.1.': 1,\n",
       " 'Constants': 9,\n",
       " 'added': 1,\n",
       " 'module5.': 1,\n",
       " 'Types5.1.': 1,\n",
       " 'Truth': 1,\n",
       " 'Value': 1,\n",
       " 'Testing5.2.': 1,\n",
       " 'Boolean': 1,\n",
       " 'Operations': 1,\n",
       " 'and,': 1,\n",
       " 'or,': 1,\n",
       " 'not5.3.': 1,\n",
       " 'Comparisons5.4.': 1,\n",
       " 'Numeric': 3,\n",
       " 'Types': 4,\n",
       " 'int,': 1,\n",
       " 'float,': 1,\n",
       " 'long,': 1,\n",
       " 'complex5.5.': 1,\n",
       " 'Iterator': 1,\n",
       " 'Types5.6.': 1,\n",
       " 'Sequence': 1,\n",
       " 'str,': 1,\n",
       " 'unicode,': 1,\n",
       " 'list,': 1,\n",
       " 'tuple,': 1,\n",
       " 'bytearray,': 1,\n",
       " 'buffer,': 1,\n",
       " 'xrange5.7.': 1,\n",
       " 'Set': 2,\n",
       " 'set,': 1,\n",
       " 'frozenset5.8.': 1,\n",
       " 'Mapping': 1,\n",
       " 'dict5.9.': 1,\n",
       " 'Objects5.10.': 1,\n",
       " 'memoryview': 1,\n",
       " 'type5.11.': 1,\n",
       " 'Context': 1,\n",
       " 'Manager': 2,\n",
       " 'Types5.12.': 1,\n",
       " 'Types5.13.': 1,\n",
       " 'Special': 1,\n",
       " 'Attributes6.': 1,\n",
       " 'Exceptions6.1.': 1,\n",
       " 'Exception': 1,\n",
       " 'hierarchy7.': 1,\n",
       " 'Services7.1.': 1,\n",
       " 'Common': 3,\n",
       " 'operations7.2.': 1,\n",
       " 're': 1,\n",
       " 'Regular': 1,\n",
       " 'expression': 1,\n",
       " 'operations7.3.': 1,\n",
       " 'struct': 1,\n",
       " 'Interpret': 1,\n",
       " 'strings': 2,\n",
       " 'packed': 1,\n",
       " 'data7.4.': 1,\n",
       " 'difflib': 1,\n",
       " 'Helpers': 1,\n",
       " 'computing': 1,\n",
       " 'deltas7.5.': 1,\n",
       " 'StringIO': 1,\n",
       " 'Read': 8,\n",
       " 'files7.6.': 1,\n",
       " 'cStringIO': 1,\n",
       " 'Faster': 1,\n",
       " 'version': 1,\n",
       " 'StringIO7.7.': 1,\n",
       " 'textwrap': 1,\n",
       " 'Text': 3,\n",
       " 'wrapping': 1,\n",
       " 'filling7.8.': 1,\n",
       " 'codecs': 1,\n",
       " 'Codec': 1,\n",
       " 'registry': 2,\n",
       " 'base': 3,\n",
       " 'classes7.9.': 1,\n",
       " 'unicodedata': 1,\n",
       " 'Database7.10.': 1,\n",
       " 'stringprep': 1,\n",
       " 'Preparation7.11.': 1,\n",
       " 'fpformat': 1,\n",
       " 'point': 4,\n",
       " 'conversions8.': 1,\n",
       " 'Types8.1.': 1,\n",
       " 'datetime': 1,\n",
       " 'Basic': 4,\n",
       " 'date': 1,\n",
       " 'time': 3,\n",
       " 'types8.2.': 1,\n",
       " 'calendar': 1,\n",
       " 'General': 1,\n",
       " 'calendar-related': 1,\n",
       " 'functions8.3.': 1,\n",
       " 'collections': 2,\n",
       " 'High-performance': 1,\n",
       " 'container': 1,\n",
       " 'datatypes8.4.': 1,\n",
       " 'heapq': 1,\n",
       " 'Heap': 1,\n",
       " 'queue': 2,\n",
       " 'algorithm8.5.': 1,\n",
       " 'bisect': 1,\n",
       " 'Array': 1,\n",
       " 'bisection': 1,\n",
       " 'algorithm8.6.': 1,\n",
       " 'array': 1,\n",
       " 'Efficient': 1,\n",
       " 'arrays': 1,\n",
       " 'numeric': 1,\n",
       " 'values8.7.': 1,\n",
       " 'sets': 1,\n",
       " 'Unordered': 1,\n",
       " 'unique': 1,\n",
       " 'elements8.8.': 1,\n",
       " 'sched': 1,\n",
       " 'Event': 1,\n",
       " 'scheduler8.9.': 1,\n",
       " 'mutex': 1,\n",
       " 'Mutual': 1,\n",
       " 'exclusion': 1,\n",
       " 'support8.10.': 1,\n",
       " 'Queue': 1,\n",
       " 'synchronized': 1,\n",
       " 'class8.11.': 1,\n",
       " 'weakref': 1,\n",
       " 'references8.12.': 1,\n",
       " 'UserDict': 1,\n",
       " 'wrapper': 4,\n",
       " 'dictionary': 1,\n",
       " 'objects8.13.': 1,\n",
       " 'UserList': 1,\n",
       " 'list': 1,\n",
       " 'objects8.14.': 1,\n",
       " 'UserString': 1,\n",
       " 'objects8.15.': 1,\n",
       " 'types8.16.': 1,\n",
       " 'Creation': 1,\n",
       " 'runtime': 1,\n",
       " 'internal': 1,\n",
       " 'objects8.17.': 1,\n",
       " 'copy': 2,\n",
       " 'Shallow': 1,\n",
       " 'deep': 1,\n",
       " 'operations8.18.': 1,\n",
       " 'pprint': 1,\n",
       " 'pretty': 1,\n",
       " 'printer8.19.': 1,\n",
       " 'repr': 1,\n",
       " 'Alternate': 1,\n",
       " 'repr()': 1,\n",
       " 'implementation9.': 1,\n",
       " 'Mathematical': 3,\n",
       " 'Modules9.1.': 1,\n",
       " 'numbers': 1,\n",
       " 'abstract': 1,\n",
       " 'classes9.2.': 1,\n",
       " 'math': 1,\n",
       " 'functions9.3.': 1,\n",
       " 'cmath': 1,\n",
       " 'complex': 1,\n",
       " 'numbers9.4.': 1,\n",
       " 'decimal': 1,\n",
       " 'fixed': 1,\n",
       " 'floating': 1,\n",
       " 'arithmetic9.5.': 1,\n",
       " 'fractions': 1,\n",
       " 'Rational': 1,\n",
       " 'numbers9.6.': 1,\n",
       " 'random': 1,\n",
       " 'Generate': 4,\n",
       " 'pseudo-random': 1,\n",
       " 'numbers9.7.': 1,\n",
       " 'itertools': 1,\n",
       " 'Functions': 2,\n",
       " 'creating': 1,\n",
       " 'iterators': 1,\n",
       " 'looping9.8.': 1,\n",
       " 'functools': 1,\n",
       " 'Higher-order': 1,\n",
       " 'operations': 1,\n",
       " 'objects9.9.': 1,\n",
       " 'operator': 1,\n",
       " 'operators': 1,\n",
       " 'functions10.': 1,\n",
       " 'Directory': 2,\n",
       " 'Access10.1.': 1,\n",
       " 'os.path': 1,\n",
       " 'pathname': 2,\n",
       " 'manipulations10.2.': 1,\n",
       " 'fileinput': 1,\n",
       " 'Iterate': 1,\n",
       " 'over': 1,\n",
       " 'lines': 1,\n",
       " 'multiple': 1,\n",
       " 'input': 2,\n",
       " 'streams10.3.': 1,\n",
       " 'stat': 1,\n",
       " 'Interpreting': 1,\n",
       " 'stat()': 1,\n",
       " 'results10.4.': 1,\n",
       " 'statvfs': 1,\n",
       " 'os.statvfs()10.5.': 1,\n",
       " 'filecmp': 1,\n",
       " 'Comparisons10.6.': 1,\n",
       " 'tempfile': 1,\n",
       " 'temporary': 1,\n",
       " 'files': 2,\n",
       " 'directories10.7.': 1,\n",
       " 'glob': 1,\n",
       " 'Unix': 5,\n",
       " 'style': 2,\n",
       " 'pattern': 2,\n",
       " 'expansion10.8.': 1,\n",
       " 'fnmatch': 1,\n",
       " 'filename': 1,\n",
       " 'matching10.9.': 1,\n",
       " 'linecache': 1,\n",
       " 'text': 1,\n",
       " 'lines10.10.': 1,\n",
       " 'shutil': 1,\n",
       " 'High-level': 1,\n",
       " 'operations10.11.': 1,\n",
       " 'dircache': 1,\n",
       " 'Cached': 1,\n",
       " 'directory': 1,\n",
       " 'listings10.12.': 1,\n",
       " 'macpath': 1,\n",
       " 'Mac': 7,\n",
       " 'OS': 7,\n",
       " '9': 1,\n",
       " 'path': 1,\n",
       " 'manipulation': 1,\n",
       " 'functions11.': 1,\n",
       " 'Persistence11.1.': 1,\n",
       " 'pickle': 3,\n",
       " 'object': 3,\n",
       " 'serialization11.2.': 1,\n",
       " 'cPickle': 1,\n",
       " 'faster': 1,\n",
       " 'pickle11.3.': 1,\n",
       " 'copy_reg': 1,\n",
       " 'Register': 1,\n",
       " 'support': 1,\n",
       " 'functions11.4.': 1,\n",
       " 'shelve': 1,\n",
       " 'persistence11.5.': 1,\n",
       " 'marshal': 1,\n",
       " 'Internal': 1,\n",
       " 'serialization11.6.': 1,\n",
       " 'anydbm': 1,\n",
       " 'Generic': 4,\n",
       " 'DBM-style': 2,\n",
       " 'databases11.7.': 1,\n",
       " 'whichdb': 1,\n",
       " 'Guess': 1,\n",
       " 'which': 1,\n",
       " 'DBM': 2,\n",
       " 'module': 1,\n",
       " 'created': 1,\n",
       " 'database11.8.': 1,\n",
       " 'dbm': 1,\n",
       " 'Simple': 5,\n",
       " '“database”': 1,\n",
       " 'interface11.9.': 1,\n",
       " 'gdbm': 1,\n",
       " 'GNU’s': 1,\n",
       " 'reinterpretation': 1,\n",
       " 'dbm11.10.': 1,\n",
       " 'dbhash': 1,\n",
       " 'interface': 4,\n",
       " 'BSD': 1,\n",
       " 'database': 1,\n",
       " 'library11.11.': 1,\n",
       " 'bsddb': 1,\n",
       " 'Interface': 6,\n",
       " 'Berkeley': 1,\n",
       " 'DB': 1,\n",
       " 'library11.12.': 1,\n",
       " 'dumbdbm': 1,\n",
       " 'Portable': 2,\n",
       " 'implementation11.13.': 1,\n",
       " 'sqlite3': 1,\n",
       " 'DB-API': 1,\n",
       " '2.0': 1,\n",
       " 'SQLite': 1,\n",
       " 'databases12.': 1,\n",
       " 'Compression': 3,\n",
       " 'Archiving12.1.': 1,\n",
       " 'zlib': 1,\n",
       " 'compatible': 2,\n",
       " 'gzip12.2.': 1,\n",
       " 'gzip': 2,\n",
       " 'Support': 6,\n",
       " 'files12.3.': 1,\n",
       " 'bz2': 1,\n",
       " 'bzip212.4.': 1,\n",
       " 'zipfile': 1,\n",
       " 'Work': 1,\n",
       " 'ZIP': 1,\n",
       " 'archives12.5.': 1,\n",
       " 'tarfile': 1,\n",
       " 'tar': 1,\n",
       " 'archive': 1,\n",
       " 'files13.': 1,\n",
       " 'Formats13.1.': 1,\n",
       " 'csv': 1,\n",
       " 'CSV': 1,\n",
       " 'Writing13.2.': 1,\n",
       " 'ConfigParser': 1,\n",
       " 'Configuration': 1,\n",
       " 'parser13.3.': 1,\n",
       " 'robotparser': 1,\n",
       " 'Parser': 3,\n",
       " 'robots.txt13.4.': 1,\n",
       " 'netrc': 2,\n",
       " 'processing13.5.': 1,\n",
       " 'xdrlib': 1,\n",
       " 'Encode': 4,\n",
       " 'decode': 4,\n",
       " 'XDR': 1,\n",
       " 'data13.6.': 1,\n",
       " 'plistlib': 1,\n",
       " 'parse': 4,\n",
       " 'X': 3,\n",
       " '.plist': 1,\n",
       " 'files14.': 1,\n",
       " 'Cryptographic': 1,\n",
       " 'Services14.1.': 1,\n",
       " 'hashlib': 1,\n",
       " 'Secure': 1,\n",
       " 'hashes': 1,\n",
       " 'message': 3,\n",
       " 'digests14.2.': 1,\n",
       " 'hmac': 1,\n",
       " 'Keyed-Hashing': 1,\n",
       " 'Message': 1,\n",
       " 'Authentication14.3.': 1,\n",
       " 'md5': 1,\n",
       " 'MD5': 1,\n",
       " 'digest': 2,\n",
       " 'algorithm14.4.': 1,\n",
       " 'sha': 1,\n",
       " 'SHA-1': 1,\n",
       " 'algorithm15.': 1,\n",
       " 'Services15.1.': 1,\n",
       " 'os': 1,\n",
       " 'Miscellaneous': 3,\n",
       " 'interfaces15.2.': 1,\n",
       " 'io': 1,\n",
       " 'Core': 1,\n",
       " 'working': 1,\n",
       " 'streams15.3.': 1,\n",
       " 'Time': 1,\n",
       " 'conversions15.4.': 1,\n",
       " 'argparse': 1,\n",
       " 'command-line': 1,\n",
       " 'options,': 1,\n",
       " 'arguments': 1,\n",
       " 'sub-commands15.5.': 1,\n",
       " 'optparse': 1,\n",
       " 'command': 3,\n",
       " 'line': 2,\n",
       " 'options15.6.': 1,\n",
       " 'getopt': 1,\n",
       " 'C-style': 1,\n",
       " 'parser': 3,\n",
       " 'options15.7.': 1,\n",
       " 'logging': 2,\n",
       " 'Logging': 3,\n",
       " 'facility': 1,\n",
       " 'Python15.8.': 1,\n",
       " 'logging.config': 1,\n",
       " 'configuration15.9.': 1,\n",
       " 'logging.handlers': 1,\n",
       " 'handlers15.10.': 1,\n",
       " 'getpass': 1,\n",
       " 'password': 3,\n",
       " 'input15.11.': 1,\n",
       " 'curses': 2,\n",
       " 'Terminal': 2,\n",
       " 'handling': 4,\n",
       " 'character-cell': 1,\n",
       " 'displays15.12.': 1,\n",
       " 'curses.textpad': 1,\n",
       " 'widget': 1,\n",
       " 'programs15.13.': 1,\n",
       " 'curses.ascii': 1,\n",
       " 'Utilities': 4,\n",
       " 'ASCII': 1,\n",
       " 'characters15.14.': 1,\n",
       " 'curses.panel': 1,\n",
       " 'panel': 1,\n",
       " 'stack': 2,\n",
       " 'curses15.15.': 1,\n",
       " 'Access': 9,\n",
       " 'underlying': 1,\n",
       " 'platform’s': 1,\n",
       " 'identifying': 1,\n",
       " 'data15.16.': 1,\n",
       " 'errno': 2,\n",
       " 'symbols15.17.': 1,\n",
       " 'ctypes': 1,\n",
       " 'foreign': 1,\n",
       " 'function': 2,\n",
       " 'Python16.': 1,\n",
       " 'Optional': 1,\n",
       " 'Services16.1.': 1,\n",
       " 'select': 1,\n",
       " 'Waiting': 1,\n",
       " 'completion16.2.': 1,\n",
       " 'threading': 3,\n",
       " 'Higher-level': 1,\n",
       " 'interface16.3.': 1,\n",
       " 'thread': 2,\n",
       " 'threads': 1,\n",
       " 'control16.4.': 1,\n",
       " 'dummy_threading': 1,\n",
       " 'Drop-in': 2,\n",
       " 'replacement': 2,\n",
       " 'module16.5.': 1,\n",
       " 'dummy_thread': 1,\n",
       " 'module16.6.': 1,\n",
       " 'multiprocessing': 1,\n",
       " 'Process-based': 1,\n",
       " '“threading”': 1,\n",
       " 'interface16.7.': 1,\n",
       " 'mmap': 1,\n",
       " 'Memory-mapped': 1,\n",
       " 'support16.8.': 1,\n",
       " 'readline': 2,\n",
       " 'GNU': 2,\n",
       " 'interface16.9.': 1,\n",
       " 'rlcompleter': 1,\n",
       " 'Completion': 1,\n",
       " 'readline17.': 1,\n",
       " 'Interprocess': 1,\n",
       " 'Communication': 1,\n",
       " 'Networking17.1.': 1,\n",
       " 'subprocess': 1,\n",
       " 'Subprocess': 1,\n",
       " 'management17.2.': 1,\n",
       " 'socket': 4,\n",
       " 'Low-level': 1,\n",
       " 'networking': 1,\n",
       " 'interface17.3.': 1,\n",
       " 'ssl': 1,\n",
       " 'TLS/SSL': 1,\n",
       " 'objects17.4.': 1,\n",
       " 'signal': 1,\n",
       " 'handlers': 1,\n",
       " 'asynchronous': 1,\n",
       " 'events17.5.': 1,\n",
       " 'popen2': 1,\n",
       " ...}"
      ]
     },
     "execution_count": 1,
     "metadata": {},
     "output_type": "execute_result"
    }
   ],
   "source": [
    "file = open(r'C:/Users/정찬오/Downloads/[ex]1-document.txt')\n",
    "text = file.read()\n",
    "text = text.replace('\\n','')\n",
    "words = text.split(' ')\n",
    "\n",
    "word_dict = dict()\n",
    "for word in words:\n",
    "    if word in word_dict:\n",
    "        word_dict[word] = word_dict[word] + 1\n",
    "    else:\n",
    "        word_dict[word] = 1\n",
    "word_dict"
   ]
  },
  {
   "cell_type": "code",
   "execution_count": 2,
   "metadata": {},
   "outputs": [],
   "source": [
    "import operator\n",
    "\n",
    "word_list = sorted(word_dict.items(), key=operator.itemgetter(1),reverse=True)"
   ]
  },
  {
   "cell_type": "code",
   "execution_count": 3,
   "metadata": {},
   "outputs": [
    {
     "data": {
      "text/plain": [
       "[('-', 291), ('and', 83), ('for', 63), ('Python', 57), ('the', 42)]"
      ]
     },
     "execution_count": 3,
     "metadata": {},
     "output_type": "execute_result"
    }
   ],
   "source": [
    "word_list[:5]"
   ]
  },
  {
   "cell_type": "code",
   "execution_count": 4,
   "metadata": {},
   "outputs": [
    {
     "name": "stdout",
     "output_type": "stream",
     "text": [
      "- 291\n",
      "and 83\n",
      "for 63\n",
      "Python 57\n",
      "the 42\n"
     ]
    }
   ],
   "source": [
    "for key, value in word_list[:5]:\n",
    "    print(key, value)"
   ]
  },
  {
   "cell_type": "code",
   "execution_count": 5,
   "metadata": {},
   "outputs": [
    {
     "name": "stdout",
     "output_type": "stream",
     "text": [
      "[Errno 2] No such file or directory: 'text.txt' 예외발생\n"
     ]
    }
   ],
   "source": [
    "try:\n",
    "    file = open('text.txt','r')    \n",
    "except FileNotFoundError as e:\n",
    "    print(e, '예외발생')\n",
    "else:\n",
    "    text = file.read()\n",
    "    print(text)"
   ]
  },
  {
   "cell_type": "code",
   "execution_count": 6,
   "metadata": {},
   "outputs": [
    {
     "name": "stdout",
     "output_type": "stream",
     "text": [
      "[Errno 2] No such file or directory: '06_02_python.txt' 파일이 존재하지 않음\n"
     ]
    }
   ],
   "source": [
    "try:\n",
    "    file_name ='06_02_python.txt' \n",
    "    file = open(file_name, encoding='utf8')\n",
    "except FileNotFoundError as e:\n",
    "    print(e, '파일이 존재하지 않음')\n",
    "else:\n",
    "    text = file.read()\n",
    "    print(text)"
   ]
  },
  {
   "cell_type": "code",
   "execution_count": 7,
   "metadata": {},
   "outputs": [
    {
     "name": "stdout",
     "output_type": "stream",
     "text": [
      "dx: 4 dy: 2\n"
     ]
    }
   ],
   "source": [
    "def distance(start,end):\n",
    "    dx = abs(start[0] - end[0])\n",
    "    dy = abs(start[1] - end[1])\n",
    "    return dx, dy\n",
    "\n",
    "start = (1,1)\n",
    "end = (5,3)\n",
    "\n",
    "dx, dy = distance(start,end)\n",
    "\n",
    "print('dx:',dx,'dy:',dy)\n"
   ]
  },
  {
   "cell_type": "code",
   "execution_count": 8,
   "metadata": {},
   "outputs": [
    {
     "name": "stdout",
     "output_type": "stream",
     "text": [
      "컴파일 언어가 아닌 것은?\n",
      "1. C 2. C# 3. Python 4. swift => 1\n"
     ]
    },
    {
     "ename": "KeyboardInterrupt",
     "evalue": "",
     "output_type": "error",
     "traceback": [
      "\u001b[1;31m---------------------------------------------------------------------------\u001b[0m",
      "\u001b[1;31mKeyboardInterrupt\u001b[0m                         Traceback (most recent call last)",
      "\u001b[1;32mC:\\dev\\Anaconda3\\lib\\site-packages\\ipykernel\\kernelbase.py\u001b[0m in \u001b[0;36m_input_request\u001b[1;34m(self, prompt, ident, parent, password)\u001b[0m\n\u001b[0;32m    884\u001b[0m             \u001b[1;32mtry\u001b[0m\u001b[1;33m:\u001b[0m\u001b[1;33m\u001b[0m\u001b[1;33m\u001b[0m\u001b[0m\n\u001b[1;32m--> 885\u001b[1;33m                 \u001b[0mident\u001b[0m\u001b[1;33m,\u001b[0m \u001b[0mreply\u001b[0m \u001b[1;33m=\u001b[0m \u001b[0mself\u001b[0m\u001b[1;33m.\u001b[0m\u001b[0msession\u001b[0m\u001b[1;33m.\u001b[0m\u001b[0mrecv\u001b[0m\u001b[1;33m(\u001b[0m\u001b[0mself\u001b[0m\u001b[1;33m.\u001b[0m\u001b[0mstdin_socket\u001b[0m\u001b[1;33m,\u001b[0m \u001b[1;36m0\u001b[0m\u001b[1;33m)\u001b[0m\u001b[1;33m\u001b[0m\u001b[1;33m\u001b[0m\u001b[0m\n\u001b[0m\u001b[0;32m    886\u001b[0m             \u001b[1;32mexcept\u001b[0m \u001b[0mException\u001b[0m\u001b[1;33m:\u001b[0m\u001b[1;33m\u001b[0m\u001b[1;33m\u001b[0m\u001b[0m\n",
      "\u001b[1;32mC:\\dev\\Anaconda3\\lib\\site-packages\\jupyter_client\\session.py\u001b[0m in \u001b[0;36mrecv\u001b[1;34m(self, socket, mode, content, copy)\u001b[0m\n\u001b[0;32m    802\u001b[0m         \u001b[1;32mtry\u001b[0m\u001b[1;33m:\u001b[0m\u001b[1;33m\u001b[0m\u001b[1;33m\u001b[0m\u001b[0m\n\u001b[1;32m--> 803\u001b[1;33m             \u001b[0mmsg_list\u001b[0m \u001b[1;33m=\u001b[0m \u001b[0msocket\u001b[0m\u001b[1;33m.\u001b[0m\u001b[0mrecv_multipart\u001b[0m\u001b[1;33m(\u001b[0m\u001b[0mmode\u001b[0m\u001b[1;33m,\u001b[0m \u001b[0mcopy\u001b[0m\u001b[1;33m=\u001b[0m\u001b[0mcopy\u001b[0m\u001b[1;33m)\u001b[0m\u001b[1;33m\u001b[0m\u001b[1;33m\u001b[0m\u001b[0m\n\u001b[0m\u001b[0;32m    804\u001b[0m         \u001b[1;32mexcept\u001b[0m \u001b[0mzmq\u001b[0m\u001b[1;33m.\u001b[0m\u001b[0mZMQError\u001b[0m \u001b[1;32mas\u001b[0m \u001b[0me\u001b[0m\u001b[1;33m:\u001b[0m\u001b[1;33m\u001b[0m\u001b[1;33m\u001b[0m\u001b[0m\n",
      "\u001b[1;32mC:\\dev\\Anaconda3\\lib\\site-packages\\zmq\\sugar\\socket.py\u001b[0m in \u001b[0;36mrecv_multipart\u001b[1;34m(self, flags, copy, track)\u001b[0m\n\u001b[0;32m    474\u001b[0m         \"\"\"\n\u001b[1;32m--> 475\u001b[1;33m         \u001b[0mparts\u001b[0m \u001b[1;33m=\u001b[0m \u001b[1;33m[\u001b[0m\u001b[0mself\u001b[0m\u001b[1;33m.\u001b[0m\u001b[0mrecv\u001b[0m\u001b[1;33m(\u001b[0m\u001b[0mflags\u001b[0m\u001b[1;33m,\u001b[0m \u001b[0mcopy\u001b[0m\u001b[1;33m=\u001b[0m\u001b[0mcopy\u001b[0m\u001b[1;33m,\u001b[0m \u001b[0mtrack\u001b[0m\u001b[1;33m=\u001b[0m\u001b[0mtrack\u001b[0m\u001b[1;33m)\u001b[0m\u001b[1;33m]\u001b[0m\u001b[1;33m\u001b[0m\u001b[1;33m\u001b[0m\u001b[0m\n\u001b[0m\u001b[0;32m    476\u001b[0m         \u001b[1;31m# have first part already, only loop while more to receive\u001b[0m\u001b[1;33m\u001b[0m\u001b[1;33m\u001b[0m\u001b[1;33m\u001b[0m\u001b[0m\n",
      "\u001b[1;32mzmq/backend/cython/socket.pyx\u001b[0m in \u001b[0;36mzmq.backend.cython.socket.Socket.recv\u001b[1;34m()\u001b[0m\n",
      "\u001b[1;32mzmq/backend/cython/socket.pyx\u001b[0m in \u001b[0;36mzmq.backend.cython.socket.Socket.recv\u001b[1;34m()\u001b[0m\n",
      "\u001b[1;32mzmq/backend/cython/socket.pyx\u001b[0m in \u001b[0;36mzmq.backend.cython.socket._recv_copy\u001b[1;34m()\u001b[0m\n",
      "\u001b[1;32mC:\\dev\\Anaconda3\\lib\\site-packages\\zmq\\backend\\cython\\checkrc.pxd\u001b[0m in \u001b[0;36mzmq.backend.cython.checkrc._check_rc\u001b[1;34m()\u001b[0m\n",
      "\u001b[1;31mKeyboardInterrupt\u001b[0m: ",
      "\nDuring handling of the above exception, another exception occurred:\n",
      "\u001b[1;31mKeyboardInterrupt\u001b[0m                         Traceback (most recent call last)",
      "\u001b[1;32m<ipython-input-8-c104edf0fba7>\u001b[0m in \u001b[0;36m<module>\u001b[1;34m\u001b[0m\n\u001b[0;32m      1\u001b[0m \u001b[0mprint\u001b[0m\u001b[1;33m(\u001b[0m\u001b[1;34m'컴파일 언어가 아닌 것은?'\u001b[0m\u001b[1;33m)\u001b[0m\u001b[1;33m\u001b[0m\u001b[1;33m\u001b[0m\u001b[0m\n\u001b[1;32m----> 2\u001b[1;33m \u001b[0manswer1\u001b[0m \u001b[1;33m=\u001b[0m \u001b[0minput\u001b[0m\u001b[1;33m(\u001b[0m\u001b[1;34m'1. C 2. C# 3. Python 4. swift => '\u001b[0m\u001b[1;33m)\u001b[0m\u001b[1;33m\u001b[0m\u001b[1;33m\u001b[0m\u001b[0m\n\u001b[0m\u001b[0;32m      3\u001b[0m \u001b[0mprint\u001b[0m\u001b[1;33m(\u001b[0m\u001b[1;34m'컴퓨터 장치가 아닌 것은?'\u001b[0m\u001b[1;33m)\u001b[0m\u001b[1;33m\u001b[0m\u001b[1;33m\u001b[0m\u001b[0m\n\u001b[0;32m      4\u001b[0m \u001b[0manswer2\u001b[0m \u001b[1;33m=\u001b[0m \u001b[0minput\u001b[0m\u001b[1;33m(\u001b[0m\u001b[1;34m'1. HDD 2. SDD 3. RAM 4. CPU => '\u001b[0m\u001b[1;33m)\u001b[0m\u001b[1;33m\u001b[0m\u001b[1;33m\u001b[0m\u001b[0m\n\u001b[0;32m      5\u001b[0m \u001b[0mprint\u001b[0m\u001b[1;33m(\u001b[0m\u001b[1;34m'파이썬의 자료형이 아닌 것은?'\u001b[0m\u001b[1;33m)\u001b[0m\u001b[1;33m\u001b[0m\u001b[1;33m\u001b[0m\u001b[0m\n",
      "\u001b[1;32mC:\\dev\\Anaconda3\\lib\\site-packages\\ipykernel\\kernelbase.py\u001b[0m in \u001b[0;36mraw_input\u001b[1;34m(self, prompt)\u001b[0m\n\u001b[0;32m    858\u001b[0m             \u001b[0mself\u001b[0m\u001b[1;33m.\u001b[0m\u001b[0m_parent_ident\u001b[0m\u001b[1;33m,\u001b[0m\u001b[1;33m\u001b[0m\u001b[1;33m\u001b[0m\u001b[0m\n\u001b[0;32m    859\u001b[0m             \u001b[0mself\u001b[0m\u001b[1;33m.\u001b[0m\u001b[0m_parent_header\u001b[0m\u001b[1;33m,\u001b[0m\u001b[1;33m\u001b[0m\u001b[1;33m\u001b[0m\u001b[0m\n\u001b[1;32m--> 860\u001b[1;33m             \u001b[0mpassword\u001b[0m\u001b[1;33m=\u001b[0m\u001b[1;32mFalse\u001b[0m\u001b[1;33m,\u001b[0m\u001b[1;33m\u001b[0m\u001b[1;33m\u001b[0m\u001b[0m\n\u001b[0m\u001b[0;32m    861\u001b[0m         )\n\u001b[0;32m    862\u001b[0m \u001b[1;33m\u001b[0m\u001b[0m\n",
      "\u001b[1;32mC:\\dev\\Anaconda3\\lib\\site-packages\\ipykernel\\kernelbase.py\u001b[0m in \u001b[0;36m_input_request\u001b[1;34m(self, prompt, ident, parent, password)\u001b[0m\n\u001b[0;32m    888\u001b[0m             \u001b[1;32mexcept\u001b[0m \u001b[0mKeyboardInterrupt\u001b[0m\u001b[1;33m:\u001b[0m\u001b[1;33m\u001b[0m\u001b[1;33m\u001b[0m\u001b[0m\n\u001b[0;32m    889\u001b[0m                 \u001b[1;31m# re-raise KeyboardInterrupt, to truncate traceback\u001b[0m\u001b[1;33m\u001b[0m\u001b[1;33m\u001b[0m\u001b[1;33m\u001b[0m\u001b[0m\n\u001b[1;32m--> 890\u001b[1;33m                 \u001b[1;32mraise\u001b[0m \u001b[0mKeyboardInterrupt\u001b[0m\u001b[1;33m\u001b[0m\u001b[1;33m\u001b[0m\u001b[0m\n\u001b[0m\u001b[0;32m    891\u001b[0m             \u001b[1;32melse\u001b[0m\u001b[1;33m:\u001b[0m\u001b[1;33m\u001b[0m\u001b[1;33m\u001b[0m\u001b[0m\n\u001b[0;32m    892\u001b[0m                 \u001b[1;32mbreak\u001b[0m\u001b[1;33m\u001b[0m\u001b[1;33m\u001b[0m\u001b[0m\n",
      "\u001b[1;31mKeyboardInterrupt\u001b[0m: "
     ]
    }
   ],
   "source": [
    "print('컴파일 언어가 아닌 것은?')\n",
    "answer1 = input('1. C 2. C# 3. Python 4. swift => ')\n",
    "print('컴퓨터 장치가 아닌 것은?')\n",
    "answer2 = input('1. HDD 2. SDD 3. RAM 4. CPU => ')\n",
    "print('파이썬의 자료형이 아닌 것은?')\n",
    "answer3 = input('1. str 2. tuple 3. list 4. Map => ')\n",
    "answer_list = list()\n",
    "answer_list.append(answer1)\n",
    "answer_list.append(answer2)\n",
    "answer_list.append(answer3)\n"
   ]
  },
  {
   "cell_type": "code",
   "execution_count": 16,
   "metadata": {},
   "outputs": [
    {
     "name": "stdout",
     "output_type": "stream",
     "text": [
      "몫 7\n",
      "나머지 11\n"
     ]
    }
   ],
   "source": [
    "a = 123\n",
    "b = 16\n",
    "\n",
    "quotient = divmod(a,b)[0]\n",
    "remainder = divmod(a,b)[1]\n",
    "\n",
    "print('몫', quotient)\n",
    "print('나머지', remainder)"
   ]
  },
  {
   "cell_type": "code",
   "execution_count": 17,
   "metadata": {},
   "outputs": [
    {
     "name": "stdout",
     "output_type": "stream",
     "text": [
      "{1: 'a', 2: 'b', 3: 'c', 4: 'd', 5: 'e', 6: 'f', 7: 'g'}\n"
     ]
    }
   ],
   "source": [
    "char_list = ['a', 'b', 'c', 'd', 'e', 'f', 'g']\n",
    "char_dict = {}\n",
    "\n",
    "for i,e in enumerate(char_list):\n",
    "    char_dict[i+1]=e\n",
    "\n",
    "print(char_dict)"
   ]
  },
  {
   "cell_type": "code",
   "execution_count": 18,
   "metadata": {},
   "outputs": [
    {
     "name": "stdout",
     "output_type": "stream",
     "text": [
      "[2, 4, 6]\n",
      "(2, 4, 6)\n",
      "{2, 4, 6}\n",
      "[2, 4, 6]\n"
     ]
    }
   ],
   "source": [
    "def even(n):\n",
    "    return n % 2 == 0\n",
    "print( list( filter( even, (1, 2, 3, 4, 5, 6) ) ) )\n",
    "print( tuple( filter( even, (1, 2, 3, 4, 5, 6) ) ) )\n",
    "print( set( filter( even, (1, 2, 3, 4, 5, 6) ) ) )\n",
    "print( list( filter( lambda n: n % 2 == 0, (1, 2, 3, 4, 5, 6) ) ) )"
   ]
  },
  {
   "cell_type": "code",
   "execution_count": 19,
   "metadata": {},
   "outputs": [
    {
     "name": "stdout",
     "output_type": "stream",
     "text": [
      "[1, 3, 8]\n"
     ]
    }
   ],
   "source": [
    "def even(n):\n",
    "    return n>0\n",
    "num_list = [1, -2, 3, -5, 8, -3]\n",
    "print(list(filter(lambda n:n>0,num_list)))"
   ]
  },
  {
   "cell_type": "code",
   "execution_count": 20,
   "metadata": {},
   "outputs": [
    {
     "name": "stdout",
     "output_type": "stream",
     "text": [
      "[1, 2, 4, 5, 7, 8, 10, 11, 13, 14, 16, 17, 19, 20]\n"
     ]
    }
   ],
   "source": [
    "num_list = range(1,21)\n",
    "\n",
    "print(list(filter(lambda n:n%3!=0,num_list)))"
   ]
  },
  {
   "cell_type": "code",
   "execution_count": 21,
   "metadata": {},
   "outputs": [
    {
     "name": "stdout",
     "output_type": "stream",
     "text": [
      "0xbe 0x42 0xcd\n"
     ]
    }
   ],
   "source": [
    "red = 190\n",
    "green = 66\n",
    "blue = 205\n",
    "# 코드 작성\n",
    "r = hex(red)\n",
    "g = hex(green)\n",
    "b = hex(blue)\n",
    "print(r, g, b)"
   ]
  },
  {
   "cell_type": "code",
   "execution_count": 22,
   "metadata": {},
   "outputs": [
    {
     "name": "stdout",
     "output_type": "stream",
     "text": [
      "HELLO\n",
      "GGOREB\n"
     ]
    }
   ],
   "source": [
    "hexa_string1 = '48 45 4C 4C 4F'\n",
    "hexa_string2 = '47 47 4F 52 45 42'\n",
    "def show_hex_to_ch(hexa_string):\n",
    "    hexa_list = hexa_string.split(' ')\n",
    "    for hexa in hexa_list:\n",
    "        print(chr(int(hexa,16)),end='')\n",
    "    print()\n",
    "show_hex_to_ch(hexa_string1)\n",
    "show_hex_to_ch(hexa_string2)"
   ]
  },
  {
   "cell_type": "code",
   "execution_count": 23,
   "metadata": {},
   "outputs": [
    {
     "name": "stdout",
     "output_type": "stream",
     "text": [
      "29.04\n"
     ]
    }
   ],
   "source": [
    "values = [10, 'a', True, {}, [], -4, 23.24, (1,), -1.2]\n",
    "result = 0\n",
    "for value in values:\n",
    "    if isinstance(value,int) or isinstance(value,float):\n",
    "        result +=value\n",
    "    \n",
    "print(result) # 29.04"
   ]
  },
  {
   "cell_type": "code",
   "execution_count": 24,
   "metadata": {},
   "outputs": [
    {
     "name": "stdout",
     "output_type": "stream",
     "text": [
      "[3, 6, 9, 12]\n",
      "[3, 6, 9, 12]\n"
     ]
    }
   ],
   "source": [
    "def three_times(x):\n",
    "    return x*3\n",
    "num_list = [1, 2, 3, 4]\n",
    "print(list(map(three_times,num_list)))\n",
    "print(list(map(lambda x:x*3,num_list)))"
   ]
  },
  {
   "cell_type": "code",
   "execution_count": 25,
   "metadata": {},
   "outputs": [
    {
     "name": "stdout",
     "output_type": "stream",
     "text": [
      "[1, 4, 27, 256]\n",
      "[1, 4, 27, 256]\n"
     ]
    }
   ],
   "source": [
    "def multi(x):\n",
    "    return x**x\n",
    "num_list = [1, 2, 3, 4]\n",
    "print(list(map(multi,num_list)))\n",
    "print(list(map(lambda x:x**x,num_list)))"
   ]
  },
  {
   "cell_type": "code",
   "execution_count": 26,
   "metadata": {},
   "outputs": [
    {
     "name": "stdout",
     "output_type": "stream",
     "text": [
      "최대값:  7 최소값:  -8\n"
     ]
    }
   ],
   "source": [
    "num_list = [-8, 2, 7, 5, -3, 5, 0, 1]\n",
    "\n",
    "print('최대값: ',max(num_list),'최소값: ',min(num_list))"
   ]
  },
  {
   "cell_type": "code",
   "execution_count": 27,
   "metadata": {},
   "outputs": [
    {
     "name": "stdout",
     "output_type": "stream",
     "text": [
      "65 83 67 73 73 32 84 65 66 76 69 \n",
      "80 89 84 72 79 78 \n"
     ]
    }
   ],
   "source": [
    "string1 = 'ASCII TABLE'\n",
    "string2 = 'PYTHON'\n",
    "def show_ch_to_ascii(string):\n",
    "    for s in string:\n",
    "        print(ord(s),end=' ')\n",
    "        \n",
    "    print()\n",
    "show_ch_to_ascii(string1)\n",
    "show_ch_to_ascii(string2)"
   ]
  },
  {
   "cell_type": "code",
   "execution_count": 28,
   "metadata": {},
   "outputs": [
    {
     "name": "stdout",
     "output_type": "stream",
     "text": [
      "[(1, 'a', '가'), (2, 'b', '나'), (3, 'c', '다'), (4, 'd', '라')]\n",
      "1 a 가\n",
      "2 b 나\n",
      "3 c 다\n",
      "4 d 라\n"
     ]
    }
   ],
   "source": [
    "list1 = [1, 2, 3, 4]\n",
    "list2 = ['a', 'b', 'c', 'd']\n",
    "list3 = ['가', '나', '다', '라']\n",
    "print(list(zip(list1,list2,list3)))\n",
    "\n",
    "for a,b,c in zip(list1,list2,list3):\n",
    "    print(a,b,c)"
   ]
  },
  {
   "cell_type": "code",
   "execution_count": 29,
   "metadata": {},
   "outputs": [
    {
     "name": "stdout",
     "output_type": "stream",
     "text": [
      "['C:\\\\Users\\\\정찬오', 'C:\\\\dev\\\\Anaconda3\\\\python37.zip', 'C:\\\\dev\\\\Anaconda3\\\\DLLs', 'C:\\\\dev\\\\Anaconda3\\\\lib', 'C:\\\\dev\\\\Anaconda3', '', 'C:\\\\dev\\\\Anaconda3\\\\lib\\\\site-packages', 'C:\\\\dev\\\\Anaconda3\\\\lib\\\\site-packages\\\\win32', 'C:\\\\dev\\\\Anaconda3\\\\lib\\\\site-packages\\\\win32\\\\lib', 'C:\\\\dev\\\\Anaconda3\\\\lib\\\\site-packages\\\\Pythonwin', 'C:\\\\dev\\\\Anaconda3\\\\lib\\\\site-packages\\\\IPython\\\\extensions', 'C:\\\\Users\\\\정찬오\\\\.ipython']\n"
     ]
    }
   ],
   "source": [
    "import sys\n",
    "print(sys.path)"
   ]
  },
  {
   "cell_type": "code",
   "execution_count": 30,
   "metadata": {},
   "outputs": [],
   "source": [
    "import pickle\n",
    "class NowData:\n",
    "    def __init__(self):\n",
    "        self.x = 0\n",
    "        self.y = 0\n",
    "    def move(self, x, y):\n",
    "        self.x = x\n",
    "        self.y = y\n",
    "    def get_location(self):\n",
    "        return self.x, self.y\n",
    "data = NowData()\n",
    "data.move(100, 200)\n",
    "\n",
    "file = open('data.bin','wb')\n",
    "pickle.dump(data,file)\n",
    "file.close()"
   ]
  },
  {
   "cell_type": "code",
   "execution_count": 31,
   "metadata": {},
   "outputs": [
    {
     "data": {
      "text/plain": [
       "(100, 200)"
      ]
     },
     "execution_count": 31,
     "metadata": {},
     "output_type": "execute_result"
    }
   ],
   "source": [
    "import pickle\n",
    "file = open('data.bin','rb')\n",
    "data = pickle.load(file)\n",
    "data.get_location()"
   ]
  },
  {
   "cell_type": "code",
   "execution_count": 32,
   "metadata": {},
   "outputs": [
    {
     "ename": "FileExistsError",
     "evalue": "[WinError 183] 파일이 이미 있으므로 만들 수 없습니다: 'C:/python_dir'",
     "output_type": "error",
     "traceback": [
      "\u001b[1;31m---------------------------------------------------------------------------\u001b[0m",
      "\u001b[1;31mFileExistsError\u001b[0m                           Traceback (most recent call last)",
      "\u001b[1;32m<ipython-input-32-b28b4aecf7c9>\u001b[0m in \u001b[0;36m<module>\u001b[1;34m\u001b[0m\n\u001b[0;32m      1\u001b[0m \u001b[1;32mimport\u001b[0m \u001b[0mos\u001b[0m\u001b[1;33m\u001b[0m\u001b[1;33m\u001b[0m\u001b[0m\n\u001b[1;32m----> 2\u001b[1;33m \u001b[0mos\u001b[0m\u001b[1;33m.\u001b[0m\u001b[0mmkdir\u001b[0m\u001b[1;33m(\u001b[0m\u001b[1;34m'C:/python_dir'\u001b[0m\u001b[1;33m)\u001b[0m\u001b[1;33m\u001b[0m\u001b[1;33m\u001b[0m\u001b[0m\n\u001b[0m",
      "\u001b[1;31mFileExistsError\u001b[0m: [WinError 183] 파일이 이미 있으므로 만들 수 없습니다: 'C:/python_dir'"
     ]
    }
   ],
   "source": [
    "import os\n",
    "os.mkdir('C:/python_dir')"
   ]
  },
  {
   "cell_type": "code",
   "execution_count": 33,
   "metadata": {},
   "outputs": [
    {
     "ename": "FileExistsError",
     "evalue": "[WinError 183] 파일이 이미 있으므로 만들 수 없습니다: 'C:/python_dir/a'",
     "output_type": "error",
     "traceback": [
      "\u001b[1;31m---------------------------------------------------------------------------\u001b[0m",
      "\u001b[1;31mFileExistsError\u001b[0m                           Traceback (most recent call last)",
      "\u001b[1;32m<ipython-input-33-e4caf005e350>\u001b[0m in \u001b[0;36m<module>\u001b[1;34m\u001b[0m\n\u001b[1;32m----> 1\u001b[1;33m \u001b[0mos\u001b[0m\u001b[1;33m.\u001b[0m\u001b[0mmkdir\u001b[0m\u001b[1;33m(\u001b[0m\u001b[1;34m'C:/python_dir/a'\u001b[0m\u001b[1;33m)\u001b[0m\u001b[1;33m\u001b[0m\u001b[1;33m\u001b[0m\u001b[0m\n\u001b[0m",
      "\u001b[1;31mFileExistsError\u001b[0m: [WinError 183] 파일이 이미 있으므로 만들 수 없습니다: 'C:/python_dir/a'"
     ]
    }
   ],
   "source": [
    "os.mkdir('C:/python_dir/a')"
   ]
  },
  {
   "cell_type": "code",
   "execution_count": 34,
   "metadata": {},
   "outputs": [
    {
     "ename": "FileExistsError",
     "evalue": "[WinError 183] 파일이 이미 있으므로 만들 수 없습니다: 'C:/python_dir/b'",
     "output_type": "error",
     "traceback": [
      "\u001b[1;31m---------------------------------------------------------------------------\u001b[0m",
      "\u001b[1;31mFileExistsError\u001b[0m                           Traceback (most recent call last)",
      "\u001b[1;32m<ipython-input-34-1813795a5851>\u001b[0m in \u001b[0;36m<module>\u001b[1;34m\u001b[0m\n\u001b[1;32m----> 1\u001b[1;33m \u001b[0mos\u001b[0m\u001b[1;33m.\u001b[0m\u001b[0mmkdir\u001b[0m\u001b[1;33m(\u001b[0m\u001b[1;34m'C:/python_dir/b'\u001b[0m\u001b[1;33m)\u001b[0m\u001b[1;33m\u001b[0m\u001b[1;33m\u001b[0m\u001b[0m\n\u001b[0m",
      "\u001b[1;31mFileExistsError\u001b[0m: [WinError 183] 파일이 이미 있으므로 만들 수 없습니다: 'C:/python_dir/b'"
     ]
    }
   ],
   "source": [
    "os.mkdir('C:/python_dir/b')"
   ]
  },
  {
   "cell_type": "code",
   "execution_count": 35,
   "metadata": {},
   "outputs": [
    {
     "data": {
      "text/plain": [
       "'C:\\\\Users\\\\정찬오'"
      ]
     },
     "execution_count": 35,
     "metadata": {},
     "output_type": "execute_result"
    }
   ],
   "source": [
    "os.getcwd()"
   ]
  },
  {
   "cell_type": "code",
   "execution_count": 36,
   "metadata": {},
   "outputs": [],
   "source": [
    "file = open('C:/python_dir/a/a.txt','w')\n",
    "file.close()"
   ]
  },
  {
   "cell_type": "code",
   "execution_count": 37,
   "metadata": {},
   "outputs": [],
   "source": [
    "file = open('C:/python_dir/b/b.txt','w')\n",
    "file.close()"
   ]
  },
  {
   "cell_type": "code",
   "execution_count": 15,
   "metadata": {},
   "outputs": [
    {
     "name": "stdout",
     "output_type": "stream",
     "text": [
      "['C:\\\\dev\\\\Anaconda3\\\\Lib\\\\abc.py', 'C:\\\\dev\\\\Anaconda3\\\\Lib\\\\aifc.py', 'C:\\\\dev\\\\Anaconda3\\\\Lib\\\\antigravity.py', 'C:\\\\dev\\\\Anaconda3\\\\Lib\\\\argparse.py', 'C:\\\\dev\\\\Anaconda3\\\\Lib\\\\ast.py', 'C:\\\\dev\\\\Anaconda3\\\\Lib\\\\asynchat.py', 'C:\\\\dev\\\\Anaconda3\\\\Lib\\\\asyncio', 'C:\\\\dev\\\\Anaconda3\\\\Lib\\\\asyncore.py', 'C:\\\\dev\\\\Anaconda3\\\\Lib\\\\base64.py', 'C:\\\\dev\\\\Anaconda3\\\\Lib\\\\bdb.py', 'C:\\\\dev\\\\Anaconda3\\\\Lib\\\\binhex.py', 'C:\\\\dev\\\\Anaconda3\\\\Lib\\\\bisect.py', 'C:\\\\dev\\\\Anaconda3\\\\Lib\\\\bz2.py', 'C:\\\\dev\\\\Anaconda3\\\\Lib\\\\calendar.py', 'C:\\\\dev\\\\Anaconda3\\\\Lib\\\\cgi.py', 'C:\\\\dev\\\\Anaconda3\\\\Lib\\\\cgitb.py', 'C:\\\\dev\\\\Anaconda3\\\\Lib\\\\chunk.py', 'C:\\\\dev\\\\Anaconda3\\\\Lib\\\\cmd.py', 'C:\\\\dev\\\\Anaconda3\\\\Lib\\\\code.py', 'C:\\\\dev\\\\Anaconda3\\\\Lib\\\\codecs.py', 'C:\\\\dev\\\\Anaconda3\\\\Lib\\\\codeop.py', 'C:\\\\dev\\\\Anaconda3\\\\Lib\\\\collections', 'C:\\\\dev\\\\Anaconda3\\\\Lib\\\\colorsys.py', 'C:\\\\dev\\\\Anaconda3\\\\Lib\\\\compileall.py', 'C:\\\\dev\\\\Anaconda3\\\\Lib\\\\concurrent', 'C:\\\\dev\\\\Anaconda3\\\\Lib\\\\configparser.py', 'C:\\\\dev\\\\Anaconda3\\\\Lib\\\\contextlib.py', 'C:\\\\dev\\\\Anaconda3\\\\Lib\\\\contextvars.py', 'C:\\\\dev\\\\Anaconda3\\\\Lib\\\\copy.py', 'C:\\\\dev\\\\Anaconda3\\\\Lib\\\\copyreg.py', 'C:\\\\dev\\\\Anaconda3\\\\Lib\\\\cProfile.py', 'C:\\\\dev\\\\Anaconda3\\\\Lib\\\\crypt.py', 'C:\\\\dev\\\\Anaconda3\\\\Lib\\\\csv.py', 'C:\\\\dev\\\\Anaconda3\\\\Lib\\\\ctypes', 'C:\\\\dev\\\\Anaconda3\\\\Lib\\\\curses', 'C:\\\\dev\\\\Anaconda3\\\\Lib\\\\dataclasses.py', 'C:\\\\dev\\\\Anaconda3\\\\Lib\\\\datetime.py', 'C:\\\\dev\\\\Anaconda3\\\\Lib\\\\dbm', 'C:\\\\dev\\\\Anaconda3\\\\Lib\\\\decimal.py', 'C:\\\\dev\\\\Anaconda3\\\\Lib\\\\difflib.py', 'C:\\\\dev\\\\Anaconda3\\\\Lib\\\\dis.py', 'C:\\\\dev\\\\Anaconda3\\\\Lib\\\\distutils', 'C:\\\\dev\\\\Anaconda3\\\\Lib\\\\doctest.py', 'C:\\\\dev\\\\Anaconda3\\\\Lib\\\\dummy_threading.py', 'C:\\\\dev\\\\Anaconda3\\\\Lib\\\\email', 'C:\\\\dev\\\\Anaconda3\\\\Lib\\\\encodings', 'C:\\\\dev\\\\Anaconda3\\\\Lib\\\\ensurepip', 'C:\\\\dev\\\\Anaconda3\\\\Lib\\\\enum.py', 'C:\\\\dev\\\\Anaconda3\\\\Lib\\\\filecmp.py', 'C:\\\\dev\\\\Anaconda3\\\\Lib\\\\fileinput.py', 'C:\\\\dev\\\\Anaconda3\\\\Lib\\\\fnmatch.py', 'C:\\\\dev\\\\Anaconda3\\\\Lib\\\\formatter.py', 'C:\\\\dev\\\\Anaconda3\\\\Lib\\\\fractions.py', 'C:\\\\dev\\\\Anaconda3\\\\Lib\\\\ftplib.py', 'C:\\\\dev\\\\Anaconda3\\\\Lib\\\\functools.py', 'C:\\\\dev\\\\Anaconda3\\\\Lib\\\\genericpath.py', 'C:\\\\dev\\\\Anaconda3\\\\Lib\\\\getopt.py', 'C:\\\\dev\\\\Anaconda3\\\\Lib\\\\getpass.py', 'C:\\\\dev\\\\Anaconda3\\\\Lib\\\\gettext.py', 'C:\\\\dev\\\\Anaconda3\\\\Lib\\\\glob.py', 'C:\\\\dev\\\\Anaconda3\\\\Lib\\\\gzip.py', 'C:\\\\dev\\\\Anaconda3\\\\Lib\\\\hashlib.py', 'C:\\\\dev\\\\Anaconda3\\\\Lib\\\\heapq.py', 'C:\\\\dev\\\\Anaconda3\\\\Lib\\\\hmac.py', 'C:\\\\dev\\\\Anaconda3\\\\Lib\\\\html', 'C:\\\\dev\\\\Anaconda3\\\\Lib\\\\http', 'C:\\\\dev\\\\Anaconda3\\\\Lib\\\\idlelib', 'C:\\\\dev\\\\Anaconda3\\\\Lib\\\\imaplib.py', 'C:\\\\dev\\\\Anaconda3\\\\Lib\\\\imghdr.py', 'C:\\\\dev\\\\Anaconda3\\\\Lib\\\\imp.py', 'C:\\\\dev\\\\Anaconda3\\\\Lib\\\\importlib', 'C:\\\\dev\\\\Anaconda3\\\\Lib\\\\inspect.py', 'C:\\\\dev\\\\Anaconda3\\\\Lib\\\\io.py', 'C:\\\\dev\\\\Anaconda3\\\\Lib\\\\ipaddress.py', 'C:\\\\dev\\\\Anaconda3\\\\Lib\\\\json', 'C:\\\\dev\\\\Anaconda3\\\\Lib\\\\keyword.py', 'C:\\\\dev\\\\Anaconda3\\\\Lib\\\\lib2to3', 'C:\\\\dev\\\\Anaconda3\\\\Lib\\\\LIEF-static.lib', 'C:\\\\dev\\\\Anaconda3\\\\Lib\\\\LIEF.lib', 'C:\\\\dev\\\\Anaconda3\\\\Lib\\\\linecache.py', 'C:\\\\dev\\\\Anaconda3\\\\Lib\\\\locale.py', 'C:\\\\dev\\\\Anaconda3\\\\Lib\\\\logging', 'C:\\\\dev\\\\Anaconda3\\\\Lib\\\\lzma.py', 'C:\\\\dev\\\\Anaconda3\\\\Lib\\\\macpath.py', 'C:\\\\dev\\\\Anaconda3\\\\Lib\\\\mailbox.py', 'C:\\\\dev\\\\Anaconda3\\\\Lib\\\\mailcap.py', 'C:\\\\dev\\\\Anaconda3\\\\Lib\\\\mimetypes.py', 'C:\\\\dev\\\\Anaconda3\\\\Lib\\\\modulefinder.py', 'C:\\\\dev\\\\Anaconda3\\\\Lib\\\\msilib', 'C:\\\\dev\\\\Anaconda3\\\\Lib\\\\multiprocessing', 'C:\\\\dev\\\\Anaconda3\\\\Lib\\\\netrc.py', 'C:\\\\dev\\\\Anaconda3\\\\Lib\\\\nntplib.py', 'C:\\\\dev\\\\Anaconda3\\\\Lib\\\\ntpath.py', 'C:\\\\dev\\\\Anaconda3\\\\Lib\\\\nturl2path.py', 'C:\\\\dev\\\\Anaconda3\\\\Lib\\\\numbers.py', 'C:\\\\dev\\\\Anaconda3\\\\Lib\\\\opcode.py', 'C:\\\\dev\\\\Anaconda3\\\\Lib\\\\operator.py', 'C:\\\\dev\\\\Anaconda3\\\\Lib\\\\optparse.py', 'C:\\\\dev\\\\Anaconda3\\\\Lib\\\\os.py', 'C:\\\\dev\\\\Anaconda3\\\\Lib\\\\pathlib.py', 'C:\\\\dev\\\\Anaconda3\\\\Lib\\\\pdb.py', 'C:\\\\dev\\\\Anaconda3\\\\Lib\\\\pickle.py', 'C:\\\\dev\\\\Anaconda3\\\\Lib\\\\pickletools.py', 'C:\\\\dev\\\\Anaconda3\\\\Lib\\\\pipes.py', 'C:\\\\dev\\\\Anaconda3\\\\Lib\\\\pkgutil.py', 'C:\\\\dev\\\\Anaconda3\\\\Lib\\\\platform.py', 'C:\\\\dev\\\\Anaconda3\\\\Lib\\\\plistlib.py', 'C:\\\\dev\\\\Anaconda3\\\\Lib\\\\poplib.py', 'C:\\\\dev\\\\Anaconda3\\\\Lib\\\\posixpath.py', 'C:\\\\dev\\\\Anaconda3\\\\Lib\\\\pprint.py', 'C:\\\\dev\\\\Anaconda3\\\\Lib\\\\profile.py', 'C:\\\\dev\\\\Anaconda3\\\\Lib\\\\pstats.py', 'C:\\\\dev\\\\Anaconda3\\\\Lib\\\\pty.py', 'C:\\\\dev\\\\Anaconda3\\\\Lib\\\\pyclbr.py', 'C:\\\\dev\\\\Anaconda3\\\\Lib\\\\pydoc.py', 'C:\\\\dev\\\\Anaconda3\\\\Lib\\\\pydoc_data', 'C:\\\\dev\\\\Anaconda3\\\\Lib\\\\py_compile.py', 'C:\\\\dev\\\\Anaconda3\\\\Lib\\\\queue.py', 'C:\\\\dev\\\\Anaconda3\\\\Lib\\\\quopri.py', 'C:\\\\dev\\\\Anaconda3\\\\Lib\\\\random.py', 'C:\\\\dev\\\\Anaconda3\\\\Lib\\\\re.py', 'C:\\\\dev\\\\Anaconda3\\\\Lib\\\\reprlib.py', 'C:\\\\dev\\\\Anaconda3\\\\Lib\\\\rlcompleter.py', 'C:\\\\dev\\\\Anaconda3\\\\Lib\\\\runpy.py', 'C:\\\\dev\\\\Anaconda3\\\\Lib\\\\sched.py', 'C:\\\\dev\\\\Anaconda3\\\\Lib\\\\secrets.py', 'C:\\\\dev\\\\Anaconda3\\\\Lib\\\\selectors.py', 'C:\\\\dev\\\\Anaconda3\\\\Lib\\\\shelve.py', 'C:\\\\dev\\\\Anaconda3\\\\Lib\\\\shlex.py', 'C:\\\\dev\\\\Anaconda3\\\\Lib\\\\shutil.py', 'C:\\\\dev\\\\Anaconda3\\\\Lib\\\\signal.py', 'C:\\\\dev\\\\Anaconda3\\\\Lib\\\\site-packages', 'C:\\\\dev\\\\Anaconda3\\\\Lib\\\\site.py', 'C:\\\\dev\\\\Anaconda3\\\\Lib\\\\smtpd.py', 'C:\\\\dev\\\\Anaconda3\\\\Lib\\\\smtplib.py', 'C:\\\\dev\\\\Anaconda3\\\\Lib\\\\sndhdr.py', 'C:\\\\dev\\\\Anaconda3\\\\Lib\\\\socket.py', 'C:\\\\dev\\\\Anaconda3\\\\Lib\\\\socketserver.py', 'C:\\\\dev\\\\Anaconda3\\\\Lib\\\\sqlite3', 'C:\\\\dev\\\\Anaconda3\\\\Lib\\\\sre_compile.py', 'C:\\\\dev\\\\Anaconda3\\\\Lib\\\\sre_constants.py', 'C:\\\\dev\\\\Anaconda3\\\\Lib\\\\sre_parse.py', 'C:\\\\dev\\\\Anaconda3\\\\Lib\\\\ssl.py', 'C:\\\\dev\\\\Anaconda3\\\\Lib\\\\stat.py', 'C:\\\\dev\\\\Anaconda3\\\\Lib\\\\statistics.py', 'C:\\\\dev\\\\Anaconda3\\\\Lib\\\\string.py', 'C:\\\\dev\\\\Anaconda3\\\\Lib\\\\stringprep.py', 'C:\\\\dev\\\\Anaconda3\\\\Lib\\\\struct.py', 'C:\\\\dev\\\\Anaconda3\\\\Lib\\\\subprocess.py', 'C:\\\\dev\\\\Anaconda3\\\\Lib\\\\sunau.py', 'C:\\\\dev\\\\Anaconda3\\\\Lib\\\\symbol.py', 'C:\\\\dev\\\\Anaconda3\\\\Lib\\\\symtable.py', 'C:\\\\dev\\\\Anaconda3\\\\Lib\\\\sysconfig.py', 'C:\\\\dev\\\\Anaconda3\\\\Lib\\\\tabnanny.py', 'C:\\\\dev\\\\Anaconda3\\\\Lib\\\\tarfile.py', 'C:\\\\dev\\\\Anaconda3\\\\Lib\\\\telnetlib.py', 'C:\\\\dev\\\\Anaconda3\\\\Lib\\\\tempfile.py', 'C:\\\\dev\\\\Anaconda3\\\\Lib\\\\test', 'C:\\\\dev\\\\Anaconda3\\\\Lib\\\\textwrap.py', 'C:\\\\dev\\\\Anaconda3\\\\Lib\\\\this.py', 'C:\\\\dev\\\\Anaconda3\\\\Lib\\\\threading.py', 'C:\\\\dev\\\\Anaconda3\\\\Lib\\\\timeit.py', 'C:\\\\dev\\\\Anaconda3\\\\Lib\\\\tkinter', 'C:\\\\dev\\\\Anaconda3\\\\Lib\\\\token.py', 'C:\\\\dev\\\\Anaconda3\\\\Lib\\\\tokenize.py', 'C:\\\\dev\\\\Anaconda3\\\\Lib\\\\trace.py', 'C:\\\\dev\\\\Anaconda3\\\\Lib\\\\traceback.py', 'C:\\\\dev\\\\Anaconda3\\\\Lib\\\\tracemalloc.py', 'C:\\\\dev\\\\Anaconda3\\\\Lib\\\\tty.py', 'C:\\\\dev\\\\Anaconda3\\\\Lib\\\\turtle.py', 'C:\\\\dev\\\\Anaconda3\\\\Lib\\\\turtledemo', 'C:\\\\dev\\\\Anaconda3\\\\Lib\\\\types.py', 'C:\\\\dev\\\\Anaconda3\\\\Lib\\\\typing.py', 'C:\\\\dev\\\\Anaconda3\\\\Lib\\\\unittest', 'C:\\\\dev\\\\Anaconda3\\\\Lib\\\\urllib', 'C:\\\\dev\\\\Anaconda3\\\\Lib\\\\uu.py', 'C:\\\\dev\\\\Anaconda3\\\\Lib\\\\uuid.py', 'C:\\\\dev\\\\Anaconda3\\\\Lib\\\\venv', 'C:\\\\dev\\\\Anaconda3\\\\Lib\\\\warnings.py', 'C:\\\\dev\\\\Anaconda3\\\\Lib\\\\wave.py', 'C:\\\\dev\\\\Anaconda3\\\\Lib\\\\weakref.py', 'C:\\\\dev\\\\Anaconda3\\\\Lib\\\\webbrowser.py', 'C:\\\\dev\\\\Anaconda3\\\\Lib\\\\wsgiref', 'C:\\\\dev\\\\Anaconda3\\\\Lib\\\\xdrlib.py', 'C:\\\\dev\\\\Anaconda3\\\\Lib\\\\xml', 'C:\\\\dev\\\\Anaconda3\\\\Lib\\\\xmlrpc', 'C:\\\\dev\\\\Anaconda3\\\\Lib\\\\zipapp.py', 'C:\\\\dev\\\\Anaconda3\\\\Lib\\\\zipfile.py', 'C:\\\\dev\\\\Anaconda3\\\\Lib\\\\_bootlocale.py', 'C:\\\\dev\\\\Anaconda3\\\\Lib\\\\_collections_abc.py', 'C:\\\\dev\\\\Anaconda3\\\\Lib\\\\_compat_pickle.py', 'C:\\\\dev\\\\Anaconda3\\\\Lib\\\\_compression.py', 'C:\\\\dev\\\\Anaconda3\\\\Lib\\\\_dummy_thread.py', 'C:\\\\dev\\\\Anaconda3\\\\Lib\\\\_markupbase.py', 'C:\\\\dev\\\\Anaconda3\\\\Lib\\\\_nsis.py', 'C:\\\\dev\\\\Anaconda3\\\\Lib\\\\_osx_support.py', 'C:\\\\dev\\\\Anaconda3\\\\Lib\\\\_pydecimal.py', 'C:\\\\dev\\\\Anaconda3\\\\Lib\\\\_pyio.py', 'C:\\\\dev\\\\Anaconda3\\\\Lib\\\\_py_abc.py', 'C:\\\\dev\\\\Anaconda3\\\\Lib\\\\_sitebuiltins.py', 'C:\\\\dev\\\\Anaconda3\\\\Lib\\\\_strptime.py', 'C:\\\\dev\\\\Anaconda3\\\\Lib\\\\_system_path.py', 'C:\\\\dev\\\\Anaconda3\\\\Lib\\\\_threading_local.py', 'C:\\\\dev\\\\Anaconda3\\\\Lib\\\\_weakrefset.py', 'C:\\\\dev\\\\Anaconda3\\\\Lib\\\\__future__.py', 'C:\\\\dev\\\\Anaconda3\\\\Lib\\\\__phello__.foo.py', 'C:\\\\dev\\\\Anaconda3\\\\Lib\\\\__pycache__']\n"
     ]
    }
   ],
   "source": [
    "import glob\n",
    "fileList = glob.glob('C:\\dev\\Anaconda3\\Lib\\*')\n",
    "print(fileList)"
   ]
  },
  {
   "cell_type": "code",
   "execution_count": 14,
   "metadata": {},
   "outputs": [
    {
     "data": {
      "text/plain": [
       "'C:/python_dir/hosts'"
      ]
     },
     "execution_count": 14,
     "metadata": {},
     "output_type": "execute_result"
    }
   ],
   "source": [
    "import shutil\n",
    "shutil.copy('C:/Windows/System32/drivers/etc/hosts', 'C:/python_dir/')\n"
   ]
  },
  {
   "cell_type": "code",
   "execution_count": 13,
   "metadata": {},
   "outputs": [
    {
     "name": "stdout",
     "output_type": "stream",
     "text": [
      "[]\n"
     ]
    }
   ],
   "source": [
    "import glob\n",
    "fileList = glob.glob('C:/Users/정찬오/Lib/*.py')\n",
    "print(fileList)"
   ]
  },
  {
   "cell_type": "code",
   "execution_count": 12,
   "metadata": {},
   "outputs": [],
   "source": [
    "import time\n",
    "t = time.localtime(time.time())\n"
   ]
  },
  {
   "cell_type": "code",
   "execution_count": 38,
   "metadata": {},
   "outputs": [],
   "source": [
    "import random\n"
   ]
  },
  {
   "cell_type": "code",
   "execution_count": 39,
   "metadata": {},
   "outputs": [
    {
     "data": {
      "text/plain": [
       "3"
      ]
     },
     "execution_count": 39,
     "metadata": {},
     "output_type": "execute_result"
    }
   ],
   "source": [
    "random.seed(1)\n",
    "random.randint(1,10)"
   ]
  },
  {
   "cell_type": "code",
   "execution_count": 40,
   "metadata": {},
   "outputs": [
    {
     "name": "stdout",
     "output_type": "stream",
     "text": [
      "15\n",
      "16\n"
     ]
    }
   ],
   "source": [
    "print(t.tm_mday)\n",
    "print(t.tm_hour)"
   ]
  },
  {
   "cell_type": "code",
   "execution_count": 9,
   "metadata": {},
   "outputs": [
    {
     "data": {
      "text/plain": [
       "'2020 01 15 16:28:37 3 '"
      ]
     },
     "execution_count": 9,
     "metadata": {},
     "output_type": "execute_result"
    }
   ],
   "source": [
    "time.strftime( '%Y %m %d %H:%M:%S %w ', time.localtime( time.time() ) )"
   ]
  },
  {
   "cell_type": "code",
   "execution_count": null,
   "metadata": {},
   "outputs": [],
   "source": [
    "minute = 25\n",
    "time.sleep(minute * 60)"
   ]
  },
  {
   "cell_type": "code",
   "execution_count": 41,
   "metadata": {},
   "outputs": [
    {
     "data": {
      "text/plain": [
       "'2020-01-15 16:30:17'"
      ]
     },
     "execution_count": 41,
     "metadata": {},
     "output_type": "execute_result"
    }
   ],
   "source": [
    "time.strftime( '%Y-%m-%d %H:%M:%S', time.localtime( time.time() ) )"
   ]
  },
  {
   "cell_type": "code",
   "execution_count": 42,
   "metadata": {},
   "outputs": [
    {
     "data": {
      "text/plain": [
       "'2020-04-24 16:31:26'"
      ]
     },
     "execution_count": 42,
     "metadata": {},
     "output_type": "execute_result"
    }
   ],
   "source": [
    "day = 60 * 60 * 24 \n",
    "time.strftime( '%Y-%m-%d %H:%M:%S', time.localtime( time.time()+(100*day) ) )"
   ]
  },
  {
   "cell_type": "code",
   "execution_count": 44,
   "metadata": {},
   "outputs": [
    {
     "name": "stdout",
     "output_type": "stream",
     "text": [
      "      May 2017\n",
      "Mo Tu We Th Fr Sa Su\n",
      " 1  2  3  4  5  6  7\n",
      " 8  9 10 11 12 13 14\n",
      "15 16 17 18 19 20 21\n",
      "22 23 24 25 26 27 28\n",
      "29 30 31\n"
     ]
    }
   ],
   "source": [
    "import calendar\n",
    "calendar.prmonth(2017, 5)"
   ]
  },
  {
   "cell_type": "code",
   "execution_count": 54,
   "metadata": {},
   "outputs": [
    {
     "data": {
      "text/plain": [
       "'화'"
      ]
     },
     "execution_count": 54,
     "metadata": {},
     "output_type": "execute_result"
    }
   ],
   "source": [
    "week_dict = { 0 : '월', 1 : '화', 2 : '수', 3 : '목', 4 : '금', 5 : '토', 6 : '일' }\n",
    "# week_dict[int(time.strftime( '%w', time.localtime( time.time())))-1]\n",
    "week_dict[calendar.weekday(2017, 5, 9)]"
   ]
  },
  {
   "cell_type": "code",
   "execution_count": 60,
   "metadata": {},
   "outputs": [
    {
     "name": "stdout",
     "output_type": "stream",
     "text": [
      "2 일\n",
      "9 일\n",
      "16 일\n",
      "23 일\n",
      "30 일\n"
     ]
    }
   ],
   "source": [
    "last_day = calendar.monthrange(2004, 8)[1]\n",
    "for day in range(last_day):\n",
    "    if calendar.weekday(2004, 8, day+1) ==0:\n",
    "        print(day+1,'일')"
   ]
  }
 ],
 "metadata": {
  "kernelspec": {
   "display_name": "Python 3",
   "language": "python",
   "name": "python3"
  },
  "language_info": {
   "codemirror_mode": {
    "name": "ipython",
    "version": 3
   },
   "file_extension": ".py",
   "mimetype": "text/x-python",
   "name": "python",
   "nbconvert_exporter": "python",
   "pygments_lexer": "ipython3",
   "version": "3.7.4"
  }
 },
 "nbformat": 4,
 "nbformat_minor": 2
}
