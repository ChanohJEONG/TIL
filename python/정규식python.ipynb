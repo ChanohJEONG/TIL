{
 "cells": [
  {
   "cell_type": "code",
   "execution_count": 8,
   "metadata": {},
   "outputs": [
    {
     "name": "stdout",
     "output_type": "stream",
     "text": [
      "<re.Match object; span=(6, 7), match='a'>\n",
      "None\n",
      "False\n"
     ]
    }
   ],
   "source": [
    "import re\n",
    "pat = re.compile('[abc]')# [a-z]=a부터z까지 [가-힇]\n",
    "s = 'pythona'\n",
    "print(pat.search(s))\n",
    "print(pat.match(s))\n",
    "\n",
    "if pat.match(s):\n",
    "    print(True)\n",
    "else:\n",
    "    print(False)"
   ]
  },
  {
   "cell_type": "code",
   "execution_count": 19,
   "metadata": {},
   "outputs": [
    {
     "name": "stdout",
     "output_type": "stream",
     "text": [
      "<re.Match object; span=(0, 5), match='abcxz'>\n"
     ]
    }
   ],
   "source": [
    "pat = re.compile('^a.*[xz]$')\n",
    "s = 'abcxz'\n",
    "print(pat.match(s))"
   ]
  },
  {
   "cell_type": "code",
   "execution_count": 21,
   "metadata": {},
   "outputs": [
    {
     "name": "stdout",
     "output_type": "stream",
     "text": [
      "<re.Match object; span=(0, 14), match='791111-1234567'>\n"
     ]
    }
   ],
   "source": [
    "text = '791111-1234567'\n",
    "regex = '[0-9]{6}-[1-4]{1}\\d{6}'\n",
    "pattern = re.compile(regex)\n",
    "res = pattern.match(text)\n",
    "print(res)"
   ]
  },
  {
   "cell_type": "code",
   "execution_count": 22,
   "metadata": {},
   "outputs": [
    {
     "name": "stdout",
     "output_type": "stream",
     "text": [
      "None\n"
     ]
    }
   ],
   "source": [
    "text = '123-12-123456'\n",
    "regex = '1\\d{2}-1\\d{1}-wd{6}'\n",
    "pattern = re.compile(regex)\n",
    "res = pattern.match(text)\n",
    "print(res)"
   ]
  },
  {
   "cell_type": "code",
   "execution_count": null,
   "metadata": {},
   "outputs": [],
   "source": []
  }
 ],
 "metadata": {
  "kernelspec": {
   "display_name": "Python 3",
   "language": "python",
   "name": "python3"
  },
  "language_info": {
   "codemirror_mode": {
    "name": "ipython",
    "version": 3
   },
   "file_extension": ".py",
   "mimetype": "text/x-python",
   "name": "python",
   "nbconvert_exporter": "python",
   "pygments_lexer": "ipython3",
   "version": "3.7.4"
  }
 },
 "nbformat": 4,
 "nbformat_minor": 2
}
